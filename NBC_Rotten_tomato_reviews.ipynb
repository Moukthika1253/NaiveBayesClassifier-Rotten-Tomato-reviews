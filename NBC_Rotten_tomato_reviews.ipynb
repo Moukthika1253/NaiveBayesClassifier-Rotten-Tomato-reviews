{
  "nbformat": 4,
  "nbformat_minor": 0,
  "metadata": {
    "colab": {
      "provenance": [],
      "gpuType": "T4",
      "authorship_tag": "ABX9TyNuW7OilgdoEUyyX9BxoEt9",
      "include_colab_link": true
    },
    "kernelspec": {
      "name": "python3",
      "display_name": "Python 3"
    },
    "language_info": {
      "name": "python"
    },
    "gpuClass": "standard"
  },
  "cells": [
    {
      "cell_type": "markdown",
      "metadata": {
        "id": "view-in-github",
        "colab_type": "text"
      },
      "source": [
        "<a href=\"https://colab.research.google.com/github/Moukthika1253/NaiveBayesClassifier-Rotten-Tomato-reviews/blob/main/NBC_Rotten_tomato_reviews.ipynb\" target=\"_parent\"><img src=\"https://colab.research.google.com/assets/colab-badge.svg\" alt=\"Open In Colab\"/></a>"
      ]
    },
    {
      "cell_type": "code",
      "source": [
        "import pandas as pd\n",
        "from sklearn.model_selection import train_test_split\n",
        "import string\n",
        "import nltk\n",
        "from nltk import word_tokenize\n",
        "nltk.download('punkt')\n",
        "nltk.download('wordnet')\n",
        "nltk.download('stopwords')\n",
        "from nltk.corpus import stopwords\n",
        "from nltk.stem import WordNetLemmatizer\n",
        "from collections import defaultdict"
      ],
      "metadata": {
        "id": "O1rkjVHivjZx",
        "colab": {
          "base_uri": "https://localhost:8080/"
        },
        "outputId": "0ce2f19d-6bb2-45cd-debf-0c2aa915d612"
      },
      "execution_count": 25,
      "outputs": [
        {
          "output_type": "stream",
          "name": "stderr",
          "text": [
            "[nltk_data] Downloading package punkt to /root/nltk_data...\n",
            "[nltk_data]   Package punkt is already up-to-date!\n",
            "[nltk_data] Downloading package wordnet to /root/nltk_data...\n",
            "[nltk_data]   Package wordnet is already up-to-date!\n",
            "[nltk_data] Downloading package stopwords to /root/nltk_data...\n",
            "[nltk_data]   Package stopwords is already up-to-date!\n"
          ]
        }
      ]
    },
    {
      "cell_type": "code",
      "source": [
        "rottenTomato_reviews=pd.read_csv('/content/rt_reviews.csv',encoding='latin-1')"
      ],
      "metadata": {
        "id": "bke476NOwqU4"
      },
      "execution_count": 5,
      "outputs": []
    },
    {
      "cell_type": "code",
      "source": [
        "freshness=list(rottenTomato_reviews['Freshness'])\n",
        "pos_reviews=0\n",
        "neg_reviews=0\n",
        "pos_words=0\n",
        "neg_words=0\n",
        "word_dict=defaultdict(lambda:[0,0])"
      ],
      "metadata": {
        "id": "s0Or9Vy5KsTN"
      },
      "execution_count": 30,
      "outputs": []
    },
    {
      "cell_type": "markdown",
      "source": [
        "**Counting total fresh and rotten reviews**"
      ],
      "metadata": {
        "id": "vrXy1qU0A1F2"
      }
    },
    {
      "cell_type": "code",
      "source": [
        "for i in range(len(list(review_list))):\n",
        "  if freshness[i] == 'fresh':\n",
        "    pos_reviwes=pos_reviews+1\n",
        "  else:\n",
        "    neg_reviews=neg_reviews+1"
      ],
      "metadata": {
        "id": "xqUs1W_qAr32"
      },
      "execution_count": 13,
      "outputs": []
    },
    {
      "cell_type": "markdown",
      "source": [
        " **Pre-processing**"
      ],
      "metadata": {
        "id": "ec_ZlpVCDi-X"
      }
    },
    {
      "cell_type": "code",
      "source": [
        "stop_words=stopwords.words('english')\n",
        "word_lemmatizer=WordNetLemmatizer()\n",
        "for i,review in enumerate(list(rottenTomato_reviews['Review'])):\n",
        " for word in word_tokenize(review):\n",
        "  word=word.lower()\n",
        "  word= word_lemmatizer.lemmatize(word)\n",
        "  if (word not in string.punctuation) and (word not in stop_words):\n",
        "   if freshness[i] == 'fresh':\n",
        "    word_dict[word][1]+=1\n",
        "    pos_words+=1\n",
        "  else:\n",
        "    word_dict[word][0]+=1\n",
        "    neg_words=1\n",
        "\n",
        "\n",
        "\n"
      ],
      "metadata": {
        "id": "d2C7nplmCvQE"
      },
      "execution_count": 31,
      "outputs": []
    },
    {
      "cell_type": "markdown",
      "source": [
        "**Calculating word frequencies**"
      ],
      "metadata": {
        "id": "nrTd3qQaNvg3"
      }
    },
    {
      "cell_type": "code",
      "source": [
        "word_dic={}\n",
        "for i in review_list:\n",
        "  if i in word_dic:\n",
        "    word_dic[i]+=1\n",
        "  else:\n",
        "    word_dic[i]=1"
      ],
      "metadata": {
        "id": "xPTKuvIhNruN"
      },
      "execution_count": null,
      "outputs": []
    },
    {
      "cell_type": "code",
      "source": [
        "len(word_dic)"
      ],
      "metadata": {
        "colab": {
          "base_uri": "https://localhost:8080/"
        },
        "id": "lamLV3TTOKiZ",
        "outputId": "92172af2-af52-4e12-dcb9-36083fd79d5c"
      },
      "execution_count": null,
      "outputs": [
        {
          "output_type": "execute_result",
          "data": {
            "text/plain": [
              "41171"
            ]
          },
          "metadata": {},
          "execution_count": 17
        }
      ]
    },
    {
      "cell_type": "markdown",
      "source": [
        "**Removing rare words**"
      ],
      "metadata": {
        "id": "0yVaHhs8Offq"
      }
    },
    {
      "cell_type": "code",
      "source": [
        "word_dic_copy=word_dic.copy()\n",
        "for i,j in word_dic_copy.items():\n",
        "  if (j) <5:\n",
        "    del(word_dic[i])"
      ],
      "metadata": {
        "id": "OTuXgjyFOfBj"
      },
      "execution_count": null,
      "outputs": []
    },
    {
      "cell_type": "markdown",
      "source": [],
      "metadata": {
        "id": "aOhPhM1LQy03"
      }
    }
  ]
}