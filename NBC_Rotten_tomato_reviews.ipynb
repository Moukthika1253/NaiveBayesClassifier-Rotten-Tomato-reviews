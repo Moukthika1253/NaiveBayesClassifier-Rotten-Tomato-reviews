{
  "nbformat": 4,
  "nbformat_minor": 0,
  "metadata": {
    "colab": {
      "provenance": [],
      "gpuType": "T4",
      "include_colab_link": true
    },
    "kernelspec": {
      "name": "python3",
      "display_name": "Python 3"
    },
    "language_info": {
      "name": "python"
    },
    "gpuClass": "standard",
    "accelerator": "GPU"
  },
  "cells": [
    {
      "cell_type": "markdown",
      "metadata": {
        "id": "view-in-github",
        "colab_type": "text"
      },
      "source": [
        "<a href=\"https://colab.research.google.com/github/Moukthika1253/NaiveBayesClassifier-Rotten-Tomato-reviews/blob/main/NBC_Rotten_tomato_reviews.ipynb\" target=\"_parent\"><img src=\"https://colab.research.google.com/assets/colab-badge.svg\" alt=\"Open In Colab\"/></a>"
      ]
    },
    {
      "cell_type": "markdown",
      "source": [
        "# Importing libraries"
      ],
      "metadata": {
        "id": "Uer3WS6JDqQN"
      }
    },
    {
      "cell_type": "code",
      "source": [
        "import pandas as pd\n",
        "from sklearn.model_selection import train_test_split\n",
        "import string,re\n",
        "import nltk\n",
        "from nltk import word_tokenize\n",
        "nltk.download('punkt')\n",
        "nltk.download('wordnet')\n",
        "nltk.download('stopwords')\n",
        "from nltk.corpus import stopwords\n",
        "from nltk.stem import WordNetLemmatizer\n",
        "from collections import defaultdict\n",
        "from nltk.stem import PorterStemmer\n",
        "import math"
      ],
      "metadata": {
        "id": "O1rkjVHivjZx",
        "colab": {
          "base_uri": "https://localhost:8080/"
        },
        "outputId": "c630fceb-e2b8-4ac4-9bd9-2d3c86db86c5"
      },
      "execution_count": 1,
      "outputs": [
        {
          "output_type": "stream",
          "name": "stderr",
          "text": [
            "[nltk_data] Downloading package punkt to /root/nltk_data...\n",
            "[nltk_data]   Unzipping tokenizers/punkt.zip.\n",
            "[nltk_data] Downloading package wordnet to /root/nltk_data...\n",
            "[nltk_data] Downloading package stopwords to /root/nltk_data...\n",
            "[nltk_data]   Unzipping corpora/stopwords.zip.\n"
          ]
        }
      ]
    },
    {
      "cell_type": "code",
      "source": [
        "rt_df=pd.read_csv('/content/rt_reviews.csv',encoding='latin-1')"
      ],
      "metadata": {
        "id": "bke476NOwqU4"
      },
      "execution_count": 2,
      "outputs": []
    },
    {
      "cell_type": "markdown",
      "source": [
        "# Splitting data into Train-50%, Dev-20%, Test-30%"
      ],
      "metadata": {
        "id": "03YQSkKmDv2U"
      }
    },
    {
      "cell_type": "code",
      "source": [
        "X_train,X_remaining, y_train, y_remaining= train_test_split(rt_df['Review'],rt_df['Freshness'],train_size=0.5)\n",
        "X_test, X_dev, y_test, y_dev = train_test_split(X_remaining,y_remaining,test_size=0.3)\n",
        "train_set=pd.concat([X_train,y_train],axis=1).reset_index(drop=True)\n",
        "dev_set=pd.concat([X_dev,y_dev],axis=1).reset_index(drop=True)\n",
        "test_set=pd.concat([X_test,y_test],axis=1).reset_index(drop=True)\n",
        "print(f\"Train set size:  \",train_set.size)\n",
        "print(f\"Dev set size:  \",dev_set.size)\n",
        "print(f\"Test set size:  \",test_set.size)"
      ],
      "metadata": {
        "colab": {
          "base_uri": "https://localhost:8080/"
        },
        "id": "B5YIO6oKTbsX",
        "outputId": "ebafe14a-3f32-49c6-fac9-442eecd6a14c"
      },
      "execution_count": 3,
      "outputs": [
        {
          "output_type": "stream",
          "name": "stdout",
          "text": [
            "Train set size:   480000\n",
            "Dev set size:   144000\n",
            "Test set size:   336000\n"
          ]
        }
      ]
    },
    {
      "cell_type": "code",
      "source": [
        "train_set.head()"
      ],
      "metadata": {
        "colab": {
          "base_uri": "https://localhost:8080/",
          "height": 206
        },
        "id": "X7Q8nv9QVKGr",
        "outputId": "27ffaba0-f9c2-4bef-c05a-21b6d5e519d5"
      },
      "execution_count": 5,
      "outputs": [
        {
          "output_type": "execute_result",
          "data": {
            "text/plain": [
              "                                              Review Freshness\n",
              "0   First-time film director Susan Stroman has be...    rotten\n",
              "1   [Philippe] Falardeau's unobtrusive direction,...     fresh\n",
              "2   For much of its running time The Invasion is ...     fresh\n",
              "3   Woody Allen revisits familiar themes in matur...     fresh\n",
              "4              Foxx is worth the price of admission.     fresh"
            ],
            "text/html": [
              "\n",
              "  <div id=\"df-dfb59ed0-90d3-4914-a3fb-50c0bba65802\">\n",
              "    <div class=\"colab-df-container\">\n",
              "      <div>\n",
              "<style scoped>\n",
              "    .dataframe tbody tr th:only-of-type {\n",
              "        vertical-align: middle;\n",
              "    }\n",
              "\n",
              "    .dataframe tbody tr th {\n",
              "        vertical-align: top;\n",
              "    }\n",
              "\n",
              "    .dataframe thead th {\n",
              "        text-align: right;\n",
              "    }\n",
              "</style>\n",
              "<table border=\"1\" class=\"dataframe\">\n",
              "  <thead>\n",
              "    <tr style=\"text-align: right;\">\n",
              "      <th></th>\n",
              "      <th>Review</th>\n",
              "      <th>Freshness</th>\n",
              "    </tr>\n",
              "  </thead>\n",
              "  <tbody>\n",
              "    <tr>\n",
              "      <th>0</th>\n",
              "      <td>First-time film director Susan Stroman has be...</td>\n",
              "      <td>rotten</td>\n",
              "    </tr>\n",
              "    <tr>\n",
              "      <th>1</th>\n",
              "      <td>[Philippe] Falardeau's unobtrusive direction,...</td>\n",
              "      <td>fresh</td>\n",
              "    </tr>\n",
              "    <tr>\n",
              "      <th>2</th>\n",
              "      <td>For much of its running time The Invasion is ...</td>\n",
              "      <td>fresh</td>\n",
              "    </tr>\n",
              "    <tr>\n",
              "      <th>3</th>\n",
              "      <td>Woody Allen revisits familiar themes in matur...</td>\n",
              "      <td>fresh</td>\n",
              "    </tr>\n",
              "    <tr>\n",
              "      <th>4</th>\n",
              "      <td>Foxx is worth the price of admission.</td>\n",
              "      <td>fresh</td>\n",
              "    </tr>\n",
              "  </tbody>\n",
              "</table>\n",
              "</div>\n",
              "      <button class=\"colab-df-convert\" onclick=\"convertToInteractive('df-dfb59ed0-90d3-4914-a3fb-50c0bba65802')\"\n",
              "              title=\"Convert this dataframe to an interactive table.\"\n",
              "              style=\"display:none;\">\n",
              "        \n",
              "  <svg xmlns=\"http://www.w3.org/2000/svg\" height=\"24px\"viewBox=\"0 0 24 24\"\n",
              "       width=\"24px\">\n",
              "    <path d=\"M0 0h24v24H0V0z\" fill=\"none\"/>\n",
              "    <path d=\"M18.56 5.44l.94 2.06.94-2.06 2.06-.94-2.06-.94-.94-2.06-.94 2.06-2.06.94zm-11 1L8.5 8.5l.94-2.06 2.06-.94-2.06-.94L8.5 2.5l-.94 2.06-2.06.94zm10 10l.94 2.06.94-2.06 2.06-.94-2.06-.94-.94-2.06-.94 2.06-2.06.94z\"/><path d=\"M17.41 7.96l-1.37-1.37c-.4-.4-.92-.59-1.43-.59-.52 0-1.04.2-1.43.59L10.3 9.45l-7.72 7.72c-.78.78-.78 2.05 0 2.83L4 21.41c.39.39.9.59 1.41.59.51 0 1.02-.2 1.41-.59l7.78-7.78 2.81-2.81c.8-.78.8-2.07 0-2.86zM5.41 20L4 18.59l7.72-7.72 1.47 1.35L5.41 20z\"/>\n",
              "  </svg>\n",
              "      </button>\n",
              "      \n",
              "  <style>\n",
              "    .colab-df-container {\n",
              "      display:flex;\n",
              "      flex-wrap:wrap;\n",
              "      gap: 12px;\n",
              "    }\n",
              "\n",
              "    .colab-df-convert {\n",
              "      background-color: #E8F0FE;\n",
              "      border: none;\n",
              "      border-radius: 50%;\n",
              "      cursor: pointer;\n",
              "      display: none;\n",
              "      fill: #1967D2;\n",
              "      height: 32px;\n",
              "      padding: 0 0 0 0;\n",
              "      width: 32px;\n",
              "    }\n",
              "\n",
              "    .colab-df-convert:hover {\n",
              "      background-color: #E2EBFA;\n",
              "      box-shadow: 0px 1px 2px rgba(60, 64, 67, 0.3), 0px 1px 3px 1px rgba(60, 64, 67, 0.15);\n",
              "      fill: #174EA6;\n",
              "    }\n",
              "\n",
              "    [theme=dark] .colab-df-convert {\n",
              "      background-color: #3B4455;\n",
              "      fill: #D2E3FC;\n",
              "    }\n",
              "\n",
              "    [theme=dark] .colab-df-convert:hover {\n",
              "      background-color: #434B5C;\n",
              "      box-shadow: 0px 1px 3px 1px rgba(0, 0, 0, 0.15);\n",
              "      filter: drop-shadow(0px 1px 2px rgba(0, 0, 0, 0.3));\n",
              "      fill: #FFFFFF;\n",
              "    }\n",
              "  </style>\n",
              "\n",
              "      <script>\n",
              "        const buttonEl =\n",
              "          document.querySelector('#df-dfb59ed0-90d3-4914-a3fb-50c0bba65802 button.colab-df-convert');\n",
              "        buttonEl.style.display =\n",
              "          google.colab.kernel.accessAllowed ? 'block' : 'none';\n",
              "\n",
              "        async function convertToInteractive(key) {\n",
              "          const element = document.querySelector('#df-dfb59ed0-90d3-4914-a3fb-50c0bba65802');\n",
              "          const dataTable =\n",
              "            await google.colab.kernel.invokeFunction('convertToInteractive',\n",
              "                                                     [key], {});\n",
              "          if (!dataTable) return;\n",
              "\n",
              "          const docLinkHtml = 'Like what you see? Visit the ' +\n",
              "            '<a target=\"_blank\" href=https://colab.research.google.com/notebooks/data_table.ipynb>data table notebook</a>'\n",
              "            + ' to learn more about interactive tables.';\n",
              "          element.innerHTML = '';\n",
              "          dataTable['output_type'] = 'display_data';\n",
              "          await google.colab.output.renderOutput(dataTable, element);\n",
              "          const docLink = document.createElement('div');\n",
              "          docLink.innerHTML = docLinkHtml;\n",
              "          element.appendChild(docLink);\n",
              "        }\n",
              "      </script>\n",
              "    </div>\n",
              "  </div>\n",
              "  "
            ]
          },
          "metadata": {},
          "execution_count": 5
        }
      ]
    },
    {
      "cell_type": "markdown",
      "source": [
        "# Pre-processing"
      ],
      "metadata": {
        "id": "ec_ZlpVCDi-X"
      }
    },
    {
      "cell_type": "code",
      "source": [
        "def preprocessing(review):\n",
        "  stop_words=stopwords.words('english')\n",
        "  word_lemmatizer=WordNetLemmatizer()\n",
        "  tokenized_words=[(word) for word in word_tokenize(review)]\n",
        "  words=[word.lower() for word in tokenized_words if word.lower() not in stop_words]\n",
        "  for i in range(len(words)):\n",
        "   words[i]=''.join([word for word in words[i] if word not in (string.punctuation)])\n",
        "  no_emptywords=[word for word in words if word]\n",
        "  no_extraspace=[re.sub(r'\\s\\s+', '',word) for word in no_emptywords]\n",
        "  lemmatized_words=[word_lemmatizer.lemmatize(word) for word in no_extraspace]\n",
        "  return lemmatized_words \n",
        "  "
      ],
      "metadata": {
        "id": "d2C7nplmCvQE"
      },
      "execution_count": 4,
      "outputs": []
    },
    {
      "cell_type": "code",
      "source": [
        "train_set['Review']=train_set['Review'].apply(preprocessing)\n",
        "train_set.head()"
      ],
      "metadata": {
        "id": "jBnj-_3DOtnA",
        "colab": {
          "base_uri": "https://localhost:8080/",
          "height": 206
        },
        "outputId": "e07183ce-996e-4f2f-fc3a-c0ccb6a61f7e"
      },
      "execution_count": null,
      "outputs": [
        {
          "output_type": "execute_result",
          "data": {
            "text/plain": [
              "                                              Review Freshness\n",
              "0  [siegel, s, directorial, debut, real, ring, tr...     fresh\n",
              "1  [director, werner, herzog, s, latest, cinemati...     fresh\n",
              "2  [david, mackenzie, s, fourth, feature, immense...     fresh\n",
              "3  [turistas, nt, much, going, beyond, xenophobic...    rotten\n",
              "4    [international, fall, far, short, making, case]    rotten"
            ],
            "text/html": [
              "\n",
              "  <div id=\"df-b43ff4ed-d879-49ee-8901-7a49787879b2\">\n",
              "    <div class=\"colab-df-container\">\n",
              "      <div>\n",
              "<style scoped>\n",
              "    .dataframe tbody tr th:only-of-type {\n",
              "        vertical-align: middle;\n",
              "    }\n",
              "\n",
              "    .dataframe tbody tr th {\n",
              "        vertical-align: top;\n",
              "    }\n",
              "\n",
              "    .dataframe thead th {\n",
              "        text-align: right;\n",
              "    }\n",
              "</style>\n",
              "<table border=\"1\" class=\"dataframe\">\n",
              "  <thead>\n",
              "    <tr style=\"text-align: right;\">\n",
              "      <th></th>\n",
              "      <th>Review</th>\n",
              "      <th>Freshness</th>\n",
              "    </tr>\n",
              "  </thead>\n",
              "  <tbody>\n",
              "    <tr>\n",
              "      <th>0</th>\n",
              "      <td>[siegel, s, directorial, debut, real, ring, tr...</td>\n",
              "      <td>fresh</td>\n",
              "    </tr>\n",
              "    <tr>\n",
              "      <th>1</th>\n",
              "      <td>[director, werner, herzog, s, latest, cinemati...</td>\n",
              "      <td>fresh</td>\n",
              "    </tr>\n",
              "    <tr>\n",
              "      <th>2</th>\n",
              "      <td>[david, mackenzie, s, fourth, feature, immense...</td>\n",
              "      <td>fresh</td>\n",
              "    </tr>\n",
              "    <tr>\n",
              "      <th>3</th>\n",
              "      <td>[turistas, nt, much, going, beyond, xenophobic...</td>\n",
              "      <td>rotten</td>\n",
              "    </tr>\n",
              "    <tr>\n",
              "      <th>4</th>\n",
              "      <td>[international, fall, far, short, making, case]</td>\n",
              "      <td>rotten</td>\n",
              "    </tr>\n",
              "  </tbody>\n",
              "</table>\n",
              "</div>\n",
              "      <button class=\"colab-df-convert\" onclick=\"convertToInteractive('df-b43ff4ed-d879-49ee-8901-7a49787879b2')\"\n",
              "              title=\"Convert this dataframe to an interactive table.\"\n",
              "              style=\"display:none;\">\n",
              "        \n",
              "  <svg xmlns=\"http://www.w3.org/2000/svg\" height=\"24px\"viewBox=\"0 0 24 24\"\n",
              "       width=\"24px\">\n",
              "    <path d=\"M0 0h24v24H0V0z\" fill=\"none\"/>\n",
              "    <path d=\"M18.56 5.44l.94 2.06.94-2.06 2.06-.94-2.06-.94-.94-2.06-.94 2.06-2.06.94zm-11 1L8.5 8.5l.94-2.06 2.06-.94-2.06-.94L8.5 2.5l-.94 2.06-2.06.94zm10 10l.94 2.06.94-2.06 2.06-.94-2.06-.94-.94-2.06-.94 2.06-2.06.94z\"/><path d=\"M17.41 7.96l-1.37-1.37c-.4-.4-.92-.59-1.43-.59-.52 0-1.04.2-1.43.59L10.3 9.45l-7.72 7.72c-.78.78-.78 2.05 0 2.83L4 21.41c.39.39.9.59 1.41.59.51 0 1.02-.2 1.41-.59l7.78-7.78 2.81-2.81c.8-.78.8-2.07 0-2.86zM5.41 20L4 18.59l7.72-7.72 1.47 1.35L5.41 20z\"/>\n",
              "  </svg>\n",
              "      </button>\n",
              "      \n",
              "  <style>\n",
              "    .colab-df-container {\n",
              "      display:flex;\n",
              "      flex-wrap:wrap;\n",
              "      gap: 12px;\n",
              "    }\n",
              "\n",
              "    .colab-df-convert {\n",
              "      background-color: #E8F0FE;\n",
              "      border: none;\n",
              "      border-radius: 50%;\n",
              "      cursor: pointer;\n",
              "      display: none;\n",
              "      fill: #1967D2;\n",
              "      height: 32px;\n",
              "      padding: 0 0 0 0;\n",
              "      width: 32px;\n",
              "    }\n",
              "\n",
              "    .colab-df-convert:hover {\n",
              "      background-color: #E2EBFA;\n",
              "      box-shadow: 0px 1px 2px rgba(60, 64, 67, 0.3), 0px 1px 3px 1px rgba(60, 64, 67, 0.15);\n",
              "      fill: #174EA6;\n",
              "    }\n",
              "\n",
              "    [theme=dark] .colab-df-convert {\n",
              "      background-color: #3B4455;\n",
              "      fill: #D2E3FC;\n",
              "    }\n",
              "\n",
              "    [theme=dark] .colab-df-convert:hover {\n",
              "      background-color: #434B5C;\n",
              "      box-shadow: 0px 1px 3px 1px rgba(0, 0, 0, 0.15);\n",
              "      filter: drop-shadow(0px 1px 2px rgba(0, 0, 0, 0.3));\n",
              "      fill: #FFFFFF;\n",
              "    }\n",
              "  </style>\n",
              "\n",
              "      <script>\n",
              "        const buttonEl =\n",
              "          document.querySelector('#df-b43ff4ed-d879-49ee-8901-7a49787879b2 button.colab-df-convert');\n",
              "        buttonEl.style.display =\n",
              "          google.colab.kernel.accessAllowed ? 'block' : 'none';\n",
              "\n",
              "        async function convertToInteractive(key) {\n",
              "          const element = document.querySelector('#df-b43ff4ed-d879-49ee-8901-7a49787879b2');\n",
              "          const dataTable =\n",
              "            await google.colab.kernel.invokeFunction('convertToInteractive',\n",
              "                                                     [key], {});\n",
              "          if (!dataTable) return;\n",
              "\n",
              "          const docLinkHtml = 'Like what you see? Visit the ' +\n",
              "            '<a target=\"_blank\" href=https://colab.research.google.com/notebooks/data_table.ipynb>data table notebook</a>'\n",
              "            + ' to learn more about interactive tables.';\n",
              "          element.innerHTML = '';\n",
              "          dataTable['output_type'] = 'display_data';\n",
              "          await google.colab.output.renderOutput(dataTable, element);\n",
              "          const docLink = document.createElement('div');\n",
              "          docLink.innerHTML = docLinkHtml;\n",
              "          element.appendChild(docLink);\n",
              "        }\n",
              "      </script>\n",
              "    </div>\n",
              "  </div>\n",
              "  "
            ]
          },
          "metadata": {},
          "execution_count": 66
        }
      ]
    },
    {
      "cell_type": "code",
      "source": [
        "preprocessing(\"For much of its running time The Invasion is a much better film than had been expected. Too bad the pod people are still running the executive suites.\")"
      ],
      "metadata": {
        "colab": {
          "base_uri": "https://localhost:8080/"
        },
        "id": "nZsLgdLg2yQs",
        "outputId": "712d2469-283c-429d-a2c8-c205ce8f0023"
      },
      "execution_count": 6,
      "outputs": [
        {
          "output_type": "execute_result",
          "data": {
            "text/plain": [
              "['much',\n",
              " 'running',\n",
              " 'time',\n",
              " 'invasion',\n",
              " 'much',\n",
              " 'better',\n",
              " 'film',\n",
              " 'expected',\n",
              " 'bad',\n",
              " 'pod',\n",
              " 'people',\n",
              " 'still',\n",
              " 'running',\n",
              " 'executive',\n",
              " 'suite']"
            ]
          },
          "metadata": {},
          "execution_count": 6
        }
      ]
    },
    {
      "cell_type": "markdown",
      "source": [
        "**Calculating Total number of words in Vocab**"
      ],
      "metadata": {
        "id": "jV3kyVbq52LS"
      }
    },
    {
      "cell_type": "code",
      "source": [
        "review_list=[]\n",
        "for i,review in train_set['Review'].items():\n",
        "  for word in review:\n",
        "    review_list.append(word)\n",
        "review_list=list(set(review_list))\n",
        "tot_words=len(review_list)\n",
        "print(f\"total number of words in the list: {tot_words}\")"
      ],
      "metadata": {
        "colab": {
          "base_uri": "https://localhost:8080/"
        },
        "id": "lpflUwk3lSrc",
        "outputId": "23be5c24-9c70-4a31-e92c-216138b98521"
      },
      "execution_count": null,
      "outputs": [
        {
          "output_type": "stream",
          "name": "stdout",
          "text": [
            "total number of words in the list: 87041\n"
          ]
        }
      ]
    },
    {
      "cell_type": "code",
      "source": [
        "pos_reviews=0\n",
        "neg_reviews=0\n",
        "num_pos_words=0\n",
        "num_neg_words=0\n",
        "pos_words=[]\n",
        "neg_words=[]\n",
        "word_dict=defaultdict(lambda:[0,0])\n",
        "freshness=list(train_set['Freshness'])"
      ],
      "metadata": {
        "id": "Fglk849bWDzp"
      },
      "execution_count": null,
      "outputs": []
    },
    {
      "cell_type": "markdown",
      "source": [
        "# Calculating word frequencies for each word in fresh and rotten review"
      ],
      "metadata": {
        "id": "wukT4UXZEMm6"
      }
    },
    {
      "cell_type": "code",
      "source": [
        "for i, review in enumerate(list(train_set['Review'])):\n",
        "  if  freshness[i] == 'fresh':\n",
        "    pos_reviews=pos_reviews+1\n",
        "  else:\n",
        "    neg_reviews=neg_reviews+1\n",
        "  for word in (review):\n",
        "    if freshness[i] == 'fresh':\n",
        "      word_dict[word][1]+=1\n",
        "      num_pos_words+=1\n",
        "      pos_words.append(word)\n",
        "    else:\n",
        "      word_dict[word][0]+=1\n",
        "      num_neg_words+=1\n",
        "      neg_words.append(word)"
      ],
      "metadata": {
        "id": "4Xdv4zCJWIrm"
      },
      "execution_count": null,
      "outputs": []
    },
    {
      "cell_type": "code",
      "source": [
        "(word_dict)"
      ],
      "metadata": {
        "colab": {
          "base_uri": "https://localhost:8080/"
        },
        "id": "EFVyjXoU8ozK",
        "outputId": "e294569e-592d-4840-93e2-b6d99981ff7c"
      },
      "execution_count": null,
      "outputs": [
        {
          "output_type": "execute_result",
          "data": {
            "text/plain": [
              "defaultdict(<function __main__.<lambda>()>,\n",
              "            {'siegel': [6, 19],\n",
              "             's': [47890, 50674],\n",
              "             'directorial': [166, 250],\n",
              "             'debut': [318, 868],\n",
              "             'real': [1766, 1933],\n",
              "             'ring': [264, 231],\n",
              "             'truth': [407, 574],\n",
              "             'benefit': [112, 227],\n",
              "             'terrific': [183, 861],\n",
              "             'cast': [1929, 2235],\n",
              "             'thanks': [303, 723],\n",
              "             'oswalt': [1, 4],\n",
              "             'like': [10579, 7437],\n",
              "             'paul': [320, 354],\n",
              "             'probably': [1019, 744],\n",
              "             'director': [3099, 3803],\n",
              "             'werner': [22, 47],\n",
              "             'herzog': [53, 136],\n",
              "             'latest': [605, 458],\n",
              "             'cinematic': [937, 1151],\n",
              "             'mind': [694, 879],\n",
              "             'trip': [324, 409],\n",
              "             'blow': [160, 163],\n",
              "             'away': [1014, 1019],\n",
              "             'beauty': [301, 692],\n",
              "             'though': [1869, 2046],\n",
              "             'necessarily': [142, 141],\n",
              "             'due': [201, 258],\n",
              "             'exquisite': [25, 233],\n",
              "             'use': [473, 530],\n",
              "             '3d': [497, 497],\n",
              "             'david': [376, 477],\n",
              "             'mackenzie': [9, 39],\n",
              "             'fourth': [151, 95],\n",
              "             'feature': [1187, 1360],\n",
              "             'immensely': [22, 145],\n",
              "             'enjoyable': [309, 1196],\n",
              "             'incredibly': [179, 250],\n",
              "             'welljudged': [1, 11],\n",
              "             'film': [19752, 24114],\n",
              "             'confirms': [32, 51],\n",
              "             'jamie': [41, 45],\n",
              "             'bell': [118, 127],\n",
              "             'one': [9008, 10777],\n",
              "             'britain': [21, 78],\n",
              "             'brightest': [8, 33],\n",
              "             'young': [802, 1317],\n",
              "             'actor': [1827, 1815],\n",
              "             'turistas': [24, 3],\n",
              "             'nt': [17137, 10093],\n",
              "             'much': [6831, 4187],\n",
              "             'going': [1629, 1120],\n",
              "             'beyond': [828, 653],\n",
              "             'xenophobic': [10, 1],\n",
              "             'subtext': [89, 86],\n",
              "             'trusting': [15, 9],\n",
              "             'american': [945, 1476],\n",
              "             'crude': [257, 99],\n",
              "             'crafty': [9, 30],\n",
              "             'foreigner': [17, 11],\n",
              "             'action': [2952, 3010],\n",
              "             'scene': [2286, 1806],\n",
              "             'dark': [817, 1294],\n",
              "             'unfathomable': [17, 8],\n",
              "             'character': [6216, 5308],\n",
              "             'alike': [46, 133],\n",
              "             'indistinguishable': [34, 7],\n",
              "             'international': [82, 124],\n",
              "             'fall': [1091, 559],\n",
              "             'far': [1934, 1645],\n",
              "             'short': [1003, 726],\n",
              "             'making': [1226, 1137],\n",
              "             'case': [703, 543],\n",
              "             'canny': [15, 48],\n",
              "             'blend': [147, 386],\n",
              "             'heart': [962, 1971],\n",
              "             'darkness': [130, 197],\n",
              "             'grandeur': [62, 64],\n",
              "             'old': [1198, 1177],\n",
              "             'hollywood': [1210, 1100],\n",
              "             'biblical': [46, 50],\n",
              "             'epic': [511, 662],\n",
              "             'peppered': [31, 43],\n",
              "             'intense': [147, 546],\n",
              "             'set': [1369, 1418],\n",
              "             'piece': [1280, 1674],\n",
              "             'vince': [47, 28],\n",
              "             'vaughn': [131, 71],\n",
              "             'owen': [87, 64],\n",
              "             'wilson': [179, 172],\n",
              "             'deliver': [388, 348],\n",
              "             'pep': [15, 3],\n",
              "             'talk': [363, 270],\n",
              "             'millennials': [17, 13],\n",
              "             'nice': [408, 548],\n",
              "             'easy': [534, 865],\n",
              "             'chemistry': [389, 383],\n",
              "             'sweetness': [68, 133],\n",
              "             'message': [683, 656],\n",
              "             'deserves': [425, 471],\n",
              "             'better': [3011, 2019],\n",
              "             'overall': [523, 399],\n",
              "             'vehicle': [333, 171],\n",
              "             'absurdist': [42, 101],\n",
              "             'scenario': [208, 147],\n",
              "             'play': [1835, 1596],\n",
              "             'breezy': [76, 197],\n",
              "             'wit': [399, 519],\n",
              "             'wideeyed': [21, 39],\n",
              "             'charm': [661, 863],\n",
              "             'overcomes': [21, 56],\n",
              "             'potential': [597, 294],\n",
              "             'creepy': [283, 325],\n",
              "             'sleaze': [18, 11],\n",
              "             'rigorous': [14, 55],\n",
              "             'lack': [2083, 795],\n",
              "             'dialogue': [1381, 815],\n",
              "             'engenders': [8, 6],\n",
              "             'titty': [0, 2],\n",
              "             'tati': [2, 14],\n",
              "             'trainspotters': [0, 2],\n",
              "             'story': [6688, 7685],\n",
              "             'vintage': [52, 110],\n",
              "             'mccarthy': [169, 165],\n",
              "             'sense': [1868, 1840],\n",
              "             'place': [1182, 1343],\n",
              "             'poetic': [77, 213],\n",
              "             'voice': [307, 513],\n",
              "             'coens': [44, 112],\n",
              "             'trait': [34, 30],\n",
              "             'cruel': [96, 105],\n",
              "             'graphic': [153, 146],\n",
              "             'violence': [788, 805],\n",
              "             'could': [3540, 2586],\n",
              "             'james': [432, 528],\n",
              "             'wan': [93, 82],\n",
              "             'little': [4087, 2914],\n",
              "             'reverential': [25, 8],\n",
              "             'need': [1721, 1230],\n",
              "             'chill': [92, 118],\n",
              "             'spine': [25, 26],\n",
              "             'carefully': [82, 168],\n",
              "             'made': [2556, 2411],\n",
              "             'horror': [1759, 2075],\n",
              "             'delivers': [425, 1122],\n",
              "             'way': [3887, 4527],\n",
              "             'late': [326, 301],\n",
              "             'game': [1037, 786],\n",
              "             'monster': [462, 490],\n",
              "             'thousand': [103, 80],\n",
              "             'head': [678, 545],\n",
              "             'make': [6645, 6904],\n",
              "             'blood': [346, 393],\n",
              "             'boil': [58, 49],\n",
              "             'first': [2509, 2564],\n",
              "             'divergent': [56, 19],\n",
              "             'instalment': [46, 36],\n",
              "             'proved': [28, 44],\n",
              "             'bit': [1483, 1687],\n",
              "             'dull': [1354, 164],\n",
              "             'whereas': [45, 18],\n",
              "             'enlivened': [30, 46],\n",
              "             'firstrate': [45, 147],\n",
              "             'special': [878, 832],\n",
              "             'effect': [1402, 1221],\n",
              "             'hoot': [33, 76],\n",
              "             'also': [1706, 3012],\n",
              "             'mysterious': [76, 137],\n",
              "             'moving': [234, 1293],\n",
              "             'brink': [26, 31],\n",
              "             'different': [539, 732],\n",
              "             'another': [2204, 1587],\n",
              "             'platform': [18, 35],\n",
              "             'professional': [123, 122],\n",
              "             'troll': [12, 14],\n",
              "             'klayman': [0, 5],\n",
              "             'stick': [319, 271],\n",
              "             'largely': [382, 352],\n",
              "             'vï¿½ï¿½ritï¿½ï¿½': [11, 25],\n",
              "             'approach': [526, 642],\n",
              "             'following': [152, 141],\n",
              "             'subject': [811, 1177],\n",
              "             'around': [1324, 1062],\n",
              "             'observing': [14, 33],\n",
              "             'various': [186, 137],\n",
              "             'interaction': [54, 103],\n",
              "             'provides': [202, 466],\n",
              "             'important': [344, 661],\n",
              "             'result': [1041, 810],\n",
              "             'heavyhanded': [220, 98],\n",
              "             'oppressive': [57, 46],\n",
              "             'vanity': [113, 51],\n",
              "             'project': [481, 322],\n",
              "             'bloated': [238, 62],\n",
              "             'collective': [51, 97],\n",
              "             'theatre': [120, 88],\n",
              "             'experiment': [157, 148],\n",
              "             'often': [1636, 1747],\n",
              "             'although': [735, 805],\n",
              "             'still': [1864, 3117],\n",
              "             'visually': [373, 608],\n",
              "             'pleasing': [56, 133],\n",
              "             'adventure': [582, 1067],\n",
              "             'seldom': [86, 62],\n",
              "             'spark': [387, 156],\n",
              "             'life': [2466, 4248],\n",
              "             'even': [5588, 4763],\n",
              "             'standard': [493, 343],\n",
              "             'undead': [31, 38],\n",
              "             'protagonist': [422, 370],\n",
              "             'stronger': [100, 102],\n",
              "             'tighter': [28, 36],\n",
              "             'fair': [170, 186],\n",
              "             'least': [1516, 985],\n",
              "             'arnold': [61, 55],\n",
              "             'commitment': [92, 124],\n",
              "             'winding': [38, 35],\n",
              "             'back': [1479, 1546],\n",
              "             'road': [370, 412],\n",
              "             'filmic': [36, 32],\n",
              "             'rather': [1752, 1239],\n",
              "             'wellmapped': [0, 1],\n",
              "             'highway': [18, 21],\n",
              "             'storytelling': [611, 698],\n",
              "             'buried': [171, 58],\n",
              "             'beneath': [199, 256],\n",
              "             'surface': [348, 305],\n",
              "             'cheap': [501, 186],\n",
              "             'thrill': [525, 569],\n",
              "             'schlocky': [25, 14],\n",
              "             'production': [783, 574],\n",
              "             'lie': [248, 361],\n",
              "             'discourse': [22, 39],\n",
              "             'france': [52, 100],\n",
              "             'attempt': [1203, 412],\n",
              "             'confront': [19, 39],\n",
              "             'come': [3034, 2731],\n",
              "             'term': [342, 452],\n",
              "             'resurgent': [1, 5],\n",
              "             'wartime': [46, 50],\n",
              "             'sin': [182, 116],\n",
              "             'wish': [618, 374],\n",
              "             'producer': [213, 101],\n",
              "             'spike': [72, 123],\n",
              "             'lee': [343, 411],\n",
              "             'stepped': [17, 18],\n",
              "             'give': [1636, 2159],\n",
              "             'sas': [14, 14],\n",
              "             'amusing': [526, 466],\n",
              "             'moment': [2305, 2480],\n",
              "             'john': [639, 697],\n",
              "             'ritter': [7, 3],\n",
              "             'offer': [1068, 1197],\n",
              "             'ingratiating': [7, 26],\n",
              "             'performance': [2586, 5843],\n",
              "             'fun': [1805, 3346],\n",
              "             'take': [2854, 3330],\n",
              "             'backseat': [11, 7],\n",
              "             'overpowering': [21, 14],\n",
              "             'hardly': [374, 283],\n",
              "             'ever': [1515, 1945],\n",
              "             'allow': [109, 132],\n",
              "             'audience': [2517, 2277],\n",
              "             'forget': [285, 304],\n",
              "             're': [2751, 2223],\n",
              "             'looking': [686, 619],\n",
              "             'something': [2656, 2471],\n",
              "             'computer': [204, 123],\n",
              "             'created': [200, 405],\n",
              "             'showbusiness': [3, 12],\n",
              "             'broadway': [39, 72],\n",
              "             'essentially': [334, 183],\n",
              "             'valentine': [78, 93],\n",
              "             'profession': [14, 10],\n",
              "             'filmmaker': [1499, 1628],\n",
              "             'dori': [2, 4],\n",
              "             'berinstein': [2, 5],\n",
              "             'love': [1892, 3307],\n",
              "             'admires': [12, 10],\n",
              "             'blimey': [4, 0],\n",
              "             'miserable': [88, 30],\n",
              "             'combination': [164, 261],\n",
              "             'literate': [18, 38],\n",
              "             'script': [2523, 1325],\n",
              "             'adroit': [4, 21],\n",
              "             'economical': [8, 26],\n",
              "             'style': [937, 1197],\n",
              "             'simple': [313, 773],\n",
              "             'addition': [135, 239],\n",
              "             'achieves': [110, 190],\n",
              "             'alchemical': [0, 2],\n",
              "             'feat': [86, 160],\n",
              "             'best': [2096, 4966],\n",
              "             'year': [1916, 3654],\n",
              "             'third': [541, 407],\n",
              "             'man': [1478, 2287],\n",
              "             'belongs': [62, 106],\n",
              "             'list': [186, 188],\n",
              "             'movie': [18971, 15211],\n",
              "             'battle': [437, 426],\n",
              "             'greatest': [235, 517],\n",
              "             'may': [2425, 3269],\n",
              "             'notice': [104, 88],\n",
              "             'flaw': [233, 395],\n",
              "             'since': [629, 989],\n",
              "             'get': [4252, 3557],\n",
              "             'many': [2594, 2264],\n",
              "             'compelling': [628, 1212],\n",
              "             'layer': [94, 193],\n",
              "             'sift': [1, 4],\n",
              "             'original': [1667, 1690],\n",
              "             '1984': [40, 30],\n",
              "             'animated': [449, 739],\n",
              "             'transformer': [163, 85],\n",
              "             'supposed': [445, 95],\n",
              "             'entertain': [103, 173],\n",
              "             'kid': [1206, 1138],\n",
              "             'age': [533, 953],\n",
              "             'grownup': [113, 210],\n",
              "             'understated': [28, 240],\n",
              "             'general': [213, 195],\n",
              "             'lowaffect': [0, 1],\n",
              "             'emotional': [1015, 1608],\n",
              "             'atmosphere': [249, 300],\n",
              "             'biggest': [354, 197],\n",
              "             'contributor': [1, 9],\n",
              "             'dread': [90, 161],\n",
              "             'throughout': [386, 519],\n",
              "             'tim': [130, 165],\n",
              "             'wear': [349, 174],\n",
              "             'relent': [3, 5],\n",
              "             'say': [1993, 1277],\n",
              "             'yes': [428, 482],\n",
              "             'people': [1979, 2029],\n",
              "             'watch': [1169, 1494],\n",
              "             'good': [4540, 4888],\n",
              "             'time': [5250, 5334],\n",
              "             'improbably': [9, 17],\n",
              "             'thrilling': [165, 550],\n",
              "             'll': [1249, 1497],\n",
              "             'see': [2210, 2851],\n",
              "             '2003': [36, 32],\n",
              "             'utterly': [434, 384],\n",
              "             'absorbing': [48, 314],\n",
              "             'invigorating': [13, 94],\n",
              "             'celebration': [91, 259],\n",
              "             'creativity': [104, 144],\n",
              "             'symbiotic': [1, 14],\n",
              "             'replenishing': [0, 1],\n",
              "             'relationship': [454, 746],\n",
              "             'human': [868, 1566],\n",
              "             'spirit': [321, 683],\n",
              "             'romcom': [267, 202],\n",
              "             'formula': [435, 357],\n",
              "             'framework': [38, 37],\n",
              "             'rock': [384, 476],\n",
              "             'turn': [1680, 1720],\n",
              "             'snappy': [31, 120],\n",
              "             'contemporary': [224, 443],\n",
              "             'entertaining': [825, 2557],\n",
              "             'ride': [394, 793],\n",
              "             'lazy': [507, 52],\n",
              "             'uninspired': [402, 21],\n",
              "             'sequel': [1365, 887],\n",
              "             'worthy': [258, 457],\n",
              "             'quarantine': [4, 3],\n",
              "             'del': [102, 218],\n",
              "             'toro': [80, 175],\n",
              "             'soul': [356, 570],\n",
              "             'well': [2149, 3121],\n",
              "             'haunted': [100, 133],\n",
              "             'rubbery': [3, 2],\n",
              "             'visage': [6, 9],\n",
              "             'grief': [104, 249],\n",
              "             'loss': [135, 299],\n",
              "             'would': [3898, 2156],\n",
              "             'fairly': [308, 277],\n",
              "             'lifeless': [250, 10],\n",
              "             'without': [2285, 1922],\n",
              "             'self': [78, 113],\n",
              "             'aware': [93, 105],\n",
              "             'continuation': [15, 17],\n",
              "             'complete': [400, 284],\n",
              "             'replicant': [1, 1],\n",
              "             'landis': [19, 9],\n",
              "             'avoids': [43, 173],\n",
              "             'heterosexism': [0, 1],\n",
              "             'romcoms': [30, 30],\n",
              "             'easing': [0, 6],\n",
              "             'past': [619, 797],\n",
              "             'sexual': [274, 284],\n",
              "             'confusion': [94, 80],\n",
              "             'embrace': [155, 292],\n",
              "             'identity': [241, 279],\n",
              "             'gibney': [22, 72],\n",
              "             'find': [1711, 1843],\n",
              "             'mythmakers': [0, 1],\n",
              "             'mythbusters': [0, 1],\n",
              "             't2': [19, 15],\n",
              "             'enough': [3706, 2953],\n",
              "             'sure': [794, 760],\n",
              "             'trainspotting': [18, 32],\n",
              "             'resonated': [3, 3],\n",
              "             'slip': [55, 84],\n",
              "             'world': [1577, 2770],\n",
              "             'gleefully': [37, 98],\n",
              "             'pair': [163, 173],\n",
              "             'slipper': [3, 8],\n",
              "             'eradefining': [1, 1],\n",
              "             'pop': [339, 377],\n",
              "             'culture': [293, 591],\n",
              "             'touchstone': [9, 22],\n",
              "             'flat': [788, 122],\n",
              "             'example': [362, 379],\n",
              "             'photojournalism': [1, 2],\n",
              "             'finest': [62, 318],\n",
              "             'true': [809, 1318],\n",
              "             'ideal': [100, 156],\n",
              "             'home': [615, 704],\n",
              "             'twist': [677, 659],\n",
              "             'traditional': [94, 218],\n",
              "             'family': [1067, 1966],\n",
              "             'dramedy': [107, 135],\n",
              "             'lean': [79, 191],\n",
              "             'slightly': [345, 389],\n",
              "             'towards': [212, 183],\n",
              "             'comedy': [4568, 4057],\n",
              "             'side': [456, 701],\n",
              "             'thing': [3342, 2562],\n",
              "             'viewing': [209, 485],\n",
              "             'slick': [259, 256],\n",
              "             'animation': [443, 802],\n",
              "             'described': [111, 73],\n",
              "             'whole': [1253, 877],\n",
              "             'want': [2242, 1428],\n",
              "             'avoid': [216, 103],\n",
              "             'taken': [462, 373],\n",
              "             'whimsical': [84, 123],\n",
              "             'fiery': [44, 39],\n",
              "             'romantic': [1166, 1117],\n",
              "             'easily': [389, 624],\n",
              "             'idiosyncrasy': [24, 23],\n",
              "             'unconventional': [21, 126],\n",
              "             'biopic': [307, 388],\n",
              "             'rank': [91, 195],\n",
              "             'oscar': [266, 570],\n",
              "             'winner': [119, 206],\n",
              "             'ray': [84, 84],\n",
              "             'capote': [17, 43],\n",
              "             'twisty': [31, 69],\n",
              "             'whodunit': [42, 42],\n",
              "             'never': [4214, 2849],\n",
              "             'quite': [1857, 1694],\n",
              "             'believable': [151, 168],\n",
              "             'satisfying': [328, 824],\n",
              "             'especially': [666, 789],\n",
              "             'willis': [96, 57],\n",
              "             'try': [1423, 484],\n",
              "             'reconnect': [11, 6],\n",
              "             'humanity': [214, 459],\n",
              "             'lost': [880, 578],\n",
              "             'living': [226, 365],\n",
              "             'sheltered': [3, 3],\n",
              "             'video': [689, 277],\n",
              "             'sharing': [32, 52],\n",
              "             'smidgen': [14, 7],\n",
              "             'resemblance': [43, 20],\n",
              "             'legendary': [60, 125],\n",
              "             'storyline': [313, 207],\n",
              "             'shakespeare': [112, 109],\n",
              "             'tragedy': [253, 424],\n",
              "             'child': [841, 1104],\n",
              "             'abomination': [28, 4],\n",
              "             'tepid': [213, 13],\n",
              "             'wouldbe': [175, 38],\n",
              "             'corporate': [120, 137],\n",
              "             'thriller': [2016, 2385],\n",
              "             'lead': [945, 1112],\n",
              "             'ready': [158, 170],\n",
              "             'prime': [86, 86],\n",
              "             'hand': [558, 670],\n",
              "             'ford': [117, 145],\n",
              "             'oldman': [22, 54],\n",
              "             'ca': [2504, 1090],\n",
              "             'save': [612, 254],\n",
              "             'parse': [10, 1],\n",
              "             'philosophy': [76, 62],\n",
              "             'behind': [579, 633],\n",
              "             'spill': [16, 29],\n",
              "             'word': [641, 617],\n",
              "             'intellectual': [123, 135],\n",
              "             'jumble': [88, 6],\n",
              "             'junk': [127, 39],\n",
              "             'despite': [1775, 1303],\n",
              "             'feeble': [107, 5],\n",
              "             'interlinking': [2, 1],\n",
              "             'plot': [2909, 1359],\n",
              "             'contrived': [448, 138],\n",
              "             'serendipity': [4, 3],\n",
              "             'irony': [150, 140],\n",
              "             'tale': [1455, 2187],\n",
              "             'con': [83, 114],\n",
              "             'men': [632, 771],\n",
              "             'artist': [247, 588],\n",
              "             'loser': [84, 49],\n",
              "             'lover': [193, 290],\n",
              "             'acting': [958, 908],\n",
              "             'screenwriting': [101, 22],\n",
              "             'exercise': [673, 327],\n",
              "             'keep': [1276, 1918],\n",
              "             'pounding': [34, 43],\n",
              "             'predictable': [1176, 414],\n",
              "             'setup': [259, 149],\n",
              "             'finally': [507, 511],\n",
              "             'think': [1575, 1285],\n",
              "             'fight': [407, 439],\n",
              "             'longer': [356, 205],\n",
              "             'throw': [307, 170],\n",
              "             'towel': [14, 3],\n",
              "             'charge': [77, 65],\n",
              "             'originality': [197, 194],\n",
              "             'pathos': [66, 124],\n",
              "             'eversoswift': [0, 1],\n",
              "             'jab': [43, 28],\n",
              "             'excitement': [235, 201],\n",
              "             'missing': [414, 159],\n",
              "             'right': [1316, 2030],\n",
              "             'seriousness': [61, 64],\n",
              "             'whimsy': [121, 96],\n",
              "             'charmingly': [22, 58],\n",
              "             'interplay': [18, 34],\n",
              "             'ralph': [20, 77],\n",
              "             'fiennes': [32, 78],\n",
              "             'uma': [79, 64],\n",
              "             'thurman': [39, 14],\n",
              "             'lackluster': [216, 33],\n",
              "             'perfs': [8, 6],\n",
              "             'inspiration': [196, 150],\n",
              "             'jack': [296, 229],\n",
              "             'ryan': [140, 183],\n",
              "             'shadow': [151, 196],\n",
              "             'recruit': [36, 21],\n",
              "             'feel': [5670, 3428],\n",
              "             'applied': [35, 17],\n",
              "             'desk': [15, 6],\n",
              "             'job': [473, 704],\n",
              "             'memoryloss': [2, 0],\n",
              "             'device': [187, 87],\n",
              "             'dimly': [15, 5],\n",
              "             'recall': [120, 122],\n",
              "             'groundhog': [28, 24],\n",
              "             'day': [1258, 1409],\n",
              "             'low': [448, 243],\n",
              "             'laugh': [1710, 1302],\n",
              "             'rate': [51, 76],\n",
              "             'occasional': [189, 172],\n",
              "             'lachrymosity': [2, 0],\n",
              "             'flaccid': [78, 7],\n",
              "             'pacing': [259, 234],\n",
              "             'assuredly': [8, 18],\n",
              "             'funny': [2256, 3295],\n",
              "             'beginning': [195, 274],\n",
              "             'powerful': [244, 1157],\n",
              "             'end': [3142, 2063],\n",
              "             'italian': [55, 101],\n",
              "             'actress': [284, 417],\n",
              "             'wonderful': [171, 686],\n",
              "             'affecting': [74, 412],\n",
              "             'certainly': [729, 878],\n",
              "             'pedestrian': [196, 36],\n",
              "             'hard': [2033, 1182],\n",
              "             'mystifying': [15, 11],\n",
              "             'mismatch': [20, 2],\n",
              "             'material': [1334, 871],\n",
              "             'single': [516, 371],\n",
              "             'drop': [110, 107],\n",
              "             'fine': [604, 911],\n",
              "             'wine': [26, 37],\n",
              "             'magic': [486, 505],\n",
              "             'moonlight': [19, 48],\n",
              "             'delightful': [52, 412],\n",
              "             'roman': [70, 74],\n",
              "             'j': [74, 47],\n",
              "             'israel': [22, 60],\n",
              "             'inability': [109, 30],\n",
              "             'narrative': [1475, 1163],\n",
              "             'propulsion': [5, 8],\n",
              "             'tonal': [117, 73],\n",
              "             'consistency': [46, 26],\n",
              "             'disappointing': [739, 101],\n",
              "             'context': [178, 177],\n",
              "             'nightcrawler': [10, 18],\n",
              "             'desperately': [269, 82],\n",
              "             '80': [227, 217],\n",
              "             'highschool': [52, 33],\n",
              "             'romp': [156, 261],\n",
              "             'yet': [1671, 2275],\n",
              "             'across': [481, 399],\n",
              "             'seen': [1197, 1502],\n",
              "             'stylish': [173, 346],\n",
              "             'familiar': [695, 803],\n",
              "             'outing': [145, 152],\n",
              "             'jurassic': [71, 62],\n",
              "             'classic': [659, 1434],\n",
              "             'respite': [11, 36],\n",
              "             'dryasadinosaurbone': [1, 0],\n",
              "             'summer': [474, 971],\n",
              "             'entertainment': [702, 1042],\n",
              "             'beastly': [28, 9],\n",
              "             'frosty': [13, 8],\n",
              "             'setting': [336, 416],\n",
              "             'ice': [189, 126],\n",
              "             'warmed': [25, 13],\n",
              "             'viewer': [1122, 1260],\n",
              "             '2002': [40, 41],\n",
              "             'critter': [19, 27],\n",
              "             'succeed': [111, 70],\n",
              "             'eyelid': [21, 2],\n",
              "             'heavy': [290, 249],\n",
              "             'collision': [38, 37],\n",
              "             'course': [391, 353],\n",
              "             'grand': [216, 321],\n",
              "             'budapest': [6, 18],\n",
              "             'hotel': [101, 96],\n",
              "             'feather': [13, 18],\n",
              "             'cap': [20, 24],\n",
              "             'quaint': [44, 22],\n",
              "             'charming': [282, 821],\n",
              "             'poignant': [74, 478],\n",
              "             'wideranging': [3, 17],\n",
              "             'purview': [3, 4],\n",
              "             'plastic': [75, 34],\n",
              "             'surgery': [19, 11],\n",
              "             'conveyed': [7, 32],\n",
              "             'female': [345, 401],\n",
              "             'comedian': [95, 99],\n",
              "             'tried': [128, 69],\n",
              "             'bundle': [14, 16],\n",
              "             'misstep': [72, 68],\n",
              "             'filmgoers': [29, 29],\n",
              "             'dance': [275, 276],\n",
              "             'floor': [66, 57],\n",
              "             'humor': [1082, 1399],\n",
              "             'book': [1046, 872],\n",
              "             'delight': [122, 556],\n",
              "             'stripped': [65, 39],\n",
              "             'replaced': [101, 29],\n",
              "             'joke': [1449, 623],\n",
              "             'broad': [248, 203],\n",
              "             'slapstick': [289, 182],\n",
              "             'sitcomquality': [1, 0],\n",
              "             'encounter': [94, 109],\n",
              "             'woman': [1215, 1685],\n",
              "             'bear': [236, 201],\n",
              "             'pushy': [23, 4],\n",
              "             'grating': [86, 11],\n",
              "             'sentimentality': [213, 187],\n",
              "             'look': [2445, 2629],\n",
              "             'historic': [26, 47],\n",
              "             'perfect': [362, 1060],\n",
              "             'virtual': [27, 37],\n",
              "             'background': [119, 147],\n",
              "             'obscene': [18, 15],\n",
              "             'trust': [150, 141],\n",
              "             'quentin': [37, 91],\n",
              "             'tarantino': [114, 217],\n",
              "             'completely': [698, 518],\n",
              "             'writer': [537, 383],\n",
              "             'inglourious': [13, 28],\n",
              "             'basterds': [13, 33],\n",
              "             'might': [2704, 2046],\n",
              "             'great': [1867, 3644],\n",
              "             'greatness': [57, 152],\n",
              "             'mix': [332, 523],\n",
              "             'drama': [2134, 3201],\n",
              "             'occasionally': [470, 547],\n",
              "             'working': [293, 423],\n",
              "             'dos': [49, 51],\n",
              "             'surrealism': [26, 42],\n",
              "             'via': [60, 88],\n",
              "             'carlos': [17, 31],\n",
              "             'lopez': [81, 27],\n",
              "             'estrada': [4, 6],\n",
              "             'hitchcock': [100, 222],\n",
              "             'disturbing': [142, 435],\n",
              "             'masterpiece': [137, 627],\n",
              "             'digitisation': [1, 0],\n",
              "             'reign': [42, 42],\n",
              "             'spectacular': [170, 404],\n",
              "             'visual': [715, 1090],\n",
              "             'drizzle': [7, 0],\n",
              "             'sploshes': [1, 0],\n",
              "             'run': [865, 554],\n",
              "             'walk': [259, 293],\n",
              "             'nearest': [19, 16],\n",
              "             'theater': [533, 463],\n",
              "             'showing': [188, 265],\n",
              "             'josh': [63, 60],\n",
              "             'kriegman': [2, 4],\n",
              "             'elyse': [2, 4],\n",
              "             'steinberg': [1, 4],\n",
              "             'new': [2184, 2827],\n",
              "             'documentary': [604, 2382],\n",
              "             'ashamed': [24, 16],\n",
              "             'robert': [422, 425],\n",
              "             'de': [658, 984],\n",
              "             'niro': [109, 64],\n",
              "             'deeply': [282, 714],\n",
              "             'every': [2108, 2126],\n",
              "             'dirty': [151, 122],\n",
              "             'grandpa': [19, 4],\n",
              "             'sleazy': [74, 25],\n",
              "             'spurting': [9, 4],\n",
              "             'unfunny': [559, 11],\n",
              "             'morphs': [20, 22],\n",
              "             'exploration': [123, 317],\n",
              "             'apart': [367, 267],\n",
              "             'reform': [2, 9],\n",
              "             'holding': [78, 101],\n",
              "             'beautifully': [160, 908],\n",
              "             'balance': [180, 439],\n",
              "             'timeframe': [3, 2],\n",
              "             'earned': [55, 75],\n",
              "             'marvel': [242, 554],\n",
              "             'coasted': [1, 2],\n",
              "             'climax': [324, 266],\n",
              "             'party': [377, 221],\n",
              "             'nut': [54, 46],\n",
              "             'unusual': [77, 257],\n",
              "             'awkward': [334, 145],\n",
              "             'big': [1743, 1654],\n",
              "             'screen': [1395, 1519],\n",
              "             'missed': [310, 159],\n",
              "             'doyle': [18, 19],\n",
              "             'bad': [3567, 1029],\n",
              "             'rhyme': [27, 17],\n",
              "             'reason': [845, 596],\n",
              "             'lot': [1866, 1779],\n",
              "             'videogame': [75, 19],\n",
              "             'chopper': [5, 9],\n",
              "             'meant': [382, 134],\n",
              "             'perversely': [25, 23],\n",
              "             'kind': [1702, 1726],\n",
              "             'crowdpleasing': [35, 110],\n",
              "             'bittersweet': [48, 213],\n",
              "             'tragic': [141, 302],\n",
              "             'circumstance': [69, 145],\n",
              "             'attenuated': [5, 4],\n",
              "             'moral': [365, 449],\n",
              "             'support': [104, 111],\n",
              "             'quarter': [35, 32],\n",
              "             'horrible': [211, 59],\n",
              "             'tie': [80, 100],\n",
              "             'loose': [133, 153],\n",
              "             'previous': [335, 321],\n",
              "             'entry': [321, 288],\n",
              "             'boring': [1062, 102],\n",
              "             'full': [3008, 4271],\n",
              "             'review': [2353, 3276],\n",
              "             'spanish': [1853, 2862],\n",
              "             'minor': [146, 250],\n",
              "             'pleasure': [364, 729],\n",
              "             'major': [298, 325],\n",
              "             'work': [2785, 4598],\n",
              "             'summertime': [6, 24],\n",
              "             'go': [2972, 2358],\n",
              "             'popsicle': [0, 2],\n",
              "             'hot': [294, 215],\n",
              "             'batman': [142, 191],\n",
              "             'torn': [48, 40],\n",
              "             'page': [202, 150],\n",
              "             'peeled': [7, 4],\n",
              "             'bottom': [145, 89],\n",
              "             'dr': [105, 103],\n",
              "             'marten': [3, 0],\n",
              "             'alvarez': [21, 26],\n",
              "             'however': [629, 462],\n",
              "             'personality': [279, 297],\n",
              "             'saga': [224, 254],\n",
              "             'bloody': [232, 309],\n",
              "             'sport': [268, 388],\n",
              "             'brutal': [162, 291],\n",
              "             'hockey': [21, 22],\n",
              "             'enforcer': [12, 6],\n",
              "             'rich': [246, 661],\n",
              "             'mined': [12, 8],\n",
              "             'historical': [235, 379],\n",
              "             've': [1806, 1649],\n",
              "             'got': [766, 625],\n",
              "             'randall': [12, 7],\n",
              "             'miller': [130, 174],\n",
              "             'pandering': [91, 19],\n",
              "             'fact': [806, 687],\n",
              "             'urbane': [6, 7],\n",
              "             'smart': [427, 1113],\n",
              "             'charles': [93, 86],\n",
              "             'seem': [1209, 659],\n",
              "             'appear': [179, 88],\n",
              "             'noir': [180, 263],\n",
              "             'absolute': [74, 191],\n",
              "             'joy': [152, 540],\n",
              "             'coco': [24, 45],\n",
              "             'prof': [473, 672],\n",
              "             'pixar': [148, 345],\n",
              "             'tacking': [1, 1],\n",
              "             'idea': [2047, 956],\n",
              "             'segel': [23, 42],\n",
              "             'apatow': [116, 108],\n",
              "             'gift': [121, 274],\n",
              "             'blending': [16, 58],\n",
              "             'sweet': [376, 945],\n",
              "             'salty': [8, 16],\n",
              "             'mixing': [54, 76],\n",
              "             'raunch': [26, 29],\n",
              "             'loosely': [44, 34],\n",
              "             'learn': [147, 159],\n",
              "             'baby': [224, 217],\n",
              "             'projectile': [11, 3],\n",
              "             'caca': [2, 0],\n",
              "             'face': [611, 825],\n",
              "             'mouth': [156, 90],\n",
              "             'daddy': [93, 35],\n",
              "             'u': [2620, 3483],\n",
              "             'leave': [594, 700],\n",
              "             'speechless': [4, 8],\n",
              "             'experience': [856, 1586],\n",
              "             'mostly': [988, 674],\n",
              "             'loud': [385, 215],\n",
              "             'aggrieved': [5, 2],\n",
              "             'approximates': [5, 1],\n",
              "             'situation': [380, 403],\n",
              "             'rarely': [409, 468],\n",
              "             'convincing': [221, 288],\n",
              "             'experiencing': [20, 42],\n",
              "             'writerdirector': [474, 651],\n",
              "             'philippe': [13, 27],\n",
              "             'claudel': [3, 9],\n",
              "             'superbly': [21, 216],\n",
              "             'map': [53, 39],\n",
              "             'slow': [473, 407],\n",
              "             'thawing': [0, 1],\n",
              "             'icy': [25, 31],\n",
              "             'chip': [54, 29],\n",
              "             'anything': [1775, 912],\n",
              "             'really': [2972, 1935],\n",
              "             'episode': [484, 208],\n",
              "             'able': [302, 414],\n",
              "             'line': [1102, 853],\n",
              "             '2': [937, 677],\n",
              "             'tomorrow': [40, 78],\n",
              "             'mythology': [120, 95],\n",
              "             'rife': [66, 39],\n",
              "             'giant': [177, 224],\n",
              "             'greek': [106, 69],\n",
              "             'titan': [71, 28],\n",
              "             'norse': [1, 4],\n",
              "             'jotun': [0, 1],\n",
              "             'race': [211, 289],\n",
              "             'went': [278, 135],\n",
              "             'extinct': [10, 3],\n",
              "             'cyclops': [0, 2],\n",
              "             'bigfootwhich': [0, 1],\n",
              "             'pacific': [42, 38],\n",
              "             'rim': [35, 30],\n",
              "             'tap': [46, 121],\n",
              "             'heartfelt': [119, 390],\n",
              "             'farcical': [43, 20],\n",
              "             'sincere': [124, 192],\n",
              "             'packed': [90, 190],\n",
              "             'pull': [294, 444],\n",
              "             'difficult': [420, 437],\n",
              "             'balancing': [16, 99],\n",
              "             'act': [794, 779],\n",
              "             'everything': [1247, 987],\n",
              "             'solo': [55, 90],\n",
              "             'seems': [2453, 1171],\n",
              "             'plain': [212, 113],\n",
              "             'tired': [476, 91],\n",
              "             'ron': [84, 94],\n",
              "             'howard': [147, 146],\n",
              "             'rudimentary': [27, 13],\n",
              "             'direction': [815, 813],\n",
              "             'moreofthesame': [1, 0],\n",
              "             'incessant': [33, 11],\n",
              "             'score': [336, 434],\n",
              "             'murky': [143, 51],\n",
              "             'cinematography': [183, 377],\n",
              "             'fit': [284, 296],\n",
              "             'start': [1154, 840],\n",
              "             'usually': [227, 163],\n",
              "             'sight': [259, 272],\n",
              "             'gag': [632, 319],\n",
              "             'poor': [477, 94],\n",
              "             'momentary': [20, 4],\n",
              "             'editing': [264, 178],\n",
              "             'function': [94, 91],\n",
              "             'blatantly': [67, 13],\n",
              "             'terrible': [556, 169],\n",
              "             'explaining': [62, 36],\n",
              "             'stuff': [623, 572],\n",
              "             'final': [772, 769],\n",
              "             'sequence': [856, 738],\n",
              "             'jump': [241, 182],\n",
              "             'bring': [388, 433],\n",
              "             'crime': [469, 596],\n",
              "             'dreary': [243, 32],\n",
              "             'sort': [861, 707],\n",
              "             'lull': [28, 21],\n",
              "             'provoke': [54, 54],\n",
              "             'irrfan': [1, 7],\n",
              "             'khan': [25, 31],\n",
              "             'steal': [95, 160],\n",
              "             'generally': [225, 156],\n",
              "             'watcahble': [1, 0],\n",
              "             'cheat': [27, 20],\n",
              "             'mystery': [537, 522],\n",
              "             'feminism': [22, 36],\n",
              "             'mongolia': [0, 4],\n",
              "             'given': [794, 558],\n",
              "             'soaring': [20, 39],\n",
              "             'attention': [414, 585],\n",
              "             'award': [108, 247],\n",
              "             'group': [218, 245],\n",
              "             'spellbinding': [12, 71],\n",
              "             'showman': [26, 22],\n",
              "             'trifle': [77, 58],\n",
              "             'actually': [1017, 852],\n",
              "             'mechanic': [78, 55],\n",
              "             'pit': [43, 29],\n",
              "             'heard': [147, 130],\n",
              "             'car': [473, 285],\n",
              "             'disappointment': [497, 97],\n",
              "             'level': [919, 837],\n",
              "             'marked': [70, 80],\n",
              "             'deafening': [20, 14],\n",
              "             'shootout': [70, 39],\n",
              "             'chase': [336, 235],\n",
              "             'explosion': [186, 111],\n",
              "             'remembered': [65, 92],\n",
              "             'welles': [30, 71],\n",
              "             'citizen': [52, 112],\n",
              "             'kane': [29, 46],\n",
              "             'brando': [8, 29],\n",
              "             'godfather': [23, 43],\n",
              "             'nicholson': [51, 52],\n",
              "             'haphazard': [57, 13],\n",
              "             'biography': [53, 90],\n",
              "             'survey': [13, 18],\n",
              "             'asks': [104, 143],\n",
              "             'salient': [5, 11],\n",
              "             'question': [688, 846],\n",
              "             'answer': [298, 368],\n",
              "             'rushed': [129, 48],\n",
              "             '76': [17, 16],\n",
              "             'minute': [2045, 1032],\n",
              "             'becomes': [1155, 598],\n",
              "             'contagious': [8, 36],\n",
              "             'suggestion': [40, 27],\n",
              "             'mean': [829, 743],\n",
              "             'jetblack': [1, 10],\n",
              "             'harrelson': [40, 57],\n",
              "             'impressibility': [0, 1],\n",
              "             'part': [1563, 1835],\n",
              "             'disaster': [440, 194],\n",
              "             'earthquake': [15, 8],\n",
              "             'independence': [56, 59],\n",
              "             'watching': [1468, 1090],\n",
              "             'city': [379, 501],\n",
              "             'reduced': [125, 28],\n",
              "             'pile': [188, 45],\n",
              "             'smoking': [42, 37],\n",
              "             'rubble': [13, 7],\n",
              "             'core': [230, 347],\n",
              "             'disappoint': [72, 82],\n",
              "             'sheen': [89, 59],\n",
              "             'dazzling': [82, 293],\n",
              "             'cut': [433, 358],\n",
              "             'takeoff': [11, 8],\n",
              "             'decent': [474, 365],\n",
              "             'sometimes': [683, 1210],\n",
              "             'excellent': [190, 645],\n",
              "             'landing': [62, 43],\n",
              "             'underdog': [49, 96],\n",
              "             'stand': [443, 642],\n",
              "             'ground': [308, 357],\n",
              "             'anthony': [58, 77],\n",
              "             'baxter': [16, 8],\n",
              "             'modest': [129, 230],\n",
              "             'revealing': [74, 210],\n",
              "             'doc': [115, 295],\n",
              "             'shrek': [88, 73],\n",
              "             'forever': [130, 136],\n",
              "             'wanders': [49, 13],\n",
              "             'infectious': [22, 131],\n",
              "             'propulsive': [14, 52],\n",
              "             'zing': [21, 21],\n",
              "             'expect': [592, 633],\n",
              "             'nine': [86, 43],\n",
              "             'inside': [313, 455],\n",
              "             'universal': [80, 217],\n",
              "             ...})"
            ]
          },
          "metadata": {},
          "execution_count": 70
        }
      ]
    },
    {
      "cell_type": "markdown",
      "source": [
        "# Probability calculation"
      ],
      "metadata": {
        "id": "ZGN67-au616m"
      }
    },
    {
      "cell_type": "markdown",
      "source": [
        "**P(fresh) and P(rotten)**"
      ],
      "metadata": {
        "id": "QU22L7uSExGB"
      }
    },
    {
      "cell_type": "code",
      "source": [
        "prob_rotten=train_set['Freshness'].value_counts(normalize=True)['rotten']\n",
        "prob_fresh=train_set['Freshness'].value_counts(normalize=True)['fresh']\n",
        "print(f'P(fresh) = {prob_fresh} P(rotten) = {prob_rotten}')"
      ],
      "metadata": {
        "colab": {
          "base_uri": "https://localhost:8080/"
        },
        "id": "KrgWDP6E_veJ",
        "outputId": "f2a8ab9b-4d71-483f-cca0-c9a3d8a4725a"
      },
      "execution_count": null,
      "outputs": [
        {
          "output_type": "stream",
          "name": "stdout",
          "text": [
            "P(fresh) = 0.4991791666666667 P(rotten) = 0.5008208333333334\n"
          ]
        }
      ]
    },
    {
      "cell_type": "markdown",
      "source": [
        "**P(word)**"
      ],
      "metadata": {
        "id": "1B4EF5ObCRB_"
      }
    },
    {
      "cell_type": "code",
      "source": [
        "def word_alone_prob(word):\n",
        "  return ((word_dict[word][1]/num_pos_words))+((word_dict[word][0]/num_neg_words))"
      ],
      "metadata": {
        "id": "JUpOMPx-B35m"
      },
      "execution_count": null,
      "outputs": []
    },
    {
      "cell_type": "code",
      "source": [
        "word_alone_prob('blimey')"
      ],
      "metadata": {
        "colab": {
          "base_uri": "https://localhost:8080/"
        },
        "id": "p_BBp4SSCIri",
        "outputId": "d94a8dcd-1723-407f-983a-bef849946236"
      },
      "execution_count": null,
      "outputs": [
        {
          "output_type": "execute_result",
          "data": {
            "text/plain": [
              "0.0"
            ]
          },
          "metadata": {},
          "execution_count": 125
        }
      ]
    },
    {
      "cell_type": "markdown",
      "source": [
        "**P(word|fresh) and P(word|rotten)**"
      ],
      "metadata": {
        "id": "R65acd03E0-y"
      }
    },
    {
      "cell_type": "code",
      "source": [
        "def word_prob(reviewType, word):\n",
        "  if reviewType == 'fresh':\n",
        "    return math.log(word_dict[word][1]/num_pos_words)\n",
        "  else:\n",
        "    return math.log(word_dict[word][0]/num_neg_words)"
      ],
      "metadata": {
        "id": "xxOOypQxehfc"
      },
      "execution_count": null,
      "outputs": []
    },
    {
      "cell_type": "code",
      "source": [
        "word_prob('rotten','blimey')"
      ],
      "metadata": {
        "colab": {
          "base_uri": "https://localhost:8080/",
          "height": 252
        },
        "id": "galELGpjelYW",
        "outputId": "4fc73636-5828-49ea-9524-5bb4f005ca92"
      },
      "execution_count": null,
      "outputs": [
        {
          "output_type": "error",
          "ename": "ValueError",
          "evalue": "ignored",
          "traceback": [
            "\u001b[0;31m---------------------------------------------------------------------------\u001b[0m",
            "\u001b[0;31mValueError\u001b[0m                                Traceback (most recent call last)",
            "\u001b[0;32m<ipython-input-129-fa61b6574230>\u001b[0m in \u001b[0;36m<cell line: 1>\u001b[0;34m()\u001b[0m\n\u001b[0;32m----> 1\u001b[0;31m \u001b[0mword_prob\u001b[0m\u001b[0;34m(\u001b[0m\u001b[0;34m'rotten'\u001b[0m\u001b[0;34m,\u001b[0m\u001b[0;34m'blimey'\u001b[0m\u001b[0;34m)\u001b[0m\u001b[0;34m\u001b[0m\u001b[0;34m\u001b[0m\u001b[0m\n\u001b[0m",
            "\u001b[0;32m<ipython-input-128-efa2d5922037>\u001b[0m in \u001b[0;36mword_prob\u001b[0;34m(reviewType, word)\u001b[0m\n\u001b[1;32m      3\u001b[0m     \u001b[0;32mreturn\u001b[0m \u001b[0mmath\u001b[0m\u001b[0;34m.\u001b[0m\u001b[0mlog\u001b[0m\u001b[0;34m(\u001b[0m\u001b[0mword_dict\u001b[0m\u001b[0;34m[\u001b[0m\u001b[0mword\u001b[0m\u001b[0;34m]\u001b[0m\u001b[0;34m[\u001b[0m\u001b[0;36m1\u001b[0m\u001b[0;34m]\u001b[0m\u001b[0;34m/\u001b[0m\u001b[0mnum_pos_words\u001b[0m\u001b[0;34m)\u001b[0m\u001b[0;34m\u001b[0m\u001b[0;34m\u001b[0m\u001b[0m\n\u001b[1;32m      4\u001b[0m   \u001b[0;32melse\u001b[0m\u001b[0;34m:\u001b[0m\u001b[0;34m\u001b[0m\u001b[0;34m\u001b[0m\u001b[0m\n\u001b[0;32m----> 5\u001b[0;31m     \u001b[0;32mreturn\u001b[0m \u001b[0mmath\u001b[0m\u001b[0;34m.\u001b[0m\u001b[0mlog\u001b[0m\u001b[0;34m(\u001b[0m\u001b[0mword_dict\u001b[0m\u001b[0;34m[\u001b[0m\u001b[0mword\u001b[0m\u001b[0;34m]\u001b[0m\u001b[0;34m[\u001b[0m\u001b[0;36m0\u001b[0m\u001b[0;34m]\u001b[0m\u001b[0;34m/\u001b[0m\u001b[0mnum_neg_words\u001b[0m\u001b[0;34m)\u001b[0m\u001b[0;34m\u001b[0m\u001b[0;34m\u001b[0m\u001b[0m\n\u001b[0m",
            "\u001b[0;31mValueError\u001b[0m: math domain error"
          ]
        }
      ]
    },
    {
      "cell_type": "code",
      "source": [
        "def word_prob(reviewType, word):\n",
        "  if reviewType == 'fresh':\n",
        "    return (word_dict[word][1]/num_pos_words)\n",
        "  else:\n",
        "    return (word_dict[word][0]/num_neg_words)\n",
        "  "
      ],
      "metadata": {
        "id": "O2qgdCQO3Hql"
      },
      "execution_count": null,
      "outputs": []
    },
    {
      "cell_type": "code",
      "source": [
        "word_prob('fresh','rotten')"
      ],
      "metadata": {
        "colab": {
          "base_uri": "https://localhost:8080/"
        },
        "id": "89brr4SC8H-h",
        "outputId": "35dcbce8-b130-478d-aa17-501ec6da9161"
      },
      "execution_count": null,
      "outputs": [
        {
          "output_type": "execute_result",
          "data": {
            "text/plain": [
              "1.6699294519034625e-05"
            ]
          },
          "metadata": {},
          "execution_count": 131
        }
      ]
    },
    {
      "cell_type": "code",
      "source": [
        "word_prob('rotten','buffay')"
      ],
      "metadata": {
        "colab": {
          "base_uri": "https://localhost:8080/"
        },
        "id": "MnkVSO2SOXhH",
        "outputId": "5e4deae7-8671-487f-d654-103b155b797b"
      },
      "execution_count": null,
      "outputs": [
        {
          "output_type": "execute_result",
          "data": {
            "text/plain": [
              "0.0"
            ]
          },
          "metadata": {},
          "execution_count": 132
        }
      ]
    },
    {
      "cell_type": "markdown",
      "source": [
        "**P(fresh|review) and P(rotten|review)**"
      ],
      "metadata": {
        "id": "eW0oZCmzFDPJ"
      }
    },
    {
      "cell_type": "code",
      "source": [
        "def withoutSmoothing_probability(reviewType, review):\n",
        "  if reviewType == 'fresh':\n",
        "    prob=math.log(pos_reviews/len(rt_df))\n",
        "  else:\n",
        "    prob=math.log(neg_reviews/len(rt_df))\n",
        "  preprocessed_reviews=[]\n",
        "  preprocessed_reviews=preprocessing(review)\n",
        "  for word in preprocessed_reviews:\n",
        "     prob=prob+word_prob(reviewType,word)\n",
        "  return prob\n",
        "    "
      ],
      "metadata": {
        "id": "D0bFQFr3Rc5j"
      },
      "execution_count": null,
      "outputs": []
    },
    {
      "cell_type": "markdown",
      "source": [
        "# Class Prediction"
      ],
      "metadata": {
        "id": "h8F2-6oFFLQB"
      }
    },
    {
      "cell_type": "code",
      "source": [
        "def predict_class_withoutSmoothing(sentence):\n",
        " if withoutSmoothing_probability('fresh',sentence)*prob_fresh > withoutSmoothing_probability('rotten',sentence)*prob_rotten:\n",
        "   return \"fresh\"\n",
        " else:\n",
        "    return \"rotten\""
      ],
      "metadata": {
        "id": "r-drSdvhRvQL"
      },
      "execution_count": null,
      "outputs": []
    },
    {
      "cell_type": "markdown",
      "source": [
        "# Dev and Test accuracy without Smoothing"
      ],
      "metadata": {
        "id": "wMw_iipHFPWA"
      }
    },
    {
      "cell_type": "code",
      "source": [
        "correct_pred=0\n",
        "incorrect_pred=0\n",
        "freshness=list(dev_set['Freshness'])\n",
        "for i, word in enumerate(list(dev_set['Review'])):\n",
        "  if predict_class_withoutSmoothing(word) == freshness[i]:\n",
        "    correct_pred+=1\n",
        "  else:\n",
        "    incorrect_pred+=1"
      ],
      "metadata": {
        "id": "OKslnxYjRrYL"
      },
      "execution_count": null,
      "outputs": []
    },
    {
      "cell_type": "code",
      "source": [
        "print(\"Accuracy on Dev dataset: \",correct_pred/(correct_pred+incorrect_pred))"
      ],
      "metadata": {
        "colab": {
          "base_uri": "https://localhost:8080/"
        },
        "id": "V9w07UcNTkIB",
        "outputId": "45fd4c4f-16a7-4d4b-b323-8deade0cd601"
      },
      "execution_count": null,
      "outputs": [
        {
          "output_type": "stream",
          "name": "stdout",
          "text": [
            "Accuracy on Dev dataset:  0.5911111111111111\n"
          ]
        }
      ]
    },
    {
      "cell_type": "code",
      "source": [
        "correct_pred=0\n",
        "incorrect_pred=0\n",
        "freshness=list(test_set['Freshness'])\n",
        "for i, word in enumerate(list(test_set['Review'])):\n",
        "  if predict_class_withoutSmoothing(word) == freshness[i]:\n",
        "    correct_pred+=1\n",
        "  else:\n",
        "    incorrect_pred+=1"
      ],
      "metadata": {
        "id": "LZU6aVVU_aWo"
      },
      "execution_count": null,
      "outputs": []
    },
    {
      "cell_type": "code",
      "source": [
        "print(\"Accuracy on Test dataset: \",correct_pred/(correct_pred+incorrect_pred))"
      ],
      "metadata": {
        "colab": {
          "base_uri": "https://localhost:8080/"
        },
        "id": "5NK1vulT_gty",
        "outputId": "bb4c60b9-39ef-46a9-a610-32ad2815c98f"
      },
      "execution_count": null,
      "outputs": [
        {
          "output_type": "stream",
          "name": "stdout",
          "text": [
            "Accuracy on Test dataset:  0.5890416666666667\n"
          ]
        }
      ]
    },
    {
      "cell_type": "markdown",
      "source": [
        "# Experiments"
      ],
      "metadata": {
        "id": "IeX6BW4vgGA4"
      }
    },
    {
      "cell_type": "markdown",
      "source": [
        "# Applied Smoothing"
      ],
      "metadata": {
        "id": "NRfCFNCaCVUT"
      }
    },
    {
      "cell_type": "markdown",
      "source": [
        "**P(word)**"
      ],
      "metadata": {
        "id": "OUDPhg7tFeni"
      }
    },
    {
      "cell_type": "code",
      "source": [
        "alpha=1\n",
        "def word_only_prob(word,num_words):\n",
        "  return (math.log((word_dict[word][1]+alpha)/(num_pos_words+num_words)))+(math.log((word_dict[word][0]+alpha)/(num_neg_words+num_words)))"
      ],
      "metadata": {
        "id": "oDVwSfEqCXmA"
      },
      "execution_count": null,
      "outputs": []
    },
    {
      "cell_type": "code",
      "source": [
        "word_only_prob('blimey',tot_words)"
      ],
      "metadata": {
        "colab": {
          "base_uri": "https://localhost:8080/"
        },
        "id": "g3g42dh-DT2I",
        "outputId": "be9c9f4c-1864-4edc-fa70-21723722bf30"
      },
      "execution_count": null,
      "outputs": [
        {
          "output_type": "execute_result",
          "data": {
            "text/plain": [
              "-28.602601000888903"
            ]
          },
          "metadata": {},
          "execution_count": 133
        }
      ]
    },
    {
      "cell_type": "markdown",
      "source": [
        "**P(fresh|word) and P(rotten|word)**"
      ],
      "metadata": {
        "id": "xbFKwCiGFhQ5"
      }
    },
    {
      "cell_type": "code",
      "source": [
        "def cond_prob(reviewType, word,num_words):\n",
        "  if reviewType == 'fresh':\n",
        "    return math.log((word_dict[word][1]+alpha)/(num_pos_words+(num_words)))\n",
        "  else:\n",
        "    return math.log((word_dict[word][0]+alpha)/(num_neg_words+(num_words)))"
      ],
      "metadata": {
        "id": "0SVsL_m3EGh9"
      },
      "execution_count": null,
      "outputs": []
    },
    {
      "cell_type": "code",
      "source": [
        "cond_prob('rotten','blimey',tot_words)"
      ],
      "metadata": {
        "colab": {
          "base_uri": "https://localhost:8080/"
        },
        "id": "ajy_fONQEUQz",
        "outputId": "a13c32c5-113a-483b-8992-3a66d38fcd14"
      },
      "execution_count": null,
      "outputs": [
        {
          "output_type": "execute_result",
          "data": {
            "text/plain": [
              "-14.289962404207248"
            ]
          },
          "metadata": {},
          "execution_count": 134
        }
      ]
    },
    {
      "cell_type": "markdown",
      "source": [
        "**P(fresh|review) and P(rotten|review)**"
      ],
      "metadata": {
        "id": "oSVzwHJ8FlhN"
      }
    },
    {
      "cell_type": "code",
      "source": [
        "def review_probability(reviewType, review,n):\n",
        "  if reviewType == 'fresh':\n",
        "    prob=math.log(pos_reviews/len(rt_df))\n",
        "  else:\n",
        "    prob=math.log(neg_reviews/len(rt_df))\n",
        "  preprocessed_reviews=[]\n",
        "  preprocessed_reviews=preprocessing(review)\n",
        "  for word in preprocessed_reviews:\n",
        "     prob=prob+cond_prob(reviewType,word,n)\n",
        "  return prob\n",
        "    "
      ],
      "metadata": {
        "id": "FbyMVg91LTGK"
      },
      "execution_count": null,
      "outputs": []
    },
    {
      "cell_type": "markdown",
      "source": [
        "**Comparing probabilities of fresh and rotten class**"
      ],
      "metadata": {
        "id": "Bv6ySKkaFsep"
      }
    },
    {
      "cell_type": "code",
      "source": [
        "print(review_probability('fresh','Story inspired by historical events that illustrates the process whereby enemies can become friends..',tot_words))\n",
        "print(review_probability('rotten','Story inspired by historical events that illustrates the process whereby enemies can become friends.',tot_words))"
      ],
      "metadata": {
        "colab": {
          "base_uri": "https://localhost:8080/"
        },
        "id": "TLYGlzBUVm5C",
        "outputId": "fcbcea08-2694-4a20-f4b5-70d94419d8bc"
      },
      "execution_count": null,
      "outputs": [
        {
          "output_type": "stream",
          "name": "stdout",
          "text": [
            "-90.81696932592982\n",
            "-90.7366723250164\n"
          ]
        }
      ]
    },
    {
      "cell_type": "markdown",
      "source": [
        "**Class prediction**"
      ],
      "metadata": {
        "id": "U1r7do57F4m4"
      }
    },
    {
      "cell_type": "code",
      "source": [
        "def predict_class(sentence,n):\n",
        " if review_probability('fresh',sentence,n)*prob_fresh > review_probability('rotten',sentence,n)*prob_rotten:\n",
        "   return \"fresh\"\n",
        " else:\n",
        "    return \"rotten\""
      ],
      "metadata": {
        "id": "9hTd5G8uUEps"
      },
      "execution_count": null,
      "outputs": []
    },
    {
      "cell_type": "code",
      "source": [
        "predict_class('Story inspired by historical events that illustrates the process whereby enemies can become friends.',tot_words)"
      ],
      "metadata": {
        "colab": {
          "base_uri": "https://localhost:8080/",
          "height": 35
        },
        "id": "VN69O_WJg7VN",
        "outputId": "d97014f7-5e00-4d9d-c3f6-c3259cdff0c6"
      },
      "execution_count": null,
      "outputs": [
        {
          "output_type": "execute_result",
          "data": {
            "text/plain": [
              "'fresh'"
            ],
            "application/vnd.google.colaboratory.intrinsic+json": {
              "type": "string"
            }
          },
          "metadata": {},
          "execution_count": 92
        }
      ]
    },
    {
      "cell_type": "markdown",
      "source": [
        "# Deriving top 10 words that predict each class"
      ],
      "metadata": {
        "id": "h-VloQybF7lM"
      }
    },
    {
      "cell_type": "code",
      "source": [
        "def topmost_prob(pos_word):\n",
        "  p={}\n",
        "  for i in range(len(pos_word)):\n",
        "   num=(cond_prob('fresh',pos_word[i],tot_words)*prob_fresh)/word_only_prob(pos_word[i],tot_words)\n",
        "   p[pos_word[i]]=num\n",
        "  return p"
      ],
      "metadata": {
        "id": "4NxIlYVii7Fo"
      },
      "execution_count": null,
      "outputs": []
    },
    {
      "cell_type": "code",
      "source": [
        "def topmost_negprob(neg_word):\n",
        "  p={}\n",
        "  for i in range(len(neg_word)):\n",
        "   num=(cond_prob('rotten',neg_word[i],tot_words)*prob_rotten)/word_only_prob(neg_word[i],tot_words)\n",
        "   p[neg_word[i]]=num\n",
        "  return p"
      ],
      "metadata": {
        "id": "BnphxZPAoa1b"
      },
      "execution_count": null,
      "outputs": []
    },
    {
      "cell_type": "markdown",
      "source": [
        "**Top 10 words that predict P(class=fresh|word)**"
      ],
      "metadata": {
        "id": "N6AGui5PoTFF"
      }
    },
    {
      "cell_type": "code",
      "source": [
        "p=topmost_prob(pos_words)\n",
        "top10_words=sorted(p.items(),key=lambda x:x[1],reverse=True)\n",
        "print(\"Top 10 words         P[class='fresh'|word]\")\n",
        "for i, (k,v) in enumerate(top10_words[:10]):\n",
        " print(k,\"                    \", v)\n"
      ],
      "metadata": {
        "colab": {
          "base_uri": "https://localhost:8080/"
        },
        "id": "qafISNqvj8E9",
        "outputId": "1fb03f56-2983-4ff5-81ff-77c52072a945"
      },
      "execution_count": null,
      "outputs": [
        {
          "output_type": "stream",
          "name": "stdout",
          "text": [
            "Top 10 words         P[class='fresh'|word]\n",
            "unfunny                      0.29834409828958913\n",
            "squanders                      0.29680924429438205\n",
            "lifeless                      0.2876115352987454\n",
            "uninspired                      0.2870750540666716\n",
            "blah                      0.2869810822902157\n",
            "tedious                      0.28675501690198957\n",
            "poorly                      0.2861945304492651\n",
            "halfbaked                      0.2858325846875336\n",
            "pointless                      0.2858253203152856\n",
            "illconceived                      0.28543046581778747\n"
          ]
        }
      ]
    },
    {
      "cell_type": "markdown",
      "source": [
        "**Top 10 words that predict P(class=rotten|word)**"
      ],
      "metadata": {
        "id": "XnVO9y3coioV"
      }
    },
    {
      "cell_type": "code",
      "source": [
        "p=topmost_negprob(neg_words)\n",
        "top10_words=sorted(p.items(),key=lambda x:x[1],reverse=True)\n",
        "print(\"Top 10 words         P[class='rotten'|word]\")\n",
        "for i, (k,v) in enumerate(top10_words[:10]):\n",
        " print(k,\"                    \", v)"
      ],
      "metadata": {
        "colab": {
          "base_uri": "https://localhost:8080/"
        },
        "id": "Z-ZGkwLwol5Y",
        "outputId": "fa30e012-0c64-4cc9-fb67-e3a0febcd42f"
      },
      "execution_count": null,
      "outputs": [
        {
          "output_type": "stream",
          "name": "stdout",
          "text": [
            "Top 10 words         P[class='rotten'|word]\n",
            "pitchperfect                      0.2868990620488518\n",
            "confidently                      0.2849288502824313\n",
            "masterfully                      0.28434176075299195\n",
            "koreeda                      0.2828583939069756\n",
            "refreshingly                      0.2820321235796859\n",
            "heartbreaking                      0.28177312170007285\n",
            "warmhearted                      0.281192651024985\n",
            "splendidly                      0.2807252517177757\n",
            "masterful                      0.28007727794312126\n",
            "mesmerising                      0.28006534976789144\n"
          ]
        }
      ]
    },
    {
      "cell_type": "markdown",
      "source": [
        " **Accuracy on dev dataset**"
      ],
      "metadata": {
        "id": "c7LMKsEtZ95r"
      }
    },
    {
      "cell_type": "code",
      "source": [
        "correct_pred=0\n",
        "incorrect_pred=0\n",
        "freshness=list(dev_set['Freshness'])\n",
        "for i, word in enumerate(list(dev_set['Review'])):\n",
        "  if predict_class(word,tot_words) == freshness[i]:\n",
        "    correct_pred+=1\n",
        "  else:\n",
        "    incorrect_pred+=1"
      ],
      "metadata": {
        "id": "io3KZ0gyZ9Sx"
      },
      "execution_count": null,
      "outputs": []
    },
    {
      "cell_type": "code",
      "source": [
        "print(\"Accuracy on Dev dataset: \",correct_pred/(correct_pred+incorrect_pred))"
      ],
      "metadata": {
        "colab": {
          "base_uri": "https://localhost:8080/"
        },
        "id": "5iPAkVGHahuM",
        "outputId": "6992d2b4-d7a5-4d71-f682-7ea00ede7944"
      },
      "execution_count": null,
      "outputs": [
        {
          "output_type": "stream",
          "name": "stdout",
          "text": [
            "Accuracy on Dev dataset:  0.7924583333333334\n"
          ]
        }
      ]
    },
    {
      "cell_type": "markdown",
      "source": [
        "**Testing on Test dataset**"
      ],
      "metadata": {
        "id": "mQAsFS08pZWP"
      }
    },
    {
      "cell_type": "code",
      "source": [
        "correct_pred=0\n",
        "incorrect_pred=0\n",
        "freshness=list(test_set['Freshness'])\n",
        "for i, word in enumerate(list(test_set['Review'])):\n",
        "  if predict_class(word,tot_words) == freshness[i]:\n",
        "    correct_pred+=1\n",
        "  else:\n",
        "    incorrect_pred+=1"
      ],
      "metadata": {
        "id": "skFd-0UhpjYa"
      },
      "execution_count": null,
      "outputs": []
    },
    {
      "cell_type": "code",
      "source": [
        "print(\"Accuracy on Test dataset: \",correct_pred/(correct_pred+incorrect_pred))"
      ],
      "metadata": {
        "colab": {
          "base_uri": "https://localhost:8080/"
        },
        "id": "P7t8mAyepogo",
        "outputId": "bab6510f-21a9-4b63-c1e3-8c73a220445c"
      },
      "execution_count": null,
      "outputs": [
        {
          "output_type": "stream",
          "name": "stdout",
          "text": [
            "Accuracy on Test dataset:  0.7956547619047619\n"
          ]
        }
      ]
    },
    {
      "cell_type": "markdown",
      "source": [
        "# After removing rare words (occurence<5)"
      ],
      "metadata": {
        "id": "eSQ7DiOGywh6"
      }
    },
    {
      "cell_type": "code",
      "source": [
        "word_dict_copy=word_dict.copy()\n",
        "count=0\n",
        "for i, (k,v) in enumerate(word_dict_copy.items()):\n",
        "  if (v[0]<5 and v[1]<5):\n",
        "    del(k)\n",
        "    count+=1"
      ],
      "metadata": {
        "id": "fevJkML-ywNI"
      },
      "execution_count": null,
      "outputs": []
    },
    {
      "cell_type": "code",
      "source": [
        "print(f\"Total number of rare words: {count}\")\n",
        "no_rarewords=tot_words-count"
      ],
      "metadata": {
        "colab": {
          "base_uri": "https://localhost:8080/"
        },
        "id": "PlWEMDYDy6GZ",
        "outputId": "739929bc-ad37-4fd3-baf6-32b58de4556a"
      },
      "execution_count": null,
      "outputs": [
        {
          "output_type": "stream",
          "name": "stdout",
          "text": [
            "Total number of rare words: 61752\n"
          ]
        }
      ]
    },
    {
      "cell_type": "code",
      "source": [
        "print(f'Total number of words after removing rarewords: {no_rarewords}')"
      ],
      "metadata": {
        "colab": {
          "base_uri": "https://localhost:8080/"
        },
        "id": "AZf8DJwhy64a",
        "outputId": "b25b0713-397b-47b2-aaf3-bdf1216652f5"
      },
      "execution_count": null,
      "outputs": [
        {
          "output_type": "stream",
          "name": "stdout",
          "text": [
            "Total number of words after removing rarewords: 25289\n"
          ]
        }
      ]
    },
    {
      "cell_type": "markdown",
      "source": [
        "**Accuracy on dev dataset**"
      ],
      "metadata": {
        "id": "dQvR_y5aGWQv"
      }
    },
    {
      "cell_type": "code",
      "source": [
        "correct_pred=0\n",
        "incorrect_pred=0\n",
        "freshness=list(dev_set['Freshness'])\n",
        "for i, word in enumerate(list(dev_set['Review'])):\n",
        "  if predict_class(word,no_rarewords) == freshness[i]:\n",
        "    correct_pred+=1\n",
        "  else:\n",
        "    incorrect_pred+=1"
      ],
      "metadata": {
        "id": "1vOda3C82HGL"
      },
      "execution_count": null,
      "outputs": []
    },
    {
      "cell_type": "code",
      "source": [
        "print(\"Accuracy on Dev dataset: \",correct_pred/(correct_pred+incorrect_pred))"
      ],
      "metadata": {
        "colab": {
          "base_uri": "https://localhost:8080/"
        },
        "id": "SCyLVY334l2B",
        "outputId": "c83a462a-56bc-43e9-b1bf-b3bec882e0fa"
      },
      "execution_count": null,
      "outputs": [
        {
          "output_type": "stream",
          "name": "stdout",
          "text": [
            "Accuracy on Dev dataset:  0.7923888888888889\n"
          ]
        }
      ]
    },
    {
      "cell_type": "markdown",
      "source": [
        "**Accuracy on Test dataset**"
      ],
      "metadata": {
        "id": "NRJtaGyvGbcf"
      }
    },
    {
      "cell_type": "code",
      "source": [
        "correct_pred=0\n",
        "incorrect_pred=0\n",
        "freshness=list(test_set['Freshness'])\n",
        "for i, word in enumerate(list(test_set['Review'])):\n",
        "  if predict_class(word,no_rarewords) == freshness[i]:\n",
        "    correct_pred+=1\n",
        "  else:\n",
        "    incorrect_pred+=1"
      ],
      "metadata": {
        "id": "oE1jNrvA4qvx"
      },
      "execution_count": null,
      "outputs": []
    },
    {
      "cell_type": "code",
      "source": [
        "print(\"Accuracy on Test dataset: \",correct_pred/(correct_pred+incorrect_pred))"
      ],
      "metadata": {
        "colab": {
          "base_uri": "https://localhost:8080/"
        },
        "id": "YoFCK1wh4ueo",
        "outputId": "6b45005a-e9c6-4ce9-d2ed-ac81a2b9ff64"
      },
      "execution_count": null,
      "outputs": [
        {
          "output_type": "stream",
          "name": "stdout",
          "text": [
            "Accuracy on Test dataset:  0.7956309523809524\n"
          ]
        }
      ]
    },
    {
      "cell_type": "markdown",
      "source": [
        "# Considering small dataset where total number of words=7000"
      ],
      "metadata": {
        "id": "EVqAAgvgsdp5"
      }
    },
    {
      "cell_type": "markdown",
      "source": [
        "**Selecting first 7000 most frequent occuring words from vocabulary**"
      ],
      "metadata": {
        "id": "GSWhGbW9GluP"
      }
    },
    {
      "cell_type": "code",
      "source": [
        "word_dict = sorted(word_dict.items(),  key=lambda x : x[1][0] + x[1][1], reverse=True)[:7000]"
      ],
      "metadata": {
        "id": "1DKQQRMAsh5p"
      },
      "execution_count": null,
      "outputs": []
    },
    {
      "cell_type": "code",
      "source": [
        "word_dict = defaultdict(lambda: [0, 0], word_dict)"
      ],
      "metadata": {
        "id": "w1nL7InetR8h"
      },
      "execution_count": null,
      "outputs": []
    },
    {
      "cell_type": "markdown",
      "source": [
        "**Dev Accuracy**"
      ],
      "metadata": {
        "id": "VkZROUKgGzb3"
      }
    },
    {
      "cell_type": "code",
      "source": [
        "correct_pred=0\n",
        "incorrect_pred=0\n",
        "freshness=list(dev_set['Freshness'])\n",
        "for i, word in enumerate(list(dev_set['Review'])):\n",
        "  if predict_class(word,15000) == freshness[i]:\n",
        "    correct_pred+=1\n",
        "  else:\n",
        "    incorrect_pred+=1"
      ],
      "metadata": {
        "id": "pKq0-Q4rthup"
      },
      "execution_count": null,
      "outputs": []
    },
    {
      "cell_type": "code",
      "source": [
        "print(\"Accuracy on Dev dataset: \",correct_pred/(correct_pred+incorrect_pred))"
      ],
      "metadata": {
        "colab": {
          "base_uri": "https://localhost:8080/"
        },
        "id": "zrDU_W69ttb4",
        "outputId": "dc3aea96-49ac-4dd4-b614-5dab43e54ef9"
      },
      "execution_count": null,
      "outputs": [
        {
          "output_type": "stream",
          "name": "stdout",
          "text": [
            "Accuracy on Dev dataset:  0.7648194444444445\n"
          ]
        }
      ]
    },
    {
      "cell_type": "markdown",
      "source": [
        "**Test Accuracy**"
      ],
      "metadata": {
        "id": "ROjD9hfnHLS3"
      }
    },
    {
      "cell_type": "code",
      "source": [
        "correct_pred=0\n",
        "incorrect_pred=0\n",
        "freshness=list(test_set['Freshness'])\n",
        "for i, word in enumerate(list(test_set['Review'])):\n",
        "  if predict_class(word,15000) == freshness[i]:\n",
        "    correct_pred+=1\n",
        "  else:\n",
        "    incorrect_pred+=1"
      ],
      "metadata": {
        "id": "AaCBAmgp89M8"
      },
      "execution_count": null,
      "outputs": []
    },
    {
      "cell_type": "code",
      "source": [
        "print(\"Accuracy on Test dataset: \",correct_pred/(correct_pred+incorrect_pred))"
      ],
      "metadata": {
        "colab": {
          "base_uri": "https://localhost:8080/"
        },
        "id": "tgmEzNQM8_n7",
        "outputId": "9b2796e8-f323-43b6-b479-f96b496d97c9"
      },
      "execution_count": null,
      "outputs": [
        {
          "output_type": "stream",
          "name": "stdout",
          "text": [
            "Accuracy on Test dataset:  0.769\n"
          ]
        }
      ]
    },
    {
      "cell_type": "markdown",
      "source": [
        "# Comparing Dev and Test accuracies across different models"
      ],
      "metadata": {
        "id": "T5oVAjRbHOXG"
      }
    },
    {
      "cell_type": "code",
      "source": [
        "import pandas as pd\n",
        "data={'Dev accuracy':[0.5911111111111111,0.7924583333333334, 0.7923888888888889, 0.7648194444444445],\n",
        "      'Test accuracy':[0.5890416666666667,0.7956547619047619, 0.7956309523809524,0.769]}\n",
        "df=pd.DataFrame(data,index=['Before smoothing',\"after smoothing\",\"No rare words\",\"total words=7000\"])\n",
        "print(df)"
      ],
      "metadata": {
        "colab": {
          "base_uri": "https://localhost:8080/"
        },
        "id": "b53qvW2-2ujm",
        "outputId": "efa26061-3742-4606-e915-61c11dc10582"
      },
      "execution_count": null,
      "outputs": [
        {
          "output_type": "stream",
          "name": "stdout",
          "text": [
            "                  Dev accuracy  Test accuracy\n",
            "Before smoothing      0.591111       0.589042\n",
            "after smoothing       0.792458       0.795655\n",
            "No rare words         0.792389       0.795631\n",
            "total words=7000      0.764819       0.769000\n"
          ]
        }
      ]
    },
    {
      "cell_type": "code",
      "source": [
        "accuracies_dev=[0.5911111111111111,0.7924583333333334, 0.7923888888888889, 0.7648194444444445]\n",
        "accuracies_test=[0.5890416666666667,0.7956547619047619, 0.7956309523809524,0.769]\n",
        "types=[\"before smoothing\",\"after smoothing\",\"No rare words\",\"total words=7000\"]\n",
        "import matplotlib.pyplot as plt\n",
        "plt.title(\"Dev accuracy Vs Test accuracy\")\n",
        "plt.plot(types,accuracies_dev,'g',label=\"Dev accuracy\")\n",
        "plt.plot(types,accuracies_test,'orange',label=\"Test accuracy\")\n",
        "plt.xlabel('Model types')\n",
        "plt.ylabel('Accuracies')\n",
        "plt.legend()\n",
        "plt.show()"
      ],
      "metadata": {
        "colab": {
          "base_uri": "https://localhost:8080/",
          "height": 472
        },
        "id": "OmvIn_aw-8-b",
        "outputId": "109c6cd8-18cb-4519-cf62-6f3681fa4f17"
      },
      "execution_count": null,
      "outputs": [
        {
          "output_type": "display_data",
          "data": {
            "text/plain": [
              "<Figure size 640x480 with 1 Axes>"
            ],
            "image/png": "[encoded data removed]"
          },
          "metadata": {}
        }
      ]
    }
  ]
}