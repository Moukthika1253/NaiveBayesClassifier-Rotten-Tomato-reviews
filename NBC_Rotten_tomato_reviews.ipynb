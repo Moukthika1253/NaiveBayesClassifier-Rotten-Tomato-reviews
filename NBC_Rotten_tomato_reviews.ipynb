{
  "nbformat": 4,
  "nbformat_minor": 0,
  "metadata": {
    "colab": {
      "provenance": [],
      "gpuType": "T4",
      "authorship_tag": "ABX9TyMMXlVD1N+fKpXlkYL2adyS",
      "include_colab_link": true
    },
    "kernelspec": {
      "name": "python3",
      "display_name": "Python 3"
    },
    "language_info": {
      "name": "python"
    },
    "gpuClass": "standard"
  },
  "cells": [
    {
      "cell_type": "markdown",
      "metadata": {
        "id": "view-in-github",
        "colab_type": "text"
      },
      "source": [
        "<a href=\"https://colab.research.google.com/github/Moukthika1253/NaiveBayesClassifier-Rotten-Tomato-reviews/blob/main/NBC_Rotten_tomato_reviews.ipynb\" target=\"_parent\"><img src=\"https://colab.research.google.com/assets/colab-badge.svg\" alt=\"Open In Colab\"/></a>"
      ]
    },
    {
      "cell_type": "code",
      "source": [
        "import pandas as pd\n",
        "from sklearn.model_selection import train_test_split\n",
        "import string\n",
        "import nltk\n",
        "from nltk import word_tokenize\n",
        "nltk.download('punkt')\n",
        "nltk.download('wordnet')\n",
        "nltk.download('stopwords')\n",
        "from nltk.corpus import stopwords\n",
        "from nltk.stem import WordNetLemmatizer\n",
        "from collections import defaultdict\n",
        "from nltk.stem import PorterStemmer"
      ],
      "metadata": {
        "id": "O1rkjVHivjZx",
        "colab": {
          "base_uri": "https://localhost:8080/"
        },
        "outputId": "3aba6de2-ef51-4e02-8c69-dfae04387508"
      },
      "execution_count": 32,
      "outputs": [
        {
          "output_type": "stream",
          "name": "stderr",
          "text": [
            "[nltk_data] Downloading package punkt to /root/nltk_data...\n",
            "[nltk_data]   Package punkt is already up-to-date!\n",
            "[nltk_data] Downloading package wordnet to /root/nltk_data...\n",
            "[nltk_data]   Package wordnet is already up-to-date!\n",
            "[nltk_data] Downloading package stopwords to /root/nltk_data...\n",
            "[nltk_data]   Package stopwords is already up-to-date!\n"
          ]
        }
      ]
    },
    {
      "cell_type": "code",
      "source": [
        "rottenTomato_reviews=pd.read_csv('/content/rt_reviews.csv',encoding='latin-1')"
      ],
      "metadata": {
        "id": "bke476NOwqU4"
      },
      "execution_count": 33,
      "outputs": []
    },
    {
      "cell_type": "code",
      "source": [
        "freshness=list(rottenTomato_reviews['Freshness'])\n",
        "pos_reviews=0\n",
        "neg_reviews=0\n",
        "pos_words=0\n",
        "neg_words=0\n",
        "word_dict=defaultdict(lambda:[0,0])"
      ],
      "metadata": {
        "id": "s0Or9Vy5KsTN"
      },
      "execution_count": 34,
      "outputs": []
    },
    {
      "cell_type": "markdown",
      "source": [
        "**Counting total fresh and rotten reviews**"
      ],
      "metadata": {
        "id": "vrXy1qU0A1F2"
      }
    },
    {
      "cell_type": "code",
      "source": [
        "for i in range(len(list(rottenTomato_reviews['Freshness']))):\n",
        "  if freshness[i] == 'fresh':\n",
        "    pos_reviwes=pos_reviews+1\n",
        "  else:\n",
        "    neg_reviews=neg_reviews+1"
      ],
      "metadata": {
        "id": "xqUs1W_qAr32"
      },
      "execution_count": 36,
      "outputs": []
    },
    {
      "cell_type": "markdown",
      "source": [
        " **Pre-processing**"
      ],
      "metadata": {
        "id": "ec_ZlpVCDi-X"
      }
    },
    {
      "cell_type": "code",
      "source": [
        "stop_words=stopwords.words('english')\n",
        "word_lemmatizer=WordNetLemmatizer()\n",
        "stemming=PorterStemmer()\n",
        "for i,review in enumerate(list(rottenTomato_reviews['Review'])):\n",
        " for word in word_tokenize(review):\n",
        "  word=word.lower()\n",
        "  word= word_lemmatizer.lemmatize(word)\n",
        "  word=stemming.stem(word)\n",
        "  if (word not in string.punctuation) and (word not in stop_words):\n",
        "   if freshness[i] == 'fresh':\n",
        "    word_dict[word][1]+=1\n",
        "    pos_words+=1\n",
        "  else:\n",
        "    word_dict[word][0]+=1\n",
        "    neg_words=1"
      ],
      "metadata": {
        "id": "d2C7nplmCvQE"
      },
      "execution_count": 37,
      "outputs": []
    },
    {
      "cell_type": "markdown",
      "source": [
        "**Removing rare words**"
      ],
      "metadata": {
        "id": "womSBSwe3C72"
      }
    },
    {
      "cell_type": "code",
      "source": [
        "dict_copy=word_dict.copy()\n",
        "for k,v in dict_copy.items():\n",
        "  if(v[1]<5):\n",
        "    del[word_dict[k]]"
      ],
      "metadata": {
        "id": "52756wv2xS2d"
      },
      "execution_count": 42,
      "outputs": []
    },
    {
      "cell_type": "code",
      "source": [],
      "metadata": {
        "id": "O2qgdCQO3Hql"
      },
      "execution_count": null,
      "outputs": []
    },
    {
      "cell_type": "markdown",
      "source": [],
      "metadata": {
        "id": "aOhPhM1LQy03"
      }
    }
  ]
}