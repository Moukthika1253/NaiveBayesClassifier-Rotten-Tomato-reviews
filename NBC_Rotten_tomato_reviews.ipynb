{
  "nbformat": 4,
  "nbformat_minor": 0,
  "metadata": {
    "colab": {
      "provenance": [],
      "gpuType": "T4",
      "authorship_tag": "ABX9TyPlq6evUtI9IzWg0w7rckL+",
      "include_colab_link": true
    },
    "kernelspec": {
      "name": "python3",
      "display_name": "Python 3"
    },
    "language_info": {
      "name": "python"
    },
    "gpuClass": "standard"
  },
  "cells": [
    {
      "cell_type": "markdown",
      "metadata": {
        "id": "view-in-github",
        "colab_type": "text"
      },
      "source": [
        "<a href=\"https://colab.research.google.com/github/Moukthika1253/NaiveBayesClassifier-Rotten-Tomato-reviews/blob/main/NBC_Rotten_tomato_reviews.ipynb\" target=\"_parent\"><img src=\"https://colab.research.google.com/assets/colab-badge.svg\" alt=\"Open In Colab\"/></a>"
      ]
    },
    {
      "cell_type": "markdown",
      "source": [
        "# Importing libraries"
      ],
      "metadata": {
        "id": "Uer3WS6JDqQN"
      }
    },
    {
      "cell_type": "code",
      "source": [
        "import pandas as pd\n",
        "from sklearn.model_selection import train_test_split\n",
        "import string,re\n",
        "import nltk\n",
        "from nltk import word_tokenize\n",
        "nltk.download('punkt')\n",
        "nltk.download('wordnet')\n",
        "nltk.download('stopwords')\n",
        "from nltk.corpus import stopwords\n",
        "from nltk.stem import WordNetLemmatizer\n",
        "from collections import defaultdict\n",
        "from nltk.stem import PorterStemmer\n",
        "import math"
      ],
      "metadata": {
        "id": "O1rkjVHivjZx",
        "colab": {
          "base_uri": "https://localhost:8080/"
        },
        "outputId": "fd56cf70-3c90-4a58-a6a0-f4e5d66de7c0"
      },
      "execution_count": 76,
      "outputs": [
        {
          "output_type": "stream",
          "name": "stderr",
          "text": [
            "[nltk_data] Downloading package punkt to /root/nltk_data...\n",
            "[nltk_data]   Package punkt is already up-to-date!\n",
            "[nltk_data] Downloading package wordnet to /root/nltk_data...\n",
            "[nltk_data]   Package wordnet is already up-to-date!\n",
            "[nltk_data] Downloading package stopwords to /root/nltk_data...\n",
            "[nltk_data]   Package stopwords is already up-to-date!\n"
          ]
        }
      ]
    },
    {
      "cell_type": "code",
      "source": [
        "rt_df=pd.read_csv('/content/rt_reviews.csv',encoding='latin-1')"
      ],
      "metadata": {
        "id": "bke476NOwqU4"
      },
      "execution_count": 77,
      "outputs": []
    },
    {
      "cell_type": "markdown",
      "source": [
        "# Splitting data into Train-50%, Dev-20%, Test-30%"
      ],
      "metadata": {
        "id": "03YQSkKmDv2U"
      }
    },
    {
      "cell_type": "code",
      "source": [
        "X_train,X_remaining, y_train, y_remaining= train_test_split(rt_df['Review'],rt_df['Freshness'],train_size=0.5)\n",
        "X_test, X_dev, y_test, y_dev = train_test_split(X_remaining,y_remaining,test_size=0.3)\n",
        "train_set=pd.concat([X_train,y_train],axis=1).reset_index(drop=True)\n",
        "dev_set=pd.concat([X_dev,y_dev],axis=1).reset_index(drop=True)\n",
        "test_set=pd.concat([X_test,y_test],axis=1).reset_index(drop=True)\n",
        "print(f\"Train set size:  \",train_set.size)\n",
        "print(f\"Dev set size:  \",dev_set.size)\n",
        "print(f\"Test set size:  \",test_set.size)"
      ],
      "metadata": {
        "colab": {
          "base_uri": "https://localhost:8080/"
        },
        "id": "B5YIO6oKTbsX",
        "outputId": "c28be6d7-674a-4396-e735-ebf5ca340eb8"
      },
      "execution_count": 78,
      "outputs": [
        {
          "output_type": "stream",
          "name": "stdout",
          "text": [
            "Train set size:   480000\n",
            "Dev set size:   144000\n",
            "Test set size:   336000\n"
          ]
        }
      ]
    },
    {
      "cell_type": "code",
      "source": [
        "train_set.head()"
      ],
      "metadata": {
        "colab": {
          "base_uri": "https://localhost:8080/",
          "height": 206
        },
        "id": "X7Q8nv9QVKGr",
        "outputId": "dc3bc6ae-d0e3-4743-c5b5-8ff86c3b0bfb"
      },
      "execution_count": 79,
      "outputs": [
        {
          "output_type": "execute_result",
          "data": {
            "text/plain": [
              "                                              Review Freshness\n",
              "0   Bio-pics always tailor memories. Yet the welc...     fresh\n",
              "1   \"The Meddler\" is a disappointment after the t...    rotten\n",
              "2   A sappy subplot involving teenage daughter Pa...    rotten\n",
              "3   We're 9 years past the first \"X-Men\" movie an...    rotten\n",
              "4   All in all, the gifted (writer-director Chris...     fresh"
            ],
            "text/html": [
              "\n",
              "  <div id=\"df-ed0dee16-9688-41f3-a6b1-af97b7cba760\">\n",
              "    <div class=\"colab-df-container\">\n",
              "      <div>\n",
              "<style scoped>\n",
              "    .dataframe tbody tr th:only-of-type {\n",
              "        vertical-align: middle;\n",
              "    }\n",
              "\n",
              "    .dataframe tbody tr th {\n",
              "        vertical-align: top;\n",
              "    }\n",
              "\n",
              "    .dataframe thead th {\n",
              "        text-align: right;\n",
              "    }\n",
              "</style>\n",
              "<table border=\"1\" class=\"dataframe\">\n",
              "  <thead>\n",
              "    <tr style=\"text-align: right;\">\n",
              "      <th></th>\n",
              "      <th>Review</th>\n",
              "      <th>Freshness</th>\n",
              "    </tr>\n",
              "  </thead>\n",
              "  <tbody>\n",
              "    <tr>\n",
              "      <th>0</th>\n",
              "      <td>Bio-pics always tailor memories. Yet the welc...</td>\n",
              "      <td>fresh</td>\n",
              "    </tr>\n",
              "    <tr>\n",
              "      <th>1</th>\n",
              "      <td>\"The Meddler\" is a disappointment after the t...</td>\n",
              "      <td>rotten</td>\n",
              "    </tr>\n",
              "    <tr>\n",
              "      <th>2</th>\n",
              "      <td>A sappy subplot involving teenage daughter Pa...</td>\n",
              "      <td>rotten</td>\n",
              "    </tr>\n",
              "    <tr>\n",
              "      <th>3</th>\n",
              "      <td>We're 9 years past the first \"X-Men\" movie an...</td>\n",
              "      <td>rotten</td>\n",
              "    </tr>\n",
              "    <tr>\n",
              "      <th>4</th>\n",
              "      <td>All in all, the gifted (writer-director Chris...</td>\n",
              "      <td>fresh</td>\n",
              "    </tr>\n",
              "  </tbody>\n",
              "</table>\n",
              "</div>\n",
              "      <button class=\"colab-df-convert\" onclick=\"convertToInteractive('df-ed0dee16-9688-41f3-a6b1-af97b7cba760')\"\n",
              "              title=\"Convert this dataframe to an interactive table.\"\n",
              "              style=\"display:none;\">\n",
              "        \n",
              "  <svg xmlns=\"http://www.w3.org/2000/svg\" height=\"24px\"viewBox=\"0 0 24 24\"\n",
              "       width=\"24px\">\n",
              "    <path d=\"M0 0h24v24H0V0z\" fill=\"none\"/>\n",
              "    <path d=\"M18.56 5.44l.94 2.06.94-2.06 2.06-.94-2.06-.94-.94-2.06-.94 2.06-2.06.94zm-11 1L8.5 8.5l.94-2.06 2.06-.94-2.06-.94L8.5 2.5l-.94 2.06-2.06.94zm10 10l.94 2.06.94-2.06 2.06-.94-2.06-.94-.94-2.06-.94 2.06-2.06.94z\"/><path d=\"M17.41 7.96l-1.37-1.37c-.4-.4-.92-.59-1.43-.59-.52 0-1.04.2-1.43.59L10.3 9.45l-7.72 7.72c-.78.78-.78 2.05 0 2.83L4 21.41c.39.39.9.59 1.41.59.51 0 1.02-.2 1.41-.59l7.78-7.78 2.81-2.81c.8-.78.8-2.07 0-2.86zM5.41 20L4 18.59l7.72-7.72 1.47 1.35L5.41 20z\"/>\n",
              "  </svg>\n",
              "      </button>\n",
              "      \n",
              "  <style>\n",
              "    .colab-df-container {\n",
              "      display:flex;\n",
              "      flex-wrap:wrap;\n",
              "      gap: 12px;\n",
              "    }\n",
              "\n",
              "    .colab-df-convert {\n",
              "      background-color: #E8F0FE;\n",
              "      border: none;\n",
              "      border-radius: 50%;\n",
              "      cursor: pointer;\n",
              "      display: none;\n",
              "      fill: #1967D2;\n",
              "      height: 32px;\n",
              "      padding: 0 0 0 0;\n",
              "      width: 32px;\n",
              "    }\n",
              "\n",
              "    .colab-df-convert:hover {\n",
              "      background-color: #E2EBFA;\n",
              "      box-shadow: 0px 1px 2px rgba(60, 64, 67, 0.3), 0px 1px 3px 1px rgba(60, 64, 67, 0.15);\n",
              "      fill: #174EA6;\n",
              "    }\n",
              "\n",
              "    [theme=dark] .colab-df-convert {\n",
              "      background-color: #3B4455;\n",
              "      fill: #D2E3FC;\n",
              "    }\n",
              "\n",
              "    [theme=dark] .colab-df-convert:hover {\n",
              "      background-color: #434B5C;\n",
              "      box-shadow: 0px 1px 3px 1px rgba(0, 0, 0, 0.15);\n",
              "      filter: drop-shadow(0px 1px 2px rgba(0, 0, 0, 0.3));\n",
              "      fill: #FFFFFF;\n",
              "    }\n",
              "  </style>\n",
              "\n",
              "      <script>\n",
              "        const buttonEl =\n",
              "          document.querySelector('#df-ed0dee16-9688-41f3-a6b1-af97b7cba760 button.colab-df-convert');\n",
              "        buttonEl.style.display =\n",
              "          google.colab.kernel.accessAllowed ? 'block' : 'none';\n",
              "\n",
              "        async function convertToInteractive(key) {\n",
              "          const element = document.querySelector('#df-ed0dee16-9688-41f3-a6b1-af97b7cba760');\n",
              "          const dataTable =\n",
              "            await google.colab.kernel.invokeFunction('convertToInteractive',\n",
              "                                                     [key], {});\n",
              "          if (!dataTable) return;\n",
              "\n",
              "          const docLinkHtml = 'Like what you see? Visit the ' +\n",
              "            '<a target=\"_blank\" href=https://colab.research.google.com/notebooks/data_table.ipynb>data table notebook</a>'\n",
              "            + ' to learn more about interactive tables.';\n",
              "          element.innerHTML = '';\n",
              "          dataTable['output_type'] = 'display_data';\n",
              "          await google.colab.output.renderOutput(dataTable, element);\n",
              "          const docLink = document.createElement('div');\n",
              "          docLink.innerHTML = docLinkHtml;\n",
              "          element.appendChild(docLink);\n",
              "        }\n",
              "      </script>\n",
              "    </div>\n",
              "  </div>\n",
              "  "
            ]
          },
          "metadata": {},
          "execution_count": 79
        }
      ]
    },
    {
      "cell_type": "markdown",
      "source": [
        "# Pre-processing"
      ],
      "metadata": {
        "id": "ec_ZlpVCDi-X"
      }
    },
    {
      "cell_type": "code",
      "source": [
        "def preprocessing(review):\n",
        "  stop_words=stopwords.words('english')\n",
        "  word_lemmatizer=WordNetLemmatizer()\n",
        "  tokenized_words=[(word) for word in word_tokenize(review)]\n",
        "  words=[word.lower() for word in tokenized_words if word.lower() not in stop_words]\n",
        "  for i in range(len(words)):\n",
        "   words[i]=''.join([word for word in words[i] if word not in (string.punctuation)])\n",
        "  no_emptywords=[word for word in words if word]\n",
        "  no_extraspace=[re.sub(r'\\s\\s+', '',word) for word in no_emptywords]\n",
        "  lemmatized_words=[word_lemmatizer.lemmatize(word) for word in no_extraspace]\n",
        "  return lemmatized_words \n",
        "  "
      ],
      "metadata": {
        "id": "d2C7nplmCvQE"
      },
      "execution_count": 80,
      "outputs": []
    },
    {
      "cell_type": "code",
      "source": [
        "train_set['Review']=train_set['Review'].apply(preprocessing)\n",
        "train_set.head()"
      ],
      "metadata": {
        "id": "jBnj-_3DOtnA",
        "colab": {
          "base_uri": "https://localhost:8080/",
          "height": 206
        },
        "outputId": "dc38206a-848d-4706-ea7e-8dbb2c658fc2"
      },
      "execution_count": 81,
      "outputs": [
        {
          "output_type": "execute_result",
          "data": {
            "text/plain": [
              "                                              Review Freshness\n",
              "0  [biopics, always, tailor, memory, yet, welcome...     fresh\n",
              "1  [meddler, disappointment, talent, scafaria, de...    rotten\n",
              "2  [sappy, subplot, involving, teenage, daughter,...    rotten\n",
              "3  [re, 9, year, past, first, xmen, movie, comput...    rotten\n",
              "4  [gifted, writerdirector, christopher, nolan, s...     fresh"
            ],
            "text/html": [
              "\n",
              "  <div id=\"df-040c90e1-8754-4714-859e-7f323ea0e4d3\">\n",
              "    <div class=\"colab-df-container\">\n",
              "      <div>\n",
              "<style scoped>\n",
              "    .dataframe tbody tr th:only-of-type {\n",
              "        vertical-align: middle;\n",
              "    }\n",
              "\n",
              "    .dataframe tbody tr th {\n",
              "        vertical-align: top;\n",
              "    }\n",
              "\n",
              "    .dataframe thead th {\n",
              "        text-align: right;\n",
              "    }\n",
              "</style>\n",
              "<table border=\"1\" class=\"dataframe\">\n",
              "  <thead>\n",
              "    <tr style=\"text-align: right;\">\n",
              "      <th></th>\n",
              "      <th>Review</th>\n",
              "      <th>Freshness</th>\n",
              "    </tr>\n",
              "  </thead>\n",
              "  <tbody>\n",
              "    <tr>\n",
              "      <th>0</th>\n",
              "      <td>[biopics, always, tailor, memory, yet, welcome...</td>\n",
              "      <td>fresh</td>\n",
              "    </tr>\n",
              "    <tr>\n",
              "      <th>1</th>\n",
              "      <td>[meddler, disappointment, talent, scafaria, de...</td>\n",
              "      <td>rotten</td>\n",
              "    </tr>\n",
              "    <tr>\n",
              "      <th>2</th>\n",
              "      <td>[sappy, subplot, involving, teenage, daughter,...</td>\n",
              "      <td>rotten</td>\n",
              "    </tr>\n",
              "    <tr>\n",
              "      <th>3</th>\n",
              "      <td>[re, 9, year, past, first, xmen, movie, comput...</td>\n",
              "      <td>rotten</td>\n",
              "    </tr>\n",
              "    <tr>\n",
              "      <th>4</th>\n",
              "      <td>[gifted, writerdirector, christopher, nolan, s...</td>\n",
              "      <td>fresh</td>\n",
              "    </tr>\n",
              "  </tbody>\n",
              "</table>\n",
              "</div>\n",
              "      <button class=\"colab-df-convert\" onclick=\"convertToInteractive('df-040c90e1-8754-4714-859e-7f323ea0e4d3')\"\n",
              "              title=\"Convert this dataframe to an interactive table.\"\n",
              "              style=\"display:none;\">\n",
              "        \n",
              "  <svg xmlns=\"http://www.w3.org/2000/svg\" height=\"24px\"viewBox=\"0 0 24 24\"\n",
              "       width=\"24px\">\n",
              "    <path d=\"M0 0h24v24H0V0z\" fill=\"none\"/>\n",
              "    <path d=\"M18.56 5.44l.94 2.06.94-2.06 2.06-.94-2.06-.94-.94-2.06-.94 2.06-2.06.94zm-11 1L8.5 8.5l.94-2.06 2.06-.94-2.06-.94L8.5 2.5l-.94 2.06-2.06.94zm10 10l.94 2.06.94-2.06 2.06-.94-2.06-.94-.94-2.06-.94 2.06-2.06.94z\"/><path d=\"M17.41 7.96l-1.37-1.37c-.4-.4-.92-.59-1.43-.59-.52 0-1.04.2-1.43.59L10.3 9.45l-7.72 7.72c-.78.78-.78 2.05 0 2.83L4 21.41c.39.39.9.59 1.41.59.51 0 1.02-.2 1.41-.59l7.78-7.78 2.81-2.81c.8-.78.8-2.07 0-2.86zM5.41 20L4 18.59l7.72-7.72 1.47 1.35L5.41 20z\"/>\n",
              "  </svg>\n",
              "      </button>\n",
              "      \n",
              "  <style>\n",
              "    .colab-df-container {\n",
              "      display:flex;\n",
              "      flex-wrap:wrap;\n",
              "      gap: 12px;\n",
              "    }\n",
              "\n",
              "    .colab-df-convert {\n",
              "      background-color: #E8F0FE;\n",
              "      border: none;\n",
              "      border-radius: 50%;\n",
              "      cursor: pointer;\n",
              "      display: none;\n",
              "      fill: #1967D2;\n",
              "      height: 32px;\n",
              "      padding: 0 0 0 0;\n",
              "      width: 32px;\n",
              "    }\n",
              "\n",
              "    .colab-df-convert:hover {\n",
              "      background-color: #E2EBFA;\n",
              "      box-shadow: 0px 1px 2px rgba(60, 64, 67, 0.3), 0px 1px 3px 1px rgba(60, 64, 67, 0.15);\n",
              "      fill: #174EA6;\n",
              "    }\n",
              "\n",
              "    [theme=dark] .colab-df-convert {\n",
              "      background-color: #3B4455;\n",
              "      fill: #D2E3FC;\n",
              "    }\n",
              "\n",
              "    [theme=dark] .colab-df-convert:hover {\n",
              "      background-color: #434B5C;\n",
              "      box-shadow: 0px 1px 3px 1px rgba(0, 0, 0, 0.15);\n",
              "      filter: drop-shadow(0px 1px 2px rgba(0, 0, 0, 0.3));\n",
              "      fill: #FFFFFF;\n",
              "    }\n",
              "  </style>\n",
              "\n",
              "      <script>\n",
              "        const buttonEl =\n",
              "          document.querySelector('#df-040c90e1-8754-4714-859e-7f323ea0e4d3 button.colab-df-convert');\n",
              "        buttonEl.style.display =\n",
              "          google.colab.kernel.accessAllowed ? 'block' : 'none';\n",
              "\n",
              "        async function convertToInteractive(key) {\n",
              "          const element = document.querySelector('#df-040c90e1-8754-4714-859e-7f323ea0e4d3');\n",
              "          const dataTable =\n",
              "            await google.colab.kernel.invokeFunction('convertToInteractive',\n",
              "                                                     [key], {});\n",
              "          if (!dataTable) return;\n",
              "\n",
              "          const docLinkHtml = 'Like what you see? Visit the ' +\n",
              "            '<a target=\"_blank\" href=https://colab.research.google.com/notebooks/data_table.ipynb>data table notebook</a>'\n",
              "            + ' to learn more about interactive tables.';\n",
              "          element.innerHTML = '';\n",
              "          dataTable['output_type'] = 'display_data';\n",
              "          await google.colab.output.renderOutput(dataTable, element);\n",
              "          const docLink = document.createElement('div');\n",
              "          docLink.innerHTML = docLinkHtml;\n",
              "          element.appendChild(docLink);\n",
              "        }\n",
              "      </script>\n",
              "    </div>\n",
              "  </div>\n",
              "  "
            ]
          },
          "metadata": {},
          "execution_count": 81
        }
      ]
    },
    {
      "cell_type": "markdown",
      "source": [
        "**Calculating Total number of words in Vocab**"
      ],
      "metadata": {
        "id": "jV3kyVbq52LS"
      }
    },
    {
      "cell_type": "code",
      "source": [
        "review_list=[]\n",
        "for i,review in train_set['Review'].items():\n",
        "  for word in review:\n",
        "    review_list.append(word)\n",
        "review_list=list(set(review_list))\n",
        "tot_words=len(review_list)\n",
        "print(f\"total number of words in the list: {tot_words}\")"
      ],
      "metadata": {
        "colab": {
          "base_uri": "https://localhost:8080/"
        },
        "id": "lpflUwk3lSrc",
        "outputId": "48f16c99-f743-4510-ecc1-770e9880116b"
      },
      "execution_count": 141,
      "outputs": [
        {
          "output_type": "stream",
          "name": "stdout",
          "text": [
            "total number of words in the list: 86811\n"
          ]
        }
      ]
    },
    {
      "cell_type": "code",
      "source": [
        "pos_reviews=0\n",
        "neg_reviews=0\n",
        "num_pos_words=0\n",
        "num_neg_words=0\n",
        "pos_words=[]\n",
        "neg_words=[]\n",
        "word_dict=defaultdict(lambda:[0,0])\n",
        "freshness=list(train_set['Freshness'])"
      ],
      "metadata": {
        "id": "Fglk849bWDzp"
      },
      "execution_count": 83,
      "outputs": []
    },
    {
      "cell_type": "markdown",
      "source": [
        "# Calculating word frequencies for each word in fresh and rotten review"
      ],
      "metadata": {
        "id": "wukT4UXZEMm6"
      }
    },
    {
      "cell_type": "code",
      "source": [
        "for i, review in enumerate(list(train_set['Review'])):\n",
        "  if  freshness[i] == 'fresh':\n",
        "    pos_reviews=pos_reviews+1\n",
        "  else:\n",
        "    neg_reviews=neg_reviews+1\n",
        "  for word in (review):\n",
        "    if freshness[i] == 'fresh':\n",
        "      word_dict[word][1]+=1\n",
        "      num_pos_words+=1\n",
        "      pos_words.append(word)\n",
        "    else:\n",
        "      word_dict[word][0]+=1\n",
        "      num_neg_words+=1\n",
        "      neg_words.append(word)"
      ],
      "metadata": {
        "id": "4Xdv4zCJWIrm"
      },
      "execution_count": 84,
      "outputs": []
    },
    {
      "cell_type": "code",
      "source": [
        "(word_dict)"
      ],
      "metadata": {
        "colab": {
          "base_uri": "https://localhost:8080/"
        },
        "id": "EFVyjXoU8ozK",
        "outputId": "7cdc4c00-186c-48a0-813f-230e292ff60f"
      },
      "execution_count": 85,
      "outputs": [
        {
          "output_type": "execute_result",
          "data": {
            "text/plain": [
              "defaultdict(<function __main__.<lambda>()>,\n",
              "            {'biopics': [43, 39],\n",
              "             'always': [731, 1278],\n",
              "             'tailor': [14, 20],\n",
              "             'memory': [347, 513],\n",
              "             'yet': [1656, 2228],\n",
              "             'welcome': [328, 520],\n",
              "             'surprise': [471, 797],\n",
              "             'kutcher': [54, 23],\n",
              "             'barefoot': [1, 2],\n",
              "             'rebel': [40, 42],\n",
              "             'brought': [180, 230],\n",
              "             'spirit': [347, 685],\n",
              "             'psychedelia': [3, 9],\n",
              "             'technology': [104, 188],\n",
              "             'meddler': [2, 9],\n",
              "             'disappointment': [441, 96],\n",
              "             'talent': [808, 715],\n",
              "             'scafaria': [10, 1],\n",
              "             'demonstrated': [22, 7],\n",
              "             '2012': [77, 73],\n",
              "             'feature': [1194, 1354],\n",
              "             'debut': [346, 852],\n",
              "             'seeking': [65, 120],\n",
              "             'friend': [388, 368],\n",
              "             'end': [3100, 2051],\n",
              "             'world': [1585, 2788],\n",
              "             'sappy': [125, 38],\n",
              "             'subplot': [83, 32],\n",
              "             'involving': [245, 258],\n",
              "             'teenage': [211, 183],\n",
              "             'daughter': [123, 116],\n",
              "             'paulina': [3, 4],\n",
              "             'prom': [21, 3],\n",
              "             'date': [302, 384],\n",
              "             'clichï¿½ï¿½': [173, 70],\n",
              "             'far': [1879, 1637],\n",
              "             'movie': [19049, 15282],\n",
              "             'make': [6647, 6974],\n",
              "             'rather': [1766, 1219],\n",
              "             'much': [6797, 4218],\n",
              "             'reference': [219, 208],\n",
              "             'exorcist': [54, 30],\n",
              "             'poltergeist': [34, 14],\n",
              "             'car': [435, 284],\n",
              "             're': [2622, 2198],\n",
              "             '9': [82, 58],\n",
              "             'year': [1874, 3650],\n",
              "             'past': [607, 760],\n",
              "             'first': [2404, 2577],\n",
              "             'xmen': [118, 113],\n",
              "             'computerdriven': [1, 1],\n",
              "             'effect': [1375, 1225],\n",
              "             'improved': [45, 38],\n",
              "             'possible': [439, 369],\n",
              "             'wolverine': [62, 80],\n",
              "             's': [47960, 50454],\n",
              "             'metallic': [23, 2],\n",
              "             'claw': [25, 16],\n",
              "             'looked': [93, 63],\n",
              "             'worse': [687, 187],\n",
              "             'gifted': [90, 145],\n",
              "             'writerdirector': [512, 683],\n",
              "             'christopher': [107, 178],\n",
              "             'nolan': [53, 197],\n",
              "             'latest': [610, 440],\n",
              "             'epic': [489, 707],\n",
              "             'typically': [95, 84],\n",
              "             'wellconstructed': [10, 22],\n",
              "             'despite': [1728, 1300],\n",
              "             'plot': [2875, 1417],\n",
              "             'hole': [337, 153],\n",
              "             'beautiful': [464, 1265],\n",
              "             'look': [2449, 2602],\n",
              "             'm': [1044, 756],\n",
              "             'actually': [994, 875],\n",
              "             'tempted': [32, 24],\n",
              "             'go': [2927, 2349],\n",
              "             'back': [1447, 1472],\n",
              "             'give': [1622, 2256],\n",
              "             'extra': [131, 107],\n",
              "             'star': [1561, 1742],\n",
              "             'film': [19827, 24190],\n",
              "             'thought': [632, 494],\n",
              "             'horrible': [212, 47],\n",
              "             'fifty': [107, 44],\n",
              "             'shade': [152, 92],\n",
              "             'darker': [111, 178],\n",
              "             'nt': [17011, 10123],\n",
              "             'know': [1821, 1679],\n",
              "             'would': [3928, 2210],\n",
              "             'prominent': [26, 24],\n",
              "             'piece': [1222, 1645],\n",
              "             'lowbudget': [146, 140],\n",
              "             'filmmaking': [542, 943],\n",
              "             'appeared': [29, 18],\n",
              "             'decade': [257, 405],\n",
              "             'ago': [276, 186],\n",
              "             'genre': [1228, 1852],\n",
              "             'tired': [474, 98],\n",
              "             'glorification': [15, 6],\n",
              "             'violent': [368, 413],\n",
              "             'criminal': [123, 129],\n",
              "             'prosaic': [36, 10],\n",
              "             'rate': [50, 79],\n",
              "             'simply': [1071, 754],\n",
              "             'alsoran': [18, 3],\n",
              "             'everest': [7, 15],\n",
              "             'showing': [201, 267],\n",
              "             'mountain': [115, 138],\n",
              "             'conquers': [8, 14],\n",
              "             'man': [1596, 2261],\n",
              "             'never': [4210, 2901],\n",
              "             'explains': [42, 28],\n",
              "             'torturous': [33, 6],\n",
              "             'trek': [72, 149],\n",
              "             'appeal': [444, 505],\n",
              "             'monstrous': [19, 21],\n",
              "             'himalayan': [4, 1],\n",
              "             'peak': [71, 105],\n",
              "             'dwarfing': [1, 0],\n",
              "             'human': [851, 1671],\n",
              "             'story': [6887, 7855],\n",
              "             'struggling': [98, 107],\n",
              "             'air': [350, 311],\n",
              "             'formula': [444, 341],\n",
              "             'filmmaker': [1447, 1597],\n",
              "             'shellac': [2, 0],\n",
              "             'subject': [799, 1119],\n",
              "             'increasingly': [290, 201],\n",
              "             'obvious': [703, 347],\n",
              "             'heartbreak': [24, 85],\n",
              "             'like': [10531, 7340],\n",
              "             'brock': [3, 0],\n",
              "             'relationship': [446, 782],\n",
              "             'venom': [62, 17],\n",
              "             'exists': [142, 96],\n",
              "             'constant': [146, 146],\n",
              "             'turmoil': [29, 54],\n",
              "             'dueling': [13, 7],\n",
              "             'desire': [195, 249],\n",
              "             'simultaneously': [111, 162],\n",
              "             'formulaic': [444, 191],\n",
              "             'spontaneous': [25, 30],\n",
              "             'jazzhead': [0, 1],\n",
              "             'drawn': [151, 158],\n",
              "             'empathize': [25, 12],\n",
              "             'documentary': [634, 2341],\n",
              "             'keep': [1282, 1876],\n",
              "             'keepin': [2, 3],\n",
              "             'kickass': [60, 72],\n",
              "             'ultrafunny': [0, 2],\n",
              "             'ultrasilly': [3, 2],\n",
              "             'ultrageeky': [0, 2],\n",
              "             'mostly': [997, 701],\n",
              "             'monumentally': [19, 14],\n",
              "             'cool': [407, 400],\n",
              "             'kid': [1172, 1180],\n",
              "             'swearing': [27, 23],\n",
              "             'amusing': [502, 453],\n",
              "             'inventive': [118, 383],\n",
              "             'filled': [320, 482],\n",
              "             'personal': [285, 778],\n",
              "             'vignette': [49, 45],\n",
              "             'famouspeople': [0, 1],\n",
              "             'testimonial': [14, 14],\n",
              "             'many': [2696, 2279],\n",
              "             'narrative': [1460, 1148],\n",
              "             'digression': [17, 20],\n",
              "             'moving': [259, 1237],\n",
              "             'portrait': [276, 1276],\n",
              "             'alltoohuman': [3, 8],\n",
              "             'personality': [300, 306],\n",
              "             'dogged': [20, 28],\n",
              "             'optimism': [19, 79],\n",
              "             'going': [1651, 1111],\n",
              "             'tailormade': [18, 23],\n",
              "             'shroff': [5, 1],\n",
              "             'disappoint': [63, 94],\n",
              "             'executes': [9, 21],\n",
              "             'kick': [184, 243],\n",
              "             'fluidity': [9, 31],\n",
              "             'grace': [225, 375],\n",
              "             'dancer': [42, 50],\n",
              "             'toughest': [9, 16],\n",
              "             'sequence': [798, 739],\n",
              "             'scarily': [6, 15],\n",
              "             'easy': [520, 925],\n",
              "             'american': [1006, 1489],\n",
              "             'version': [928, 642],\n",
              "             'moody': [90, 92],\n",
              "             'muddy': [48, 13],\n",
              "             'expression': [100, 122],\n",
              "             'probably': [1011, 735],\n",
              "             'worth': [917, 1493],\n",
              "             'seeing': [395, 648],\n",
              "             'anyway': [90, 91],\n",
              "             'production': [785, 551],\n",
              "             'situation': [354, 403],\n",
              "             'character': [6323, 5263],\n",
              "             'shakespeare': [128, 105],\n",
              "             'advertising': [30, 18],\n",
              "             'truth': [417, 592],\n",
              "             'seems': [2387, 1139],\n",
              "             'fairly': [320, 278],\n",
              "             'rabid': [16, 6],\n",
              "             'cult': [169, 247],\n",
              "             'following': [168, 131],\n",
              "             'quirky': [180, 280],\n",
              "             'claymation': [4, 13],\n",
              "             'wallace': [32, 31],\n",
              "             'gromit': [8, 16],\n",
              "             'count': [217, 162],\n",
              "             'chaotic': [126, 99],\n",
              "             'mess': [1113, 174],\n",
              "             'mavis': [1, 8],\n",
              "             'entirely': [575, 496],\n",
              "             'irredeemable': [19, 7],\n",
              "             'perfectly': [197, 621],\n",
              "             'balancing': [20, 97],\n",
              "             'credibility': [129, 64],\n",
              "             'mental': [88, 127],\n",
              "             'instability': [5, 15],\n",
              "             'theron': [46, 94],\n",
              "             'surprising': [197, 480],\n",
              "             'depth': [491, 507],\n",
              "             'stay': [318, 380],\n",
              "             'pleasant': [212, 336],\n",
              "             'moretz': [24, 21],\n",
              "             'convincing': [230, 293],\n",
              "             'delivering': [127, 215],\n",
              "             'performance': [2587, 5957],\n",
              "             'overcomes': [21, 58],\n",
              "             'moment': [2243, 2487],\n",
              "             'could': [3502, 2504],\n",
              "             'easily': [428, 611],\n",
              "             'spiraled': [0, 1],\n",
              "             'lifetime': [116, 71],\n",
              "             'movielevel': [2, 1],\n",
              "             'melodrama': [602, 444],\n",
              "             'dumb': [636, 220],\n",
              "             'dumberer': [16, 0],\n",
              "             'worst': [1332, 240],\n",
              "             'offence': [5, 4],\n",
              "             'constantly': [178, 143],\n",
              "             'reminds': [58, 209],\n",
              "             'funnier': [198, 186],\n",
              "             'original': [1609, 1697],\n",
              "             'watching': [1474, 1079],\n",
              "             'stoner': [51, 38],\n",
              "             'reenacting': [6, 1],\n",
              "             'monty': [33, 29],\n",
              "             'python': [31, 34],\n",
              "             'getting': [590, 442],\n",
              "             'joke': [1441, 604],\n",
              "             'totally': [273, 218],\n",
              "             'wrong': [818, 340],\n",
              "             'ending': [790, 620],\n",
              "             'indeed': [262, 281],\n",
              "             'happy': [353, 455],\n",
              "             'intended': [276, 99],\n",
              "             'manner': [179, 246],\n",
              "             'moviegoer': [174, 170],\n",
              "             'become': [623, 667],\n",
              "             'enthusiastic': [31, 40],\n",
              "             'voyeur': [7, 7],\n",
              "             'engaging': [401, 1001],\n",
              "             'love': [1962, 3252],\n",
              "             'affair': [402, 220],\n",
              "             'reconciliation': [23, 32],\n",
              "             'finally': [514, 503],\n",
              "             'exist': [178, 107],\n",
              "             'place': [1109, 1325],\n",
              "             'perhaps': [861, 767],\n",
              "             'bad': [3544, 1044],\n",
              "             'kept': [143, 114],\n",
              "             'conflict': [283, 226],\n",
              "             'latent': [3, 6],\n",
              "             'dangerous': [123, 160],\n",
              "             'full': [3003, 4342],\n",
              "             'review': [2373, 3331],\n",
              "             'spanish': [1870, 2928],\n",
              "             'underwhelming': [297, 34],\n",
              "             'alien': [322, 301],\n",
              "             'comedy': [4511, 4036],\n",
              "             'suggestive': [18, 22],\n",
              "             'humor': [1062, 1376],\n",
              "             'flick': [985, 781],\n",
              "             'girlpower': [6, 6],\n",
              "             'aesthetic': [205, 202],\n",
              "             'frequently': [203, 254],\n",
              "             'get': [4206, 3482],\n",
              "             'lost': [857, 587],\n",
              "             'madcap': [26, 43],\n",
              "             'shuffle': [25, 12],\n",
              "             'elaborate': [130, 91],\n",
              "             'hightech': [36, 36],\n",
              "             'adventure': [577, 1078],\n",
              "             'beyond': [733, 640],\n",
              "             'capability': [4, 16],\n",
              "             'actual': [381, 178],\n",
              "             'teen': [513, 544],\n",
              "             'leah': [4, 3],\n",
              "             'meyerhoff': [1, 2],\n",
              "             'explained': [28, 22],\n",
              "             'difficult': [420, 464],\n",
              "             'casting': [237, 221],\n",
              "             'davina': [1, 0],\n",
              "             'team': [297, 367],\n",
              "             'went': [259, 133],\n",
              "             'hundred': [73, 57],\n",
              "             'actress': [292, 433],\n",
              "             'found': [596, 546],\n",
              "             'dyer': [7, 2],\n",
              "             'wish': [602, 326],\n",
              "             'put': [877, 919],\n",
              "             'effort': [1167, 710],\n",
              "             'writing': [443, 343],\n",
              "             'coherent': [211, 84],\n",
              "             'script': [2467, 1265],\n",
              "             'talented': [471, 324],\n",
              "             'actor': [1774, 1833],\n",
              "             'unfortunately': [1175, 110],\n",
              "             'layer': [97, 220],\n",
              "             'upon': [307, 287],\n",
              "             'intrigue': [136, 171],\n",
              "             'gradually': [88, 101],\n",
              "             'stripped': [70, 36],\n",
              "             'away': [1027, 983],\n",
              "             'left': [1087, 519],\n",
              "             'middle': [326, 311],\n",
              "             'begin': [652, 328],\n",
              "             'evermore': [5, 3],\n",
              "             'unappealing': [68, 4],\n",
              "             'enjoy': [476, 783],\n",
              "             'heist': [146, 170],\n",
              "             'con': [86, 105],\n",
              "             'doublecrosses': [14, 6],\n",
              "             'satisfy': [118, 142],\n",
              "             'one': [9029, 10813],\n",
              "             'powerful': [228, 1171],\n",
              "             'emotional': [1033, 1581],\n",
              "             'ever': [1501, 1938],\n",
              "             'seen': [1233, 1452],\n",
              "             'crafting': [39, 39],\n",
              "             'meditation': [55, 231],\n",
              "             'men': [643, 796],\n",
              "             'answer': [278, 346],\n",
              "             'call': [578, 555],\n",
              "             'wild': [314, 385],\n",
              "             'sean': [69, 81],\n",
              "             'penn': [78, 93],\n",
              "             'adaptation': [739, 650],\n",
              "             'heavy': [315, 256],\n",
              "             'mood': [249, 427],\n",
              "             'ambiance': [9, 19],\n",
              "             'sadly': [501, 89],\n",
              "             'lacking': [578, 135],\n",
              "             'giving': [255, 392],\n",
              "             'wider': [24, 57],\n",
              "             'comparison': [203, 136],\n",
              "             'focus': [474, 516],\n",
              "             'fully': [385, 418],\n",
              "             'mccandless': [3, 5],\n",
              "             'may': [2390, 3250],\n",
              "             'scrutiny': [30, 23],\n",
              "             'frederick': [3, 30],\n",
              "             'wiseman': [20, 78],\n",
              "             '85': [39, 20],\n",
              "             'made': [2512, 2430],\n",
              "             'politically': [70, 92],\n",
              "             'engaged': [77, 112],\n",
              "             'people': [1996, 1961],\n",
              "             'confronting': [14, 39],\n",
              "             'gentrification': [5, 14],\n",
              "             'robbing': [19, 6],\n",
              "             'ny': [2, 6],\n",
              "             'soul': [384, 534],\n",
              "             'great': [1897, 3667],\n",
              "             'work': [2700, 4581],\n",
              "             'greatest': [236, 509],\n",
              "             'although': [762, 863],\n",
              "             'better': [2950, 2006],\n",
              "             'wrap': [58, 77],\n",
              "             'bit': [1503, 1531],\n",
              "             'neatly': [33, 83],\n",
              "             'offer': [1105, 1254],\n",
              "             'tough': [202, 334],\n",
              "             'question': [678, 773],\n",
              "             'embedded': [13, 29],\n",
              "             'revenge': [275, 272],\n",
              "             'forgiveness': [32, 66],\n",
              "             'everything': [1263, 1006],\n",
              "             'semiaudacious': [0, 2],\n",
              "             'challenge': [141, 296],\n",
              "             'dream': [319, 640],\n",
              "             'weitz': [33, 22],\n",
              "             'consistently': [157, 340],\n",
              "             'amusingly': [20, 49],\n",
              "             'hit': [755, 929],\n",
              "             'broad': [254, 203],\n",
              "             'side': [468, 679],\n",
              "             'barn': [10, 4],\n",
              "             'detroit': [23, 31],\n",
              "             'refuse': [91, 155],\n",
              "             'denounces': [2, 1],\n",
              "             'social': [429, 714],\n",
              "             'bright': [194, 235],\n",
              "             'breezy': [61, 207],\n",
              "             'real': [1842, 1925],\n",
              "             'sense': [1824, 1841],\n",
              "             'comiccon': [2, 6],\n",
              "             'without': [2204, 1928],\n",
              "             'hassle': [4, 3],\n",
              "             'credit': [459, 478],\n",
              "             'streep': [113, 150],\n",
              "             'quinn': [17, 16],\n",
              "             'integrity': [47, 89],\n",
              "             'dark': [828, 1297],\n",
              "             'matter': [751, 822],\n",
              "             'uncovers': [4, 10],\n",
              "             'natural': [120, 298],\n",
              "             'instinct': [127, 106],\n",
              "             'foible': [7, 25],\n",
              "             'underpin': [1, 5],\n",
              "             'racism': [95, 90],\n",
              "             'directing': [164, 174],\n",
              "             'tart': [16, 49],\n",
              "             'laughoutloud': [49, 117],\n",
              "             'cowrote': [19, 39],\n",
              "             'lisa': [17, 34],\n",
              "             'cholodenko': [0, 16],\n",
              "             'laurel': [11, 19],\n",
              "             'canyon': [22, 8],\n",
              "             'crafted': [115, 489],\n",
              "             'honest': [178, 492],\n",
              "             'generous': [37, 122],\n",
              "             'family': [1053, 1934],\n",
              "             'life': [2379, 4259],\n",
              "             'gay': [160, 155],\n",
              "             'straight': [326, 264],\n",
              "             'frightening': [111, 165],\n",
              "             'collapse': [113, 55],\n",
              "             'weight': [287, 192],\n",
              "             'preposterousness': [17, 6],\n",
              "             'lack': [2178, 820],\n",
              "             'suspense': [556, 495],\n",
              "             'coollooking': [5, 1],\n",
              "             'vampire': [264, 187],\n",
              "             'screech': [9, 1],\n",
              "             'feral': [10, 25],\n",
              "             'beast': [106, 185],\n",
              "             'already': [781, 368],\n",
              "             'blood': [349, 374],\n",
              "             'chance': [369, 367],\n",
              "             'impressed': [41, 57],\n",
              "             'bedroom': [43, 22],\n",
              "             'll': [1179, 1479],\n",
              "             'even': [5571, 4729],\n",
              "             'taken': [485, 405],\n",
              "             'moretti': [17, 15],\n",
              "             'wrenching': [6, 77],\n",
              "             'little': [4076, 2890],\n",
              "             'director': [3092, 3792],\n",
              "             'damien': [7, 26],\n",
              "             'chazelle': [13, 57],\n",
              "             'beautifully': [162, 895],\n",
              "             'nature': [317, 687],\n",
              "             'artist': [246, 594],\n",
              "             'dialogue': [1376, 787],\n",
              "             'try': [1416, 524],\n",
              "             'entertain': [96, 180],\n",
              "             'adult': [516, 756],\n",
              "             'prove': [210, 192],\n",
              "             'confusing': [281, 79],\n",
              "             'spectacularly': [93, 65],\n",
              "             'greek': [109, 79],\n",
              "             'alvin': [22, 6],\n",
              "             'chipmunk': [32, 1],\n",
              "             'road': [369, 422],\n",
              "             'chip': [50, 28],\n",
              "             'terrible': [524, 196],\n",
              "             'exposing': [20, 30],\n",
              "             'moneygrab': [2, 0],\n",
              "             'smarter': [83, 86],\n",
              "             'sanguinely': [0, 1],\n",
              "             'capture': [243, 728],\n",
              "             'razor': [20, 29],\n",
              "             'edge': [320, 553],\n",
              "             'planetary': [2, 5],\n",
              "             'fame': [106, 121],\n",
              "             'well': [2151, 3197],\n",
              "             'longterm': [10, 20],\n",
              "             'consequence': [96, 143],\n",
              "             'childhood': [79, 201],\n",
              "             'trauma': [66, 84],\n",
              "             'mustsee': [25, 179],\n",
              "             'anyone': [915, 698],\n",
              "             'passing': [65, 72],\n",
              "             'interest': [506, 394],\n",
              "             'whitney': [20, 17],\n",
              "             'houston': [24, 14],\n",
              "             'rehash': [119, 24],\n",
              "             'nervejangling': [3, 16],\n",
              "             'music': [722, 1004],\n",
              "             'pretty': [1347, 961],\n",
              "             'average': [328, 195],\n",
              "             'special': [858, 799],\n",
              "             'setting': [348, 444],\n",
              "             'largely': [364, 343],\n",
              "             'ineffective': [45, 2],\n",
              "             'jumpoutofyourseat': [5, 3],\n",
              "             'jaume': [8, 6],\n",
              "             'colletserra': [8, 15],\n",
              "             'screenwriter': [390, 271],\n",
              "             'anthony': [60, 68],\n",
              "             'jaswinski': [1, 3],\n",
              "             'build': [258, 379],\n",
              "             'tension': [559, 643],\n",
              "             'steadily': [27, 33],\n",
              "             'throw': [286, 172],\n",
              "             'kitchen': [38, 43],\n",
              "             'sink': [176, 89],\n",
              "             'screen': [1468, 1539],\n",
              "             'frenetic': [109, 52],\n",
              "             'silly': [836, 563],\n",
              "             'spoil': [42, 16],\n",
              "             'entertaining': [803, 2660],\n",
              "             'nailbiter': [6, 27],\n",
              "             'fireflashes': [3, 0],\n",
              "             'nothing': [2676, 1074],\n",
              "             'sustained': [53, 75],\n",
              "             'romance': [734, 792],\n",
              "             'rote': [167, 23],\n",
              "             'ludicrous': [250, 69],\n",
              "             'ultimately': [1779, 954],\n",
              "             'hollowpoint': [3, 0],\n",
              "             'potentially': [200, 97],\n",
              "             'exceptional': [49, 191],\n",
              "             'told': [395, 569],\n",
              "             'flatly': [30, 0],\n",
              "             'unexceptional': [22, 6],\n",
              "             'defiance': [22, 31],\n",
              "             'screenplay': [769, 421],\n",
              "             'written': [538, 489],\n",
              "             'delpy': [13, 19],\n",
              "             'landeau': [0, 1],\n",
              "             'nahon': [0, 2],\n",
              "             'jittery': [16, 33],\n",
              "             'kind': [1726, 1702],\n",
              "             'honesty': [56, 153],\n",
              "             'rock': [416, 470],\n",
              "             'sometimes': [659, 1154],\n",
              "             'push': [193, 206],\n",
              "             'limit': [129, 114],\n",
              "             'grim': [226, 247],\n",
              "             'morality': [117, 171],\n",
              "             'tale': [1465, 2239],\n",
              "             'ca': [2454, 1070],\n",
              "             'help': [663, 749],\n",
              "             'putting': [155, 153],\n",
              "             'someone': [733, 385],\n",
              "             'else': [957, 537],\n",
              "             'shoe': [64, 68],\n",
              "             'wondering': [189, 93],\n",
              "             'lucy': [43, 60],\n",
              "             'shy': [38, 86],\n",
              "             'making': [1229, 1141],\n",
              "             'main': [391, 299],\n",
              "             'inhuman': [15, 16],\n",
              "             'sentimental': [279, 247],\n",
              "             'often': [1676, 1743],\n",
              "             'really': [2952, 1947],\n",
              "             'funny': [2205, 3274],\n",
              "             'vicki': [1, 2],\n",
              "             'extensive': [21, 22],\n",
              "             'narration': [98, 79],\n",
              "             'emotionally': [360, 618],\n",
              "             'distancing': [23, 8],\n",
              "             'passive': [40, 19],\n",
              "             'sustain': [172, 71],\n",
              "             'sober': [32, 61],\n",
              "             'july': [29, 40],\n",
              "             'unlike': [168, 271],\n",
              "             'working': [315, 431],\n",
              "             'tangentially': [1, 3],\n",
              "             'modern': [354, 781],\n",
              "             'neurosis': [22, 20],\n",
              "             'woody': [206, 231],\n",
              "             'allen': [383, 377],\n",
              "             'nicole': [40, 40],\n",
              "             'holofcener': [2, 26],\n",
              "             'playing': [510, 485],\n",
              "             'kingdom': [82, 111],\n",
              "             'magic': [494, 543],\n",
              "             'realism': [143, 269],\n",
              "             'whether': [561, 493],\n",
              "             'amount': [474, 342],\n",
              "             'tabloidism': [1, 0],\n",
              "             'pretension': [118, 74],\n",
              "             'open': [247, 365],\n",
              "             'hood': [139, 85],\n",
              "             'dip': [25, 47],\n",
              "             'toe': [24, 50],\n",
              "             'idea': [2069, 914],\n",
              "             'diving': [15, 25],\n",
              "             'deep': [408, 566],\n",
              "             'browbeating': [2, 1],\n",
              "             '123minutelong': [1, 0],\n",
              "             'boxing': [49, 107],\n",
              "             'opus': [36, 40],\n",
              "             'brings': [242, 618],\n",
              "             'absolutely': [333, 386],\n",
              "             'new': [2187, 2787],\n",
              "             'ring': [261, 211],\n",
              "             'godard': [39, 81],\n",
              "             'almost': [1835, 1513],\n",
              "             'giddy': [30, 122],\n",
              "             'use': [480, 527],\n",
              "             '3d': [477, 456],\n",
              "             'though': [1920, 2069],\n",
              "             'jab': [34, 30],\n",
              "             'take': [2858, 3273],\n",
              "             'reality': [397, 637],\n",
              "             'tv': [691, 323],\n",
              "             'clever': [533, 754],\n",
              "             'alice': [104, 101],\n",
              "             'tends': [112, 60],\n",
              "             'fracture': [9, 18],\n",
              "             'key': [203, 259],\n",
              "             'wiig': [20, 61],\n",
              "             'clocking': [17, 14],\n",
              "             '2': [924, 680],\n",
              "             'hour': [1456, 838],\n",
              "             '32': [4, 2],\n",
              "             'minute': [2091, 981],\n",
              "             'unforgivably': [27, 2],\n",
              "             'leisurely': [20, 52],\n",
              "             'glacial': [28, 6],\n",
              "             'loses': [388, 189],\n",
              "             'way': [3810, 4493],\n",
              "             'thicket': [14, 8],\n",
              "             'alternative': [47, 76],\n",
              "             'history': [711, 1122],\n",
              "             'manages': [510, 990],\n",
              "             'starttofinish': [1, 2],\n",
              "             'energy': [536, 592],\n",
              "             'violence': [771, 814],\n",
              "             'usually': [239, 182],\n",
              "             'guarantee': [40, 46],\n",
              "             'spurlock': [27, 35],\n",
              "             'folksy': [10, 6],\n",
              "             'affability': [8, 1],\n",
              "             'creates': [116, 361],\n",
              "             'sensation': [69, 98],\n",
              "             'truly': [661, 904],\n",
              "             'journey': [274, 641],\n",
              "             'necessarily': [150, 134],\n",
              "             'posing': [50, 15],\n",
              "             'd': [1072, 639],\n",
              "             'u': [2539, 3586],\n",
              "             'along': [924, 1022],\n",
              "             'ride': [425, 762],\n",
              "             'another': [2189, 1558],\n",
              "             'underachieving': [12, 3],\n",
              "             'trying': [1176, 525],\n",
              "             'immediately': [95, 86],\n",
              "             'recognize': [66, 76],\n",
              "             'wonderful': [172, 650],\n",
              "             'also': [1675, 3135],\n",
              "             'fun': [1803, 3401],\n",
              "             'watch': [1161, 1514],\n",
              "             'watson': [36, 27],\n",
              "             'la': [322, 514],\n",
              "             'girl': [799, 772],\n",
              "             'acting': [984, 941],\n",
              "             'chop': [62, 81],\n",
              "             'harry': [139, 214],\n",
              "             'potter': [113, 207],\n",
              "             'best': [2070, 5020],\n",
              "             'let': [1065, 970],\n",
              "             'merely': [469, 211],\n",
              "             'preserve': [22, 25],\n",
              "             'improves': [21, 67],\n",
              "             'yawningly': [4, 0],\n",
              "             'familiar': [732, 827],\n",
              "             'enterprising': [6, 5],\n",
              "             'hustler': [12, 10],\n",
              "             'undone': [89, 27],\n",
              "             'ambition': [335, 282],\n",
              "             'pattinson': [51, 41],\n",
              "             'pace': [394, 483],\n",
              "             'completely': [729, 533],\n",
              "             'inhabits': [4, 34],\n",
              "             'connie': [8, 1],\n",
              "             'twitchy': [6, 14],\n",
              "             'stand': [476, 655],\n",
              "             'still': [1909, 3096],\n",
              "             'neither': [822, 232],\n",
              "             'dull': [1362, 141],\n",
              "             'seenitamilliontimes': [1, 0],\n",
              "             'small': [358, 779],\n",
              "             'time': [5287, 5405],\n",
              "             'maniac': [14, 19],\n",
              "             'baddie': [17, 10],\n",
              "             'excessive': [139, 62],\n",
              "             'bewildering': [35, 22],\n",
              "             'mishmash': [145, 20],\n",
              "             'coverups': [3, 3],\n",
              "             'cliche': [425, 198],\n",
              "             'monahan': [6, 7],\n",
              "             'treatment': [189, 164],\n",
              "             'undermines': [85, 13],\n",
              "             'terrific': [188, 836],\n",
              "             'solid': [375, 987],\n",
              "             'outing': [142, 156],\n",
              "             'ridley': [69, 93],\n",
              "             'scott': [299, 328],\n",
              "             'inception': [26, 38],\n",
              "             'intense': [122, 536],\n",
              "             'complex': [281, 748],\n",
              "             'imaginative': [138, 246],\n",
              "             'bleak': [103, 265],\n",
              "             'premise': [1121, 469],\n",
              "             'radu': [3, 4],\n",
              "             'jude': [36, 19],\n",
              "             'find': [1740, 1824],\n",
              "             'within': [344, 548],\n",
              "             'certainty': [6, 24],\n",
              "             'death': [663, 602],\n",
              "             'gory': [131, 143],\n",
              "             'gross': [127, 58],\n",
              "             'goofy': [174, 221],\n",
              "             'wildly': [169, 232],\n",
              "             'uneven': [461, 266],\n",
              "             'tone': [876, 727],\n",
              "             'somewhat': [325, 409],\n",
              "             'enchanting': [23, 157],\n",
              "             'turn': [1690, 1699],\n",
              "             'surprisingly': [295, 778],\n",
              "             'spooky': [69, 80],\n",
              "             'attempt': [1210, 358],\n",
              "             'snarky': [22, 43],\n",
              "             'martin': [186, 214],\n",
              "             'campbell': [30, 34],\n",
              "             'ryan': [153, 206],\n",
              "             'reynolds': [108, 110],\n",
              "             'given': [734, 571],\n",
              "             'sequel': [1337, 911],\n",
              "             'ice': [199, 111],\n",
              "             'age': [520, 904],\n",
              "             'witty': [149, 488],\n",
              "             'predictable': [1149, 445],\n",
              "             'others': [332, 428],\n",
              "             'horror': [1736, 2081],\n",
              "             'two': [2623, 2309],\n",
              "             'half': [1063, 543],\n",
              "             'squalid': [6, 1],\n",
              "             'hard': [1995, 1261],\n",
              "             'stomach': [65, 82],\n",
              "             'second': [821, 677],\n",
              "             'surreal': [79, 179],\n",
              "             'seriously': [526, 322],\n",
              "             'young': [798, 1388],\n",
              "             'committed': [140, 171],\n",
              "             'none': [572, 199],\n",
              "             'particularly': [620, 495],\n",
              "             'likely': [642, 579],\n",
              "             'drown': [37, 13],\n",
              "             'nothingness': [22, 7],\n",
              "             'thoughtprovoking': [53, 301],\n",
              "             'fare': [266, 235],\n",
              "             'continues': [157, 274],\n",
              "             'prevail': [9, 10],\n",
              "             'joel': [62, 55],\n",
              "             'hopkins': [60, 47],\n",
              "             'resort': [60, 42],\n",
              "             'fair': [153, 184],\n",
              "             'contrivance': [186, 60],\n",
              "             'stress': [26, 52],\n",
              "             'sadness': [43, 174],\n",
              "             'dutifully': [38, 10],\n",
              "             'follows': [161, 198],\n",
              "             'standard': [475, 374],\n",
              "             'boymeetsgirl': [6, 3],\n",
              "             'arc': [163, 118],\n",
              "             'case': [712, 531],\n",
              "             'boy': [717, 590],\n",
              "             'old': [1207, 1140],\n",
              "             'chasing': [61, 40],\n",
              "             'woman': [1205, 1703],\n",
              "             'around': [1377, 1048],\n",
              "             'airport': [22, 16],\n",
              "             'appreciate': [151, 291],\n",
              "             'artistry': [64, 140],\n",
              "             'sin': [179, 101],\n",
              "             'city': [381, 499],\n",
              "             'equally': [145, 258],\n",
              "             'frothy': [29, 55],\n",
              "             'french': [238, 404],\n",
              "             'done': [671, 845],\n",
              "             'deliberately': [87, 91],\n",
              "             'retro': [60, 79],\n",
              "             'campy': [133, 88],\n",
              "             'style': [893, 1194],\n",
              "             'minor': [145, 267],\n",
              "             'ozon': [26, 58],\n",
              "             'output': [24, 29],\n",
              "             'charming': [279, 807],\n",
              "             'catherine': [46, 61],\n",
              "             'deneuve': [6, 32],\n",
              "             'gerard': [47, 19],\n",
              "             'depardieu': [3, 8],\n",
              "             'r': [68, 82],\n",
              "             'rating': [75, 66],\n",
              "             'mention': [111, 128],\n",
              "             'terror': [141, 215],\n",
              "             'gore': [252, 247],\n",
              "             'publicity': [11, 14],\n",
              "             'consider': [182, 148],\n",
              "             'terrifying': [105, 239],\n",
              "             'sincere': [119, 203],\n",
              "             'movieand': [1, 0],\n",
              "             'tonally': [108, 52],\n",
              "             'latter': [114, 70],\n",
              "             'seriousone': [1, 0],\n",
              "             'want': [2232, 1408],\n",
              "             'outrageousnessbecause': [1, 0],\n",
              "             'promise': [464, 314],\n",
              "             'quite': [1809, 1653],\n",
              "             'deliver': [396, 360],\n",
              "             'ball': [192, 158],\n",
              "             'fury': [109, 141],\n",
              "             'precisely': [93, 129],\n",
              "             'dud': [177, 16],\n",
              "             'name': [539, 414],\n",
              "             'opening': [294, 256],\n",
              "             'lazy': [525, 66],\n",
              "             'labor': [109, 63],\n",
              "             'day': [1313, 1365],\n",
              "             'weekend': [99, 69],\n",
              "             'donbas': [0, 1],\n",
              "             'fault': [167, 179],\n",
              "             'sergei': [1, 12],\n",
              "             'loznitsa': [0, 9],\n",
              "             'fiction': [242, 406],\n",
              "             'something': [2614, 2506],\n",
              "             'interesting': [1601, 993],\n",
              "             'beguilingly': [1, 4],\n",
              "             'hearttugging': [12, 9],\n",
              "             'hand': [529, 691],\n",
              "             'stone': [271, 224],\n",
              "             'foot': [167, 219],\n",
              "             'concrete': [28, 34],\n",
              "             'understands': [22, 116],\n",
              "             'return': [422, 562],\n",
              "             'root': [198, 265],\n",
              "             'rot': [21, 15],\n",
              "             'consideration': [38, 77],\n",
              "             'league': [102, 79],\n",
              "             'shoddy': [87, 13],\n",
              "             'gimmick': [165, 80],\n",
              "             'diane': [56, 28],\n",
              "             'arbus': [4, 1],\n",
              "             'freak': [81, 61],\n",
              "             'show': [1333, 1767],\n",
              "             'imaginary': [21, 14],\n",
              "             'laughtrack': [1, 0],\n",
              "             'sandler': [387, 106],\n",
              "             'head': [681, 560],\n",
              "             'tell': [814, 809],\n",
              "             'twice': [143, 144],\n",
              "             'offspring': [17, 12],\n",
              "             'scenario': [206, 136],\n",
              "             'delivery': [94, 103],\n",
              "             'jerry': [101, 34],\n",
              "             'seinfeld': [15, 5],\n",
              "             'joked': [6, 1],\n",
              "             'named': [94, 79],\n",
              "             'good': [4445, 4927],\n",
              "             'company': [225, 225],\n",
              "             'cry': [201, 230],\n",
              "             'tightness': [3, 6],\n",
              "             'discipline': [35, 13],\n",
              "             'played': [371, 395],\n",
              "             'charm': [662, 888],\n",
              "             'enthusiasm': [80, 96],\n",
              "             'gretchen': [7, 7],\n",
              "             'mol': [14, 10],\n",
              "             'feel': [5691, 3425],\n",
              "             'slotted': [9, 4],\n",
              "             'existing': [25, 27],\n",
              "             'template': [60, 46],\n",
              "             'true': [847, 1311],\n",
              "             'existential': [77, 123],\n",
              "             'parable': [73, 112],\n",
              "             'zone': [135, 112],\n",
              "             'genius': [178, 297],\n",
              "             'dramaturgical': [0, 1],\n",
              "             'blank': [120, 50],\n",
              "             'canvas': [28, 63],\n",
              "             'tarkovsky': [6, 24],\n",
              "             'musing': [16, 31],\n",
              "             'mean': [816, 782],\n",
              "             'copycat': [15, 7],\n",
              "             'artistic': [198, 243],\n",
              "             'contender': [56, 61],\n",
              "             'entire': [420, 397],\n",
              "             'enough': [3701, 2992],\n",
              "             'sit': [399, 201],\n",
              "             'entertained': [73, 142],\n",
              "             'temperature': [20, 7],\n",
              "             'outside': [219, 183],\n",
              "             'reach': [323, 324],\n",
              "             '90': [319, 228],\n",
              "             'degree': [147, 151],\n",
              "             'catwoman': [37, 3],\n",
              "             'cat': [134, 144],\n",
              "             'suit': [122, 119],\n",
              "             'whole': [1220, 906],\n",
              "             'superhero': [301, 547],\n",
              "             'mcteer': [6, 5],\n",
              "             've': [1871, 1574],\n",
              "             'noisy': [136, 42],\n",
              "             'indecipherable': [15, 4],\n",
              "             'nonsense': [263, 101],\n",
              "             'floppy': [9, 1],\n",
              "             'dismally': [13, 1],\n",
              "             'uninteresting': [122, 12],\n",
              "             'drama': [2175, 3201],\n",
              "             '27': [27, 8],\n",
              "             'dress': [73, 44],\n",
              "             'wedding': [226, 96],\n",
              "             'lame': [366, 22],\n",
              "             'chicken': [74, 54],\n",
              "             'marsala': [1, 0],\n",
              "             'stringy': [2, 3],\n",
              "             'dj': [23, 17],\n",
              "             'tune': [103, 135],\n",
              "             'toast': [10, 15],\n",
              "             'trigger': [40, 32],\n",
              "             'annulment': [1, 0],\n",
              "             'decent': [482, 364],\n",
              "             'doggedly': [24, 7],\n",
              "             'indie': [253, 311],\n",
              "             'unpretentious': [17, 75],\n",
              "             'industry': [121, 198],\n",
              "             'change': [277, 534],\n",
              "             'whose': [687, 882],\n",
              "             'path': [143, 197],\n",
              "             'diverge': [3, 2],\n",
              "             'gerry': [6, 0],\n",
              "             'de': [669, 997],\n",
              "             'leon': [12, 23],\n",
              "             'rarely': [396, 424],\n",
              "             'stop': [458, 319],\n",
              "             'examine': [29, 31],\n",
              "             'surface': [353, 297],\n",
              "             'melodramatic': [217, 131],\n",
              "             'event': [455, 497],\n",
              "             'choral': [6, 6],\n",
              "             'singing': [91, 86],\n",
              "             'clicheladen': [3, 0],\n",
              "             'crucial': [77, 70],\n",
              "             'supporting': [211, 267],\n",
              "             'convince': [142, 41],\n",
              "             'hoffman': [75, 130],\n",
              "             'choirmaster': [2, 1],\n",
              "             'peripheral': [14, 5],\n",
              "             'wasted': [297, 56],\n",
              "             'ford': [119, 152],\n",
              "             'come': [2975, 2693],\n",
              "             'nifty': [45, 60],\n",
              "             'exploring': [94, 140],\n",
              "             'enduring': [62, 91],\n",
              "             'allure': [38, 44],\n",
              "             'troubling': [63, 86],\n",
              "             'underside': [2, 4],\n",
              "             'myth': [91, 114],\n",
              "             'power': [633, 1258],\n",
              "             'task': [81, 85],\n",
              "             'fever': [76, 69],\n",
              "             'pitch': [132, 127],\n",
              "             'meeting': [60, 59],\n",
              "             'halfway': [159, 48],\n",
              "             'greater': [131, 143],\n",
              "             'statement': [124, 180],\n",
              "             'wheeling': [4, 5],\n",
              "             'dealing': [64, 120],\n",
              "             'tradition': [115, 276],\n",
              "             'lot': [1894, 1789],\n",
              "             'figuring': [21, 17],\n",
              "             'bother': [180, 71],\n",
              "             'jennifer': [171, 120],\n",
              "             'fox': [97, 93],\n",
              "             'autobiographical': [14, 37],\n",
              "             'harrowing': [63, 239],\n",
              "             'essential': [121, 310],\n",
              "             'viewing': [195, 516],\n",
              "             'revitalize': [3, 4],\n",
              "             'broken': [126, 179],\n",
              "             ...})"
            ]
          },
          "metadata": {},
          "execution_count": 85
        }
      ]
    },
    {
      "cell_type": "markdown",
      "source": [
        "# Probability calculation"
      ],
      "metadata": {
        "id": "ZGN67-au616m"
      }
    },
    {
      "cell_type": "markdown",
      "source": [
        "**P(fresh) and P(rotten)**"
      ],
      "metadata": {
        "id": "QU22L7uSExGB"
      }
    },
    {
      "cell_type": "code",
      "source": [
        "prob_rotten=train_set['Freshness'].value_counts(normalize=True)['rotten']\n",
        "prob_fresh=train_set['Freshness'].value_counts(normalize=True)['fresh']\n",
        "print(f'P(fresh) = {prob_fresh} P(rotten) = {prob_rotten}')"
      ],
      "metadata": {
        "colab": {
          "base_uri": "https://localhost:8080/"
        },
        "id": "KrgWDP6E_veJ",
        "outputId": "1ec9bd95-63e1-4d30-ed00-158f01c48d14"
      },
      "execution_count": 86,
      "outputs": [
        {
          "output_type": "stream",
          "name": "stdout",
          "text": [
            "P(fresh) = 0.4994458333333333 P(rotten) = 0.5005541666666666\n"
          ]
        }
      ]
    },
    {
      "cell_type": "markdown",
      "source": [
        "**P(word)**"
      ],
      "metadata": {
        "id": "1B4EF5ObCRB_"
      }
    },
    {
      "cell_type": "code",
      "source": [
        "def word_alone_prob(word):\n",
        "  return ((word_dict[word][1]/num_pos_words))+((word_dict[word][0]/num_neg_words))"
      ],
      "metadata": {
        "id": "JUpOMPx-B35m"
      },
      "execution_count": 87,
      "outputs": []
    },
    {
      "cell_type": "code",
      "source": [
        "word_alone_prob('buffay')"
      ],
      "metadata": {
        "colab": {
          "base_uri": "https://localhost:8080/"
        },
        "id": "p_BBp4SSCIri",
        "outputId": "50d2527c-9ddd-4364-d4fa-0156475737b2"
      },
      "execution_count": 88,
      "outputs": [
        {
          "output_type": "execute_result",
          "data": {
            "text/plain": [
              "6.421601239112176e-07"
            ]
          },
          "metadata": {},
          "execution_count": 88
        }
      ]
    },
    {
      "cell_type": "markdown",
      "source": [
        "**P(word|fresh) and P(word|rotten)**"
      ],
      "metadata": {
        "id": "R65acd03E0-y"
      }
    },
    {
      "cell_type": "code",
      "source": [
        "def word_prob(reviewType, word):\n",
        "  if reviewType == 'fresh':\n",
        "    return (word_dict[word][1]/num_pos_words)\n",
        "  else:\n",
        "    return (word_dict[word][0]/num_neg_words)\n",
        "  "
      ],
      "metadata": {
        "id": "O2qgdCQO3Hql"
      },
      "execution_count": 89,
      "outputs": []
    },
    {
      "cell_type": "code",
      "source": [
        "word_prob('fresh','buffay')"
      ],
      "metadata": {
        "colab": {
          "base_uri": "https://localhost:8080/"
        },
        "id": "89brr4SC8H-h",
        "outputId": "14098544-c701-4d6a-c886-9ef947b28813"
      },
      "execution_count": 90,
      "outputs": [
        {
          "output_type": "execute_result",
          "data": {
            "text/plain": [
              "6.421601239112176e-07"
            ]
          },
          "metadata": {},
          "execution_count": 90
        }
      ]
    },
    {
      "cell_type": "code",
      "source": [
        "word_prob('rotten','buffay')"
      ],
      "metadata": {
        "colab": {
          "base_uri": "https://localhost:8080/"
        },
        "id": "MnkVSO2SOXhH",
        "outputId": "67a17f26-68e5-4706-edd3-dc03b28f8dea"
      },
      "execution_count": 91,
      "outputs": [
        {
          "output_type": "execute_result",
          "data": {
            "text/plain": [
              "0.0"
            ]
          },
          "metadata": {},
          "execution_count": 91
        }
      ]
    },
    {
      "cell_type": "markdown",
      "source": [
        "**P(fresh|review) and P(rotten|review)**"
      ],
      "metadata": {
        "id": "eW0oZCmzFDPJ"
      }
    },
    {
      "cell_type": "code",
      "source": [
        "def withoutSmoothing_probability(reviewType, review):\n",
        "  if reviewType == 'fresh':\n",
        "    prob=math.log(pos_reviews/len(rt_df))\n",
        "  else:\n",
        "    prob=math.log(neg_reviews/len(rt_df))\n",
        "  preprocessed_reviews=[]\n",
        "  preprocessed_reviews=preprocessing(review)\n",
        "  for word in preprocessed_reviews:\n",
        "     prob=prob+word_prob(reviewType,word)\n",
        "  return prob\n",
        "    "
      ],
      "metadata": {
        "id": "D0bFQFr3Rc5j"
      },
      "execution_count": 92,
      "outputs": []
    },
    {
      "cell_type": "markdown",
      "source": [
        "# Class Prediction"
      ],
      "metadata": {
        "id": "h8F2-6oFFLQB"
      }
    },
    {
      "cell_type": "code",
      "source": [
        "def predict_class_withoutSmoothing(sentence):\n",
        " if withoutSmoothing_probability('fresh',sentence) > withoutSmoothing_probability('rotten',sentence):\n",
        "   return \"fresh\"\n",
        " else:\n",
        "    return \"rotten\""
      ],
      "metadata": {
        "id": "r-drSdvhRvQL"
      },
      "execution_count": 93,
      "outputs": []
    },
    {
      "cell_type": "markdown",
      "source": [
        "# Dev and Test accuracy without Smoothing"
      ],
      "metadata": {
        "id": "wMw_iipHFPWA"
      }
    },
    {
      "cell_type": "code",
      "source": [
        "correct_pred=0\n",
        "incorrect_pred=0\n",
        "freshness=list(dev_set['Freshness'])\n",
        "for i, word in enumerate(list(dev_set['Review'])):\n",
        "  if predict_class_withoutSmoothing(word) == freshness[i]:\n",
        "    correct_pred+=1\n",
        "  else:\n",
        "    incorrect_pred+=1"
      ],
      "metadata": {
        "id": "OKslnxYjRrYL"
      },
      "execution_count": 94,
      "outputs": []
    },
    {
      "cell_type": "code",
      "source": [
        "print(\"Accuracy on Dev dataset: \",correct_pred/(correct_pred+incorrect_pred))"
      ],
      "metadata": {
        "colab": {
          "base_uri": "https://localhost:8080/"
        },
        "id": "V9w07UcNTkIB",
        "outputId": "12fea786-f650-40d2-b385-c60fde9b8a21"
      },
      "execution_count": 95,
      "outputs": [
        {
          "output_type": "stream",
          "name": "stdout",
          "text": [
            "Accuracy on Dev dataset:  0.5778333333333333\n"
          ]
        }
      ]
    },
    {
      "cell_type": "code",
      "source": [
        "correct_pred=0\n",
        "incorrect_pred=0\n",
        "freshness=list(test_set['Freshness'])\n",
        "for i, word in enumerate(list(test_set['Review'])):\n",
        "  if predict_class_withoutSmoothing(word) == freshness[i]:\n",
        "    correct_pred+=1\n",
        "  else:\n",
        "    incorrect_pred+=1"
      ],
      "metadata": {
        "id": "LZU6aVVU_aWo"
      },
      "execution_count": 131,
      "outputs": []
    },
    {
      "cell_type": "code",
      "source": [
        "print(\"Accuracy on Test dataset: \",correct_pred/(correct_pred+incorrect_pred))"
      ],
      "metadata": {
        "colab": {
          "base_uri": "https://localhost:8080/"
        },
        "id": "5NK1vulT_gty",
        "outputId": "85968cfb-d4ea-44f0-f2f2-ed72cd397905"
      },
      "execution_count": 132,
      "outputs": [
        {
          "output_type": "stream",
          "name": "stdout",
          "text": [
            "Accuracy on Test dataset:  0.5783988095238095\n"
          ]
        }
      ]
    },
    {
      "cell_type": "markdown",
      "source": [
        "# Experiments"
      ],
      "metadata": {
        "id": "IeX6BW4vgGA4"
      }
    },
    {
      "cell_type": "markdown",
      "source": [
        "# Applied Smoothing"
      ],
      "metadata": {
        "id": "NRfCFNCaCVUT"
      }
    },
    {
      "cell_type": "markdown",
      "source": [
        "**P(word)**"
      ],
      "metadata": {
        "id": "OUDPhg7tFeni"
      }
    },
    {
      "cell_type": "code",
      "source": [
        "alpha=1\n",
        "def word_only_prob(word,num_words):\n",
        "  return (math.log((word_dict[word][1]+alpha)/(num_pos_words+num_words)))+(math.log((word_dict[word][0]+alpha)/(num_neg_words+num_words)))"
      ],
      "metadata": {
        "id": "oDVwSfEqCXmA"
      },
      "execution_count": 98,
      "outputs": []
    },
    {
      "cell_type": "code",
      "source": [
        "word_only_prob('buffay',tot_words)"
      ],
      "metadata": {
        "colab": {
          "base_uri": "https://localhost:8080/"
        },
        "id": "g3g42dh-DT2I",
        "outputId": "32981cd3-3080-4cf7-9d0f-ad35dfbc8545"
      },
      "execution_count": 99,
      "outputs": [
        {
          "output_type": "execute_result",
          "data": {
            "text/plain": [
              "-27.90828119308933"
            ]
          },
          "metadata": {},
          "execution_count": 99
        }
      ]
    },
    {
      "cell_type": "markdown",
      "source": [
        "**P(fresh|word) and P(rotten|word)**"
      ],
      "metadata": {
        "id": "xbFKwCiGFhQ5"
      }
    },
    {
      "cell_type": "code",
      "source": [
        "def cond_prob(reviewType, word,num_words):\n",
        "  if reviewType == 'fresh':\n",
        "    return math.log((word_dict[word][1]+alpha)/(num_pos_words+(num_words)))\n",
        "  else:\n",
        "    return math.log((word_dict[word][0]+alpha)/(num_neg_words+(num_words)))"
      ],
      "metadata": {
        "id": "0SVsL_m3EGh9"
      },
      "execution_count": 100,
      "outputs": []
    },
    {
      "cell_type": "code",
      "source": [
        "cond_prob('fresh','buffay',tot_words)"
      ],
      "metadata": {
        "colab": {
          "base_uri": "https://localhost:8080/"
        },
        "id": "ajy_fONQEUQz",
        "outputId": "b6d4664e-0a47-4005-9fa6-dbfb1fa59b44"
      },
      "execution_count": 101,
      "outputs": [
        {
          "output_type": "execute_result",
          "data": {
            "text/plain": [
              "-13.619529128466546"
            ]
          },
          "metadata": {},
          "execution_count": 101
        }
      ]
    },
    {
      "cell_type": "markdown",
      "source": [
        "**P(fresh|review) and P(rotten|review)**"
      ],
      "metadata": {
        "id": "oSVzwHJ8FlhN"
      }
    },
    {
      "cell_type": "code",
      "source": [
        "def review_probability(reviewType, review,n):\n",
        "  if reviewType == 'fresh':\n",
        "    prob=math.log(pos_reviews/len(rt_df))\n",
        "  else:\n",
        "    prob=math.log(neg_reviews/len(rt_df))\n",
        "  preprocessed_reviews=[]\n",
        "  preprocessed_reviews=preprocessing(review)\n",
        "  for word in preprocessed_reviews:\n",
        "     prob=prob+cond_prob(reviewType,word,n)\n",
        "  return prob\n",
        "    "
      ],
      "metadata": {
        "id": "FbyMVg91LTGK"
      },
      "execution_count": 102,
      "outputs": []
    },
    {
      "cell_type": "markdown",
      "source": [
        "**Comparing probabilities of fresh and rotten class**"
      ],
      "metadata": {
        "id": "Bv6ySKkaFsep"
      }
    },
    {
      "cell_type": "code",
      "source": [
        "print(review_probability('fresh','Story inspired by historical events that illustrates the process whereby enemies can become friends..',tot_words))\n",
        "print(review_probability('rotten','Story inspired by historical events that illustrates the process whereby enemies can become friends.',tot_words))"
      ],
      "metadata": {
        "colab": {
          "base_uri": "https://localhost:8080/"
        },
        "id": "TLYGlzBUVm5C",
        "outputId": "ede36b0e-ec44-4812-8acc-92136adeb65e"
      },
      "execution_count": 103,
      "outputs": [
        {
          "output_type": "stream",
          "name": "stdout",
          "text": [
            "-90.0820095691017\n",
            "-91.642382986593\n"
          ]
        }
      ]
    },
    {
      "cell_type": "markdown",
      "source": [
        "**Class prediction**"
      ],
      "metadata": {
        "id": "U1r7do57F4m4"
      }
    },
    {
      "cell_type": "code",
      "source": [
        "def predict_class(sentence,n):\n",
        " if review_probability('fresh',sentence,n) > review_probability('rotten',sentence,n):\n",
        "   return \"fresh\"\n",
        " else:\n",
        "    return \"rotten\""
      ],
      "metadata": {
        "id": "9hTd5G8uUEps"
      },
      "execution_count": 104,
      "outputs": []
    },
    {
      "cell_type": "code",
      "source": [
        "predict_class('Story inspired by historical events that illustrates the process whereby enemies can become friends.',tot_words)"
      ],
      "metadata": {
        "colab": {
          "base_uri": "https://localhost:8080/",
          "height": 35
        },
        "id": "VN69O_WJg7VN",
        "outputId": "90a44e6d-90aa-441d-d859-0e677fc35f98"
      },
      "execution_count": 105,
      "outputs": [
        {
          "output_type": "execute_result",
          "data": {
            "text/plain": [
              "'fresh'"
            ],
            "application/vnd.google.colaboratory.intrinsic+json": {
              "type": "string"
            }
          },
          "metadata": {},
          "execution_count": 105
        }
      ]
    },
    {
      "cell_type": "markdown",
      "source": [
        "# Deriving top 10 words that predict each class"
      ],
      "metadata": {
        "id": "h-VloQybF7lM"
      }
    },
    {
      "cell_type": "code",
      "source": [
        "def topmost_prob(pos_word):\n",
        "  p={}\n",
        "  for i in range(len(pos_word)):\n",
        "   num=(cond_prob('fresh',pos_word[i],tot_words))\n",
        "   p[pos_word[i]]=num\n",
        "  return p"
      ],
      "metadata": {
        "id": "4NxIlYVii7Fo"
      },
      "execution_count": 106,
      "outputs": []
    },
    {
      "cell_type": "code",
      "source": [
        "def topmost_negprob(neg_word):\n",
        "  p={}\n",
        "  for i in range(len(neg_word)):\n",
        "   num=(cond_prob('rotten',neg_word[i],tot_words))\n",
        "   p[neg_word[i]]=num\n",
        "  return p"
      ],
      "metadata": {
        "id": "BnphxZPAoa1b"
      },
      "execution_count": 107,
      "outputs": []
    },
    {
      "cell_type": "markdown",
      "source": [
        "**Top 10 words that predict class=Fresh**"
      ],
      "metadata": {
        "id": "N6AGui5PoTFF"
      }
    },
    {
      "cell_type": "code",
      "source": [
        "p=topmost_prob(pos_words)\n",
        "top10_words=sorted(p.items(),key=lambda x:x[1],reverse=True)\n",
        "print(\"Top 10 words         P[class='fresh'|word]\")\n",
        "for i, (k,v) in enumerate(top10_words[:10]):\n",
        " print(k,\"                    \", v)\n"
      ],
      "metadata": {
        "colab": {
          "base_uri": "https://localhost:8080/"
        },
        "id": "qafISNqvj8E9",
        "outputId": "bb57c969-13e0-472a-9d28-c823094696b5"
      },
      "execution_count": 108,
      "outputs": [
        {
          "output_type": "stream",
          "name": "stdout",
          "text": [
            "Top 10 words         P[class='fresh'|word]\n",
            "s                      -3.483839180127862\n",
            "film                      -4.218940366880423\n",
            "movie                      -4.678179930498655\n",
            "one                      -5.024079439084541\n",
            "nt                      -5.090012187361476\n",
            "story                      -5.343643458992189\n",
            "like                      -5.41144595691571\n",
            "make                      -5.462588702336925\n",
            "performance                      -5.620186175753264\n",
            "time                      -5.717411582190098\n"
          ]
        }
      ]
    },
    {
      "cell_type": "markdown",
      "source": [
        "**Top 10 words that predict class=Rotten**"
      ],
      "metadata": {
        "id": "XnVO9y3coioV"
      }
    },
    {
      "cell_type": "code",
      "source": [
        "p=topmost_negprob(neg_words)\n",
        "top10_words=sorted(p.items(),key=lambda x:x[1],reverse=True)\n",
        "print(\"Top 10 words         P[class='rotten'|word]\")\n",
        "for i, (k,v) in enumerate(top10_words[:10]):\n",
        " print(k,\"                    \", v)"
      ],
      "metadata": {
        "colab": {
          "base_uri": "https://localhost:8080/"
        },
        "id": "Z-ZGkwLwol5Y",
        "outputId": "d0c1805f-77b3-4d92-9095-ee4b8362315d"
      },
      "execution_count": 109,
      "outputs": [
        {
          "output_type": "stream",
          "name": "stdout",
          "text": [
            "Top 10 words         P[class='rotten'|word]\n",
            "s                      -3.510608604989785\n",
            "film                      -4.393901705482322\n",
            "movie                      -4.43392968406794\n",
            "nt                      -4.547077808249263\n",
            "like                      -5.026578544006587\n",
            "one                      -5.1804444182117555\n",
            "story                      -5.45121601851522\n",
            "much                      -5.464368334366726\n",
            "make                      -5.486680728087503\n",
            "character                      -5.5366448662934244\n"
          ]
        }
      ]
    },
    {
      "cell_type": "markdown",
      "source": [
        " **Accuracy on dev dataset**"
      ],
      "metadata": {
        "id": "c7LMKsEtZ95r"
      }
    },
    {
      "cell_type": "code",
      "source": [
        "correct_pred=0\n",
        "incorrect_pred=0\n",
        "freshness=list(dev_set['Freshness'])\n",
        "for i, word in enumerate(list(dev_set['Review'])):\n",
        "  if predict_class(word,tot_words) == freshness[i]:\n",
        "    correct_pred+=1\n",
        "  else:\n",
        "    incorrect_pred+=1"
      ],
      "metadata": {
        "id": "io3KZ0gyZ9Sx"
      },
      "execution_count": 111,
      "outputs": []
    },
    {
      "cell_type": "code",
      "source": [
        "print(\"Accuracy on Dev dataset: \",correct_pred/(correct_pred+incorrect_pred))"
      ],
      "metadata": {
        "colab": {
          "base_uri": "https://localhost:8080/"
        },
        "id": "5iPAkVGHahuM",
        "outputId": "4aa5cf7e-1625-45f8-a84a-78ffaa2fd6b5"
      },
      "execution_count": 112,
      "outputs": [
        {
          "output_type": "stream",
          "name": "stdout",
          "text": [
            "Accuracy on Dev dataset:  0.8006111111111112\n"
          ]
        }
      ]
    },
    {
      "cell_type": "markdown",
      "source": [
        "**Testing on Test dataset**"
      ],
      "metadata": {
        "id": "mQAsFS08pZWP"
      }
    },
    {
      "cell_type": "code",
      "source": [
        "correct_pred=0\n",
        "incorrect_pred=0\n",
        "freshness=list(test_set['Freshness'])\n",
        "for i, word in enumerate(list(test_set['Review'])):\n",
        "  if predict_class(word,tot_words) == freshness[i]:\n",
        "    correct_pred+=1\n",
        "  else:\n",
        "    incorrect_pred+=1"
      ],
      "metadata": {
        "id": "skFd-0UhpjYa"
      },
      "execution_count": 113,
      "outputs": []
    },
    {
      "cell_type": "code",
      "source": [
        "print(\"Accuracy on Test dataset: \",correct_pred/(correct_pred+incorrect_pred))"
      ],
      "metadata": {
        "colab": {
          "base_uri": "https://localhost:8080/"
        },
        "id": "P7t8mAyepogo",
        "outputId": "d0af74c5-9056-4911-b588-ea33e0632efb"
      },
      "execution_count": 114,
      "outputs": [
        {
          "output_type": "stream",
          "name": "stdout",
          "text": [
            "Accuracy on Test dataset:  0.7970535714285715\n"
          ]
        }
      ]
    },
    {
      "cell_type": "markdown",
      "source": [
        "# After removing rare words (occurence<5)"
      ],
      "metadata": {
        "id": "eSQ7DiOGywh6"
      }
    },
    {
      "cell_type": "code",
      "source": [
        "word_dict_copy=word_dict.copy()\n",
        "count=0\n",
        "for i, (k,v) in enumerate(word_dict_copy.items()):\n",
        "  if (v[0]<5 and v[1]<5):\n",
        "    del(k)\n",
        "    count+=1"
      ],
      "metadata": {
        "id": "fevJkML-ywNI"
      },
      "execution_count": 142,
      "outputs": []
    },
    {
      "cell_type": "code",
      "source": [
        "print(f\"Total number of rare words: {count}\")\n",
        "no_rarewords=tot_words-count"
      ],
      "metadata": {
        "colab": {
          "base_uri": "https://localhost:8080/"
        },
        "id": "PlWEMDYDy6GZ",
        "outputId": "7ff50f21-085e-4f45-f7e3-a3b1cb5ca36e"
      },
      "execution_count": 143,
      "outputs": [
        {
          "output_type": "stream",
          "name": "stdout",
          "text": [
            "Total number of rare words: 71922\n"
          ]
        }
      ]
    },
    {
      "cell_type": "code",
      "source": [
        "print(f'Total number of words after removing rarewords: {no_rarewords}')"
      ],
      "metadata": {
        "colab": {
          "base_uri": "https://localhost:8080/"
        },
        "id": "AZf8DJwhy64a",
        "outputId": "52f73da4-baa0-493e-c301-7babcd8689dd"
      },
      "execution_count": 144,
      "outputs": [
        {
          "output_type": "stream",
          "name": "stdout",
          "text": [
            "Total number of words after removing rarewords: 14889\n"
          ]
        }
      ]
    },
    {
      "cell_type": "markdown",
      "source": [
        "**Accuracy on dev dataset**"
      ],
      "metadata": {
        "id": "dQvR_y5aGWQv"
      }
    },
    {
      "cell_type": "code",
      "source": [
        "correct_pred=0\n",
        "incorrect_pred=0\n",
        "freshness=list(dev_set['Freshness'])\n",
        "for i, word in enumerate(list(dev_set['Review'])):\n",
        "  if predict_class(word,no_rarewords) == freshness[i]:\n",
        "    correct_pred+=1\n",
        "  else:\n",
        "    incorrect_pred+=1"
      ],
      "metadata": {
        "id": "1vOda3C82HGL"
      },
      "execution_count": 145,
      "outputs": []
    },
    {
      "cell_type": "code",
      "source": [
        "print(\"Accuracy on Dev dataset: \",correct_pred/(correct_pred+incorrect_pred))"
      ],
      "metadata": {
        "colab": {
          "base_uri": "https://localhost:8080/"
        },
        "id": "SCyLVY334l2B",
        "outputId": "5fdf9966-5d24-4e30-b8cb-afb0953574aa"
      },
      "execution_count": 146,
      "outputs": [
        {
          "output_type": "stream",
          "name": "stdout",
          "text": [
            "Accuracy on Dev dataset:  0.7875\n"
          ]
        }
      ]
    },
    {
      "cell_type": "markdown",
      "source": [
        "**Accuracy on Test dataset**"
      ],
      "metadata": {
        "id": "NRJtaGyvGbcf"
      }
    },
    {
      "cell_type": "code",
      "source": [
        "correct_pred=0\n",
        "incorrect_pred=0\n",
        "freshness=list(test_set['Freshness'])\n",
        "for i, word in enumerate(list(test_set['Review'])):\n",
        "  if predict_class(word,no_rarewords) == freshness[i]:\n",
        "    correct_pred+=1\n",
        "  else:\n",
        "    incorrect_pred+=1"
      ],
      "metadata": {
        "id": "oE1jNrvA4qvx"
      },
      "execution_count": 147,
      "outputs": []
    },
    {
      "cell_type": "code",
      "source": [
        "print(\"Accuracy on Test dataset: \",correct_pred/(correct_pred+incorrect_pred))"
      ],
      "metadata": {
        "colab": {
          "base_uri": "https://localhost:8080/"
        },
        "id": "YoFCK1wh4ueo",
        "outputId": "04e6df17-ecbc-4c8f-e32f-27dae7ed99ed"
      },
      "execution_count": 148,
      "outputs": [
        {
          "output_type": "stream",
          "name": "stdout",
          "text": [
            "Accuracy on Test dataset:  0.7843809523809524\n"
          ]
        }
      ]
    },
    {
      "cell_type": "markdown",
      "source": [
        "# Considering small dataset where total number of words=7000"
      ],
      "metadata": {
        "id": "EVqAAgvgsdp5"
      }
    },
    {
      "cell_type": "markdown",
      "source": [
        "**Selecting first 7000 most frequent occuring words from vocabulary**"
      ],
      "metadata": {
        "id": "GSWhGbW9GluP"
      }
    },
    {
      "cell_type": "code",
      "source": [
        "word_dict = sorted(word_dict.items(),  key=lambda x : x[1][0] + x[1][1], reverse=True)[:7000]"
      ],
      "metadata": {
        "id": "1DKQQRMAsh5p"
      },
      "execution_count": 151,
      "outputs": []
    },
    {
      "cell_type": "code",
      "source": [
        "word_dict = defaultdict(lambda: [0, 0], word_dict)"
      ],
      "metadata": {
        "id": "w1nL7InetR8h"
      },
      "execution_count": 152,
      "outputs": []
    },
    {
      "cell_type": "markdown",
      "source": [
        "**Dev Accuracy**"
      ],
      "metadata": {
        "id": "VkZROUKgGzb3"
      }
    },
    {
      "cell_type": "code",
      "source": [
        "correct_pred=0\n",
        "incorrect_pred=0\n",
        "freshness=list(dev_set['Freshness'])\n",
        "for i, word in enumerate(list(dev_set['Review'])):\n",
        "  if predict_class(word,15000) == freshness[i]:\n",
        "    correct_pred+=1\n",
        "  else:\n",
        "    incorrect_pred+=1"
      ],
      "metadata": {
        "id": "pKq0-Q4rthup"
      },
      "execution_count": 153,
      "outputs": []
    },
    {
      "cell_type": "code",
      "source": [
        "print(\"Accuracy on Dev dataset: \",correct_pred/(correct_pred+incorrect_pred))"
      ],
      "metadata": {
        "colab": {
          "base_uri": "https://localhost:8080/"
        },
        "id": "zrDU_W69ttb4",
        "outputId": "1c1ed785-e8fd-492e-b8f9-59b3bcc7f890"
      },
      "execution_count": 154,
      "outputs": [
        {
          "output_type": "stream",
          "name": "stdout",
          "text": [
            "Accuracy on Dev dataset:  0.7745\n"
          ]
        }
      ]
    },
    {
      "cell_type": "markdown",
      "source": [
        "**Test Accuracy**"
      ],
      "metadata": {
        "id": "ROjD9hfnHLS3"
      }
    },
    {
      "cell_type": "code",
      "source": [
        "correct_pred=0\n",
        "incorrect_pred=0\n",
        "freshness=list(test_set['Freshness'])\n",
        "for i, word in enumerate(list(test_set['Review'])):\n",
        "  if predict_class(word,15000) == freshness[i]:\n",
        "    correct_pred+=1\n",
        "  else:\n",
        "    incorrect_pred+=1"
      ],
      "metadata": {
        "id": "AaCBAmgp89M8"
      },
      "execution_count": 155,
      "outputs": []
    },
    {
      "cell_type": "code",
      "source": [
        "print(\"Accuracy on Test dataset: \",correct_pred/(correct_pred+incorrect_pred))"
      ],
      "metadata": {
        "colab": {
          "base_uri": "https://localhost:8080/"
        },
        "id": "tgmEzNQM8_n7",
        "outputId": "201ebff6-75a8-4773-a32f-844e5237a9ed"
      },
      "execution_count": 156,
      "outputs": [
        {
          "output_type": "stream",
          "name": "stdout",
          "text": [
            "Accuracy on Test dataset:  0.7725833333333333\n"
          ]
        }
      ]
    },
    {
      "cell_type": "markdown",
      "source": [
        "# Comparing Dev and Test accuracies across different models"
      ],
      "metadata": {
        "id": "T5oVAjRbHOXG"
      }
    },
    {
      "cell_type": "code",
      "source": [
        "accuracies_dev=[0.5778333333333333,0.8006111111111112, 0.7875, 0.7745]\n",
        "accuracies_test=[0.5783988095238095,0.7970535714285715, 0.7843809523809524,0.7725833333333333]\n",
        "types=[\"before smoothing\",\"after smoothing\",\"No rare words\",\"total words=15,000\"]\n",
        "import matplotlib.pyplot as plt\n",
        "plt.title(\"Dev accuracy Vs Test accuracy\")\n",
        "plt.plot(types,accuracies_dev,'g',label=\"Dev accuracy\")\n",
        "plt.plot(types,accuracies_test,'orange',label=\"Test accuracy\")\n",
        "plt.xlabel('Model types')\n",
        "plt.ylabel('Accuracies')\n",
        "plt.legend()\n",
        "plt.show()"
      ],
      "metadata": {
        "colab": {
          "base_uri": "https://localhost:8080/",
          "height": 472
        },
        "id": "OmvIn_aw-8-b",
        "outputId": "cbd2f155-abfb-4f1e-c142-6dd77efe4694"
      },
      "execution_count": 157,
      "outputs": [
        {
          "output_type": "display_data",
          "data": {
            "text/plain": [
              "<Figure size 640x480 with 1 Axes>"
            ],
            "image/png": "[encoded data removed]"
          },
          "metadata": {}
        }
      ]
    }
  ]
}