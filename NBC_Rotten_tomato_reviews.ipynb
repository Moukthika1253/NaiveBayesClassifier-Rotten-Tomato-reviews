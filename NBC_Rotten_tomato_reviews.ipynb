{
  "nbformat": 4,
  "nbformat_minor": 0,
  "metadata": {
    "colab": {
      "provenance": [],
      "authorship_tag": "ABX9TyMVufEeWBYjCKXXJHRiVJMH",
      "include_colab_link": true
    },
    "kernelspec": {
      "name": "python3",
      "display_name": "Python 3"
    },
    "language_info": {
      "name": "python"
    }
  },
  "cells": [
    {
      "cell_type": "markdown",
      "metadata": {
        "id": "view-in-github",
        "colab_type": "text"
      },
      "source": [
        "<a href=\"https://colab.research.google.com/github/Moukthika1253/NaiveBayesClassifier-Rotten-Tomato-reviews/blob/main/NBC_Rotten_tomato_reviews.ipynb\" target=\"_parent\"><img src=\"https://colab.research.google.com/assets/colab-badge.svg\" alt=\"Open In Colab\"/></a>"
      ]
    },
    {
      "cell_type": "code",
      "source": [
        "import pandas as pd\n",
        "from sklearn.model_selection import train_test_split"
      ],
      "metadata": {
        "id": "O1rkjVHivjZx"
      },
      "execution_count": 4,
      "outputs": []
    },
    {
      "cell_type": "code",
      "source": [
        "df=pd.read_csv('/content/rt_reviews.csv',encoding='latin-1')\n",
        "X=df.drop(columns=['Freshness']).copy()\n",
        "y=df['Freshness']\n",
        "X_train,X_remaining, y_train, y_remaining= train_test_split(X,y,train_size=0.5)\n",
        "X_test, X_dev, y_test, y_dev = train_test_split(X_remaining,y_remaining,test_size=0.3)\n",
        "print(f\"X_train shape {X_train.shape}, y_train shape {y_train.shape}\")\n",
        "print(f\"X_development shape {X_dev.shape}, y_development shape {y_dev.shape}\")\n",
        "print(f\"X_test shape {X_test.shape}, y_test shape {y_test.shape}\")\n"
      ],
      "metadata": {
        "colab": {
          "base_uri": "https://localhost:8080/"
        },
        "id": "bke476NOwqU4",
        "outputId": "51b9f157-475e-463b-8021-1fd39a8f4ae2"
      },
      "execution_count": 10,
      "outputs": [
        {
          "output_type": "stream",
          "name": "stdout",
          "text": [
            "X_train shape (240000, 1), y_train shape (240000,)\n",
            "X_development shape (72000, 1), y_development shape (72000,)\n",
            "X_test shape (168000, 1), y_test shape (168000,)\n"
          ]
        }
      ]
    },
    {
      "cell_type": "code",
      "execution_count": 3,
      "metadata": {
        "id": "7HoT-gQzRuBc"
      },
      "outputs": [],
      "source": [
        "categories=[\"Fresh\",\"Rotten\"]"
      ]
    }
  ]
}