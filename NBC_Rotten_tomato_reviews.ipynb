{
  "nbformat": 4,
  "nbformat_minor": 0,
  "metadata": {
    "colab": {
      "provenance": [],
      "gpuType": "T4",
      "include_colab_link": true
    },
    "kernelspec": {
      "name": "python3",
      "display_name": "Python 3"
    },
    "language_info": {
      "name": "python"
    },
    "gpuClass": "standard",
    "accelerator": "GPU"
  },
  "cells": [
    {
      "cell_type": "markdown",
      "metadata": {
        "id": "view-in-github",
        "colab_type": "text"
      },
      "source": [
        "<a href=\"https://colab.research.google.com/github/Moukthika1253/NaiveBayesClassifier-Rotten-Tomato-reviews/blob/main/NBC_Rotten_tomato_reviews.ipynb\" target=\"_parent\"><img src=\"https://colab.research.google.com/assets/colab-badge.svg\" alt=\"Open In Colab\"/></a>"
      ]
    },
    {
      "cell_type": "markdown",
      "source": [
        "# Importing libraries"
      ],
      "metadata": {
        "id": "Uer3WS6JDqQN"
      }
    },
    {
      "cell_type": "code",
      "source": [
        "import pandas as pd\n",
        "from sklearn.model_selection import train_test_split\n",
        "import string,re\n",
        "import nltk\n",
        "from nltk import word_tokenize\n",
        "nltk.download('punkt')\n",
        "nltk.download('wordnet')\n",
        "nltk.download('stopwords')\n",
        "from nltk.corpus import stopwords\n",
        "from nltk.stem import WordNetLemmatizer\n",
        "from collections import defaultdict\n",
        "from nltk.stem import PorterStemmer\n",
        "import math"
      ],
      "metadata": {
        "id": "O1rkjVHivjZx",
        "colab": {
          "base_uri": "https://localhost:8080/"
        },
        "outputId": "6fce438e-2d58-44bb-cae4-f8f15614108a"
      },
      "execution_count": 12,
      "outputs": [
        {
          "output_type": "stream",
          "name": "stderr",
          "text": [
            "[nltk_data] Downloading package punkt to /root/nltk_data...\n",
            "[nltk_data]   Package punkt is already up-to-date!\n",
            "[nltk_data] Downloading package wordnet to /root/nltk_data...\n",
            "[nltk_data]   Package wordnet is already up-to-date!\n",
            "[nltk_data] Downloading package stopwords to /root/nltk_data...\n",
            "[nltk_data]   Package stopwords is already up-to-date!\n"
          ]
        }
      ]
    },
    {
      "cell_type": "code",
      "source": [
        "rt_df=pd.read_csv('/content/rt_reviews.csv',encoding='latin-1')"
      ],
      "metadata": {
        "id": "bke476NOwqU4"
      },
      "execution_count": 13,
      "outputs": []
    },
    {
      "cell_type": "markdown",
      "source": [
        "# Splitting data into Train-50%, Dev-20%, Test-30%"
      ],
      "metadata": {
        "id": "03YQSkKmDv2U"
      }
    },
    {
      "cell_type": "code",
      "source": [
        "X_train,X_remaining, y_train, y_remaining= train_test_split(rt_df['Review'],rt_df['Freshness'],train_size=0.5)\n",
        "X_test, X_dev, y_test, y_dev = train_test_split(X_remaining,y_remaining,test_size=0.3)\n",
        "train_set=pd.concat([X_train,y_train],axis=1).reset_index(drop=True)\n",
        "dev_set=pd.concat([X_dev,y_dev],axis=1).reset_index(drop=True)\n",
        "test_set=pd.concat([X_test,y_test],axis=1).reset_index(drop=True)\n",
        "print(f\"Train set size:  \",train_set.size)\n",
        "print(f\"Dev set size:  \",dev_set.size)\n",
        "print(f\"Test set size:  \",test_set.size)"
      ],
      "metadata": {
        "colab": {
          "base_uri": "https://localhost:8080/"
        },
        "id": "B5YIO6oKTbsX",
        "outputId": "8920dc5e-19d1-41eb-ee00-8c5b0ee4b6f9"
      },
      "execution_count": 14,
      "outputs": [
        {
          "output_type": "stream",
          "name": "stdout",
          "text": [
            "Train set size:   480000\n",
            "Dev set size:   144000\n",
            "Test set size:   336000\n"
          ]
        }
      ]
    },
    {
      "cell_type": "code",
      "source": [
        "train_set.head()"
      ],
      "metadata": {
        "colab": {
          "base_uri": "https://localhost:8080/",
          "height": 206
        },
        "id": "X7Q8nv9QVKGr",
        "outputId": "2323b055-5b69-47a4-fc55-dc54a0fad428"
      },
      "execution_count": 15,
      "outputs": [
        {
          "output_type": "execute_result",
          "data": {
            "text/plain": [
              "                                              Review Freshness\n",
              "0   These two vets of showbiz wars smartly play o...     fresh\n",
              "1   A cursory affair that skimps on depth in favo...    rotten\n",
              "2   This talky, heavy melodrama is pretty to look...    rotten\n",
              "3   Once the chaotic adult-fairy-tale elements ov...    rotten\n",
              "4   The film's stunt is to unveil a simple truth,...     fresh"
            ],
            "text/html": [
              "\n",
              "  <div id=\"df-2972feb7-5942-4d7a-894d-cb2857f42a93\">\n",
              "    <div class=\"colab-df-container\">\n",
              "      <div>\n",
              "<style scoped>\n",
              "    .dataframe tbody tr th:only-of-type {\n",
              "        vertical-align: middle;\n",
              "    }\n",
              "\n",
              "    .dataframe tbody tr th {\n",
              "        vertical-align: top;\n",
              "    }\n",
              "\n",
              "    .dataframe thead th {\n",
              "        text-align: right;\n",
              "    }\n",
              "</style>\n",
              "<table border=\"1\" class=\"dataframe\">\n",
              "  <thead>\n",
              "    <tr style=\"text-align: right;\">\n",
              "      <th></th>\n",
              "      <th>Review</th>\n",
              "      <th>Freshness</th>\n",
              "    </tr>\n",
              "  </thead>\n",
              "  <tbody>\n",
              "    <tr>\n",
              "      <th>0</th>\n",
              "      <td>These two vets of showbiz wars smartly play o...</td>\n",
              "      <td>fresh</td>\n",
              "    </tr>\n",
              "    <tr>\n",
              "      <th>1</th>\n",
              "      <td>A cursory affair that skimps on depth in favo...</td>\n",
              "      <td>rotten</td>\n",
              "    </tr>\n",
              "    <tr>\n",
              "      <th>2</th>\n",
              "      <td>This talky, heavy melodrama is pretty to look...</td>\n",
              "      <td>rotten</td>\n",
              "    </tr>\n",
              "    <tr>\n",
              "      <th>3</th>\n",
              "      <td>Once the chaotic adult-fairy-tale elements ov...</td>\n",
              "      <td>rotten</td>\n",
              "    </tr>\n",
              "    <tr>\n",
              "      <th>4</th>\n",
              "      <td>The film's stunt is to unveil a simple truth,...</td>\n",
              "      <td>fresh</td>\n",
              "    </tr>\n",
              "  </tbody>\n",
              "</table>\n",
              "</div>\n",
              "      <button class=\"colab-df-convert\" onclick=\"convertToInteractive('df-2972feb7-5942-4d7a-894d-cb2857f42a93')\"\n",
              "              title=\"Convert this dataframe to an interactive table.\"\n",
              "              style=\"display:none;\">\n",
              "        \n",
              "  <svg xmlns=\"http://www.w3.org/2000/svg\" height=\"24px\"viewBox=\"0 0 24 24\"\n",
              "       width=\"24px\">\n",
              "    <path d=\"M0 0h24v24H0V0z\" fill=\"none\"/>\n",
              "    <path d=\"M18.56 5.44l.94 2.06.94-2.06 2.06-.94-2.06-.94-.94-2.06-.94 2.06-2.06.94zm-11 1L8.5 8.5l.94-2.06 2.06-.94-2.06-.94L8.5 2.5l-.94 2.06-2.06.94zm10 10l.94 2.06.94-2.06 2.06-.94-2.06-.94-.94-2.06-.94 2.06-2.06.94z\"/><path d=\"M17.41 7.96l-1.37-1.37c-.4-.4-.92-.59-1.43-.59-.52 0-1.04.2-1.43.59L10.3 9.45l-7.72 7.72c-.78.78-.78 2.05 0 2.83L4 21.41c.39.39.9.59 1.41.59.51 0 1.02-.2 1.41-.59l7.78-7.78 2.81-2.81c.8-.78.8-2.07 0-2.86zM5.41 20L4 18.59l7.72-7.72 1.47 1.35L5.41 20z\"/>\n",
              "  </svg>\n",
              "      </button>\n",
              "      \n",
              "  <style>\n",
              "    .colab-df-container {\n",
              "      display:flex;\n",
              "      flex-wrap:wrap;\n",
              "      gap: 12px;\n",
              "    }\n",
              "\n",
              "    .colab-df-convert {\n",
              "      background-color: #E8F0FE;\n",
              "      border: none;\n",
              "      border-radius: 50%;\n",
              "      cursor: pointer;\n",
              "      display: none;\n",
              "      fill: #1967D2;\n",
              "      height: 32px;\n",
              "      padding: 0 0 0 0;\n",
              "      width: 32px;\n",
              "    }\n",
              "\n",
              "    .colab-df-convert:hover {\n",
              "      background-color: #E2EBFA;\n",
              "      box-shadow: 0px 1px 2px rgba(60, 64, 67, 0.3), 0px 1px 3px 1px rgba(60, 64, 67, 0.15);\n",
              "      fill: #174EA6;\n",
              "    }\n",
              "\n",
              "    [theme=dark] .colab-df-convert {\n",
              "      background-color: #3B4455;\n",
              "      fill: #D2E3FC;\n",
              "    }\n",
              "\n",
              "    [theme=dark] .colab-df-convert:hover {\n",
              "      background-color: #434B5C;\n",
              "      box-shadow: 0px 1px 3px 1px rgba(0, 0, 0, 0.15);\n",
              "      filter: drop-shadow(0px 1px 2px rgba(0, 0, 0, 0.3));\n",
              "      fill: #FFFFFF;\n",
              "    }\n",
              "  </style>\n",
              "\n",
              "      <script>\n",
              "        const buttonEl =\n",
              "          document.querySelector('#df-2972feb7-5942-4d7a-894d-cb2857f42a93 button.colab-df-convert');\n",
              "        buttonEl.style.display =\n",
              "          google.colab.kernel.accessAllowed ? 'block' : 'none';\n",
              "\n",
              "        async function convertToInteractive(key) {\n",
              "          const element = document.querySelector('#df-2972feb7-5942-4d7a-894d-cb2857f42a93');\n",
              "          const dataTable =\n",
              "            await google.colab.kernel.invokeFunction('convertToInteractive',\n",
              "                                                     [key], {});\n",
              "          if (!dataTable) return;\n",
              "\n",
              "          const docLinkHtml = 'Like what you see? Visit the ' +\n",
              "            '<a target=\"_blank\" href=https://colab.research.google.com/notebooks/data_table.ipynb>data table notebook</a>'\n",
              "            + ' to learn more about interactive tables.';\n",
              "          element.innerHTML = '';\n",
              "          dataTable['output_type'] = 'display_data';\n",
              "          await google.colab.output.renderOutput(dataTable, element);\n",
              "          const docLink = document.createElement('div');\n",
              "          docLink.innerHTML = docLinkHtml;\n",
              "          element.appendChild(docLink);\n",
              "        }\n",
              "      </script>\n",
              "    </div>\n",
              "  </div>\n",
              "  "
            ]
          },
          "metadata": {},
          "execution_count": 15
        }
      ]
    },
    {
      "cell_type": "markdown",
      "source": [
        "# Pre-processing"
      ],
      "metadata": {
        "id": "ec_ZlpVCDi-X"
      }
    },
    {
      "cell_type": "code",
      "source": [
        "def preprocessing(review):\n",
        "  stop_words=stopwords.words('english')\n",
        "  word_lemmatizer=WordNetLemmatizer()\n",
        "  tokenized_words=[(word) for word in word_tokenize(review)]\n",
        "  words=[word.lower() for word in tokenized_words if word.lower() not in stop_words]\n",
        "  for i in range(len(words)):\n",
        "   words[i]=''.join([word for word in words[i] if word not in (string.punctuation)])\n",
        "  no_emptywords=[word for word in words if word]\n",
        "  no_extraspace=[re.sub(r'\\s\\s+', '',word) for word in no_emptywords]\n",
        "  lemmatized_words=[word_lemmatizer.lemmatize(word) for word in no_extraspace]\n",
        "  return lemmatized_words \n",
        "  "
      ],
      "metadata": {
        "id": "d2C7nplmCvQE"
      },
      "execution_count": 16,
      "outputs": []
    },
    {
      "cell_type": "code",
      "source": [
        "train_set['Review']=train_set['Review'].apply(preprocessing)\n",
        "train_set.head()"
      ],
      "metadata": {
        "id": "jBnj-_3DOtnA",
        "colab": {
          "base_uri": "https://localhost:8080/",
          "height": 206
        },
        "outputId": "484ddc1b-fee0-4daf-cc55-25b5fed43c4d"
      },
      "execution_count": 17,
      "outputs": [
        {
          "output_type": "execute_result",
          "data": {
            "text/plain": [
              "                                              Review Freshness\n",
              "0  [two, vet, showbiz, war, smartly, play, iconic...     fresh\n",
              "1  [cursory, affair, skimps, depth, favor, uplift...    rotten\n",
              "2  [talky, heavy, melodrama, pretty, look, behind...    rotten\n",
              "3  [chaotic, adultfairytale, element, override, f...    rotten\n",
              "4  [film, s, stunt, unveil, simple, truth, reputa...     fresh"
            ],
            "text/html": [
              "\n",
              "  <div id=\"df-850cd9a0-ff21-4df0-930b-8b10e0ad8902\">\n",
              "    <div class=\"colab-df-container\">\n",
              "      <div>\n",
              "<style scoped>\n",
              "    .dataframe tbody tr th:only-of-type {\n",
              "        vertical-align: middle;\n",
              "    }\n",
              "\n",
              "    .dataframe tbody tr th {\n",
              "        vertical-align: top;\n",
              "    }\n",
              "\n",
              "    .dataframe thead th {\n",
              "        text-align: right;\n",
              "    }\n",
              "</style>\n",
              "<table border=\"1\" class=\"dataframe\">\n",
              "  <thead>\n",
              "    <tr style=\"text-align: right;\">\n",
              "      <th></th>\n",
              "      <th>Review</th>\n",
              "      <th>Freshness</th>\n",
              "    </tr>\n",
              "  </thead>\n",
              "  <tbody>\n",
              "    <tr>\n",
              "      <th>0</th>\n",
              "      <td>[two, vet, showbiz, war, smartly, play, iconic...</td>\n",
              "      <td>fresh</td>\n",
              "    </tr>\n",
              "    <tr>\n",
              "      <th>1</th>\n",
              "      <td>[cursory, affair, skimps, depth, favor, uplift...</td>\n",
              "      <td>rotten</td>\n",
              "    </tr>\n",
              "    <tr>\n",
              "      <th>2</th>\n",
              "      <td>[talky, heavy, melodrama, pretty, look, behind...</td>\n",
              "      <td>rotten</td>\n",
              "    </tr>\n",
              "    <tr>\n",
              "      <th>3</th>\n",
              "      <td>[chaotic, adultfairytale, element, override, f...</td>\n",
              "      <td>rotten</td>\n",
              "    </tr>\n",
              "    <tr>\n",
              "      <th>4</th>\n",
              "      <td>[film, s, stunt, unveil, simple, truth, reputa...</td>\n",
              "      <td>fresh</td>\n",
              "    </tr>\n",
              "  </tbody>\n",
              "</table>\n",
              "</div>\n",
              "      <button class=\"colab-df-convert\" onclick=\"convertToInteractive('df-850cd9a0-ff21-4df0-930b-8b10e0ad8902')\"\n",
              "              title=\"Convert this dataframe to an interactive table.\"\n",
              "              style=\"display:none;\">\n",
              "        \n",
              "  <svg xmlns=\"http://www.w3.org/2000/svg\" height=\"24px\"viewBox=\"0 0 24 24\"\n",
              "       width=\"24px\">\n",
              "    <path d=\"M0 0h24v24H0V0z\" fill=\"none\"/>\n",
              "    <path d=\"M18.56 5.44l.94 2.06.94-2.06 2.06-.94-2.06-.94-.94-2.06-.94 2.06-2.06.94zm-11 1L8.5 8.5l.94-2.06 2.06-.94-2.06-.94L8.5 2.5l-.94 2.06-2.06.94zm10 10l.94 2.06.94-2.06 2.06-.94-2.06-.94-.94-2.06-.94 2.06-2.06.94z\"/><path d=\"M17.41 7.96l-1.37-1.37c-.4-.4-.92-.59-1.43-.59-.52 0-1.04.2-1.43.59L10.3 9.45l-7.72 7.72c-.78.78-.78 2.05 0 2.83L4 21.41c.39.39.9.59 1.41.59.51 0 1.02-.2 1.41-.59l7.78-7.78 2.81-2.81c.8-.78.8-2.07 0-2.86zM5.41 20L4 18.59l7.72-7.72 1.47 1.35L5.41 20z\"/>\n",
              "  </svg>\n",
              "      </button>\n",
              "      \n",
              "  <style>\n",
              "    .colab-df-container {\n",
              "      display:flex;\n",
              "      flex-wrap:wrap;\n",
              "      gap: 12px;\n",
              "    }\n",
              "\n",
              "    .colab-df-convert {\n",
              "      background-color: #E8F0FE;\n",
              "      border: none;\n",
              "      border-radius: 50%;\n",
              "      cursor: pointer;\n",
              "      display: none;\n",
              "      fill: #1967D2;\n",
              "      height: 32px;\n",
              "      padding: 0 0 0 0;\n",
              "      width: 32px;\n",
              "    }\n",
              "\n",
              "    .colab-df-convert:hover {\n",
              "      background-color: #E2EBFA;\n",
              "      box-shadow: 0px 1px 2px rgba(60, 64, 67, 0.3), 0px 1px 3px 1px rgba(60, 64, 67, 0.15);\n",
              "      fill: #174EA6;\n",
              "    }\n",
              "\n",
              "    [theme=dark] .colab-df-convert {\n",
              "      background-color: #3B4455;\n",
              "      fill: #D2E3FC;\n",
              "    }\n",
              "\n",
              "    [theme=dark] .colab-df-convert:hover {\n",
              "      background-color: #434B5C;\n",
              "      box-shadow: 0px 1px 3px 1px rgba(0, 0, 0, 0.15);\n",
              "      filter: drop-shadow(0px 1px 2px rgba(0, 0, 0, 0.3));\n",
              "      fill: #FFFFFF;\n",
              "    }\n",
              "  </style>\n",
              "\n",
              "      <script>\n",
              "        const buttonEl =\n",
              "          document.querySelector('#df-850cd9a0-ff21-4df0-930b-8b10e0ad8902 button.colab-df-convert');\n",
              "        buttonEl.style.display =\n",
              "          google.colab.kernel.accessAllowed ? 'block' : 'none';\n",
              "\n",
              "        async function convertToInteractive(key) {\n",
              "          const element = document.querySelector('#df-850cd9a0-ff21-4df0-930b-8b10e0ad8902');\n",
              "          const dataTable =\n",
              "            await google.colab.kernel.invokeFunction('convertToInteractive',\n",
              "                                                     [key], {});\n",
              "          if (!dataTable) return;\n",
              "\n",
              "          const docLinkHtml = 'Like what you see? Visit the ' +\n",
              "            '<a target=\"_blank\" href=https://colab.research.google.com/notebooks/data_table.ipynb>data table notebook</a>'\n",
              "            + ' to learn more about interactive tables.';\n",
              "          element.innerHTML = '';\n",
              "          dataTable['output_type'] = 'display_data';\n",
              "          await google.colab.output.renderOutput(dataTable, element);\n",
              "          const docLink = document.createElement('div');\n",
              "          docLink.innerHTML = docLinkHtml;\n",
              "          element.appendChild(docLink);\n",
              "        }\n",
              "      </script>\n",
              "    </div>\n",
              "  </div>\n",
              "  "
            ]
          },
          "metadata": {},
          "execution_count": 17
        }
      ]
    },
    {
      "cell_type": "code",
      "source": [
        "preprocessing(\"Story inspired by historical events that illustrates the process whereby enemies can become friends.\")"
      ],
      "metadata": {
        "colab": {
          "base_uri": "https://localhost:8080/"
        },
        "id": "nZsLgdLg2yQs",
        "outputId": "d95fd44f-569a-4c52-9890-59f32f84ac51"
      },
      "execution_count": 18,
      "outputs": [
        {
          "output_type": "execute_result",
          "data": {
            "text/plain": [
              "['story',\n",
              " 'inspired',\n",
              " 'historical',\n",
              " 'event',\n",
              " 'illustrates',\n",
              " 'process',\n",
              " 'whereby',\n",
              " 'enemy',\n",
              " 'become',\n",
              " 'friend']"
            ]
          },
          "metadata": {},
          "execution_count": 18
        }
      ]
    },
    {
      "cell_type": "markdown",
      "source": [
        "**Calculating Total number of words in Vocab**"
      ],
      "metadata": {
        "id": "jV3kyVbq52LS"
      }
    },
    {
      "cell_type": "code",
      "source": [
        "review_list=[]\n",
        "for i,review in train_set['Review'].items():\n",
        "  for word in review:\n",
        "    review_list.append(word)\n",
        "review_list=list(set(review_list))\n",
        "tot_words=len(review_list)\n",
        "print(f\"total number of words in the list: {tot_words}\")"
      ],
      "metadata": {
        "colab": {
          "base_uri": "https://localhost:8080/"
        },
        "id": "lpflUwk3lSrc",
        "outputId": "41b6df74-cc6b-48eb-96c3-d2ed11d1b01b"
      },
      "execution_count": 99,
      "outputs": [
        {
          "output_type": "stream",
          "name": "stdout",
          "text": [
            "total number of words in the list: 86750\n"
          ]
        }
      ]
    },
    {
      "cell_type": "code",
      "source": [
        "pos_reviews=0\n",
        "neg_reviews=0\n",
        "num_pos_words=0\n",
        "num_neg_words=0\n",
        "pos_words=[]\n",
        "neg_words=[]\n",
        "word_dict=defaultdict(lambda:[0,0])\n",
        "freshness=list(train_set['Freshness'])"
      ],
      "metadata": {
        "id": "Fglk849bWDzp"
      },
      "execution_count": 100,
      "outputs": []
    },
    {
      "cell_type": "markdown",
      "source": [
        "# Calculating word frequencies for each word in fresh and rotten review"
      ],
      "metadata": {
        "id": "wukT4UXZEMm6"
      }
    },
    {
      "cell_type": "code",
      "source": [
        "for i, review in enumerate(list(train_set['Review'])):\n",
        "  if  freshness[i] == 'fresh':\n",
        "    pos_reviews=pos_reviews+1\n",
        "  else:\n",
        "    neg_reviews=neg_reviews+1\n",
        "  for word in (review):\n",
        "    if freshness[i] == 'fresh':\n",
        "      word_dict[word][1]+=1\n",
        "      num_pos_words+=1\n",
        "      pos_words.append(word)\n",
        "    else:\n",
        "      word_dict[word][0]+=1\n",
        "      num_neg_words+=1\n",
        "      neg_words.append(word)"
      ],
      "metadata": {
        "id": "4Xdv4zCJWIrm"
      },
      "execution_count": 88,
      "outputs": []
    },
    {
      "cell_type": "code",
      "source": [
        "(word_dict)"
      ],
      "metadata": {
        "colab": {
          "base_uri": "https://localhost:8080/"
        },
        "id": "EFVyjXoU8ozK",
        "outputId": "8c1657bc-591d-4cae-f7f8-252b2fdf274f"
      },
      "execution_count": 89,
      "outputs": [
        {
          "output_type": "execute_result",
          "data": {
            "text/plain": [
              "defaultdict(<function __main__.<lambda>()>,\n",
              "            {'two': [2607, 2290],\n",
              "             'vet': [17, 17],\n",
              "             'showbiz': [29, 45],\n",
              "             'war': [985, 1522],\n",
              "             'smartly': [14, 157],\n",
              "             'play': [1835, 1537],\n",
              "             'iconic': [72, 132],\n",
              "             'past': [610, 765],\n",
              "             'cursory': [39, 5],\n",
              "             'affair': [419, 233],\n",
              "             'skimps': [17, 8],\n",
              "             'depth': [490, 482],\n",
              "             'favor': [213, 95],\n",
              "             'uplifting': [44, 209],\n",
              "             'soundbites': [2, 3],\n",
              "             'choppedup': [8, 0],\n",
              "             'snippet': [19, 10],\n",
              "             'performance': [2512, 5855],\n",
              "             'footage': [216, 350],\n",
              "             'talky': [97, 45],\n",
              "             'heavy': [305, 238],\n",
              "             'melodrama': [633, 483],\n",
              "             'pretty': [1318, 979],\n",
              "             'look': [2474, 2649],\n",
              "             'behind': [569, 642],\n",
              "             'nothing': [2689, 1064],\n",
              "             'substance': [448, 195],\n",
              "             'chaotic': [118, 98],\n",
              "             'adultfairytale': [1, 0],\n",
              "             'element': [842, 733],\n",
              "             'override': [11, 6],\n",
              "             'fincher': [40, 108],\n",
              "             's': [47584, 50666],\n",
              "             'otherwise': [451, 255],\n",
              "             'meticulous': [21, 79],\n",
              "             'style': [938, 1210],\n",
              "             'one': [9055, 10744],\n",
              "             'suspect': [139, 90],\n",
              "             'tawdry': [40, 15],\n",
              "             'tale': [1417, 2223],\n",
              "             'marital': [17, 28],\n",
              "             'fury': [103, 138],\n",
              "             'signifies': [7, 5],\n",
              "             'nihilistic': [50, 33],\n",
              "             'view': [310, 422],\n",
              "             'heterosexual': [16, 7],\n",
              "             'marriage': [125, 233],\n",
              "             'film': [19542, 24459],\n",
              "             'stunt': [204, 182],\n",
              "             'unveil': [2, 4],\n",
              "             'simple': [318, 746],\n",
              "             'truth': [418, 564],\n",
              "             'reputation': [61, 69],\n",
              "             'relies': [172, 93],\n",
              "             'fact': [796, 713],\n",
              "             'filmmaker': [1440, 1566],\n",
              "             'yet': [1673, 2308],\n",
              "             'make': [6624, 6915],\n",
              "             'jump': [238, 180],\n",
              "             'old': [1184, 1144],\n",
              "             'monster': [421, 531],\n",
              "             'movie': [18936, 15301],\n",
              "             'thrilling': [167, 552],\n",
              "             'way': [3809, 4595],\n",
              "             'mingled': [1, 1],\n",
              "             'terror': [157, 243],\n",
              "             'sexuality': [69, 118],\n",
              "             'real': [1721, 1894],\n",
              "             'preference': [9, 10],\n",
              "             'tormentor': [3, 2],\n",
              "             'van': [175, 151],\n",
              "             'helsing': [29, 8],\n",
              "             'kiddie': [75, 35],\n",
              "             'adventure': [551, 1076],\n",
              "             'endless': [281, 131],\n",
              "             'meaningless': [90, 14],\n",
              "             'loop': [30, 35],\n",
              "             'appeal': [457, 490],\n",
              "             'people': [1972, 2074],\n",
              "             'like': [10509, 7345],\n",
              "             'repackaged': [10, 2],\n",
              "             'faux': [64, 21],\n",
              "             'cynicism': [116, 110],\n",
              "             'bid': [40, 22],\n",
              "             'reach': [315, 298],\n",
              "             'would': [3999, 2203],\n",
              "             'nt': [16792, 10338],\n",
              "             'touched': [29, 50],\n",
              "             'story': [6715, 7717],\n",
              "             'told': [401, 543],\n",
              "             'straight': [347, 269],\n",
              "             'without': [2222, 1916],\n",
              "             'murray': [78, 115],\n",
              "             'cultural': [177, 266],\n",
              "             'cachet': [5, 1],\n",
              "             'despite': [1706, 1244],\n",
              "             'tendency': [105, 80],\n",
              "             'shy': [44, 86],\n",
              "             'away': [991, 984],\n",
              "             'deeper': [179, 234],\n",
              "             'question': [700, 831],\n",
              "             'motivation': [116, 73],\n",
              "             'curry': [7, 7],\n",
              "             'storytelling': [631, 682],\n",
              "             'wellstructured': [1, 13],\n",
              "             'strangely': [174, 147],\n",
              "             'compelling': [623, 1231],\n",
              "             'found': [601, 553],\n",
              "             'rooting': [70, 72],\n",
              "             'vandyke': [5, 1],\n",
              "             'thanking': [2, 1],\n",
              "             'lucky': [69, 97],\n",
              "             'star': [1625, 1776],\n",
              "             'place': [1125, 1311],\n",
              "             'korean': [35, 66],\n",
              "             'period': [354, 524],\n",
              "             'spectacle': [364, 422],\n",
              "             'enlivened': [26, 48],\n",
              "             'presence': [293, 292],\n",
              "             'new': [2167, 2830],\n",
              "             'kind': [1737, 1690],\n",
              "             'dynamic': [146, 327],\n",
              "             'duoa': [0, 1],\n",
              "             'crimefighting': [4, 5],\n",
              "             'detective': [75, 101],\n",
              "             'king': [363, 427],\n",
              "             'genius': [165, 301],\n",
              "             'clumsy': [294, 57],\n",
              "             'secret': [246, 313],\n",
              "             'weapon': [67, 92],\n",
              "             'desert': [69, 71],\n",
              "             'color': [197, 361],\n",
              "             'pop': [343, 412],\n",
              "             'song': [481, 482],\n",
              "             'catchy': [25, 33],\n",
              "             'lipsynching': [2, 5],\n",
              "             'meanwhile': [16, 17],\n",
              "             'always': [724, 1315],\n",
              "             'little': [4222, 2872],\n",
              "             'dancing': [119, 87],\n",
              "             'usually': [235, 194],\n",
              "             'average': [335, 219],\n",
              "             'best': [2037, 5007],\n",
              "             'homemade': [8, 18],\n",
              "             'quality': [469, 571],\n",
              "             'part': [1559, 1810],\n",
              "             'charm': [661, 894],\n",
              "             'save': [609, 250],\n",
              "             'paradoxically': [24, 21],\n",
              "             'even': [5549, 4804],\n",
              "             'time': [5250, 5482],\n",
              "             'delightfully': [18, 147],\n",
              "             'skidding': [2, 2],\n",
              "             'course': [392, 361],\n",
              "             'cliche': [423, 182],\n",
              "             'profound': [151, 299],\n",
              "             'middleoftheroad': [22, 6],\n",
              "             'never': [4186, 2948],\n",
              "             'dull': [1406, 141],\n",
              "             'protagonist': [414, 342],\n",
              "             'backstory': [81, 35],\n",
              "             'beat': [284, 325],\n",
              "             'hell': [322, 416],\n",
              "             'presenttense': [5, 1],\n",
              "             'plot': [2866, 1351],\n",
              "             'routine': [245, 129],\n",
              "             'wellmeaning': [99, 38],\n",
              "             'doofus': [7, 3],\n",
              "             'working': [302, 448],\n",
              "             'man': [1521, 2235],\n",
              "             'infected': [21, 10],\n",
              "             'virus': [26, 15],\n",
              "             'start': [1199, 780],\n",
              "             'turning': [234, 206],\n",
              "             'alien': [318, 324],\n",
              "             'fall': [1074, 557],\n",
              "             'oppressed': [6, 5],\n",
              "             'creature': [205, 203],\n",
              "             'actor': [1779, 1819],\n",
              "             'deliver': [355, 352],\n",
              "             'award': [98, 255],\n",
              "             'worthy': [272, 496],\n",
              "             'hope': [558, 750],\n",
              "             'work': [2743, 4641],\n",
              "             'remembered': [65, 95],\n",
              "             'end': [3116, 2077],\n",
              "             'year': [1871, 3583],\n",
              "             'surprising': [204, 474],\n",
              "             'provocative': [148, 355],\n",
              "             'seems': [2486, 1138],\n",
              "             'want': [2255, 1484],\n",
              "             'reassure': [4, 6],\n",
              "             'u': [2592, 3548],\n",
              "             'tick': [62, 53],\n",
              "             'shocker': [35, 40],\n",
              "             'clunkingly': [1, 0],\n",
              "             'written': [572, 471],\n",
              "             'dismally': [14, 2],\n",
              "             'acted': [256, 520],\n",
              "             'haphazardly': [38, 4],\n",
              "             'directed': [552, 655],\n",
              "             'glaringly': [16, 7],\n",
              "             'conspicuous': [25, 6],\n",
              "             'soundstages': [1, 0],\n",
              "             'masquerading': [98, 19],\n",
              "             'african': [51, 82],\n",
              "             'jungle': [93, 108],\n",
              "             'ever': [1430, 1914],\n",
              "             'seen': [1204, 1429],\n",
              "             'major': [326, 320],\n",
              "             'american': [984, 1486],\n",
              "             'olympus': [33, 17],\n",
              "             'fallen': [159, 91],\n",
              "             'die': [296, 154],\n",
              "             'hard': [1971, 1237],\n",
              "             'white': [528, 433],\n",
              "             'house': [539, 402],\n",
              "             'much': [6851, 4182],\n",
              "             'halfexpected': [3, 1],\n",
              "             'alexander': [41, 61],\n",
              "             'godunov': [2, 0],\n",
              "             'drenched': [22, 15],\n",
              "             'clichï¿½ï¿½': [189, 85],\n",
              "             'threatens': [49, 74],\n",
              "             'completely': [693, 524],\n",
              "             'drab': [135, 19],\n",
              "             'saved': [92, 77],\n",
              "             'frightening': [115, 172],\n",
              "             'fin': [6, 4],\n",
              "             'swooning': [10, 18],\n",
              "             'tweenies': [2, 1],\n",
              "             'screen': [1434, 1498],\n",
              "             'audience': [2540, 2327],\n",
              "             'feel': [5606, 3449],\n",
              "             'embarrassed': [49, 7],\n",
              "             'reaction': [104, 117],\n",
              "             'anybody': [103, 64],\n",
              "             'else': [946, 549],\n",
              "             'going': [1640, 1124],\n",
              "             'take': [2833, 3216],\n",
              "             'ear': [107, 123],\n",
              "             'plug': [43, 12],\n",
              "             'shrieky': [5, 2],\n",
              "             'bit': [1476, 1581],\n",
              "             'captivating': [79, 318],\n",
              "             'superb': [70, 489],\n",
              "             'understated': [26, 226],\n",
              "             'genuinely': [249, 463],\n",
              "             'affecting': [56, 424],\n",
              "             'jeanclaude': [14, 5],\n",
              "             'damme': [27, 23],\n",
              "             'caring': [52, 48],\n",
              "             'paul': [305, 381],\n",
              "             'taken': [466, 397],\n",
              "             'advantage': [56, 85],\n",
              "             'others': [351, 437],\n",
              "             'life': [2425, 4227],\n",
              "             'find': [1658, 1821],\n",
              "             'love': [1881, 3254],\n",
              "             'decent': [479, 364],\n",
              "             'character': [6303, 5361],\n",
              "             'finding': [237, 375],\n",
              "             'redemption': [139, 166],\n",
              "             'odd': [278, 258],\n",
              "             'unlike': [170, 280],\n",
              "             'john': [649, 699],\n",
              "             'patrick': [57, 62],\n",
              "             'shanley': [9, 6],\n",
              "             '1990': [10, 21],\n",
              "             'joe': [167, 179],\n",
              "             'versus': [48, 59],\n",
              "             'volcano': [5, 11],\n",
              "             'viewer': [1181, 1205],\n",
              "             'deep': [405, 567],\n",
              "             'meaningful': [182, 118],\n",
              "             'leave': [621, 693],\n",
              "             'scratching': [46, 12],\n",
              "             'head': [638, 550],\n",
              "             'insipid': [138, 12],\n",
              "             'outdated': [55, 6],\n",
              "             'several': [346, 345],\n",
              "             'celebrate': [42, 55],\n",
              "             'outright': [65, 52],\n",
              "             'abuse': [100, 108],\n",
              "             'come': [3025, 2720],\n",
              "             'across': [483, 399],\n",
              "             'microscopic': [4, 3],\n",
              "             'step': [414, 410],\n",
              "             'right': [1334, 2015],\n",
              "             'direction': [822, 796],\n",
              "             'adam': [332, 233],\n",
              "             'sandler': [355, 98],\n",
              "             'paintbythenumbers': [8, 1],\n",
              "             'still': [1834, 3094],\n",
              "             'lead': [974, 1130],\n",
              "             'entertaining': [834, 2670],\n",
              "             'picture': [1403, 1424],\n",
              "             'breaking': [116, 123],\n",
              "             'get': [4347, 3494],\n",
              "             'expect': [572, 664],\n",
              "             'better': [3006, 2028],\n",
              "             'may': [2272, 3248],\n",
              "             'anticipated': [37, 34],\n",
              "             'animation': [461, 807],\n",
              "             'studio': [418, 385],\n",
              "             'blue': [209, 240],\n",
              "             'sky': [83, 118],\n",
              "             'proven': [37, 42],\n",
              "             'anything': [1771, 917],\n",
              "             'far': [1890, 1662],\n",
              "             're': [2729, 2197],\n",
              "             'big': [1773, 1666],\n",
              "             'league': [113, 95],\n",
              "             'visual': [688, 1105],\n",
              "             'artist': [233, 606],\n",
              "             'frankly': [180, 78],\n",
              "             'pedestrian': [188, 44],\n",
              "             'forced': [386, 158],\n",
              "             'winking': [31, 31],\n",
              "             'everything': [1192, 991],\n",
              "             'goof': [21, 21],\n",
              "             'lark': [31, 41],\n",
              "             'smithstyle': [1, 0],\n",
              "             'injoke': [10, 3],\n",
              "             'incrowd': [3, 0],\n",
              "             'teach': [50, 77],\n",
              "             'act': [871, 803],\n",
              "             'together': [1163, 1106],\n",
              "             'dolly': [8, 8],\n",
              "             'pardon': [16, 11],\n",
              "             'red': [360, 265],\n",
              "             'shoe': [54, 57],\n",
              "             'ca': [2464, 1120],\n",
              "             'turn': [1621, 1675],\n",
              "             'fun': [1788, 3426],\n",
              "             'night': [746, 620],\n",
              "             'deprived': [10, 6],\n",
              "             'tension': [544, 645],\n",
              "             'struggle': [411, 346],\n",
              "             'uphill': [8, 0],\n",
              "             'battle': [425, 457],\n",
              "             'injustice': [27, 82],\n",
              "             'vardalos': [47, 7],\n",
              "             'wrote': [96, 86],\n",
              "             'screenplay': [716, 444],\n",
              "             'also': [1698, 3177],\n",
              "             'built': [194, 176],\n",
              "             'sequel': [1340, 879],\n",
              "             'premise': [1098, 506],\n",
              "             'happened': [197, 128],\n",
              "             'previous': [332, 342],\n",
              "             'recreated': [18, 26],\n",
              "             'second': [815, 661],\n",
              "             'le': [2322, 1515],\n",
              "             'organic': [34, 47],\n",
              "             'memorable': [375, 386],\n",
              "             'profiled': [2, 4],\n",
              "             'bait': [52, 35],\n",
              "             'full': [3081, 4284],\n",
              "             'review': [2442, 3292],\n",
              "             'spanish': [1940, 2878],\n",
              "             'slide': [50, 32],\n",
              "             'instantly': [100, 68],\n",
              "             'realm': [106, 134],\n",
              "             'forgettable': [644, 108],\n",
              "             'campy': [149, 81],\n",
              "             'creepy': [260, 337],\n",
              "             'sinister': [61, 106],\n",
              "             'scary': [560, 459],\n",
              "             'enough': [3643, 2980],\n",
              "             'know': [1796, 1663],\n",
              "             'dylan': [55, 46],\n",
              "             'walked': [43, 24],\n",
              "             'theater': [538, 464],\n",
              "             'll': [1180, 1525],\n",
              "             'interesting': [1583, 957],\n",
              "             'food': [190, 219],\n",
              "             'thought': [607, 512],\n",
              "             'concern': [111, 143],\n",
              "             'todd': [60, 90],\n",
              "             'haynes': [28, 69],\n",
              "             'imaginings': [1, 5],\n",
              "             'rare': [191, 830],\n",
              "             'hindi': [16, 10],\n",
              "             'eating': [52, 33],\n",
              "             'integral': [6, 24],\n",
              "             'doings': [10, 3],\n",
              "             'truly': [703, 901],\n",
              "             'inspired': [291, 435],\n",
              "             'edginess': [10, 12],\n",
              "             'unflinching': [19, 105],\n",
              "             'sensitivity': [39, 130],\n",
              "             'care': [844, 510],\n",
              "             'aided': [7, 58],\n",
              "             'terrific': [186, 849],\n",
              "             'sport': [256, 380],\n",
              "             'powerful': [238, 1158],\n",
              "             'bother': [152, 60],\n",
              "             'dig': [90, 153],\n",
              "             'sheer': [175, 356],\n",
              "             'scale': [145, 239],\n",
              "             'production': [781, 575],\n",
              "             'size': [66, 59],\n",
              "             'venue': [14, 9],\n",
              "             'watch': [1154, 1562],\n",
              "             'need': [1746, 1216],\n",
              "             'einstein': [4, 4],\n",
              "             'see': [2243, 2821],\n",
              "             'enjoyable': [265, 1212],\n",
              "             'occasionally': [513, 540],\n",
              "             'funny': [2267, 3199],\n",
              "             'trip': [340, 414],\n",
              "             'smart': [403, 1171],\n",
              "             'observation': [82, 175],\n",
              "             'yoof': [0, 2],\n",
              "             'addiction': [68, 102],\n",
              "             'technology': [117, 202],\n",
              "             'triumph': [101, 417],\n",
              "             'certain': [378, 433],\n",
              "             'historical': [248, 376],\n",
              "             'emotional': [981, 1574],\n",
              "             'gloss': [98, 46],\n",
              "             'give': [1608, 2176],\n",
              "             'account': [109, 255],\n",
              "             'horseracing': [0, 3],\n",
              "             'appears': [270, 148],\n",
              "             'balance': [184, 442],\n",
              "             'cormac': [14, 18],\n",
              "             'mccarthy': [160, 160],\n",
              "             'thriller': [1950, 2411],\n",
              "             'wacky': [60, 99],\n",
              "             'edge': [303, 518],\n",
              "             'ferrell': [198, 144],\n",
              "             'wildest': [3, 22],\n",
              "             'comedy': [4552, 3950],\n",
              "             'eye': [752, 1042],\n",
              "             'taught': [25, 26],\n",
              "             'morality': [112, 174],\n",
              "             'sophistication': [30, 60],\n",
              "             'spends': [171, 43],\n",
              "             'art': [663, 1214],\n",
              "             'department': [96, 59],\n",
              "             'script': [2460, 1263],\n",
              "             'headquarters': [3, 0],\n",
              "             'daresay': [1, 2],\n",
              "             'splinter': [3, 5],\n",
              "             'eyeball': [24, 11],\n",
              "             'painful': [233, 164],\n",
              "             'sitting': [257, 78],\n",
              "             'debacle': [25, 6],\n",
              "             'backed': [12, 28],\n",
              "             'rap': [36, 43],\n",
              "             'music': [718, 1039],\n",
              "             'good': [4564, 4880],\n",
              "             'faulters': [0, 1],\n",
              "             'rush': [179, 192],\n",
              "             'progress': [109, 91],\n",
              "             'consequence': [86, 120],\n",
              "             'ribisi': [7, 2],\n",
              "             'client': [2, 13],\n",
              "             'quite': [1857, 1755],\n",
              "             'gutwrenching': [7, 54],\n",
              "             'sense': [1841, 1850],\n",
              "             'dread': [115, 166],\n",
              "             'saturates': [3, 4],\n",
              "             'nearly': [788, 468],\n",
              "             'every': [2061, 2057],\n",
              "             'minute': [2119, 964],\n",
              "             'director': [3110, 3819],\n",
              "             'robert': [398, 441],\n",
              "             'egger': [9, 27],\n",
              "             'feature': [1149, 1419],\n",
              "             'debut': [319, 864],\n",
              "             'similar': [201, 162],\n",
              "             'indonesian': [6, 14],\n",
              "             'cop': [260, 209],\n",
              "             'raid': [18, 35],\n",
              "             'remake': [756, 322],\n",
              "             'melancholia': [8, 19],\n",
              "             'ask': [181, 166],\n",
              "             'explanation': [104, 56],\n",
              "             'planet': [158, 197],\n",
              "             'origin': [158, 153],\n",
              "             'preposterous': [227, 92],\n",
              "             'veteran': [87, 141],\n",
              "             'sciencefiction': [73, 103],\n",
              "             'writer': [512, 355],\n",
              "             'everywhere': [58, 87],\n",
              "             'must': [566, 521],\n",
              "             'rolling': [101, 55],\n",
              "             'cancer': [47, 40],\n",
              "             'hand': [536, 649],\n",
              "             'seth': [68, 47],\n",
              "             'rogen': [63, 75],\n",
              "             'posse': [91, 95],\n",
              "             'friend': [388, 381],\n",
              "             'reiser': [0, 6],\n",
              "             'battled': [4, 3],\n",
              "             'survived': [15, 22],\n",
              "             'tourdeforce': [7, 22],\n",
              "             'friendship': [82, 358],\n",
              "             'riot': [40, 57],\n",
              "             'club': [155, 115],\n",
              "             'freeforallbrawl': [0, 1],\n",
              "             'somewhat': [345, 405],\n",
              "             'grating': [81, 12],\n",
              "             'kerfuffle': [0, 1],\n",
              "             'sherfig': [3, 2],\n",
              "             'education': [35, 84],\n",
              "             'lost': [880, 587],\n",
              "             'doubt': [299, 337],\n",
              "             'wade': [33, 13],\n",
              "             'could': [3576, 2533],\n",
              "             'transform': [32, 46],\n",
              "             'thoroughly': [257, 428],\n",
              "             'enticing': [27, 38],\n",
              "             'uncommon': [8, 46],\n",
              "             'naturalism': [12, 42],\n",
              "             'offer': [1044, 1195],\n",
              "             'cinematic': [948, 1194],\n",
              "             'glimpse': [77, 189],\n",
              "             'least': [1500, 1020],\n",
              "             'outside': [205, 191],\n",
              "             'documentary': [632, 2351],\n",
              "             'poor': [490, 113],\n",
              "             'eddie': [74, 57],\n",
              "             'eagle': [22, 50],\n",
              "             'lighthearted': [40, 124],\n",
              "             'inspiring': [95, 283],\n",
              "             'underdog': [55, 105],\n",
              "             'lovable': [22, 113],\n",
              "             'hugh': [50, 64],\n",
              "             'jackman': [55, 82],\n",
              "             'taron': [4, 5],\n",
              "             'egerton': [8, 11],\n",
              "             'title': [1138, 622],\n",
              "             'wax': [25, 20],\n",
              "             'mostly': [973, 686],\n",
              "             'twilight': [230, 107],\n",
              "             'zone': [138, 113],\n",
              "             'friday': [93, 60],\n",
              "             '13th': [48, 24],\n",
              "             'lean': [103, 183],\n",
              "             'gritty': [136, 271],\n",
              "             'filled': [309, 491],\n",
              "             'pizzazz': [19, 23],\n",
              "             'refreshing': [57, 363],\n",
              "             'someone': [719, 389],\n",
              "             'liam': [69, 51],\n",
              "             'neeson': [109, 97],\n",
              "             'revenge': [275, 247],\n",
              "             'keanu': [51, 44],\n",
              "             'reef': [66, 76],\n",
              "             'top': [319, 546],\n",
              "             'form': [371, 670],\n",
              "             'disjointed': [235, 37],\n",
              "             'page': [201, 132],\n",
              "             'allen': [402, 387],\n",
              "             'sketchbook': [10, 1],\n",
              "             'riff': [87, 99],\n",
              "             'underdeveloped': [123, 14],\n",
              "             'idea': [2042, 954],\n",
              "             'thrown': [149, 86],\n",
              "             'commendable': [39, 45],\n",
              "             'exploration': [115, 307],\n",
              "             'heroism': [47, 79],\n",
              "             'post': [44, 61],\n",
              "             '911': [36, 45],\n",
              "             'world': [1561, 2815],\n",
              "             'benhur': [31, 4],\n",
              "             'conceivably': [9, 5],\n",
              "             'bad': [3385, 1051],\n",
              "             'either': [980, 421],\n",
              "             'basically': [304, 148],\n",
              "             'reason': [838, 570],\n",
              "             'made': [2497, 2473],\n",
              "             'cgi': [372, 181],\n",
              "             'fan': [1398, 1811],\n",
              "             '300': [54, 40],\n",
              "             'fanboys': [29, 24],\n",
              "             'goodly': [2, 6],\n",
              "             'dose': [47, 138],\n",
              "             'gratuitous': [85, 37],\n",
              "             'sex': [699, 577],\n",
              "             'nudity': [104, 66],\n",
              "             'ultraviolent': [31, 25],\n",
              "             'combat': [66, 79],\n",
              "             'arguing': [17, 31],\n",
              "             'clever': [477, 758],\n",
              "             'concept': [563, 305],\n",
              "             'anchor': [31, 81],\n",
              "             'franchise': [994, 758],\n",
              "             'razzledazzle': [18, 15],\n",
              "             'misdirection': [16, 14],\n",
              "             'inane': [144, 14],\n",
              "             'rendered': [125, 137],\n",
              "             'sometimes': [659, 1152],\n",
              "             'laughable': [186, 21],\n",
              "             'atmosphere': [254, 329],\n",
              "             'deadserious': [6, 3],\n",
              "             'reverence': [19, 42],\n",
              "             'exploitation': [186, 122],\n",
              "             'disarming': [7, 50],\n",
              "             'goofiness': [15, 23],\n",
              "             'transgressive': [24, 26],\n",
              "             'vulgarity': [51, 30],\n",
              "             'eventually': [404, 215],\n",
              "             'image': [392, 627],\n",
              "             'shockingly': [72, 46],\n",
              "             'serious': [568, 516],\n",
              "             'played': [410, 391],\n",
              "             'uncomfortable': [140, 192],\n",
              "             'laugh': [1604, 1289],\n",
              "             'whimsical': [89, 129],\n",
              "             'fiery': [34, 44],\n",
              "             'romantic': [1086, 1104],\n",
              "             'easily': [413, 617],\n",
              "             'idiosyncrasy': [21, 25],\n",
              "             'nobody': [245, 131],\n",
              "             'live': [547, 548],\n",
              "             'nowheresville': [3, 0],\n",
              "             'talk': [391, 277],\n",
              "             'squared': [5, 0],\n",
              "             'failure': [375, 129],\n",
              "             'launch': [51, 35],\n",
              "             'thankfully': [42, 144],\n",
              "             'bolstered': [12, 47],\n",
              "             'quirky': [175, 285],\n",
              "             'actually': [1016, 868],\n",
              "             'surprisingly': [314, 836],\n",
              "             'engaging': [407, 1057],\n",
              "             'silliest': [22, 6],\n",
              "             'summer': [475, 980],\n",
              "             'greenberg': [21, 25],\n",
              "             'unique': [215, 588],\n",
              "             'experience': [833, 1561],\n",
              "             'cinephiles': [10, 27],\n",
              "             'insatiable': [14, 15],\n",
              "             'appetite': [46, 42],\n",
              "             'characterdriven': [37, 104],\n",
              "             'small': [354, 757],\n",
              "             'doctor': [58, 77],\n",
              "             'strange': [284, 475],\n",
              "             'really': [2953, 2025],\n",
              "             'well': [2096, 3154],\n",
              "             'guilt': [81, 147],\n",
              "             'manages': [534, 954],\n",
              "             'travel': [112, 116],\n",
              "             'unexpected': [113, 416],\n",
              "             'impregnated': [0, 2],\n",
              "             'melancholy': [64, 243],\n",
              "             'perverse': [79, 87],\n",
              "             'stefan': [3, 7],\n",
              "             'zweig': [7, 10],\n",
              "             'farewell': [19, 43],\n",
              "             'europe': [45, 52],\n",
              "             'fine': [641, 926],\n",
              "             'display': [271, 320],\n",
              "             'craftsmanship': [45, 72],\n",
              "             'infatuated': [8, 5],\n",
              "             'beauty': [308, 696],\n",
              "             'intelligence': [213, 317],\n",
              "             'engage': [171, 84],\n",
              "             'level': [914, 805],\n",
              "             'aspires': [93, 42],\n",
              "             'nerve': [88, 106],\n",
              "             'true': [819, 1308],\n",
              "             'sort': [857, 704],\n",
              "             'dynamite': [40, 63],\n",
              "             'first': [2412, 2630],\n",
              "             'third': [591, 427],\n",
              "             'bite': [164, 104],\n",
              "             'chew': [79, 44],\n",
              "             'suffers': [486, 121],\n",
              "             'incomprehensible': [103, 20],\n",
              "             'vague': [105, 44],\n",
              "             'rendering': [55, 45],\n",
              "             'whole': [1185, 887],\n",
              "             'thing': [3267, 2588],\n",
              "             'realistic': [107, 227],\n",
              "             'future': [290, 475],\n",
              "             'anguished': [12, 20],\n",
              "             'achingly': [25, 97],\n",
              "             'incandescent': [3, 13],\n",
              "             'comingofage': [117, 333],\n",
              "             'shattering': [6, 68],\n",
              "             'stereotype': [266, 103],\n",
              "             'lgbtq': [7, 10],\n",
              "             'community': [53, 259],\n",
              "             'neonazis': [3, 0],\n",
              "             'speak': [127, 162],\n",
              "             'renewed': [6, 18],\n",
              "             'confidence': [52, 149],\n",
              "             'wave': [134, 152],\n",
              "             'antisemitism': [5, 3],\n",
              "             'roil': [2, 0],\n",
              "             'justify': [179, 72],\n",
              "             'using': [166, 263],\n",
              "             'hatred': [18, 25],\n",
              "             'mere': [155, 136],\n",
              "             'device': [183, 89],\n",
              "             'questionable': [93, 40],\n",
              "             'treatment': [207, 170],\n",
              "             'hurt': [142, 162],\n",
              "             'important': [348, 661],\n",
              "             'autism': [7, 13],\n",
              "             'released': [130, 139],\n",
              "             '1997': [18, 22],\n",
              "             'name': [518, 381],\n",
              "             'arguably': [38, 137],\n",
              "             'large': [157, 221],\n",
              "             'subject': [798, 1130],\n",
              "             'matter': [760, 806],\n",
              "             'decade': [269, 442],\n",
              "             'later': [171, 191],\n",
              "             'shock': [317, 281],\n",
              "             'factor': [129, 100],\n",
              "             'gone': [508, 336],\n",
              "             'left': [1023, 544],\n",
              "             '2012': [68, 83],\n",
              "             'ride': [417, 809],\n",
              "             'long': [2206, 1692],\n",
              "             'think': [1603, 1248],\n",
              "             'silly': [813, 571],\n",
              "             'honour': [27, 36],\n",
              "             'downtrodden': [6, 12],\n",
              "             'financial': [58, 82],\n",
              "             'racial': [99, 84],\n",
              "             'political': [491, 799],\n",
              "             'minority': [21, 22],\n",
              "             'rich': [257, 677],\n",
              "             'southern': [65, 82],\n",
              "             'republican': [12, 13],\n",
              "             'carry': [269, 420],\n",
              "             'gun': [258, 176],\n",
              "             'afraid': [114, 137],\n",
              "             'threaten': [21, 24],\n",
              "             'black': [728, 927],\n",
              "             'video': [672, 292],\n",
              "             'unhappy': [46, 16],\n",
              "             'brawny': [11, 17],\n",
              "             'bigscreen': [121, 102],\n",
              "             'talent': [787, 725],\n",
              "             'nonsensical': [188, 27],\n",
              "             'newbie': [8, 7],\n",
              "             'mediocre': [507, 54],\n",
              "             'action': [2949, 3146],\n",
              "             'cheaplooking': [33, 1],\n",
              "             'dreary': [228, 26],\n",
              "             'cell': [77, 48],\n",
              "             'hobbled': [25, 6],\n",
              "             'entertainment': [693, 1067],\n",
              "             'landscape': [133, 286],\n",
              "             'already': [760, 391],\n",
              "             'lousy': [95, 18],\n",
              "             'zombie': [346, 246],\n",
              "             'hivemind': [2, 0],\n",
              "             'metaphorically': [6, 11],\n",
              "             'realized': [91, 164],\n",
              "             'patchwork': [29, 15],\n",
              "             'set': [1340, 1388],\n",
              "             'piece': [1224, 1750],\n",
              "             'held': [109, 118],\n",
              "             'hip': [106, 88],\n",
              "             'soundtrack': [268, 259],\n",
              "             'horror': [1674, 2097],\n",
              "             'neat': [59, 84],\n",
              "             'tidy': [48, 48],\n",
              "             'haphazard': [62, 12],\n",
              "             'unorganized': [1, 1],\n",
              "             'scare': [454, 315],\n",
              "             'dialogue': [1386, 809],\n",
              "             'rival': [50, 73],\n",
              "             'fingernail': [8, 10],\n",
              "             'chalkboard': [10, 0],\n",
              "             'beyond': [740, 637],\n",
              "             'untidy': [6, 9],\n",
              "             'simply': [1106, 742],\n",
              "             'unnecessary': [292, 82],\n",
              "             'ultimately': [1727, 925],\n",
              "             'dramedy': [105, 136],\n",
              "             'lesson': [342, 300],\n",
              "             'learned': [84, 70],\n",
              "             'patientwhere': [1, 0],\n",
              "             'person': [298, 323],\n",
              "             'enlightenment': [24, 21],\n",
              "             'bourne': [160, 124],\n",
              "             'identity': [246, 265],\n",
              "             'resident': [56, 34],\n",
              "             'evil': [325, 321],\n",
              "             'hooked': [17, 35],\n",
              "             'back': [1418, 1486],\n",
              "             '2002': [35, 40],\n",
              "             'baby': [217, 229],\n",
              "             'bring': [408, 430],\n",
              "             'doorstep': [6, 6],\n",
              "             'begging': [34, 19],\n",
              "             'many': [2700, 2332],\n",
              "             'remarkable': [150, 590],\n",
              "             'david': [358, 472],\n",
              "             'social': [426, 727],\n",
              "             'network': [73, 60],\n",
              "             'constant': [141, 144],\n",
              "             'realization': [24, 43],\n",
              "             'exceedingly': [60, 46],\n",
              "             'though': [1910, 2076],\n",
              "             'weight': [292, 217],\n",
              "             'gravitas': [69, 54],\n",
              "             'solipsistic': [7, 7],\n",
              "             'narcissistic': [40, 13],\n",
              "             'inhuman': [12, 15],\n",
              "             'morris': [46, 83],\n",
              "             'say': [2005, 1297],\n",
              "             'disposable': [153, 48],\n",
              "             'lacerating': [2, 22],\n",
              "             'tragic': [130, 294],\n",
              "             'prank': [25, 20],\n",
              "             'ruinous': [7, 4],\n",
              "             'laughing': [133, 182],\n",
              "             'wintry': [8, 22],\n",
              "             'midwestern': [7, 12],\n",
              "             'college': [116, 81],\n",
              "             'setting': [367, 416],\n",
              "             'ideal': [101, 163],\n",
              "             'showcase': [128, 336],\n",
              "             'hostility': [12, 31],\n",
              "             'outsider': [30, 84],\n",
              "             'garcï¿½ï¿½a': [5, 15],\n",
              "             'bernal': [2, 17],\n",
              "             'parry': [1, 3],\n",
              "             'barely': [621, 197],\n",
              "             'disguised': [48, 46],\n",
              "             'scorn': [3, 9],\n",
              "             'irresistible': [28, 179],\n",
              "             'chari': [4, 1],\n",
              "             'rocky': [108, 136],\n",
              "             'adonis': [0, 6],\n",
              "             'return': [405, 493],\n",
              "             'match': [252, 313],\n",
              "             'solid': [370, 992],\n",
              "             'yorgos': [3, 20],\n",
              "             'lanthimos': [13, 58],\n",
              "             'shown': [104, 82],\n",
              "             'master': [176, 406],\n",
              "             'metaphorical': [23, 30],\n",
              "             'drama': [2191, 3177],\n",
              "             'explores': [39, 233],\n",
              "             'abstract': [49, 56],\n",
              "             'moral': [370, 444],\n",
              "             'distinction': [56, 37],\n",
              "             'responsibility': [46, 91],\n",
              "             'holocaust': [34, 82],\n",
              "             'survival': [69, 195],\n",
              "             'son': [174, 241],\n",
              "             'saul': [8, 17],\n",
              "             'stunning': [157, 627],\n",
              "             'portrait': [272, 1196],\n",
              "             'specific': [90, 171],\n",
              "             'extremis': [1, 3],\n",
              "             'radically': [7, 16],\n",
              "             'reduce': [20, 22],\n",
              "             'success': [311, 397],\n",
              "             'refined': [17, 44],\n",
              "             'reserved': [25, 25],\n",
              "             'haunting': [97, 386],\n",
              "             'finer': [13, 18],\n",
              "             'nondocumentary': [0, 2],\n",
              "             'deepest': [12, 39],\n",
              "             'stain': [8, 13],\n",
              "             'twentiethcentury': [0, 2],\n",
              "             'history': [730, 1092],\n",
              "             'arthur': [109, 72],\n",
              "             'legend': [258, 226],\n",
              "             'sword': [59, 52],\n",
              "             'elephant': [35, 42],\n",
              "             'castle': [51, 41],\n",
              "             'snake': [44, 39],\n",
              "             'river': [60, 99],\n",
              "             'sandwiched': [11, 6],\n",
              "             'ridiculous': [461, 243],\n",
              "             'hate': [266, 213],\n",
              "             'hollywood': [1205, 1136],\n",
              "             'liberal': [98, 47],\n",
              "             '2001': [40, 67],\n",
              "             'challenge': [137, 304],\n",
              "             'kubrick': [34, 92],\n",
              "             'met': [79, 52],\n",
              "             'unquestioned': [4, 2],\n",
              "             'callahan': [10, 12],\n",
              "             'politically': [70, 82],\n",
              "             'incorrect': [18, 20],\n",
              "             'cathartic': [25, 70],\n",
              "             'reader': [50, 49],\n",
              "             'resolutely': [27, 22],\n",
              "             'bland': [772, 52],\n",
              "             'machine': [236, 165],\n",
              "             'bear': [260, 210],\n",
              "             'resemblance': [44, 16],\n",
              "             'james': [409, 524],\n",
              "             'gunn': [17, 37],\n",
              "             'entire': [423, 407],\n",
              "             'mcu': [8, 62],\n",
              "             'thus': [97, 85],\n",
              "             'continues': [157, 284],\n",
              "             'contain': [65, 39],\n",
              "             'irreverent': [46, 102],\n",
              "             'humor': [1055, 1291],\n",
              "             'boast': [171, 184],\n",
              "             'visually': [371, 626],\n",
              "             'emotionally': [365, 614],\n",
              "             'embrace': [158, 278],\n",
              "             'different': [514, 689],\n",
              "             'often': [1673, 1650],\n",
              "             'guzmï¿½ï¿½n': [5, 6],\n",
              "             'reduced': [127, 30],\n",
              "             'sight': [256, 289],\n",
              "             'gagthough': [1, 0],\n",
              "             'fair': [168, 189],\n",
              "             'outfitted': [3, 2],\n",
              "             'airbrushed': [6, 4],\n",
              "             'bruno': [17, 28],\n",
              "             'mar': [88, 44],\n",
              "             'tsh': [1, 0],\n",
              "             'firsttime': [110, 138],\n",
              "             'gilroy': [32, 36],\n",
              "             'demonstrates': [66, 152],\n",
              "             'assurance': [5, 43],\n",
              "             'audacious': [48, 156],\n",
              "             'tonal': [117, 69],\n",
              "             'shift': [167, 175],\n",
              "             'stellar': [56, 131],\n",
              "             'elicits': [28, 37],\n",
              "             'cast': [1863, 2227],\n",
              "             'crew': [111, 165],\n",
              "             'wanted': [332, 219],\n",
              "             'side': [476, 659],\n",
              "             'internally': [2, 6],\n",
              "             'relationship': [467, 781],\n",
              "             'getting': [582, 432],\n",
              "             'catapulted': [2, 4],\n",
              "             'fame': [99, 114],\n",
              "             'definitely': [286, 519],\n",
              "             'tell': [831, 811],\n",
              "             'go': [2961, 2324],\n",
              "             'download': [6, 4],\n",
              "             'pity': [134, 62],\n",
              "             'wood': [155, 109],\n",
              "             'cumming': [4, 7],\n",
              "             'kelly': [64, 67],\n",
              "             'palladio': [2, 0],\n",
              "             'rest': [578, 332],\n",
              "             'content': [603, 394],\n",
              "             'profanity': [124, 92],\n",
              "             'violence': [829, 829],\n",
              "             'etc': [151, 116],\n",
              "             'parent': [468, 512],\n",
              "             'available': [261, 221],\n",
              "             'passion': [301, 386],\n",
              "             'palpable': [61, 140],\n",
              "             'material': [1342, 861],\n",
              "             'thirdhand': [3, 1],\n",
              "             'whereas': [45, 13],\n",
              "             'wan': [100, 80],\n",
              "             'perfunctory': [112, 16],\n",
              "             'riseborough': [4, 11],\n",
              "             'transforms': [29, 68],\n",
              "             'dramatically': [171, 96],\n",
              "             'expanding': [13, 27],\n",
              "             'role': [741, 1220],\n",
              "             'neither': [809, 213],\n",
              "             'hesitant': [5, 13],\n",
              "             'adapted': [84, 90],\n",
              "             'tom': [289, 325],\n",
              "             'bradby': [1, 0],\n",
              "             'novel': [630, 580],\n",
              "             'sluggish': [164, 23],\n",
              "             'tempo': [28, 28],\n",
              "             'support': [125, 111],\n",
              "             'filling': [49, 37],\n",
              "             'greying': [2, 4],\n",
              "             'temple': [32, 29],\n",
              "             'convincing': [237, 270],\n",
              "             'tedious': [707, 45],\n",
              "             'fight': [408, 396],\n",
              "             'sequence': [840, 750],\n",
              "             'seemed': [172, 105],\n",
              "             'mountain': [108, 140],\n",
              "             'fudge': [9, 4],\n",
              "             'ice': [218, 122],\n",
              "             'cream': [42, 39],\n",
              "             'pancake': [15, 8],\n",
              "             'overshot': [4, 1],\n",
              "             'mark': [550, 504],\n",
              "             'looked': [96, 61],\n",
              "             'airborne': [11, 7],\n",
              "             'pall': [17, 4],\n",
              "             'city': [399, 531],\n",
              "             'golly': [3, 1],\n",
              "             'kid': [1187, 1163],\n",
              "             'plucky': [27, 27],\n",
              "             ...})"
            ]
          },
          "metadata": {},
          "execution_count": 89
        }
      ]
    },
    {
      "cell_type": "markdown",
      "source": [
        "# Probability calculation"
      ],
      "metadata": {
        "id": "ZGN67-au616m"
      }
    },
    {
      "cell_type": "markdown",
      "source": [
        "**P(fresh) and P(rotten)**"
      ],
      "metadata": {
        "id": "QU22L7uSExGB"
      }
    },
    {
      "cell_type": "code",
      "source": [
        "prob_rotten=train_set['Freshness'].value_counts(normalize=True)['rotten']\n",
        "prob_fresh=train_set['Freshness'].value_counts(normalize=True)['fresh']\n",
        "print(f'P(fresh) = {prob_fresh} P(rotten) = {prob_rotten}')"
      ],
      "metadata": {
        "colab": {
          "base_uri": "https://localhost:8080/"
        },
        "id": "KrgWDP6E_veJ",
        "outputId": "0e644cc1-a655-41f6-9f3c-2f67d45b9fb2"
      },
      "execution_count": 23,
      "outputs": [
        {
          "output_type": "stream",
          "name": "stdout",
          "text": [
            "P(fresh) = 0.4999625 P(rotten) = 0.5000375\n"
          ]
        }
      ]
    },
    {
      "cell_type": "markdown",
      "source": [
        "**P(word)**"
      ],
      "metadata": {
        "id": "1B4EF5ObCRB_"
      }
    },
    {
      "cell_type": "code",
      "source": [
        "def word_alone_prob(word):\n",
        "  return ((word_dict[word][1]/num_pos_words))+((word_dict[word][0]/num_neg_words))"
      ],
      "metadata": {
        "id": "JUpOMPx-B35m"
      },
      "execution_count": 24,
      "outputs": []
    },
    {
      "cell_type": "code",
      "source": [
        "word_alone_prob('adonis')"
      ],
      "metadata": {
        "colab": {
          "base_uri": "https://localhost:8080/"
        },
        "id": "p_BBp4SSCIri",
        "outputId": "a4b013fc-84c5-4f9e-a51f-3989fdc0f10d"
      },
      "execution_count": 90,
      "outputs": [
        {
          "output_type": "execute_result",
          "data": {
            "text/plain": [
              "3.8509749705881785e-06"
            ]
          },
          "metadata": {},
          "execution_count": 90
        }
      ]
    },
    {
      "cell_type": "markdown",
      "source": [
        "**P(word|fresh) and P(word|rotten)**"
      ],
      "metadata": {
        "id": "R65acd03E0-y"
      }
    },
    {
      "cell_type": "code",
      "source": [
        "def word_prob(reviewType, word):\n",
        "  if reviewType == 'fresh':\n",
        "    return math.log(word_dict[word][1]/num_pos_words)\n",
        "  else:\n",
        "    return math.log(word_dict[word][0]/num_neg_words)"
      ],
      "metadata": {
        "id": "xxOOypQxehfc"
      },
      "execution_count": 94,
      "outputs": []
    },
    {
      "cell_type": "code",
      "source": [
        "word_prob('rotten','adonis')"
      ],
      "metadata": {
        "colab": {
          "base_uri": "https://localhost:8080/",
          "height": 252
        },
        "id": "galELGpjelYW",
        "outputId": "c9086f4a-1c41-4215-9496-17d407aba43b"
      },
      "execution_count": 95,
      "outputs": [
        {
          "output_type": "error",
          "ename": "ValueError",
          "evalue": "ignored",
          "traceback": [
            "\u001b[0;31m---------------------------------------------------------------------------\u001b[0m",
            "\u001b[0;31mValueError\u001b[0m                                Traceback (most recent call last)",
            "\u001b[0;32m<ipython-input-95-b23d3559b6e0>\u001b[0m in \u001b[0;36m<cell line: 1>\u001b[0;34m()\u001b[0m\n\u001b[0;32m----> 1\u001b[0;31m \u001b[0mword_prob\u001b[0m\u001b[0;34m(\u001b[0m\u001b[0;34m'rotten'\u001b[0m\u001b[0;34m,\u001b[0m\u001b[0;34m'adonis'\u001b[0m\u001b[0;34m)\u001b[0m\u001b[0;34m\u001b[0m\u001b[0;34m\u001b[0m\u001b[0m\n\u001b[0m",
            "\u001b[0;32m<ipython-input-94-efa2d5922037>\u001b[0m in \u001b[0;36mword_prob\u001b[0;34m(reviewType, word)\u001b[0m\n\u001b[1;32m      3\u001b[0m     \u001b[0;32mreturn\u001b[0m \u001b[0mmath\u001b[0m\u001b[0;34m.\u001b[0m\u001b[0mlog\u001b[0m\u001b[0;34m(\u001b[0m\u001b[0mword_dict\u001b[0m\u001b[0;34m[\u001b[0m\u001b[0mword\u001b[0m\u001b[0;34m]\u001b[0m\u001b[0;34m[\u001b[0m\u001b[0;36m1\u001b[0m\u001b[0;34m]\u001b[0m\u001b[0;34m/\u001b[0m\u001b[0mnum_pos_words\u001b[0m\u001b[0;34m)\u001b[0m\u001b[0;34m\u001b[0m\u001b[0;34m\u001b[0m\u001b[0m\n\u001b[1;32m      4\u001b[0m   \u001b[0;32melse\u001b[0m\u001b[0;34m:\u001b[0m\u001b[0;34m\u001b[0m\u001b[0;34m\u001b[0m\u001b[0m\n\u001b[0;32m----> 5\u001b[0;31m     \u001b[0;32mreturn\u001b[0m \u001b[0mmath\u001b[0m\u001b[0;34m.\u001b[0m\u001b[0mlog\u001b[0m\u001b[0;34m(\u001b[0m\u001b[0mword_dict\u001b[0m\u001b[0;34m[\u001b[0m\u001b[0mword\u001b[0m\u001b[0;34m]\u001b[0m\u001b[0;34m[\u001b[0m\u001b[0;36m0\u001b[0m\u001b[0;34m]\u001b[0m\u001b[0;34m/\u001b[0m\u001b[0mnum_neg_words\u001b[0m\u001b[0;34m)\u001b[0m\u001b[0;34m\u001b[0m\u001b[0;34m\u001b[0m\u001b[0m\n\u001b[0m",
            "\u001b[0;31mValueError\u001b[0m: math domain error"
          ]
        }
      ]
    },
    {
      "cell_type": "code",
      "source": [
        "def word_prob(reviewType, word):\n",
        "  if reviewType == 'fresh':\n",
        "    return (word_dict[word][1]/num_pos_words)\n",
        "  else:\n",
        "    return (word_dict[word][0]/num_neg_words)\n",
        "  "
      ],
      "metadata": {
        "id": "O2qgdCQO3Hql"
      },
      "execution_count": 96,
      "outputs": []
    },
    {
      "cell_type": "code",
      "source": [
        "word_prob('fresh','adonis')"
      ],
      "metadata": {
        "colab": {
          "base_uri": "https://localhost:8080/"
        },
        "id": "89brr4SC8H-h",
        "outputId": "ae175f56-3a4f-4d8f-ad74-2327cee87fb8"
      },
      "execution_count": 92,
      "outputs": [
        {
          "output_type": "execute_result",
          "data": {
            "text/plain": [
              "3.8509749705881785e-06"
            ]
          },
          "metadata": {},
          "execution_count": 92
        }
      ]
    },
    {
      "cell_type": "code",
      "source": [
        "word_prob('rotten','adonis')"
      ],
      "metadata": {
        "colab": {
          "base_uri": "https://localhost:8080/"
        },
        "id": "MnkVSO2SOXhH",
        "outputId": "44cee774-4f55-4d3b-b533-baa3e1e91230"
      },
      "execution_count": 97,
      "outputs": [
        {
          "output_type": "execute_result",
          "data": {
            "text/plain": [
              "0.0"
            ]
          },
          "metadata": {},
          "execution_count": 97
        }
      ]
    },
    {
      "cell_type": "markdown",
      "source": [
        "**P(fresh|review) and P(rotten|review)**"
      ],
      "metadata": {
        "id": "eW0oZCmzFDPJ"
      }
    },
    {
      "cell_type": "code",
      "source": [
        "def withoutSmoothing_probability(reviewType, review):\n",
        "  if reviewType == 'fresh':\n",
        "    prob=math.log(pos_reviews/len(rt_df))\n",
        "  else:\n",
        "    prob=math.log(neg_reviews/len(rt_df))\n",
        "  preprocessed_reviews=[]\n",
        "  preprocessed_reviews=preprocessing(review)\n",
        "  for word in preprocessed_reviews:\n",
        "     prob=prob+word_prob(reviewType,word)\n",
        "  return prob\n",
        "    "
      ],
      "metadata": {
        "id": "D0bFQFr3Rc5j"
      },
      "execution_count": 31,
      "outputs": []
    },
    {
      "cell_type": "markdown",
      "source": [
        "# Class Prediction"
      ],
      "metadata": {
        "id": "h8F2-6oFFLQB"
      }
    },
    {
      "cell_type": "code",
      "source": [
        "def predict_class_withoutSmoothing(sentence):\n",
        " if withoutSmoothing_probability('fresh',sentence)*prob_fresh > withoutSmoothing_probability('rotten',sentence)*prob_rotten:\n",
        "   return \"fresh\"\n",
        " else:\n",
        "    return \"rotten\""
      ],
      "metadata": {
        "id": "r-drSdvhRvQL"
      },
      "execution_count": 32,
      "outputs": []
    },
    {
      "cell_type": "markdown",
      "source": [
        "# Dev and Test accuracy without Smoothing"
      ],
      "metadata": {
        "id": "wMw_iipHFPWA"
      }
    },
    {
      "cell_type": "code",
      "source": [
        "correct_pred=0\n",
        "incorrect_pred=0\n",
        "freshness=list(dev_set['Freshness'])\n",
        "for i, word in enumerate(list(dev_set['Review'])):\n",
        "  if predict_class_withoutSmoothing(word) == freshness[i]:\n",
        "    correct_pred+=1\n",
        "  else:\n",
        "    incorrect_pred+=1"
      ],
      "metadata": {
        "id": "OKslnxYjRrYL"
      },
      "execution_count": 33,
      "outputs": []
    },
    {
      "cell_type": "code",
      "source": [
        "print(\"Accuracy on Dev dataset: \",correct_pred/(correct_pred+incorrect_pred))"
      ],
      "metadata": {
        "colab": {
          "base_uri": "https://localhost:8080/"
        },
        "id": "V9w07UcNTkIB",
        "outputId": "d881a8e3-99da-4b72-d487-db664d1a244d"
      },
      "execution_count": 34,
      "outputs": [
        {
          "output_type": "stream",
          "name": "stdout",
          "text": [
            "Accuracy on Dev dataset:  0.6402638888888889\n"
          ]
        }
      ]
    },
    {
      "cell_type": "code",
      "source": [
        "correct_pred=0\n",
        "incorrect_pred=0\n",
        "freshness=list(test_set['Freshness'])\n",
        "for i, word in enumerate(list(test_set['Review'])):\n",
        "  if predict_class_withoutSmoothing(word) == freshness[i]:\n",
        "    correct_pred+=1\n",
        "  else:\n",
        "    incorrect_pred+=1"
      ],
      "metadata": {
        "id": "LZU6aVVU_aWo"
      },
      "execution_count": 35,
      "outputs": []
    },
    {
      "cell_type": "code",
      "source": [
        "print(\"Accuracy on Test dataset: \",correct_pred/(correct_pred+incorrect_pred))"
      ],
      "metadata": {
        "colab": {
          "base_uri": "https://localhost:8080/"
        },
        "id": "5NK1vulT_gty",
        "outputId": "cdbdab57-af6e-45e9-a610-f07c0ae64645"
      },
      "execution_count": 36,
      "outputs": [
        {
          "output_type": "stream",
          "name": "stdout",
          "text": [
            "Accuracy on Test dataset:  0.6420238095238096\n"
          ]
        }
      ]
    },
    {
      "cell_type": "markdown",
      "source": [
        "# Experiments"
      ],
      "metadata": {
        "id": "IeX6BW4vgGA4"
      }
    },
    {
      "cell_type": "markdown",
      "source": [
        "# Applied Smoothing"
      ],
      "metadata": {
        "id": "NRfCFNCaCVUT"
      }
    },
    {
      "cell_type": "markdown",
      "source": [
        "**P(word)**"
      ],
      "metadata": {
        "id": "OUDPhg7tFeni"
      }
    },
    {
      "cell_type": "code",
      "source": [
        "alpha=1\n",
        "def word_only_prob(word,num_words):\n",
        "  return (math.log((word_dict[word][1]+alpha)/(num_pos_words+num_words)))+(math.log((word_dict[word][0]+alpha)/(num_neg_words+num_words)))"
      ],
      "metadata": {
        "id": "oDVwSfEqCXmA"
      },
      "execution_count": 37,
      "outputs": []
    },
    {
      "cell_type": "code",
      "source": [
        "word_only_prob('adonis',tot_words)"
      ],
      "metadata": {
        "colab": {
          "base_uri": "https://localhost:8080/"
        },
        "id": "g3g42dh-DT2I",
        "outputId": "c862ac79-94fd-47be-fb42-52cb751fb277"
      },
      "execution_count": 101,
      "outputs": [
        {
          "output_type": "execute_result",
          "data": {
            "text/plain": [
              "-22.741571395618212"
            ]
          },
          "metadata": {},
          "execution_count": 101
        }
      ]
    },
    {
      "cell_type": "markdown",
      "source": [
        "**P(fresh|word) and P(rotten|word)**"
      ],
      "metadata": {
        "id": "xbFKwCiGFhQ5"
      }
    },
    {
      "cell_type": "code",
      "source": [
        "def cond_prob(reviewType, word,num_words):\n",
        "  if reviewType == 'fresh':\n",
        "    return math.log((word_dict[word][1]+alpha)/(num_pos_words+(num_words)))\n",
        "  else:\n",
        "    return math.log((word_dict[word][0]+alpha)/(num_neg_words+(num_words)))"
      ],
      "metadata": {
        "id": "0SVsL_m3EGh9"
      },
      "execution_count": 39,
      "outputs": []
    },
    {
      "cell_type": "code",
      "source": [
        "cond_prob('rotten','adonis',tot_words)"
      ],
      "metadata": {
        "colab": {
          "base_uri": "https://localhost:8080/"
        },
        "id": "ajy_fONQEUQz",
        "outputId": "a42c47b3-e2d0-4c4c-d70c-24119d0e5d22"
      },
      "execution_count": 102,
      "outputs": [
        {
          "output_type": "execute_result",
          "data": {
            "text/plain": [
              "-11.370785697809106"
            ]
          },
          "metadata": {},
          "execution_count": 102
        }
      ]
    },
    {
      "cell_type": "markdown",
      "source": [
        "**P(fresh|review) and P(rotten|review)**"
      ],
      "metadata": {
        "id": "oSVzwHJ8FlhN"
      }
    },
    {
      "cell_type": "code",
      "source": [
        "def review_probability(reviewType, review,n):\n",
        "  if reviewType == 'fresh':\n",
        "    prob=math.log(pos_reviews/len(rt_df))\n",
        "  else:\n",
        "    prob=math.log(neg_reviews/len(rt_df))\n",
        "  preprocessed_reviews=[]\n",
        "  preprocessed_reviews=preprocessing(review)\n",
        "  for word in preprocessed_reviews:\n",
        "     prob=prob+cond_prob(reviewType,word,n)\n",
        "  return prob\n",
        "    "
      ],
      "metadata": {
        "id": "FbyMVg91LTGK"
      },
      "execution_count": 41,
      "outputs": []
    },
    {
      "cell_type": "markdown",
      "source": [
        "**Comparing probabilities of fresh and rotten class**"
      ],
      "metadata": {
        "id": "Bv6ySKkaFsep"
      }
    },
    {
      "cell_type": "code",
      "source": [
        "print(review_probability('fresh','Story inspired by historical events that illustrates the process whereby enemies can become friends.',tot_words))\n",
        "print(review_probability('rotten','Story inspired by historical events that illustrates the process whereby enemies can become friends.',tot_words))"
      ],
      "metadata": {
        "colab": {
          "base_uri": "https://localhost:8080/"
        },
        "id": "TLYGlzBUVm5C",
        "outputId": "ca1e1259-338a-4516-f88f-97b8ab96bec7"
      },
      "execution_count": 43,
      "outputs": [
        {
          "output_type": "stream",
          "name": "stdout",
          "text": [
            "-89.63943568807176\n",
            "-92.5862366173494\n"
          ]
        }
      ]
    },
    {
      "cell_type": "markdown",
      "source": [
        "**Class prediction**"
      ],
      "metadata": {
        "id": "U1r7do57F4m4"
      }
    },
    {
      "cell_type": "code",
      "source": [
        "def predict_class(sentence,n):\n",
        " if review_probability('fresh',sentence,n)+prob_fresh > review_probability('rotten',sentence,n)+prob_rotten:\n",
        "   return \"fresh\"\n",
        " else:\n",
        "    return \"rotten\""
      ],
      "metadata": {
        "id": "9hTd5G8uUEps"
      },
      "execution_count": 44,
      "outputs": []
    },
    {
      "cell_type": "code",
      "source": [
        "predict_class('Story inspired by historical events that illustrates the process whereby enemies can become friends.',tot_words)"
      ],
      "metadata": {
        "colab": {
          "base_uri": "https://localhost:8080/",
          "height": 35
        },
        "id": "VN69O_WJg7VN",
        "outputId": "f75cdd7c-3fd1-475b-a725-dc865303308a"
      },
      "execution_count": 45,
      "outputs": [
        {
          "output_type": "execute_result",
          "data": {
            "text/plain": [
              "'fresh'"
            ],
            "application/vnd.google.colaboratory.intrinsic+json": {
              "type": "string"
            }
          },
          "metadata": {},
          "execution_count": 45
        }
      ]
    },
    {
      "cell_type": "markdown",
      "source": [
        "# Deriving top 10 words that predict each class"
      ],
      "metadata": {
        "id": "h-VloQybF7lM"
      }
    },
    {
      "cell_type": "code",
      "source": [
        "def topmost_prob(pos_word):\n",
        "  p={}\n",
        "  for i in range(len(pos_word)):\n",
        "   num=(cond_prob('fresh',pos_word[i],tot_words)*prob_fresh)/word_only_prob(pos_word[i],tot_words)\n",
        "   p[pos_word[i]]=num\n",
        "  return p"
      ],
      "metadata": {
        "id": "4NxIlYVii7Fo"
      },
      "execution_count": 46,
      "outputs": []
    },
    {
      "cell_type": "code",
      "source": [
        "def topmost_negprob(neg_word):\n",
        "  p={}\n",
        "  for i in range(len(neg_word)):\n",
        "   num=(cond_prob('rotten',neg_word[i],tot_words)*prob_rotten)/word_only_prob(neg_word[i],tot_words)\n",
        "   p[neg_word[i]]=num\n",
        "  return p"
      ],
      "metadata": {
        "id": "BnphxZPAoa1b"
      },
      "execution_count": 47,
      "outputs": []
    },
    {
      "cell_type": "markdown",
      "source": [
        "**Top 10 words that predict P(class=fresh|word)**"
      ],
      "metadata": {
        "id": "N6AGui5PoTFF"
      }
    },
    {
      "cell_type": "code",
      "source": [
        "p=topmost_prob(pos_words)\n",
        "top10_words=sorted(p.items(),key=lambda x:x[1],reverse=True)\n",
        "print(\"Top 10 words         P[class='fresh'|word]\")\n",
        "for i, (k,v) in enumerate(top10_words[:10]):\n",
        " print(k,\"                    \", v)\n"
      ],
      "metadata": {
        "colab": {
          "base_uri": "https://localhost:8080/"
        },
        "id": "qafISNqvj8E9",
        "outputId": "c7e1c605-6500-4801-9638-17ca77a07711"
      },
      "execution_count": 48,
      "outputs": [
        {
          "output_type": "stream",
          "name": "stdout",
          "text": [
            "Top 10 words         P[class='fresh'|word]\n",
            "squanders                      0.2975141753283332\n",
            "unfunny                      0.29629741974171003\n",
            "listless                      0.2888362185776123\n",
            "lifeless                      0.28856959276265\n",
            "tedious                      0.28789892810905726\n",
            "halfhearted                      0.2877956368797236\n",
            "bland                      0.2876346392275121\n",
            "poorly                      0.2863784102066019\n",
            "subpar                      0.28624381767500867\n",
            "uninspired                      0.28624152829706606\n"
          ]
        }
      ]
    },
    {
      "cell_type": "markdown",
      "source": [
        "**Top 10 words that predict P(class=rotten|word)**"
      ],
      "metadata": {
        "id": "XnVO9y3coioV"
      }
    },
    {
      "cell_type": "code",
      "source": [
        "p=topmost_negprob(neg_words)\n",
        "top10_words=sorted(p.items(),key=lambda x:x[1],reverse=True)\n",
        "print(\"Top 10 words         P[class='rotten'|word]\")\n",
        "for i, (k,v) in enumerate(top10_words[:10]):\n",
        " print(k,\"                    \", v)"
      ],
      "metadata": {
        "colab": {
          "base_uri": "https://localhost:8080/"
        },
        "id": "Z-ZGkwLwol5Y",
        "outputId": "6a441267-ff0f-40ae-faad-522fb70c4c60"
      },
      "execution_count": 49,
      "outputs": [
        {
          "output_type": "stream",
          "name": "stdout",
          "text": [
            "Top 10 words         P[class='rotten'|word]\n",
            "masterfully                      0.2834180899913894\n",
            "skilfully                      0.280659689429058\n",
            "heartbreakingly                      0.2803665702400752\n",
            "razorsharp                      0.2803665702400752\n",
            "koreeda                      0.28021733843813434\n",
            "deftly                      0.2801657605032665\n",
            "dory                      0.2800664723664708\n",
            "holofcener                      0.279120588253796\n",
            "acutely                      0.27906078603659323\n",
            "gem                      0.2790389506383279\n"
          ]
        }
      ]
    },
    {
      "cell_type": "markdown",
      "source": [
        " **Accuracy on dev dataset**"
      ],
      "metadata": {
        "id": "c7LMKsEtZ95r"
      }
    },
    {
      "cell_type": "code",
      "source": [
        "correct_pred=0\n",
        "incorrect_pred=0\n",
        "freshness=list(dev_set['Freshness'])\n",
        "for i, word in enumerate(list(dev_set['Review'])):\n",
        "  if predict_class(word,tot_words) == freshness[i]:\n",
        "    correct_pred+=1\n",
        "  else:\n",
        "    incorrect_pred+=1"
      ],
      "metadata": {
        "id": "io3KZ0gyZ9Sx"
      },
      "execution_count": 50,
      "outputs": []
    },
    {
      "cell_type": "code",
      "source": [
        "print(\"Accuracy on Dev dataset: \",correct_pred/(correct_pred+incorrect_pred))"
      ],
      "metadata": {
        "colab": {
          "base_uri": "https://localhost:8080/"
        },
        "id": "5iPAkVGHahuM",
        "outputId": "68223c5c-a96b-4c5e-ecdb-72a43cf53fa5"
      },
      "execution_count": 51,
      "outputs": [
        {
          "output_type": "stream",
          "name": "stdout",
          "text": [
            "Accuracy on Dev dataset:  0.7985277777777777\n"
          ]
        }
      ]
    },
    {
      "cell_type": "markdown",
      "source": [
        "**Testing on Test dataset**"
      ],
      "metadata": {
        "id": "mQAsFS08pZWP"
      }
    },
    {
      "cell_type": "code",
      "source": [
        "correct_pred=0\n",
        "incorrect_pred=0\n",
        "freshness=list(test_set['Freshness'])\n",
        "for i, word in enumerate(list(test_set['Review'])):\n",
        "  if predict_class(word,tot_words) == freshness[i]:\n",
        "    correct_pred+=1\n",
        "  else:\n",
        "    incorrect_pred+=1"
      ],
      "metadata": {
        "id": "skFd-0UhpjYa"
      },
      "execution_count": 52,
      "outputs": []
    },
    {
      "cell_type": "code",
      "source": [
        "print(\"Accuracy on Test dataset: \",correct_pred/(correct_pred+incorrect_pred))"
      ],
      "metadata": {
        "colab": {
          "base_uri": "https://localhost:8080/"
        },
        "id": "P7t8mAyepogo",
        "outputId": "5651c88e-2632-45cc-a7bd-8621b389374a"
      },
      "execution_count": 53,
      "outputs": [
        {
          "output_type": "stream",
          "name": "stdout",
          "text": [
            "Accuracy on Test dataset:  0.7978988095238095\n"
          ]
        }
      ]
    },
    {
      "cell_type": "markdown",
      "source": [
        "# After removing rare words (occurence<5)"
      ],
      "metadata": {
        "id": "eSQ7DiOGywh6"
      }
    },
    {
      "cell_type": "code",
      "source": [
        "word_dict_copy=word_dict.copy()\n",
        "count=0\n",
        "for i, (k,v) in enumerate(word_dict_copy.items()):\n",
        "  if (v[0]<5 and v[1]<5):\n",
        "    del(k)\n",
        "    count+=1"
      ],
      "metadata": {
        "id": "fevJkML-ywNI"
      },
      "execution_count": 64,
      "outputs": []
    },
    {
      "cell_type": "code",
      "source": [
        "print(f\"Total number of rare words: {count}\")\n",
        "no_rarewords=tot_words-count"
      ],
      "metadata": {
        "colab": {
          "base_uri": "https://localhost:8080/"
        },
        "id": "PlWEMDYDy6GZ",
        "outputId": "a4a0b10a-8da6-4b06-d522-c45394869008"
      },
      "execution_count": 65,
      "outputs": [
        {
          "output_type": "stream",
          "name": "stdout",
          "text": [
            "Total number of rare words: 61475\n"
          ]
        }
      ]
    },
    {
      "cell_type": "code",
      "source": [
        "print(f'Total number of words after removing rarewords: {no_rarewords}')"
      ],
      "metadata": {
        "colab": {
          "base_uri": "https://localhost:8080/"
        },
        "id": "AZf8DJwhy64a",
        "outputId": "d0c267b9-31c9-4643-fce7-6e6e48325dc2"
      },
      "execution_count": 66,
      "outputs": [
        {
          "output_type": "stream",
          "name": "stdout",
          "text": [
            "Total number of words after removing rarewords: 25275\n"
          ]
        }
      ]
    },
    {
      "cell_type": "markdown",
      "source": [
        "**Accuracy on dev dataset**"
      ],
      "metadata": {
        "id": "dQvR_y5aGWQv"
      }
    },
    {
      "cell_type": "code",
      "source": [
        "correct_pred=0\n",
        "incorrect_pred=0\n",
        "freshness=list(dev_set['Freshness'])\n",
        "for i, word in enumerate(list(dev_set['Review'])):\n",
        "  if predict_class(word,no_rarewords) == freshness[i]:\n",
        "    correct_pred+=1\n",
        "  else:\n",
        "    incorrect_pred+=1"
      ],
      "metadata": {
        "id": "1vOda3C82HGL"
      },
      "execution_count": 67,
      "outputs": []
    },
    {
      "cell_type": "code",
      "source": [
        "print(\"Accuracy on Dev dataset: \",correct_pred/(correct_pred+incorrect_pred))"
      ],
      "metadata": {
        "colab": {
          "base_uri": "https://localhost:8080/"
        },
        "id": "SCyLVY334l2B",
        "outputId": "9cd96c1c-a6d5-4fe0-dc93-708d3743e703"
      },
      "execution_count": 68,
      "outputs": [
        {
          "output_type": "stream",
          "name": "stdout",
          "text": [
            "Accuracy on Dev dataset:  0.7985833333333333\n"
          ]
        }
      ]
    },
    {
      "cell_type": "markdown",
      "source": [
        "**Accuracy on Test dataset**"
      ],
      "metadata": {
        "id": "NRJtaGyvGbcf"
      }
    },
    {
      "cell_type": "code",
      "source": [
        "correct_pred=0\n",
        "incorrect_pred=0\n",
        "freshness=list(test_set['Freshness'])\n",
        "for i, word in enumerate(list(test_set['Review'])):\n",
        "  if predict_class(word,no_rarewords) == freshness[i]:\n",
        "    correct_pred+=1\n",
        "  else:\n",
        "    incorrect_pred+=1"
      ],
      "metadata": {
        "id": "oE1jNrvA4qvx"
      },
      "execution_count": 69,
      "outputs": []
    },
    {
      "cell_type": "code",
      "source": [
        "print(\"Accuracy on Test dataset: \",correct_pred/(correct_pred+incorrect_pred))"
      ],
      "metadata": {
        "colab": {
          "base_uri": "https://localhost:8080/"
        },
        "id": "YoFCK1wh4ueo",
        "outputId": "cff5048d-f849-4e0a-f804-34b4624cd206"
      },
      "execution_count": 70,
      "outputs": [
        {
          "output_type": "stream",
          "name": "stdout",
          "text": [
            "Accuracy on Test dataset:  0.7979880952380952\n"
          ]
        }
      ]
    },
    {
      "cell_type": "markdown",
      "source": [
        "# Considering small dataset where total number of words=7000"
      ],
      "metadata": {
        "id": "EVqAAgvgsdp5"
      }
    },
    {
      "cell_type": "markdown",
      "source": [
        "**Selecting first 7000 most frequent occuring words from vocabulary**"
      ],
      "metadata": {
        "id": "GSWhGbW9GluP"
      }
    },
    {
      "cell_type": "code",
      "source": [
        "word_dict = sorted(word_dict.items(),  key=lambda x : x[1][0] + x[1][1], reverse=True)[:7000]"
      ],
      "metadata": {
        "id": "1DKQQRMAsh5p"
      },
      "execution_count": 71,
      "outputs": []
    },
    {
      "cell_type": "code",
      "source": [
        "word_dict = defaultdict(lambda: [0, 0], word_dict)"
      ],
      "metadata": {
        "id": "w1nL7InetR8h"
      },
      "execution_count": 72,
      "outputs": []
    },
    {
      "cell_type": "markdown",
      "source": [
        "**Dev Accuracy**"
      ],
      "metadata": {
        "id": "VkZROUKgGzb3"
      }
    },
    {
      "cell_type": "code",
      "source": [
        "correct_pred=0\n",
        "incorrect_pred=0\n",
        "freshness=list(dev_set['Freshness'])\n",
        "for i, word in enumerate(list(dev_set['Review'])):\n",
        "  if predict_class(word,15000) == freshness[i]:\n",
        "    correct_pred+=1\n",
        "  else:\n",
        "    incorrect_pred+=1"
      ],
      "metadata": {
        "id": "pKq0-Q4rthup"
      },
      "execution_count": 73,
      "outputs": []
    },
    {
      "cell_type": "code",
      "source": [
        "print(\"Accuracy on Dev dataset: \",correct_pred/(correct_pred+incorrect_pred))"
      ],
      "metadata": {
        "colab": {
          "base_uri": "https://localhost:8080/"
        },
        "id": "zrDU_W69ttb4",
        "outputId": "5ac8d0d0-8e78-4edf-b0f9-ec28bc3d74c3"
      },
      "execution_count": 74,
      "outputs": [
        {
          "output_type": "stream",
          "name": "stdout",
          "text": [
            "Accuracy on Dev dataset:  0.773125\n"
          ]
        }
      ]
    },
    {
      "cell_type": "markdown",
      "source": [
        "**Test Accuracy**"
      ],
      "metadata": {
        "id": "ROjD9hfnHLS3"
      }
    },
    {
      "cell_type": "code",
      "source": [
        "correct_pred=0\n",
        "incorrect_pred=0\n",
        "freshness=list(test_set['Freshness'])\n",
        "for i, word in enumerate(list(test_set['Review'])):\n",
        "  if predict_class(word,15000) == freshness[i]:\n",
        "    correct_pred+=1\n",
        "  else:\n",
        "    incorrect_pred+=1"
      ],
      "metadata": {
        "id": "AaCBAmgp89M8"
      },
      "execution_count": 75,
      "outputs": []
    },
    {
      "cell_type": "code",
      "source": [
        "print(\"Accuracy on Test dataset: \",correct_pred/(correct_pred+incorrect_pred))"
      ],
      "metadata": {
        "colab": {
          "base_uri": "https://localhost:8080/"
        },
        "id": "tgmEzNQM8_n7",
        "outputId": "0255fe8d-b25a-44d4-a7f6-a18607c1b836"
      },
      "execution_count": 76,
      "outputs": [
        {
          "output_type": "stream",
          "name": "stdout",
          "text": [
            "Accuracy on Test dataset:  0.7742916666666667\n"
          ]
        }
      ]
    },
    {
      "cell_type": "markdown",
      "source": [
        "# Comparing Dev and Test accuracies across different models"
      ],
      "metadata": {
        "id": "T5oVAjRbHOXG"
      }
    },
    {
      "cell_type": "code",
      "source": [
        "import pandas as pd\n",
        "data={'Dev accuracy':[0.6402638888888889,0.7985277777777777,  0.7985833333333333, 0.773125],\n",
        "      'Test accuracy':[0.6420238095238096,0.7978988095238095,  0.7979880952380952,0.7742916666666667]}\n",
        "df=pd.DataFrame(data,index=['Before smoothing',\"after smoothing\",\"No rare words\",\"total words=7000\"])\n",
        "print(df)"
      ],
      "metadata": {
        "colab": {
          "base_uri": "https://localhost:8080/"
        },
        "id": "b53qvW2-2ujm",
        "outputId": "2429f29d-a9bf-4c09-ab10-e02faedff7a2"
      },
      "execution_count": 103,
      "outputs": [
        {
          "output_type": "stream",
          "name": "stdout",
          "text": [
            "                  Dev accuracy  Test accuracy\n",
            "Before smoothing      0.640264       0.642024\n",
            "after smoothing       0.798528       0.797899\n",
            "No rare words         0.798583       0.797988\n",
            "total words=7000      0.773125       0.774292\n"
          ]
        }
      ]
    },
    {
      "cell_type": "code",
      "source": [
        "accuracies_dev=[0.6402638888888889,0.7985277777777777,  0.7985833333333333, 0.773125]\n",
        "accuracies_test=[0.6420238095238096,0.7978988095238095,  0.7979880952380952,0.7742916666666667]\n",
        "types=[\"before smoothing\",\"after smoothing\",\"No rare words\",\"total words=7000\"]\n",
        "import matplotlib.pyplot as plt\n",
        "plt.title(\"Dev accuracy Vs Test accuracy\")\n",
        "plt.plot(types,accuracies_dev,'g',label=\"Dev accuracy\")\n",
        "plt.plot(types,accuracies_test,'orange',label=\"Test accuracy\")\n",
        "plt.xlabel('Model types')\n",
        "plt.ylabel('Accuracies')\n",
        "plt.legend()\n",
        "plt.show()"
      ],
      "metadata": {
        "colab": {
          "base_uri": "https://localhost:8080/",
          "height": 472
        },
        "id": "OmvIn_aw-8-b",
        "outputId": "7d28b017-b196-43e3-c7cb-b540bd61e956"
      },
      "execution_count": 104,
      "outputs": [
        {
          "output_type": "display_data",
          "data": {
            "text/plain": [
              "<Figure size 640x480 with 1 Axes>"
            ],
            "image/png": "[encoded data removed]"
          },
          "metadata": {}
        }
      ]
    }
  ]
}