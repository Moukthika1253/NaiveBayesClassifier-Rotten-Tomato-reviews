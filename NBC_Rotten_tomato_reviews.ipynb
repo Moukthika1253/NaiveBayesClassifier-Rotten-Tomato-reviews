{
  "nbformat": 4,
  "nbformat_minor": 0,
  "metadata": {
    "colab": {
      "provenance": [],
      "gpuType": "T4",
      "authorship_tag": "ABX9TyOwg8VRqA3tjvqJpD+BkdE3",
      "include_colab_link": true
    },
    "kernelspec": {
      "name": "python3",
      "display_name": "Python 3"
    },
    "language_info": {
      "name": "python"
    },
    "gpuClass": "standard"
  },
  "cells": [
    {
      "cell_type": "markdown",
      "metadata": {
        "id": "view-in-github",
        "colab_type": "text"
      },
      "source": [
        "<a href=\"https://colab.research.google.com/github/Moukthika1253/NaiveBayesClassifier-Rotten-Tomato-reviews/blob/main/NBC_Rotten_tomato_reviews.ipynb\" target=\"_parent\"><img src=\"https://colab.research.google.com/assets/colab-badge.svg\" alt=\"Open In Colab\"/></a>"
      ]
    },
    {
      "cell_type": "markdown",
      "source": [
        "# Importing libraries"
      ],
      "metadata": {
        "id": "Uer3WS6JDqQN"
      }
    },
    {
      "cell_type": "code",
      "source": [
        "import pandas as pd\n",
        "from sklearn.model_selection import train_test_split\n",
        "import string,re\n",
        "import nltk\n",
        "from nltk import word_tokenize\n",
        "'''nltk.download('punkt')\n",
        "nltk.download('wordnet')\n",
        "nltk.download('stopwords')'''\n",
        "from nltk.corpus import stopwords\n",
        "from nltk.stem import WordNetLemmatizer\n",
        "from collections import defaultdict\n",
        "from nltk.stem import PorterStemmer\n",
        "import math"
      ],
      "metadata": {
        "id": "O1rkjVHivjZx"
      },
      "execution_count": 484,
      "outputs": []
    },
    {
      "cell_type": "code",
      "source": [
        "rt_df=pd.read_csv('/content/rt_reviews.csv',encoding='latin-1')"
      ],
      "metadata": {
        "id": "bke476NOwqU4"
      },
      "execution_count": 407,
      "outputs": []
    },
    {
      "cell_type": "markdown",
      "source": [
        "# Splitting dataset into Train-50%, Dev-20%, Test-30%"
      ],
      "metadata": {
        "id": "03YQSkKmDv2U"
      }
    },
    {
      "cell_type": "code",
      "source": [
        "X_train,X_remaining, y_train, y_remaining= train_test_split(rt_df['Review'],rt_df['Freshness'],train_size=0.5)\n",
        "X_test, X_dev, y_test, y_dev = train_test_split(X_remaining,y_remaining,test_size=0.3)\n",
        "train_set=pd.concat([X_train,y_train],axis=1).reset_index(drop=True)\n",
        "dev_set=pd.concat([X_dev,y_dev],axis=1).reset_index(drop=True)\n",
        "test_set=pd.concat([X_test,y_test],axis=1).reset_index(drop=True)\n",
        "print(f\"Train set size:  \",train_set.shape)\n",
        "print(f\"Dev set size:  \",dev_set.shape)\n",
        "print(f\"Test set size:  \",test_set.shape)"
      ],
      "metadata": {
        "colab": {
          "base_uri": "https://localhost:8080/"
        },
        "id": "B5YIO6oKTbsX",
        "outputId": "a9c43c9b-5093-4c01-f69c-1c279c819a35"
      },
      "execution_count": 408,
      "outputs": [
        {
          "output_type": "stream",
          "name": "stdout",
          "text": [
            "Train set size:   (240000, 2)\n",
            "Dev set size:   (72000, 2)\n",
            "Test set size:   (168000, 2)\n"
          ]
        }
      ]
    },
    {
      "cell_type": "code",
      "source": [
        "train_set.head()"
      ],
      "metadata": {
        "colab": {
          "base_uri": "https://localhost:8080/",
          "height": 206
        },
        "id": "X7Q8nv9QVKGr",
        "outputId": "603c505b-ec1c-4d38-c108-f72968ad5796"
      },
      "execution_count": 409,
      "outputs": [
        {
          "output_type": "execute_result",
          "data": {
            "text/plain": [
              "                                              Review Freshness\n",
              "0                 At least it's not dreadfully dull.    rotten\n",
              "1   A dog's breakfast that is supremely enjoyable...    rotten\n",
              "2   As far as date night movies go, you could do ...     fresh\n",
              "3   Damning, though perhaps not entirely in the w...     fresh\n",
              "4   Reds is a richly textured drama that successf...     fresh"
            ],
            "text/html": [
              "\n",
              "  <div id=\"df-46446623-3af2-411e-ab96-3b599058d52c\">\n",
              "    <div class=\"colab-df-container\">\n",
              "      <div>\n",
              "<style scoped>\n",
              "    .dataframe tbody tr th:only-of-type {\n",
              "        vertical-align: middle;\n",
              "    }\n",
              "\n",
              "    .dataframe tbody tr th {\n",
              "        vertical-align: top;\n",
              "    }\n",
              "\n",
              "    .dataframe thead th {\n",
              "        text-align: right;\n",
              "    }\n",
              "</style>\n",
              "<table border=\"1\" class=\"dataframe\">\n",
              "  <thead>\n",
              "    <tr style=\"text-align: right;\">\n",
              "      <th></th>\n",
              "      <th>Review</th>\n",
              "      <th>Freshness</th>\n",
              "    </tr>\n",
              "  </thead>\n",
              "  <tbody>\n",
              "    <tr>\n",
              "      <th>0</th>\n",
              "      <td>At least it's not dreadfully dull.</td>\n",
              "      <td>rotten</td>\n",
              "    </tr>\n",
              "    <tr>\n",
              "      <th>1</th>\n",
              "      <td>A dog's breakfast that is supremely enjoyable...</td>\n",
              "      <td>rotten</td>\n",
              "    </tr>\n",
              "    <tr>\n",
              "      <th>2</th>\n",
              "      <td>As far as date night movies go, you could do ...</td>\n",
              "      <td>fresh</td>\n",
              "    </tr>\n",
              "    <tr>\n",
              "      <th>3</th>\n",
              "      <td>Damning, though perhaps not entirely in the w...</td>\n",
              "      <td>fresh</td>\n",
              "    </tr>\n",
              "    <tr>\n",
              "      <th>4</th>\n",
              "      <td>Reds is a richly textured drama that successf...</td>\n",
              "      <td>fresh</td>\n",
              "    </tr>\n",
              "  </tbody>\n",
              "</table>\n",
              "</div>\n",
              "      <button class=\"colab-df-convert\" onclick=\"convertToInteractive('df-46446623-3af2-411e-ab96-3b599058d52c')\"\n",
              "              title=\"Convert this dataframe to an interactive table.\"\n",
              "              style=\"display:none;\">\n",
              "        \n",
              "  <svg xmlns=\"http://www.w3.org/2000/svg\" height=\"24px\"viewBox=\"0 0 24 24\"\n",
              "       width=\"24px\">\n",
              "    <path d=\"M0 0h24v24H0V0z\" fill=\"none\"/>\n",
              "    <path d=\"M18.56 5.44l.94 2.06.94-2.06 2.06-.94-2.06-.94-.94-2.06-.94 2.06-2.06.94zm-11 1L8.5 8.5l.94-2.06 2.06-.94-2.06-.94L8.5 2.5l-.94 2.06-2.06.94zm10 10l.94 2.06.94-2.06 2.06-.94-2.06-.94-.94-2.06-.94 2.06-2.06.94z\"/><path d=\"M17.41 7.96l-1.37-1.37c-.4-.4-.92-.59-1.43-.59-.52 0-1.04.2-1.43.59L10.3 9.45l-7.72 7.72c-.78.78-.78 2.05 0 2.83L4 21.41c.39.39.9.59 1.41.59.51 0 1.02-.2 1.41-.59l7.78-7.78 2.81-2.81c.8-.78.8-2.07 0-2.86zM5.41 20L4 18.59l7.72-7.72 1.47 1.35L5.41 20z\"/>\n",
              "  </svg>\n",
              "      </button>\n",
              "      \n",
              "  <style>\n",
              "    .colab-df-container {\n",
              "      display:flex;\n",
              "      flex-wrap:wrap;\n",
              "      gap: 12px;\n",
              "    }\n",
              "\n",
              "    .colab-df-convert {\n",
              "      background-color: #E8F0FE;\n",
              "      border: none;\n",
              "      border-radius: 50%;\n",
              "      cursor: pointer;\n",
              "      display: none;\n",
              "      fill: #1967D2;\n",
              "      height: 32px;\n",
              "      padding: 0 0 0 0;\n",
              "      width: 32px;\n",
              "    }\n",
              "\n",
              "    .colab-df-convert:hover {\n",
              "      background-color: #E2EBFA;\n",
              "      box-shadow: 0px 1px 2px rgba(60, 64, 67, 0.3), 0px 1px 3px 1px rgba(60, 64, 67, 0.15);\n",
              "      fill: #174EA6;\n",
              "    }\n",
              "\n",
              "    [theme=dark] .colab-df-convert {\n",
              "      background-color: #3B4455;\n",
              "      fill: #D2E3FC;\n",
              "    }\n",
              "\n",
              "    [theme=dark] .colab-df-convert:hover {\n",
              "      background-color: #434B5C;\n",
              "      box-shadow: 0px 1px 3px 1px rgba(0, 0, 0, 0.15);\n",
              "      filter: drop-shadow(0px 1px 2px rgba(0, 0, 0, 0.3));\n",
              "      fill: #FFFFFF;\n",
              "    }\n",
              "  </style>\n",
              "\n",
              "      <script>\n",
              "        const buttonEl =\n",
              "          document.querySelector('#df-46446623-3af2-411e-ab96-3b599058d52c button.colab-df-convert');\n",
              "        buttonEl.style.display =\n",
              "          google.colab.kernel.accessAllowed ? 'block' : 'none';\n",
              "\n",
              "        async function convertToInteractive(key) {\n",
              "          const element = document.querySelector('#df-46446623-3af2-411e-ab96-3b599058d52c');\n",
              "          const dataTable =\n",
              "            await google.colab.kernel.invokeFunction('convertToInteractive',\n",
              "                                                     [key], {});\n",
              "          if (!dataTable) return;\n",
              "\n",
              "          const docLinkHtml = 'Like what you see? Visit the ' +\n",
              "            '<a target=\"_blank\" href=https://colab.research.google.com/notebooks/data_table.ipynb>data table notebook</a>'\n",
              "            + ' to learn more about interactive tables.';\n",
              "          element.innerHTML = '';\n",
              "          dataTable['output_type'] = 'display_data';\n",
              "          await google.colab.output.renderOutput(dataTable, element);\n",
              "          const docLink = document.createElement('div');\n",
              "          docLink.innerHTML = docLinkHtml;\n",
              "          element.appendChild(docLink);\n",
              "        }\n",
              "      </script>\n",
              "    </div>\n",
              "  </div>\n",
              "  "
            ]
          },
          "metadata": {},
          "execution_count": 409
        }
      ]
    },
    {
      "cell_type": "markdown",
      "source": [
        "# Pre-processing"
      ],
      "metadata": {
        "id": "ec_ZlpVCDi-X"
      }
    },
    {
      "cell_type": "code",
      "source": [
        "def preprocessing(review):\n",
        "  stop_words=stopwords.words('english')\n",
        "  word_lemmatizer=WordNetLemmatizer()\n",
        "  tokenized_words=[(word) for word in word_tokenize(review)]\n",
        "  words=[word.lower() for word in tokenized_words if word.lower() not in stop_words]\n",
        "  for i in range(len(words)):\n",
        "   words[i]=''.join([word for word in words[i] if word not in (string.punctuation)])\n",
        "  no_emptywords=[word for word in words if word]\n",
        "  no_extraspace=[re.sub(r'\\s\\s+', '',word) for word in no_emptywords]\n",
        "  lemmatized_words=[word_lemmatizer.lemmatize(word) for word in no_extraspace]\n",
        "  return lemmatized_words \n",
        "  "
      ],
      "metadata": {
        "id": "d2C7nplmCvQE"
      },
      "execution_count": 410,
      "outputs": []
    },
    {
      "cell_type": "code",
      "source": [
        "train_set['Review']=train_set['Review'].apply(preprocessing)\n",
        "train_set.head()"
      ],
      "metadata": {
        "id": "jBnj-_3DOtnA",
        "colab": {
          "base_uri": "https://localhost:8080/",
          "height": 206
        },
        "outputId": "beb18794-fc1c-4d0a-dc71-b36c5aa436ac"
      },
      "execution_count": 411,
      "outputs": [
        {
          "output_type": "execute_result",
          "data": {
            "text/plain": [
              "                                              Review Freshness\n",
              "0                       [least, s, dreadfully, dull]    rotten\n",
              "1  [dog, s, breakfast, supremely, enjoyable, firs...    rotten\n",
              "2  [far, date, night, movie, go, could, far, wors...     fresh\n",
              "3  [damning, though, perhaps, entirely, way, inte...     fresh\n",
              "4  [red, richly, textured, drama, successfully, b...     fresh"
            ],
            "text/html": [
              "\n",
              "  <div id=\"df-69672ac0-ca75-4ed4-a06f-48a16e629818\">\n",
              "    <div class=\"colab-df-container\">\n",
              "      <div>\n",
              "<style scoped>\n",
              "    .dataframe tbody tr th:only-of-type {\n",
              "        vertical-align: middle;\n",
              "    }\n",
              "\n",
              "    .dataframe tbody tr th {\n",
              "        vertical-align: top;\n",
              "    }\n",
              "\n",
              "    .dataframe thead th {\n",
              "        text-align: right;\n",
              "    }\n",
              "</style>\n",
              "<table border=\"1\" class=\"dataframe\">\n",
              "  <thead>\n",
              "    <tr style=\"text-align: right;\">\n",
              "      <th></th>\n",
              "      <th>Review</th>\n",
              "      <th>Freshness</th>\n",
              "    </tr>\n",
              "  </thead>\n",
              "  <tbody>\n",
              "    <tr>\n",
              "      <th>0</th>\n",
              "      <td>[least, s, dreadfully, dull]</td>\n",
              "      <td>rotten</td>\n",
              "    </tr>\n",
              "    <tr>\n",
              "      <th>1</th>\n",
              "      <td>[dog, s, breakfast, supremely, enjoyable, firs...</td>\n",
              "      <td>rotten</td>\n",
              "    </tr>\n",
              "    <tr>\n",
              "      <th>2</th>\n",
              "      <td>[far, date, night, movie, go, could, far, wors...</td>\n",
              "      <td>fresh</td>\n",
              "    </tr>\n",
              "    <tr>\n",
              "      <th>3</th>\n",
              "      <td>[damning, though, perhaps, entirely, way, inte...</td>\n",
              "      <td>fresh</td>\n",
              "    </tr>\n",
              "    <tr>\n",
              "      <th>4</th>\n",
              "      <td>[red, richly, textured, drama, successfully, b...</td>\n",
              "      <td>fresh</td>\n",
              "    </tr>\n",
              "  </tbody>\n",
              "</table>\n",
              "</div>\n",
              "      <button class=\"colab-df-convert\" onclick=\"convertToInteractive('df-69672ac0-ca75-4ed4-a06f-48a16e629818')\"\n",
              "              title=\"Convert this dataframe to an interactive table.\"\n",
              "              style=\"display:none;\">\n",
              "        \n",
              "  <svg xmlns=\"http://www.w3.org/2000/svg\" height=\"24px\"viewBox=\"0 0 24 24\"\n",
              "       width=\"24px\">\n",
              "    <path d=\"M0 0h24v24H0V0z\" fill=\"none\"/>\n",
              "    <path d=\"M18.56 5.44l.94 2.06.94-2.06 2.06-.94-2.06-.94-.94-2.06-.94 2.06-2.06.94zm-11 1L8.5 8.5l.94-2.06 2.06-.94-2.06-.94L8.5 2.5l-.94 2.06-2.06.94zm10 10l.94 2.06.94-2.06 2.06-.94-2.06-.94-.94-2.06-.94 2.06-2.06.94z\"/><path d=\"M17.41 7.96l-1.37-1.37c-.4-.4-.92-.59-1.43-.59-.52 0-1.04.2-1.43.59L10.3 9.45l-7.72 7.72c-.78.78-.78 2.05 0 2.83L4 21.41c.39.39.9.59 1.41.59.51 0 1.02-.2 1.41-.59l7.78-7.78 2.81-2.81c.8-.78.8-2.07 0-2.86zM5.41 20L4 18.59l7.72-7.72 1.47 1.35L5.41 20z\"/>\n",
              "  </svg>\n",
              "      </button>\n",
              "      \n",
              "  <style>\n",
              "    .colab-df-container {\n",
              "      display:flex;\n",
              "      flex-wrap:wrap;\n",
              "      gap: 12px;\n",
              "    }\n",
              "\n",
              "    .colab-df-convert {\n",
              "      background-color: #E8F0FE;\n",
              "      border: none;\n",
              "      border-radius: 50%;\n",
              "      cursor: pointer;\n",
              "      display: none;\n",
              "      fill: #1967D2;\n",
              "      height: 32px;\n",
              "      padding: 0 0 0 0;\n",
              "      width: 32px;\n",
              "    }\n",
              "\n",
              "    .colab-df-convert:hover {\n",
              "      background-color: #E2EBFA;\n",
              "      box-shadow: 0px 1px 2px rgba(60, 64, 67, 0.3), 0px 1px 3px 1px rgba(60, 64, 67, 0.15);\n",
              "      fill: #174EA6;\n",
              "    }\n",
              "\n",
              "    [theme=dark] .colab-df-convert {\n",
              "      background-color: #3B4455;\n",
              "      fill: #D2E3FC;\n",
              "    }\n",
              "\n",
              "    [theme=dark] .colab-df-convert:hover {\n",
              "      background-color: #434B5C;\n",
              "      box-shadow: 0px 1px 3px 1px rgba(0, 0, 0, 0.15);\n",
              "      filter: drop-shadow(0px 1px 2px rgba(0, 0, 0, 0.3));\n",
              "      fill: #FFFFFF;\n",
              "    }\n",
              "  </style>\n",
              "\n",
              "      <script>\n",
              "        const buttonEl =\n",
              "          document.querySelector('#df-69672ac0-ca75-4ed4-a06f-48a16e629818 button.colab-df-convert');\n",
              "        buttonEl.style.display =\n",
              "          google.colab.kernel.accessAllowed ? 'block' : 'none';\n",
              "\n",
              "        async function convertToInteractive(key) {\n",
              "          const element = document.querySelector('#df-69672ac0-ca75-4ed4-a06f-48a16e629818');\n",
              "          const dataTable =\n",
              "            await google.colab.kernel.invokeFunction('convertToInteractive',\n",
              "                                                     [key], {});\n",
              "          if (!dataTable) return;\n",
              "\n",
              "          const docLinkHtml = 'Like what you see? Visit the ' +\n",
              "            '<a target=\"_blank\" href=https://colab.research.google.com/notebooks/data_table.ipynb>data table notebook</a>'\n",
              "            + ' to learn more about interactive tables.';\n",
              "          element.innerHTML = '';\n",
              "          dataTable['output_type'] = 'display_data';\n",
              "          await google.colab.output.renderOutput(dataTable, element);\n",
              "          const docLink = document.createElement('div');\n",
              "          docLink.innerHTML = docLinkHtml;\n",
              "          element.appendChild(docLink);\n",
              "        }\n",
              "      </script>\n",
              "    </div>\n",
              "  </div>\n",
              "  "
            ]
          },
          "metadata": {},
          "execution_count": 411
        }
      ]
    },
    {
      "cell_type": "markdown",
      "source": [
        "**Calculating Total number of words in Vocab**"
      ],
      "metadata": {
        "id": "jV3kyVbq52LS"
      }
    },
    {
      "cell_type": "code",
      "source": [
        "review_list=[]\n",
        "for i,review in train_set['Review'].items():\n",
        "  for word in review:\n",
        "    review_list.append(word)\n",
        "review_list=list(set(review_list))\n",
        "tot_words=len(review_list)\n",
        "print(f\"total number of words in the list: {tot_words}\")"
      ],
      "metadata": {
        "colab": {
          "base_uri": "https://localhost:8080/"
        },
        "id": "lpflUwk3lSrc",
        "outputId": "aecf9c30-ebb7-4144-fc2d-5e353f1b311f"
      },
      "execution_count": 412,
      "outputs": [
        {
          "output_type": "stream",
          "name": "stdout",
          "text": [
            "total number of words in the list: 86696\n"
          ]
        }
      ]
    },
    {
      "cell_type": "code",
      "source": [
        "pos_reviews=0\n",
        "neg_reviews=0\n",
        "num_pos_words=0\n",
        "num_neg_words=0\n",
        "pos_words=[]\n",
        "neg_words=[]\n",
        "word_dict=defaultdict(lambda:[0,0])\n",
        "freshness=list(train_set['Freshness'])"
      ],
      "metadata": {
        "id": "Fglk849bWDzp"
      },
      "execution_count": 452,
      "outputs": []
    },
    {
      "cell_type": "markdown",
      "source": [
        "# Calculating word frequencies for each word in fresh and rotten review"
      ],
      "metadata": {
        "id": "wukT4UXZEMm6"
      }
    },
    {
      "cell_type": "code",
      "source": [
        "for i, review in enumerate(list(train_set['Review'])):\n",
        "  if  freshness[i] == 'fresh':\n",
        "    pos_reviews=pos_reviews+1\n",
        "  else:\n",
        "    neg_reviews=neg_reviews+1\n",
        "  for word in (review):\n",
        "    if freshness[i] == 'fresh':\n",
        "      word_dict[word][1]+=1\n",
        "      num_pos_words+=1\n",
        "      pos_words.append(word)\n",
        "    else:\n",
        "      word_dict[word][0]+=1\n",
        "      num_neg_words+=1\n",
        "      neg_words.append(word)"
      ],
      "metadata": {
        "id": "4Xdv4zCJWIrm"
      },
      "execution_count": 453,
      "outputs": []
    },
    {
      "cell_type": "code",
      "source": [
        "(word_dict)"
      ],
      "metadata": {
        "colab": {
          "base_uri": "https://localhost:8080/"
        },
        "id": "EFVyjXoU8ozK",
        "outputId": "417a3fe4-db53-4f91-c546-eae7836bb54d"
      },
      "execution_count": 415,
      "outputs": [
        {
          "output_type": "execute_result",
          "data": {
            "text/plain": [
              "defaultdict(<function __main__.<lambda>()>,\n",
              "            {'least': [1519, 1002],\n",
              "             's': [47750, 51062],\n",
              "             'dreadfully': [42, 0],\n",
              "             'dull': [1434, 148],\n",
              "             'dog': [517, 335],\n",
              "             'breakfast': [43, 19],\n",
              "             'supremely': [32, 88],\n",
              "             'enjoyable': [257, 1223],\n",
              "             'first': [2491, 2559],\n",
              "             'hour': [1407, 840],\n",
              "             'unfortunately': [1181, 112],\n",
              "             'bad': [3466, 989],\n",
              "             'time': [5271, 5524],\n",
              "             'el': [82, 123],\n",
              "             'royale': [14, 35],\n",
              "             '141': [7, 1],\n",
              "             'minute': [2106, 1011],\n",
              "             'long': [2175, 1693],\n",
              "             'far': [1853, 1680],\n",
              "             'date': [307, 382],\n",
              "             'night': [757, 626],\n",
              "             'movie': [18978, 15270],\n",
              "             'go': [2954, 2361],\n",
              "             'could': [3520, 2586],\n",
              "             'worse': [686, 196],\n",
              "             'raunchy': [117, 108],\n",
              "             'yet': [1697, 2230],\n",
              "             'sweet': [355, 886],\n",
              "             'sex': [715, 538],\n",
              "             'tape': [82, 18],\n",
              "             'featuring': [189, 194],\n",
              "             'solid': [378, 970],\n",
              "             'comedic': [275, 249],\n",
              "             'turn': [1738, 1672],\n",
              "             'cameron': [133, 103],\n",
              "             'diaz': [63, 32],\n",
              "             'jason': [242, 179],\n",
              "             'segel': [26, 31],\n",
              "             'rob': [118, 73],\n",
              "             'lowe': [6, 12],\n",
              "             'damning': [17, 41],\n",
              "             'though': [1894, 2030],\n",
              "             'perhaps': [825, 735],\n",
              "             'entirely': [550, 493],\n",
              "             'way': [3896, 4549],\n",
              "             'intended': [269, 100],\n",
              "             'red': [364, 266],\n",
              "             'richly': [27, 185],\n",
              "             'textured': [4, 46],\n",
              "             'drama': [2118, 3222],\n",
              "             'successfully': [62, 143],\n",
              "             'blend': [143, 389],\n",
              "             'history': [689, 1129],\n",
              "             'romance': [722, 800],\n",
              "             'reminiscenes': [0, 1],\n",
              "             'portrait': [292, 1265],\n",
              "             'poet': [22, 68],\n",
              "             'romantic': [1136, 1161],\n",
              "             'revolutionary': [39, 91],\n",
              "             'john': [629, 715],\n",
              "             'reed': [12, 22],\n",
              "             'hard': [1982, 1240],\n",
              "             'say': [1940, 1309],\n",
              "             'sadder': [20, 19],\n",
              "             'woman': [1202, 1687],\n",
              "             'audience': [2495, 2306],\n",
              "             'wait': [327, 187],\n",
              "             '14': [35, 21],\n",
              "             'year': [1877, 3653],\n",
              "             'film': [19638, 24253],\n",
              "             'like': [10493, 7298],\n",
              "             'almost': [1834, 1573],\n",
              "             'naught': [16, 3],\n",
              "             'melissa': [72, 59],\n",
              "             'mccarthy': [181, 178],\n",
              "             'virtually': [184, 83],\n",
              "             'unrecognizable': [7, 7],\n",
              "             'portraying': [35, 70],\n",
              "             'new': [2161, 2816],\n",
              "             'york': [196, 286],\n",
              "             'writerturnedforger': [0, 1],\n",
              "             'lee': [319, 427],\n",
              "             'israel': [21, 65],\n",
              "             'ever': [1496, 1863],\n",
              "             'forgive': [62, 120],\n",
              "             'cera': [33, 35],\n",
              "             'begin': [663, 300],\n",
              "             'ingratiating': [6, 18],\n",
              "             'yi': [7, 9],\n",
              "             'quest': [83, 145],\n",
              "             'part': [1557, 1822],\n",
              "             'story': [6762, 7610],\n",
              "             'doomed': [76, 75],\n",
              "             'jump': [245, 179],\n",
              "             'entertaining': [827, 2610],\n",
              "             'moment': [2286, 2451],\n",
              "             'hardly': [381, 267],\n",
              "             'enlightening': [29, 64],\n",
              "             'endearing': [100, 319],\n",
              "             'fromtheheart': [1, 0],\n",
              "             'surrounding': [62, 67],\n",
              "             'lame': [388, 18],\n",
              "             'limp': [178, 11],\n",
              "             'unappealing': [52, 4],\n",
              "             'incompetent': [66, 6],\n",
              "             'clueless': [62, 17],\n",
              "             'kindest': [8, 2],\n",
              "             'word': [644, 661],\n",
              "             'come': [3047, 2734],\n",
              "             'describe': [83, 83],\n",
              "             'sean': [63, 88],\n",
              "             'mcnamara': [11, 13],\n",
              "             'cheesy': [236, 126],\n",
              "             'bratz': [13, 2],\n",
              "             'ludicrous': [243, 63],\n",
              "             'perverse': [81, 76],\n",
              "             'even': [5490, 4850],\n",
              "             'upsetting': [19, 46],\n",
              "             'fact': [770, 683],\n",
              "             'effort': [1171, 704],\n",
              "             'made': [2503, 2419],\n",
              "             'whatsoever': [67, 21],\n",
              "             'hiding': [41, 31],\n",
              "             'idea': [2040, 931],\n",
              "             'appropriated': [5, 2],\n",
              "             'teen': [500, 554],\n",
              "             'line': [1026, 812],\n",
              "             'attack': [143, 136],\n",
              "             'exemplifies': [10, 10],\n",
              "             'moore': [270, 293],\n",
              "             'maverick': [16, 25],\n",
              "             'best': [2052, 4975],\n",
              "             'le': [2381, 1516],\n",
              "             'interesting': [1599, 1014],\n",
              "             'sustained': [51, 74],\n",
              "             'rosetinted': [1, 7],\n",
              "             'view': [314, 399],\n",
              "             'european': [55, 96],\n",
              "             'health': [37, 55],\n",
              "             'service': [177, 159],\n",
              "             'system': [149, 223],\n",
              "             'complex': [292, 747],\n",
              "             'plot': [2968, 1403],\n",
              "             'nasty': [197, 150],\n",
              "             'uninvolving': [144, 4],\n",
              "             'director': [3166, 3851],\n",
              "             'tomas': [6, 9],\n",
              "             'alfredson': [14, 17],\n",
              "             'get': [4314, 3491],\n",
              "             'terrible': [567, 174],\n",
              "             'rush': [147, 194],\n",
              "             'sexist': [60, 18],\n",
              "             'blood': [341, 355],\n",
              "             'twothirds': [31, 26],\n",
              "             'katie': [30, 9],\n",
              "             'holmes': [73, 66],\n",
              "             'rare': [196, 802],\n",
              "             'furlough': [2, 0],\n",
              "             'outside': [191, 188],\n",
              "             'scientology': [10, 17],\n",
              "             'celebrity': [138, 140],\n",
              "             'center': [226, 277],\n",
              "             'mostly': [988, 710],\n",
              "             'stand': [452, 677],\n",
              "             'around': [1343, 1056],\n",
              "             'look': [2503, 2602],\n",
              "             'confused': [280, 87],\n",
              "             'maybe': [743, 478],\n",
              "             'caught': [149, 163],\n",
              "             'peek': [24, 50],\n",
              "             'script': [2436, 1288],\n",
              "             'prepared': [33, 67],\n",
              "             'definitely': [286, 514],\n",
              "             'theron': [45, 102],\n",
              "             'incredible': [92, 301],\n",
              "             'performance': [2546, 6023],\n",
              "             'important': [348, 664],\n",
              "             'difficult': [424, 439],\n",
              "             'subject': [840, 1154],\n",
              "             'matter': [791, 850],\n",
              "             'ambitious': [335, 403],\n",
              "             'origin': [142, 172],\n",
              "             'marvel': [251, 548],\n",
              "             'comic': [924, 1113],\n",
              "             'mutant': [64, 45],\n",
              "             'set': [1365, 1368],\n",
              "             'action': [2980, 3027],\n",
              "             'backdrop': [85, 105],\n",
              "             'cuban': [14, 15],\n",
              "             'missile': [2, 6],\n",
              "             'crisis': [187, 205],\n",
              "             'achieves': [101, 168],\n",
              "             'uneasy': [61, 59],\n",
              "             'peace': [37, 77],\n",
              "             'serious': [571, 522],\n",
              "             'campy': [132, 81],\n",
              "             'simply': [1096, 769],\n",
              "             'put': [907, 931],\n",
              "             'compelling': [640, 1247],\n",
              "             'excuse': [268, 74],\n",
              "             'pair': [167, 176],\n",
              "             'susan': [31, 48],\n",
              "             'sarandon': [27, 48],\n",
              "             'goldie': [9, 6],\n",
              "             'hawn': [29, 9],\n",
              "             'curdled': [14, 5],\n",
              "             'aftertaste': [48, 17],\n",
              "             'frustrating': [379, 166],\n",
              "             'may': [2405, 3262],\n",
              "             'remember': [261, 239],\n",
              "             'must': [600, 542],\n",
              "             'love': [1911, 3340],\n",
              "             'seemed': [182, 113],\n",
              "             'place': [1150, 1294],\n",
              "             'unsane': [6, 19],\n",
              "             'metoo': [5, 17],\n",
              "             'movement': [94, 207],\n",
              "             'might': [2624, 2032],\n",
              "             'steven': [139, 215],\n",
              "             'soderbergh': [94, 193],\n",
              "             'neosnake': [0, 1],\n",
              "             'pitshock': [0, 1],\n",
              "             'corridor': [4, 15],\n",
              "             'cinema': [621, 1529],\n",
              "             'resonant': [23, 133],\n",
              "             'everyone': [654, 732],\n",
              "             'involved': [386, 233],\n",
              "             'working': [285, 453],\n",
              "             'full': [3057, 4315],\n",
              "             'scope': [91, 162],\n",
              "             'ability': [216, 369],\n",
              "             'one': [9029, 10865],\n",
              "             'day': [1297, 1379],\n",
              "             'collaborate': [4, 6],\n",
              "             'something': [2632, 2487],\n",
              "             'shoestring': [6, 11],\n",
              "             'screenplay': [785, 461],\n",
              "             'motion': [302, 218],\n",
              "             'picture': [1360, 1381],\n",
              "             'sidesplitting': [4, 18],\n",
              "             'laugh': [1668, 1297],\n",
              "             'humor': [1060, 1351],\n",
              "             'never': [4214, 2959],\n",
              "             'stay': [353, 364],\n",
              "             'dormant': [3, 7],\n",
              "             'take': [2861, 3298],\n",
              "             'whose': [695, 855],\n",
              "             'outline': [44, 25],\n",
              "             'know': [1766, 1718],\n",
              "             'us': [158, 377],\n",
              "             'backstage': [31, 52],\n",
              "             'access': [44, 55],\n",
              "             'wellpaced': [2, 50],\n",
              "             'threehour': [24, 13],\n",
              "             'cuckold': [1, 0],\n",
              "             'thankfully': [50, 135],\n",
              "             'little': [4033, 2958],\n",
              "             'closer': [139, 159],\n",
              "             'spirit': [335, 688],\n",
              "             'lizardbrained': [1, 0],\n",
              "             'surrealism': [21, 46],\n",
              "             'post': [44, 71],\n",
              "             'tenebras': [1, 2],\n",
              "             'lux': [21, 16],\n",
              "             'opposed': [51, 36],\n",
              "             'banalization': [1, 0],\n",
              "             'dreyer': [1, 10],\n",
              "             'still': [1830, 3138],\n",
              "             'arthouse': [100, 128],\n",
              "             'calling': [124, 111],\n",
              "             'card': [202, 88],\n",
              "             'silent': [101, 147],\n",
              "             'light': [575, 910],\n",
              "             '151': [3, 1],\n",
              "             'filmmaker': [1456, 1600],\n",
              "             'seem': [1169, 658],\n",
              "             'used': [388, 294],\n",
              "             'every': [2074, 2075],\n",
              "             'single': [515, 357],\n",
              "             'shot': [827, 1038],\n",
              "             'canned': [30, 6],\n",
              "             'handful': [165, 93],\n",
              "             'scene': [2297, 1846],\n",
              "             'imaginatively': [11, 31],\n",
              "             'designed': [279, 225],\n",
              "             'also': [1708, 3034],\n",
              "             'intellectually': [41, 77],\n",
              "             'bracing': [22, 108],\n",
              "             'lobster': [11, 30],\n",
              "             'boast': [164, 170],\n",
              "             'nervous': [25, 51],\n",
              "             'unease': [19, 35],\n",
              "             'pulse': [72, 101],\n",
              "             'throughout': [341, 511],\n",
              "             'lending': [9, 6],\n",
              "             'endless': [312, 137],\n",
              "             'tension': [507, 641],\n",
              "             'unpredictability': [14, 23],\n",
              "             'lanthimos': [16, 58],\n",
              "             'going': [1620, 1120],\n",
              "             'next': [739, 604],\n",
              "             'fanning': [47, 42],\n",
              "             'seems': [2422, 1130],\n",
              "             'stiff': [134, 34],\n",
              "             'miscast': [81, 17],\n",
              "             'fearless': [21, 93],\n",
              "             'mary': [154, 148],\n",
              "             'portrayal': [134, 304],\n",
              "             'shelley': [21, 7],\n",
              "             'byron': [3, 3],\n",
              "             'frankly': [185, 77],\n",
              "             'ridiculous': [476, 244],\n",
              "             'inferno': [49, 21],\n",
              "             'offer': [1053, 1249],\n",
              "             'sense': [1874, 1844],\n",
              "             'missed': [327, 145],\n",
              "             'opportunity': [550, 227],\n",
              "             'wasted': [305, 68],\n",
              "             'mixed': [192, 135],\n",
              "             'sudden': [52, 53],\n",
              "             'desire': [176, 266],\n",
              "             'visit': [77, 90],\n",
              "             'italy': [25, 27],\n",
              "             'whiplash': [13, 44],\n",
              "             'instill': [9, 5],\n",
              "             'respect': [174, 326],\n",
              "             'awe': [50, 98],\n",
              "             'happens': [452, 342],\n",
              "             'feature': [1170, 1373],\n",
              "             'eclipse': [25, 31],\n",
              "             'else': [947, 575],\n",
              "             'gripping': [104, 537],\n",
              "             'build': [257, 396],\n",
              "             'give': [1619, 2231],\n",
              "             'incredibly': [188, 252],\n",
              "             'dumb': [676, 199],\n",
              "             'finish': [229, 285],\n",
              "             'silly': [776, 551],\n",
              "             'biblical': [37, 44],\n",
              "             'allegory': [70, 145],\n",
              "             'potent': [71, 220],\n",
              "             'parable': [73, 107],\n",
              "             'selfishness': [7, 15],\n",
              "             'egoism': [2, 2],\n",
              "             'process': [218, 268],\n",
              "             'male': [273, 246],\n",
              "             'artistic': [201, 262],\n",
              "             'creation': [127, 189],\n",
              "             'lot': [1839, 1811],\n",
              "             'sizzle': [43, 37],\n",
              "             'much': [6783, 4255],\n",
              "             'soul': [374, 549],\n",
              "             'fiennes': [33, 80],\n",
              "             'previously': [41, 76],\n",
              "             'played': [384, 383],\n",
              "             'title': [1151, 615],\n",
              "             'role': [741, 1246],\n",
              "             'celebrated': [46, 67],\n",
              "             'london': [94, 145],\n",
              "             'theatre': [116, 101],\n",
              "             'make': [6557, 6901],\n",
              "             'suitably': [19, 62],\n",
              "             'haughty': [1, 6],\n",
              "             'intense': [139, 503],\n",
              "             'coriolanus': [2, 14],\n",
              "             'vanessa': [16, 18],\n",
              "             'redgrave': [13, 16],\n",
              "             'terrific': [183, 822],\n",
              "             'form': [358, 660],\n",
              "             'general': [223, 192],\n",
              "             'influential': [18, 68],\n",
              "             'mother': [214, 283],\n",
              "             'milquetoast': [17, 2],\n",
              "             'homunculus': [2, 0],\n",
              "             'assembled': [85, 89],\n",
              "             'hackneyed': [152, 30],\n",
              "             'studio': [402, 368],\n",
              "             'groupthink': [3, 1],\n",
              "             'imaginable': [64, 32],\n",
              "             'brooklyn': [32, 50],\n",
              "             'finest': [63, 350],\n",
              "             'realistic': [113, 232],\n",
              "             'disheartening': [18, 7],\n",
              "             'brutal': [163, 291],\n",
              "             'life': [2347, 4285],\n",
              "             'three': [831, 751],\n",
              "             'different': [540, 706],\n",
              "             'cop': [252, 202],\n",
              "             'stage': [268, 340],\n",
              "             'career': [490, 556],\n",
              "             'showcase': [144, 319],\n",
              "             'attractive': [122, 99],\n",
              "             'scantily': [6, 1],\n",
              "             'clad': [11, 3],\n",
              "             'young': [767, 1335],\n",
              "             'cast': [1876, 2214],\n",
              "             'well': [2114, 3168],\n",
              "             'nt': [17040, 10280],\n",
              "             'nothing': [2677, 1057],\n",
              "             'll': [1196, 1486],\n",
              "             'probably': [1030, 725],\n",
              "             'delight': [119, 565],\n",
              "             'golf': [23, 6],\n",
              "             'junky': [32, 27],\n",
              "             'presumably': [65, 19],\n",
              "             'funded': [7, 5],\n",
              "             'project': [507, 328],\n",
              "             'green': [292, 240],\n",
              "             'enough': [3603, 2971],\n",
              "             'screen': [1452, 1549],\n",
              "             'lead': [945, 1150],\n",
              "             'character': [6204, 5401],\n",
              "             'stance': [19, 26],\n",
              "             'prejudice': [51, 68],\n",
              "             're': [2697, 2214],\n",
              "             'noble': [111, 61],\n",
              "             'symbolically': [2, 4],\n",
              "             'twodimensional': [46, 15],\n",
              "             'boring': [1058, 114],\n",
              "             'patrice': [3, 6],\n",
              "             'leconte': [7, 9],\n",
              "             'taken': [467, 385],\n",
              "             'friendship': [92, 346],\n",
              "             'posturing': [56, 15],\n",
              "             'potential': [593, 275],\n",
              "             'vulnerability': [26, 109],\n",
              "             'turned': [254, 227],\n",
              "             'smart': [395, 1148],\n",
              "             'crowdpleasing': [45, 105],\n",
              "             'comedy': [4471, 4083],\n",
              "             'equally': [153, 227],\n",
              "             'offensive': [290, 48],\n",
              "             'smorgasbord': [10, 17],\n",
              "             'smut': [12, 3],\n",
              "             'violence': [770, 832],\n",
              "             'lingering': [56, 60],\n",
              "             'whiff': [73, 30],\n",
              "             'colonialera': [3, 0],\n",
              "             'orientalism': [3, 0],\n",
              "             'western': [233, 423],\n",
              "             'predilection': [8, 8],\n",
              "             'regarding': [38, 44],\n",
              "             'eastern': [27, 58],\n",
              "             'culture': [314, 611],\n",
              "             'innately': [11, 5],\n",
              "             'idle': [27, 10],\n",
              "             'lascivious': [5, 1],\n",
              "             'irrational': [42, 23],\n",
              "             'thus': [111, 99],\n",
              "             'ripe': [33, 43],\n",
              "             'intervention': [27, 8],\n",
              "             'comingofage': [105, 345],\n",
              "             'endofinnocence': [0, 1],\n",
              "             'funny': [2293, 3287],\n",
              "             'sad': [375, 376],\n",
              "             'beautiful': [421, 1296],\n",
              "             'heartbreaking': [33, 289],\n",
              "             'want': [2187, 1475],\n",
              "             'hug': [42, 39],\n",
              "             'hold': [497, 638],\n",
              "             'onto': [168, 141],\n",
              "             'childhood': [64, 195],\n",
              "             'sailing': [7, 6],\n",
              "             'away': [1027, 993],\n",
              "             '45': [57, 35],\n",
              "             'ultimately': [1770, 924],\n",
              "             'larger': [84, 137],\n",
              "             'force': [262, 577],\n",
              "             'tear': [211, 280],\n",
              "             'u': [2538, 3475],\n",
              "             'apart': [359, 279],\n",
              "             'demon': [121, 119],\n",
              "             'lurk': [1, 14],\n",
              "             'back': [1452, 1459],\n",
              "             'mind': [673, 877],\n",
              "             'together': [1121, 1060],\n",
              "             'peckinpah': [14, 17],\n",
              "             '1971': [10, 24],\n",
              "             'straw': [40, 14],\n",
              "             'cry': [205, 244],\n",
              "             'remade': [32, 15],\n",
              "             'slick': [244, 276],\n",
              "             'honor': [87, 126],\n",
              "             'firefighter': [14, 5],\n",
              "             'obviously': [214, 129],\n",
              "             'wave': [137, 158],\n",
              "             'wwii': [23, 40],\n",
              "             'paid': [92, 68],\n",
              "             'tribute': [123, 349],\n",
              "             'america': [270, 630],\n",
              "             'fighting': [136, 179],\n",
              "             'men': [657, 770],\n",
              "             'gardener': [7, 15],\n",
              "             'really': [2943, 1971],\n",
              "             'daring': [118, 246],\n",
              "             'politically': [66, 93],\n",
              "             'aware': [103, 96],\n",
              "             'heart': [1006, 1966],\n",
              "             'mystery': [523, 559],\n",
              "             'succeeds': [175, 495],\n",
              "             'count': [237, 164],\n",
              "             'lily': [23, 43],\n",
              "             'tomlin': [8, 24],\n",
              "             'straighttalking': [1, 3],\n",
              "             'firecracker': [12, 12],\n",
              "             'saying': [250, 180],\n",
              "             'thing': [3226, 2561],\n",
              "             'agrees': [4, 2],\n",
              "             'kind': [1795, 1715],\n",
              "             'patronizing': [27, 6],\n",
              "             'impressed': [44, 49],\n",
              "             'mild': [161, 74],\n",
              "             'edginess': [9, 7],\n",
              "             'rousing': [64, 196],\n",
              "             'brave': [103, 221],\n",
              "             'roll': [232, 263],\n",
              "             'bounce': [51, 53],\n",
              "             'provides': [203, 464],\n",
              "             'relatively': [138, 145],\n",
              "             'wholesome': [27, 39],\n",
              "             'family': [1014, 1960],\n",
              "             'entertainment': [688, 1050],\n",
              "             'parent': [450, 511],\n",
              "             'certain': [360, 447],\n",
              "             'age': [548, 898],\n",
              "             'nice': [421, 578],\n",
              "             'trip': [324, 401],\n",
              "             'memory': [323, 538],\n",
              "             'lane': [78, 72],\n",
              "             'wearing': [84, 64],\n",
              "             'polyester': [2, 2],\n",
              "             'tense': [86, 375],\n",
              "             'thriller': [1933, 2352],\n",
              "             'couple': [548, 475],\n",
              "             'supposedly': [95, 26],\n",
              "             'intimate': [89, 480],\n",
              "             'photo': [43, 42],\n",
              "             'taking': [415, 513],\n",
              "             'resulting': [117, 86],\n",
              "             'child': [842, 1093],\n",
              "             'm': [1043, 742],\n",
              "             'sure': [759, 767],\n",
              "             'grownup': [119, 214],\n",
              "             'either': [966, 388],\n",
              "             'unless': [246, 55],\n",
              "             'boredom': [114, 22],\n",
              "             'deeply': [272, 726],\n",
              "             'unpleasant': [261, 52],\n",
              "             'veneer': [47, 26],\n",
              "             'stretched': [149, 28],\n",
              "             'evermore': [3, 2],\n",
              "             'thinly': [71, 10],\n",
              "             'carnival': [32, 23],\n",
              "             'brutality': [54, 104],\n",
              "             'ctrl': [1, 0],\n",
              "             'case': [718, 524],\n",
              "             'talking': [250, 243],\n",
              "             'stuff': [597, 535],\n",
              "             'versed': [3, 4],\n",
              "             'fully': [383, 426],\n",
              "             'grasp': [111, 83],\n",
              "             'forward': [176, 228],\n",
              "             'momentum': [193, 127],\n",
              "             'lowfi': [11, 4],\n",
              "             'intellectual': [120, 153],\n",
              "             'sentient': [6, 10],\n",
              "             'machine': [234, 178],\n",
              "             'sua': [19, 37],\n",
              "             'fragilidade': [3, 1],\n",
              "             'narrativa': [4, 10],\n",
              "             'pouco': [3, 3],\n",
              "             'significa': [0, 4],\n",
              "             'frente': [0, 1],\n",
              "             'ï¿½ï¿½': [92, 126],\n",
              "             'boa': [9, 9],\n",
              "             'causa': [0, 1],\n",
              "             'que': [278, 312],\n",
              "             'representa': [1, 3],\n",
              "             'alï¿½ï¿½m': [2, 7],\n",
              "             'disso': [2, 2],\n",
              "             'sempre': [6, 12],\n",
              "             'divertido': [1, 9],\n",
              "             'ver': [13, 6],\n",
              "             'na': [133, 89],\n",
              "             'telas': [0, 1],\n",
              "             'ondas': [0, 1],\n",
              "             'gigantes': [0, 1],\n",
              "             'cobrindo': [0, 1],\n",
              "             'uma': [78, 66],\n",
              "             'metrï¿½ï¿½pole': [0, 1],\n",
              "             'plenty': [350, 773],\n",
              "             'screaming': [111, 57],\n",
              "             'mayhem': [176, 152],\n",
              "             'particularly': [641, 493],\n",
              "             'wellstaged': [10, 12],\n",
              "             'cut': [439, 378],\n",
              "             'suppose': [71, 30],\n",
              "             'actually': [1004, 868],\n",
              "             'caring': [62, 53],\n",
              "             'craft': [106, 261],\n",
              "             'denotes': [2, 1],\n",
              "             'spoilsport': [5, 1],\n",
              "             'context': [179, 181],\n",
              "             'adam': [339, 223],\n",
              "             'adorable': [66, 84],\n",
              "             'wideeyed': [22, 39],\n",
              "             'wouldbe': [195, 34],\n",
              "             'starlet': [9, 7],\n",
              "             'mcdormand': [3, 26],\n",
              "             'spoton': [10, 61],\n",
              "             'sensible': [21, 22],\n",
              "             'half': [1029, 569],\n",
              "             'odd': [301, 244],\n",
              "             'delightfully': [14, 154],\n",
              "             'frivolous': [28, 27],\n",
              "             'screwball': [72, 103],\n",
              "             'grizzly': [8, 7],\n",
              "             'gothic': [109, 117],\n",
              "             'tale': [1473, 2137],\n",
              "             'unique': [209, 576],\n",
              "             'shocker': [31, 46],\n",
              "             'grimness': [6, 9],\n",
              "             'effective': [296, 693],\n",
              "             'strangeness': [5, 40],\n",
              "             'wellexecuted': [16, 36],\n",
              "             'superbly': [16, 215],\n",
              "             'acted': [258, 500],\n",
              "             'batman': [158, 203],\n",
              "             'v': [210, 202],\n",
              "             'superman': [126, 112],\n",
              "             'good': [4537, 4819],\n",
              "             'keep': [1348, 1866],\n",
              "             'dc': [62, 58],\n",
              "             'plan': [140, 99],\n",
              "             'track': [160, 155],\n",
              "             'barely': [635, 188],\n",
              "             'giant': [185, 211],\n",
              "             'leap': [106, 124],\n",
              "             'faith': [176, 279],\n",
              "             'original': [1602, 1675],\n",
              "             'call': [546, 522],\n",
              "             'easier': [92, 51],\n",
              "             'swallow': [76, 35],\n",
              "             '10': [212, 149],\n",
              "             'ago': [290, 185],\n",
              "             'version': [984, 646],\n",
              "             'mannered': [60, 28],\n",
              "             'convincing': [250, 269],\n",
              "             'chan': [96, 83],\n",
              "             'derivative': [377, 91],\n",
              "             'notably': [26, 35],\n",
              "             'david': [379, 448],\n",
              "             'cronenberg': [62, 129],\n",
              "             'manages': [493, 971],\n",
              "             'fresh': [333, 712],\n",
              "             'exciting': [412, 760],\n",
              "             'fan': [1432, 1788],\n",
              "             'wo': [643, 764],\n",
              "             'feel': [5593, 3424],\n",
              "             'overlong': [333, 139],\n",
              "             'emotional': [1034, 1569],\n",
              "             'curve': [34, 28],\n",
              "             'fails': [1410, 157],\n",
              "             'ignite': [21, 10],\n",
              "             'ending': [759, 599],\n",
              "             'anticlimactic': [61, 11],\n",
              "             'jennifer': [155, 141],\n",
              "             'lawrence': [152, 158],\n",
              "             'sequel': [1392, 870],\n",
              "             'greatest': [250, 503],\n",
              "             'asset': [61, 50],\n",
              "             'credit': [488, 521],\n",
              "             'daniel': [140, 197],\n",
              "             'masterful': [16, 211],\n",
              "             'job': [452, 709],\n",
              "             'letting': [64, 140],\n",
              "             'spill': [18, 31],\n",
              "             'sentimentality': [222, 197],\n",
              "             'keeping': [143, 236],\n",
              "             'real': [1816, 1999],\n",
              "             'antidrone': [2, 0],\n",
              "             'argument': [141, 177],\n",
              "             'spouted': [4, 0],\n",
              "             'exposition': [165, 69],\n",
              "             'especially': [673, 834],\n",
              "             'among': [325, 519],\n",
              "             'drone': [42, 27],\n",
              "             'operator': [11, 5],\n",
              "             'dissent': [4, 4],\n",
              "             'becomes': [1147, 576],\n",
              "             'onthejob': [2, 0],\n",
              "             'insubordination': [2, 0],\n",
              "             'military': [82, 82],\n",
              "             'would': [3900, 2194],\n",
              "             'surely': [197, 197],\n",
              "             'tolerate': [25, 17],\n",
              "             'care': [781, 489],\n",
              "             'jim': [139, 157],\n",
              "             'invested': [88, 73],\n",
              "             'ultimate': [124, 158],\n",
              "             'fate': [139, 127],\n",
              "             'berg': [61, 65],\n",
              "             'shy': [40, 85],\n",
              "             'horror': [1732, 2116],\n",
              "             'killed': [56, 39],\n",
              "             'civilian': [10, 19],\n",
              "             'injured': [2, 6],\n",
              "             '260': [0, 1],\n",
              "             'emphasis': [93, 76],\n",
              "             'firmly': [55, 95],\n",
              "             'humanity': [180, 477],\n",
              "             'hope': [534, 730],\n",
              "             'bravery': [23, 53],\n",
              "             'man': [1553, 2229],\n",
              "             'simultaneously': [98, 179],\n",
              "             'embody': [13, 30],\n",
              "             'grace': [229, 382],\n",
              "             'country': [205, 418],\n",
              "             'grew': [32, 61],\n",
              "             'stirring': [47, 213],\n",
              "             'given': [780, 576],\n",
              "             'truelife': [33, 33],\n",
              "             'exquisitely': [20, 111],\n",
              "             'styled': [5, 7],\n",
              "             'beautifully': [173, 895],\n",
              "             'scored': [27, 31],\n",
              "             'redolent': [11, 9],\n",
              "             'eroticism': [21, 16],\n",
              "             'artistry': [57, 146],\n",
              "             'jan': [14, 14],\n",
              "             'kounen': [1, 2],\n",
              "             'sensuous': [2, 22],\n",
              "             'restages': [0, 1],\n",
              "             'creative': [308, 444],\n",
              "             'amour': [14, 32],\n",
              "             'fou': [5, 10],\n",
              "             'problem': [1362, 465],\n",
              "             'enfolded': [1, 0],\n",
              "             'atmosphere': [264, 335],\n",
              "             'aboveaverage': [21, 34],\n",
              "             'sciencefiction': [77, 106],\n",
              "             'spite': [100, 131],\n",
              "             'contrived': [445, 145],\n",
              "             'stilted': [114, 17],\n",
              "             'acting': [966, 957],\n",
              "             'forced': [380, 186],\n",
              "             'unconvincing': [216, 18],\n",
              "             'makeup': [91, 66],\n",
              "             'point': [1886, 1124],\n",
              "             'ready': [161, 179],\n",
              "             'player': [191, 216],\n",
              "             'appreciated': [41, 82],\n",
              "             'spielberg': [159, 326],\n",
              "             'falter': [76, 59],\n",
              "             'winsome': [22, 32],\n",
              "             'documentarylike': [1, 9],\n",
              "             'detailed': [39, 165],\n",
              "             'study': [269, 739],\n",
              "             'four': [404, 310],\n",
              "             'abandoned': [52, 27],\n",
              "             'youngster': [39, 58],\n",
              "             'tokyo': [20, 45],\n",
              "             'third': [542, 405],\n",
              "             'great': [1912, 3740],\n",
              "             'trilogy': [149, 205],\n",
              "             'yearend': [3, 12],\n",
              "             'charlie': [112, 146],\n",
              "             'brown': [104, 118],\n",
              "             'halfhour': [93, 29],\n",
              "             'holiday': [250, 289],\n",
              "             'special': [902, 804],\n",
              "             'inspired': [304, 404],\n",
              "             'makeshift': [3, 7],\n",
              "             'dinner': [97, 83],\n",
              "             'toast': [8, 15],\n",
              "             'popcorn': [152, 271],\n",
              "             'pretzel': [2, 2],\n",
              "             'jelly': [10, 5],\n",
              "             'bean': [52, 23],\n",
              "             'handsomely': [74, 89],\n",
              "             'evocative': [42, 164],\n",
              "             'location': [158, 190],\n",
              "             'small': [363, 786],\n",
              "             'former': [147, 138],\n",
              "             'mining': [8, 21],\n",
              "             'village': [53, 53],\n",
              "             'nottinghamshire': [0, 3],\n",
              "             'another': [2212, 1601],\n",
              "             'extended': [153, 98],\n",
              "             'chase': [326, 253],\n",
              "             'longer': [356, 206],\n",
              "             'sillier': [49, 12],\n",
              "             'road': [397, 414],\n",
              "             'runner': [130, 116],\n",
              "             'cartoon': [296, 212],\n",
              "             'careerbest': [1, 24],\n",
              "             'lightly': [31, 62],\n",
              "             'pace': [365, 457],\n",
              "             'drag': [284, 118],\n",
              "             'girl': [760, 770],\n",
              "             'spider': [31, 28],\n",
              "             'web': [60, 73],\n",
              "             'predecessor': [449, 441],\n",
              "             'foy': [12, 28],\n",
              "             'convinces': [29, 14],\n",
              "             'whatever': [344, 235],\n",
              "             'many': [2634, 2283],\n",
              "             'hand': [588, 669],\n",
              "             'lack': [2189, 797],\n",
              "             'cohesion': [29, 13],\n",
              "             'play': [1885, 1597],\n",
              "             'blandly': [87, 9],\n",
              "             'populist': [14, 32],\n",
              "             'possible': [431, 387],\n",
              "             'flipped': [11, 6],\n",
              "             'steer': [39, 42],\n",
              "             'clear': [531, 432],\n",
              "             'broad': [263, 218],\n",
              "             'banality': [88, 34],\n",
              "             'typical': [159, 205],\n",
              "             'hollywood': [1195, 1155],\n",
              "             'apparent': [109, 69],\n",
              "             'premise': [1119, 456],\n",
              "             'creaky': [64, 16],\n",
              "             'ample': [30, 48],\n",
              "             'suspense': [527, 514],\n",
              "             'secondguessing': [3, 1],\n",
              "             'mr': [537, 562],\n",
              "             'mangold': [14, 34],\n",
              "             'handle': [104, 170],\n",
              "             'revelation': [187, 282],\n",
              "             'reversal': [17, 19],\n",
              "             'michael': [581, 553],\n",
              "             'cooney': [1, 1],\n",
              "             'nerveracking': [3, 12],\n",
              "             'aplomb': [13, 47],\n",
              "             'scanlon': [3, 2],\n",
              "             'team': [296, 360],\n",
              "             'shaky': [86, 38],\n",
              "             'proposition': [19, 37],\n",
              "             'piece': [1230, 1680],\n",
              "             'polished': [81, 104],\n",
              "             'production': [779, 553],\n",
              "             'joe': [145, 161],\n",
              "             'wright': [66, 173],\n",
              "             'terrified': [27, 16],\n",
              "             'finally': [503, 488],\n",
              "             'stop': [462, 323],\n",
              "             'review': [2422, 3297],\n",
              "             'spanish': [1910, 2917],\n",
              "             'billy': [105, 78],\n",
              "             'ray': [88, 82],\n",
              "             'cyrus': [33, 15],\n",
              "             'amorous': [3, 4],\n",
              "             'poolman': [0, 2],\n",
              "             'punched': [18, 9],\n",
              "             'mobster': [16, 18],\n",
              "             'lynch': [54, 103],\n",
              "             'commentary': [201, 291],\n",
              "             'independent': [51, 112],\n",
              "             'filmmaking': [522, 920],\n",
              "             'lesbian': [47, 30],\n",
              "             'erotica': [5, 6],\n",
              "             'exaggeratedly': [2, 3],\n",
              "             'hot': [271, 233],\n",
              "             'puzzle': [107, 116],\n",
              "             'box': [301, 180],\n",
              "             'snap': [61, 51],\n",
              "             'sparse': [20, 38],\n",
              "             'bold': [107, 295],\n",
              "             'sexy': [136, 184],\n",
              "             'thrilling': [178, 556],\n",
              "             'fashion': [240, 295],\n",
              "             'jessica': [76, 76],\n",
              "             'chastain': [21, 62],\n",
              "             'amazing': [181, 457],\n",
              "             'immediately': [103, 94],\n",
              "             'trouble': [290, 142],\n",
              "             'rooting': [72, 67],\n",
              "             'drive': [193, 264],\n",
              "             'zathura': [8, 15],\n",
              "             'basically': [308, 158],\n",
              "             'jumanji': [16, 11],\n",
              "             'outer': [51, 52],\n",
              "             'space': [358, 436],\n",
              "             'without': [2282, 1924],\n",
              "             'robin': [166, 97],\n",
              "             'williams': [166, 177],\n",
              "             'singularly': [36, 34],\n",
              "             'loud': [399, 200],\n",
              "             'charmless': [112, 0],\n",
              "             'overbearing': [46, 14],\n",
              "             'use': [461, 499],\n",
              "             'hit': [789, 903],\n",
              "             'two': [2608, 2227],\n",
              "             'ritalin': [10, 2],\n",
              "             'triumph': [101, 413],\n",
              "             'style': [951, 1171],\n",
              "             'substance': [422, 174],\n",
              "             'mann': [91, 95],\n",
              "             'noirish': [19, 24],\n",
              "             'crime': [476, 589],\n",
              "             'blevel': [9, 4],\n",
              "             'narrative': [1499, 1147],\n",
              "             'wrapped': [94, 108],\n",
              "             'visually': [353, 582],\n",
              "             'sumptuous': [54, 141],\n",
              "             'viscerally': [19, 37],\n",
              "             'package': [98, 132],\n",
              "             'smarter': [82, 93],\n",
              "             'boundarypushing': [6, 3],\n",
              "             'science': [207, 305],\n",
              "             'fiction': [254, 410],\n",
              "             'along': [895, 1050],\n",
              "             'district': [41, 38],\n",
              "             '9': [76, 52],\n",
              "             'underdone': [11, 2],\n",
              "             'characterization': [182, 90],\n",
              "             'critical': [96, 118],\n",
              "             'failure': [409, 140],\n",
              "             'imagination': [369, 390],\n",
              "             'meet': [335, 299],\n",
              "             'low': [468, 243],\n",
              "             'standard': [457, 339],\n",
              "             'cloverfield': [43, 44],\n",
              "             'death': [660, 614],\n",
              "             'gunj': [0, 2],\n",
              "             'melancholy': [70, 253],\n",
              "             'mood': [281, 430],\n",
              "             'linger': [26, 98],\n",
              "             'obvious': [706, 344],\n",
              "             'easy': [515, 894],\n",
              "             'aircraft': [9, 2],\n",
              "             'metaphor': [174, 163],\n",
              "             'witticism': [14, 8],\n",
              "             'wisecrack': [31, 31],\n",
              "             'elevate': [123, 111],\n",
              "             'contemporary': [216, 465],\n",
              "             'animated': [450, 793],\n",
              "             'enjoyed': [112, 269],\n",
              "             'wider': [28, 57],\n",
              "             'cascading': [5, 6],\n",
              "             'colorful': [95, 212],\n",
              "             '3d': [448, 475],\n",
              "             'sequence': [875, 742],\n",
              "             'sufficiently': [49, 53],\n",
              "             'dazzling': [92, 258],\n",
              "             'bajillionth': [0, 2],\n",
              "             'soundtrack': [252, 267],\n",
              "             'sampling': [10, 10],\n",
              "             'firework': [38, 36],\n",
              "             'serf': [184, 306],\n",
              "             'bridge': [67, 154],\n",
              "             'body': [364, 389],\n",
              "             'language': [183, 269],\n",
              "             'demeanor': [16, 25],\n",
              "             'imagine': [360, 265],\n",
              "             'toll': [28, 57],\n",
              "             'wear': [331, 183],\n",
              "             'inflicted': [15, 15],\n",
              "             'lovelace': [16, 11],\n",
              "             'find': [1719, 1857],\n",
              "             'familiar': [719, 875],\n",
              "             'material': [1379, 822],\n",
              "             'distinguished': [44, 64],\n",
              "             'focus': [509, 492],\n",
              "             'intensity': [108, 274],\n",
              "             'result': [1040, 816],\n",
              "             'called': [361, 179],\n",
              "             'monty': [44, 38],\n",
              "             'python': [38, 32],\n",
              "             'holy': [65, 62],\n",
              "             'mess': [1109, 172],\n",
              "             'resembles': [142, 43],\n",
              "             'punchdrunk': [9, 13],\n",
              "             'sophisticated': [113, 236],\n",
              "             'triangle': [50, 46],\n",
              "             'based': [512, 449],\n",
              "             'broadway': [49, 68],\n",
              "             'rachel': [54, 89],\n",
              "             'crothers': [0, 1],\n",
              "             'grand': [199, 323],\n",
              "             'intoxicating': [13, 102],\n",
              "             'often': [1657, 1746],\n",
              "             'felt': [396, 333],\n",
              "             'seen': [1166, 1498],\n",
              "             'lavish': [63, 63],\n",
              "             'period': [362, 529],\n",
              "             'costume': [236, 190],\n",
              "             'operatic': [25, 42],\n",
              "             'miseenscï¿½ï¿½ne': [6, 6],\n",
              "             'ceremonial': [4, 1],\n",
              "             'grandeur': [65, 67],\n",
              "             'curse': [80, 35],\n",
              "             'golden': [161, 140],\n",
              "             'flower': [45, 66],\n",
              "             'clash': [87, 95],\n",
              "             'fatally': [78, 3],\n",
              "             'nuanced': [77, 243],\n",
              "             'nastiness': [32, 17],\n",
              "             ...})"
            ]
          },
          "metadata": {},
          "execution_count": 415
        }
      ]
    },
    {
      "cell_type": "markdown",
      "source": [
        "# Probability calculation"
      ],
      "metadata": {
        "id": "ZGN67-au616m"
      }
    },
    {
      "cell_type": "markdown",
      "source": [
        "**P(fresh) and P(rotten)**"
      ],
      "metadata": {
        "id": "QU22L7uSExGB"
      }
    },
    {
      "cell_type": "code",
      "source": [
        "prob_rotten=train_set['Freshness'].value_counts(normalize=True)['rotten']\n",
        "prob_fresh=train_set['Freshness'].value_counts(normalize=True)['fresh']\n",
        "print(f'P(fresh) = {prob_fresh} P(rotten) = {prob_rotten}')"
      ],
      "metadata": {
        "colab": {
          "base_uri": "https://localhost:8080/"
        },
        "id": "KrgWDP6E_veJ",
        "outputId": "ba068e20-a046-49b1-9404-c9035513424b"
      },
      "execution_count": 416,
      "outputs": [
        {
          "output_type": "stream",
          "name": "stdout",
          "text": [
            "P(fresh) = 0.499975 P(rotten) = 0.500025\n"
          ]
        }
      ]
    },
    {
      "cell_type": "markdown",
      "source": [
        "**P(word)**"
      ],
      "metadata": {
        "id": "1B4EF5ObCRB_"
      }
    },
    {
      "cell_type": "code",
      "source": [
        "def word_alone_prob(word):\n",
        "  return ((word_dict[word][1]/num_pos_words))+((word_dict[word][0]/num_neg_words))"
      ],
      "metadata": {
        "id": "JUpOMPx-B35m"
      },
      "execution_count": 417,
      "outputs": []
    },
    {
      "cell_type": "code",
      "source": [
        "word_alone_prob('buffay')"
      ],
      "metadata": {
        "colab": {
          "base_uri": "https://localhost:8080/"
        },
        "id": "p_BBp4SSCIri",
        "outputId": "a26c31e6-bc2d-40c6-c72a-89e0d0b5a5a8"
      },
      "execution_count": 418,
      "outputs": [
        {
          "output_type": "execute_result",
          "data": {
            "text/plain": [
              "0.0"
            ]
          },
          "metadata": {},
          "execution_count": 418
        }
      ]
    },
    {
      "cell_type": "markdown",
      "source": [
        "**P(word|fresh) and P(word|rotten)**"
      ],
      "metadata": {
        "id": "R65acd03E0-y"
      }
    },
    {
      "cell_type": "code",
      "source": [
        "def word_prob(reviewType, word):\n",
        "  if reviewType == 'fresh':\n",
        "    return (word_dict[word][1]/num_pos_words)\n",
        "  else:\n",
        "    return (word_dict[word][0]/num_neg_words)\n",
        "  "
      ],
      "metadata": {
        "id": "O2qgdCQO3Hql"
      },
      "execution_count": 419,
      "outputs": []
    },
    {
      "cell_type": "code",
      "source": [
        "word_prob('fresh','buffay')"
      ],
      "metadata": {
        "colab": {
          "base_uri": "https://localhost:8080/"
        },
        "id": "89brr4SC8H-h",
        "outputId": "a73cb892-2297-4ddc-f856-26b39912221d"
      },
      "execution_count": 420,
      "outputs": [
        {
          "output_type": "execute_result",
          "data": {
            "text/plain": [
              "0.0"
            ]
          },
          "metadata": {},
          "execution_count": 420
        }
      ]
    },
    {
      "cell_type": "code",
      "source": [
        "word_prob('rotten','buffay')"
      ],
      "metadata": {
        "colab": {
          "base_uri": "https://localhost:8080/"
        },
        "id": "MnkVSO2SOXhH",
        "outputId": "8ab44291-473b-428f-953a-5f46e58ebb9e"
      },
      "execution_count": 421,
      "outputs": [
        {
          "output_type": "execute_result",
          "data": {
            "text/plain": [
              "0.0"
            ]
          },
          "metadata": {},
          "execution_count": 421
        }
      ]
    },
    {
      "cell_type": "markdown",
      "source": [
        "**P(fresh|review) and P(rotten|review)**"
      ],
      "metadata": {
        "id": "eW0oZCmzFDPJ"
      }
    },
    {
      "cell_type": "code",
      "source": [
        "def withoutSmoothing_probability(reviewType, review):\n",
        "  if reviewType == 'fresh':\n",
        "    prob=math.log(pos_reviews/len(rt_df))\n",
        "  else:\n",
        "    prob=math.log(neg_reviews/len(rt_df))\n",
        "  preprocessed_reviews=[]\n",
        "  preprocessed_reviews=preprocessing(review)\n",
        "  for word in preprocessed_reviews:\n",
        "     prob=prob+word_prob(reviewType,word)\n",
        "  return prob\n",
        "    "
      ],
      "metadata": {
        "id": "D0bFQFr3Rc5j"
      },
      "execution_count": 422,
      "outputs": []
    },
    {
      "cell_type": "markdown",
      "source": [
        "# Class Prediction"
      ],
      "metadata": {
        "id": "h8F2-6oFFLQB"
      }
    },
    {
      "cell_type": "code",
      "source": [
        "def predict_class_withoutSmoothing(sentence):\n",
        " if withoutSmoothing_probability('fresh',sentence) > withoutSmoothing_probability('rotten',sentence):\n",
        "   return \"fresh\"\n",
        " else:\n",
        "    return \"rotten\""
      ],
      "metadata": {
        "id": "r-drSdvhRvQL"
      },
      "execution_count": 423,
      "outputs": []
    },
    {
      "cell_type": "markdown",
      "source": [
        "# Dev and Test accuracy without Smoothing"
      ],
      "metadata": {
        "id": "wMw_iipHFPWA"
      }
    },
    {
      "cell_type": "code",
      "source": [
        "correct_pred=0\n",
        "incorrect_pred=0\n",
        "freshness=list(dev_set['Freshness'])\n",
        "for i, word in enumerate(list(dev_set['Review'])):\n",
        "  if predict_class_withoutSmoothing(word) == freshness[i]:\n",
        "    correct_pred+=1\n",
        "  else:\n",
        "    incorrect_pred+=1"
      ],
      "metadata": {
        "id": "OKslnxYjRrYL"
      },
      "execution_count": 424,
      "outputs": []
    },
    {
      "cell_type": "code",
      "source": [
        "print(\"Accuracy on Dev dataset: \",correct_pred/(correct_pred+incorrect_pred))"
      ],
      "metadata": {
        "colab": {
          "base_uri": "https://localhost:8080/"
        },
        "id": "V9w07UcNTkIB",
        "outputId": "9dcb688b-aa32-493b-e778-ad3a04cf265d"
      },
      "execution_count": 425,
      "outputs": [
        {
          "output_type": "stream",
          "name": "stdout",
          "text": [
            "Accuracy on Dev dataset:  0.6435416666666667\n"
          ]
        }
      ]
    },
    {
      "cell_type": "code",
      "source": [
        "correct_pred=0\n",
        "incorrect_pred=0\n",
        "freshness=list(test_set['Freshness'])\n",
        "for i, word in enumerate(list(test_set['Review'])):\n",
        "  if predict_class_withoutSmoothing(word) == freshness[i]:\n",
        "    correct_pred+=1\n",
        "  else:\n",
        "    incorrect_pred+=1"
      ],
      "metadata": {
        "id": "LZU6aVVU_aWo"
      },
      "execution_count": 470,
      "outputs": []
    },
    {
      "cell_type": "code",
      "source": [
        "print(\"Accuracy on Test dataset: \",correct_pred/(correct_pred+incorrect_pred))"
      ],
      "metadata": {
        "colab": {
          "base_uri": "https://localhost:8080/"
        },
        "id": "5NK1vulT_gty",
        "outputId": "86564946-0506-4f23-8903-bd81a8315423"
      },
      "execution_count": 471,
      "outputs": [
        {
          "output_type": "stream",
          "name": "stdout",
          "text": [
            "Accuracy on Test dataset:  0.6428273809523809\n"
          ]
        }
      ]
    },
    {
      "cell_type": "markdown",
      "source": [
        "# Experiments"
      ],
      "metadata": {
        "id": "IeX6BW4vgGA4"
      }
    },
    {
      "cell_type": "markdown",
      "source": [
        "# Applied Smoothing"
      ],
      "metadata": {
        "id": "NRfCFNCaCVUT"
      }
    },
    {
      "cell_type": "markdown",
      "source": [
        "**P(word)**"
      ],
      "metadata": {
        "id": "OUDPhg7tFeni"
      }
    },
    {
      "cell_type": "code",
      "source": [
        "alpha=1\n",
        "def word_only_prob(word,num_words):\n",
        "  return (math.log((word_dict[word][1]+alpha)/(num_pos_words+num_words)))+(math.log((word_dict[word][0]+alpha)/(num_neg_words+num_words)))"
      ],
      "metadata": {
        "id": "oDVwSfEqCXmA"
      },
      "execution_count": 428,
      "outputs": []
    },
    {
      "cell_type": "code",
      "source": [
        "word_only_prob('buffay',tot_words)"
      ],
      "metadata": {
        "colab": {
          "base_uri": "https://localhost:8080/"
        },
        "id": "g3g42dh-DT2I",
        "outputId": "62f02d54-9ede-405e-c40f-0bb60a11bc08"
      },
      "execution_count": 429,
      "outputs": [
        {
          "output_type": "execute_result",
          "data": {
            "text/plain": [
              "-28.600141668202728"
            ]
          },
          "metadata": {},
          "execution_count": 429
        }
      ]
    },
    {
      "cell_type": "markdown",
      "source": [
        "**P(fresh|word) and P(rotten|word)**"
      ],
      "metadata": {
        "id": "xbFKwCiGFhQ5"
      }
    },
    {
      "cell_type": "code",
      "source": [
        "def cond_prob(reviewType, word,num_words):\n",
        "  if reviewType == 'fresh':\n",
        "    return math.log((word_dict[word][1]+alpha)/(num_pos_words+(num_words)))\n",
        "  else:\n",
        "    return math.log((word_dict[word][0]+alpha)/(num_neg_words+(num_words)))"
      ],
      "metadata": {
        "id": "0SVsL_m3EGh9"
      },
      "execution_count": 430,
      "outputs": []
    },
    {
      "cell_type": "code",
      "source": [
        "cond_prob('fresh','buffay',tot_words)"
      ],
      "metadata": {
        "colab": {
          "base_uri": "https://localhost:8080/"
        },
        "id": "ajy_fONQEUQz",
        "outputId": "90bf2355-4d71-4623-e71c-c4c6858c6e92"
      },
      "execution_count": 431,
      "outputs": [
        {
          "output_type": "execute_result",
          "data": {
            "text/plain": [
              "-14.313597386722039"
            ]
          },
          "metadata": {},
          "execution_count": 431
        }
      ]
    },
    {
      "cell_type": "markdown",
      "source": [
        "**P(fresh|review) and P(rotten|review)**"
      ],
      "metadata": {
        "id": "oSVzwHJ8FlhN"
      }
    },
    {
      "cell_type": "code",
      "source": [
        "def review_probability(reviewType, review,n):\n",
        "  if reviewType == 'fresh':\n",
        "    prob=math.log(pos_reviews/len(rt_df))\n",
        "  else:\n",
        "    prob=math.log(neg_reviews/len(rt_df))\n",
        "  preprocessed_reviews=[]\n",
        "  preprocessed_reviews=preprocessing(review)\n",
        "  for word in preprocessed_reviews:\n",
        "     prob=prob+cond_prob(reviewType,word,n)\n",
        "  return prob\n",
        "    "
      ],
      "metadata": {
        "id": "FbyMVg91LTGK"
      },
      "execution_count": 432,
      "outputs": []
    },
    {
      "cell_type": "markdown",
      "source": [
        "**Comparing probabilities of fresh and rotten class**"
      ],
      "metadata": {
        "id": "Bv6ySKkaFsep"
      }
    },
    {
      "cell_type": "code",
      "source": [
        "print(review_probability('fresh','Story inspired by historical events that illustrates the process whereby enemies can become friends..',tot_words))\n",
        "print(review_probability('rotten','Story inspired by historical events that illustrates the process whereby enemies can become friends.',tot_words))"
      ],
      "metadata": {
        "colab": {
          "base_uri": "https://localhost:8080/"
        },
        "id": "TLYGlzBUVm5C",
        "outputId": "8c8c4ee6-16ac-4675-8bd6-f63b017ef80b"
      },
      "execution_count": 433,
      "outputs": [
        {
          "output_type": "stream",
          "name": "stdout",
          "text": [
            "-89.62085500247909\n",
            "-91.80334870788207\n"
          ]
        }
      ]
    },
    {
      "cell_type": "markdown",
      "source": [
        "**Class prediction**"
      ],
      "metadata": {
        "id": "U1r7do57F4m4"
      }
    },
    {
      "cell_type": "code",
      "source": [
        "def predict_class(sentence,n):\n",
        " if review_probability('fresh',sentence,n) > review_probability('rotten',sentence,n):\n",
        "   return \"fresh\"\n",
        " else:\n",
        "    return \"rotten\""
      ],
      "metadata": {
        "id": "9hTd5G8uUEps"
      },
      "execution_count": 434,
      "outputs": []
    },
    {
      "cell_type": "code",
      "source": [
        "predict_class('Story inspired by historical events that illustrates the process whereby enemies can become friends.',tot_words)"
      ],
      "metadata": {
        "colab": {
          "base_uri": "https://localhost:8080/",
          "height": 35
        },
        "id": "VN69O_WJg7VN",
        "outputId": "de7bb464-9f20-4388-fa7d-ae3108ddb436"
      },
      "execution_count": 435,
      "outputs": [
        {
          "output_type": "execute_result",
          "data": {
            "text/plain": [
              "'fresh'"
            ],
            "application/vnd.google.colaboratory.intrinsic+json": {
              "type": "string"
            }
          },
          "metadata": {},
          "execution_count": 435
        }
      ]
    },
    {
      "cell_type": "markdown",
      "source": [
        "# Deriving top 10 words that predict each class"
      ],
      "metadata": {
        "id": "h-VloQybF7lM"
      }
    },
    {
      "cell_type": "code",
      "source": [
        "def topmost_prob(pos_word):\n",
        "  p={}\n",
        "  for i in range(len(pos_word)):\n",
        "   num=(cond_prob('fresh',pos_word[i],tot_words))\n",
        "   p[pos_word[i]]=num\n",
        "  return p"
      ],
      "metadata": {
        "id": "4NxIlYVii7Fo"
      },
      "execution_count": 436,
      "outputs": []
    },
    {
      "cell_type": "code",
      "source": [
        "def topmost_negprob(neg_word):\n",
        "  p={}\n",
        "  for i in range(len(neg_word)):\n",
        "   num=(cond_prob('rotten',neg_word[i],tot_words))\n",
        "   p[neg_word[i]]=num\n",
        "  return p"
      ],
      "metadata": {
        "id": "BnphxZPAoa1b"
      },
      "execution_count": 437,
      "outputs": []
    },
    {
      "cell_type": "markdown",
      "source": [
        "**Top 10 words that predict class=Fresh**"
      ],
      "metadata": {
        "id": "N6AGui5PoTFF"
      }
    },
    {
      "cell_type": "code",
      "source": [
        "p=topmost_prob(pos_words)\n",
        "top10_words=sorted(p.items(),key=lambda x:x[1],reverse=True)\n",
        "print(\"Top 10 words         P[class='fresh'|word]\")\n",
        "for i, (k,v) in enumerate(top10_words[:10]):\n",
        " print(k,\"                    \", v)\n"
      ],
      "metadata": {
        "colab": {
          "base_uri": "https://localhost:8080/"
        },
        "id": "qafISNqvj8E9",
        "outputId": "561db566-0310-4184-c5ce-372cd922bf04"
      },
      "execution_count": 438,
      "outputs": [
        {
          "output_type": "stream",
          "name": "stdout",
          "text": [
            "Top 10 words         P[class='fresh'|word]\n",
            "s                      -3.4727819432459563\n",
            "film                      -4.217260555505302\n",
            "movie                      -4.679886502768857\n",
            "one                      -5.0202034596105705\n",
            "nt                      -5.075544576179321\n",
            "story                      -5.376247538454647\n",
            "like                      -5.418104755270407\n",
            "make                      -5.47403088306409\n",
            "performance                      -5.610090617242309\n",
            "time                      -5.6965588603360855\n"
          ]
        }
      ]
    },
    {
      "cell_type": "markdown",
      "source": [
        "**Top 10 words that predict class=Rotten**"
      ],
      "metadata": {
        "id": "XnVO9y3coioV"
      }
    },
    {
      "cell_type": "code",
      "source": [
        "p=topmost_negprob(neg_words)\n",
        "top10_words=sorted(p.items(),key=lambda x:x[1],reverse=True)\n",
        "print(\"Top 10 words         P[class='rotten'|word]\")\n",
        "for i, (k,v) in enumerate(top10_words[:10]):\n",
        " print(k,\"                    \", v)"
      ],
      "metadata": {
        "colab": {
          "base_uri": "https://localhost:8080/"
        },
        "id": "Z-ZGkwLwol5Y",
        "outputId": "6beeebd2-4527-477e-fdf0-5dc838fd67cc"
      },
      "execution_count": 439,
      "outputs": [
        {
          "output_type": "stream",
          "name": "stdout",
          "text": [
            "Top 10 words         P[class='rotten'|word]\n",
            "s                      -3.512788993382724\n",
            "film                      -4.401271617365465\n",
            "movie                      -4.435455897743768\n",
            "nt                      -4.543166797373296\n",
            "like                      -5.027985337234031\n",
            "one                      -5.178236635069657\n",
            "much                      -5.464222104008949\n",
            "story                      -5.467322423905748\n",
            "make                      -5.498103324076094\n",
            "character                      -5.553433583841981\n"
          ]
        }
      ]
    },
    {
      "cell_type": "markdown",
      "source": [
        " **Accuracy on dev dataset**"
      ],
      "metadata": {
        "id": "c7LMKsEtZ95r"
      }
    },
    {
      "cell_type": "code",
      "source": [
        "correct_pred=0\n",
        "incorrect_pred=0\n",
        "freshness=list(dev_set['Freshness'])\n",
        "for i, word in enumerate(list(dev_set['Review'])):\n",
        "  if predict_class(word,tot_words) == freshness[i]:\n",
        "    correct_pred+=1\n",
        "  else:\n",
        "    incorrect_pred+=1"
      ],
      "metadata": {
        "id": "io3KZ0gyZ9Sx"
      },
      "execution_count": 440,
      "outputs": []
    },
    {
      "cell_type": "code",
      "source": [
        "print(\"Accuracy on Dev dataset: \",correct_pred/(correct_pred+incorrect_pred))"
      ],
      "metadata": {
        "colab": {
          "base_uri": "https://localhost:8080/"
        },
        "id": "5iPAkVGHahuM",
        "outputId": "3a159cde-428f-4547-9922-82c5e958a0a3"
      },
      "execution_count": 441,
      "outputs": [
        {
          "output_type": "stream",
          "name": "stdout",
          "text": [
            "Accuracy on Dev dataset:  0.7983472222222222\n"
          ]
        }
      ]
    },
    {
      "cell_type": "markdown",
      "source": [
        "**Testing on Test dataset**"
      ],
      "metadata": {
        "id": "mQAsFS08pZWP"
      }
    },
    {
      "cell_type": "code",
      "source": [
        "correct_pred=0\n",
        "incorrect_pred=0\n",
        "freshness=list(test_set['Freshness'])\n",
        "for i, word in enumerate(list(test_set['Review'])):\n",
        "  if predict_class(word,tot_words) == freshness[i]:\n",
        "    correct_pred+=1\n",
        "  else:\n",
        "    incorrect_pred+=1"
      ],
      "metadata": {
        "id": "skFd-0UhpjYa"
      },
      "execution_count": 442,
      "outputs": []
    },
    {
      "cell_type": "code",
      "source": [
        "print(\"Accuracy on Test dataset: \",correct_pred/(correct_pred+incorrect_pred))"
      ],
      "metadata": {
        "colab": {
          "base_uri": "https://localhost:8080/"
        },
        "id": "P7t8mAyepogo",
        "outputId": "649080cc-58a5-4f43-d9ec-86516194d41a"
      },
      "execution_count": 443,
      "outputs": [
        {
          "output_type": "stream",
          "name": "stdout",
          "text": [
            "Accuracy on Test dataset:  0.7973630952380952\n"
          ]
        }
      ]
    },
    {
      "cell_type": "markdown",
      "source": [
        "# After removing rare words (occurence<5)"
      ],
      "metadata": {
        "id": "eSQ7DiOGywh6"
      }
    },
    {
      "cell_type": "code",
      "source": [
        "word_dict_copy=word_dict.copy()\n",
        "count=0\n",
        "for i, (k,v) in enumerate(word_dict_copy.items()):\n",
        "  if (v[0]<5 and v[1]<5):\n",
        "    del(k)\n",
        "    count+=1"
      ],
      "metadata": {
        "id": "fevJkML-ywNI"
      },
      "execution_count": 454,
      "outputs": []
    },
    {
      "cell_type": "code",
      "source": [
        "print(f\"Total number of rare words: {count}\")\n",
        "no_rarewords=tot_words-count"
      ],
      "metadata": {
        "colab": {
          "base_uri": "https://localhost:8080/"
        },
        "id": "PlWEMDYDy6GZ",
        "outputId": "5e21e1fb-627b-4792-f7da-ad4af361c23f"
      },
      "execution_count": 455,
      "outputs": [
        {
          "output_type": "stream",
          "name": "stdout",
          "text": [
            "Total number of rare words: 61430\n"
          ]
        }
      ]
    },
    {
      "cell_type": "code",
      "source": [
        "print(f'Total number of words after removing rarewords: {no_rarewords}')"
      ],
      "metadata": {
        "colab": {
          "base_uri": "https://localhost:8080/"
        },
        "id": "AZf8DJwhy64a",
        "outputId": "d7cbf800-0a00-4e57-a86c-4f1a6d9964e1"
      },
      "execution_count": 456,
      "outputs": [
        {
          "output_type": "stream",
          "name": "stdout",
          "text": [
            "Total number of words after removing rarewords: 25266\n"
          ]
        }
      ]
    },
    {
      "cell_type": "markdown",
      "source": [
        "**Accuracy on dev dataset**"
      ],
      "metadata": {
        "id": "dQvR_y5aGWQv"
      }
    },
    {
      "cell_type": "code",
      "source": [
        "correct_pred=0\n",
        "incorrect_pred=0\n",
        "freshness=list(dev_set['Freshness'])\n",
        "for i, word in enumerate(list(dev_set['Review'])):\n",
        "  if predict_class(word,no_rarewords) == freshness[i]:\n",
        "    correct_pred+=1\n",
        "  else:\n",
        "    incorrect_pred+=1"
      ],
      "metadata": {
        "id": "1vOda3C82HGL"
      },
      "execution_count": 457,
      "outputs": []
    },
    {
      "cell_type": "code",
      "source": [
        "print(\"Accuracy on Dev dataset: \",correct_pred/(correct_pred+incorrect_pred))"
      ],
      "metadata": {
        "colab": {
          "base_uri": "https://localhost:8080/"
        },
        "id": "SCyLVY334l2B",
        "outputId": "291fea30-ba80-4857-ea6b-86d8ac516a00"
      },
      "execution_count": 458,
      "outputs": [
        {
          "output_type": "stream",
          "name": "stdout",
          "text": [
            "Accuracy on Dev dataset:  0.7982916666666666\n"
          ]
        }
      ]
    },
    {
      "cell_type": "markdown",
      "source": [
        "**Accuracy on Test dataset**"
      ],
      "metadata": {
        "id": "NRJtaGyvGbcf"
      }
    },
    {
      "cell_type": "code",
      "source": [
        "correct_pred=0\n",
        "incorrect_pred=0\n",
        "freshness=list(test_set['Freshness'])\n",
        "for i, word in enumerate(list(test_set['Review'])):\n",
        "  if predict_class(word,no_rarewords) == freshness[i]:\n",
        "    correct_pred+=1\n",
        "  else:\n",
        "    incorrect_pred+=1"
      ],
      "metadata": {
        "id": "oE1jNrvA4qvx"
      },
      "execution_count": 459,
      "outputs": []
    },
    {
      "cell_type": "code",
      "source": [
        "print(\"Accuracy on Test dataset: \",correct_pred/(correct_pred+incorrect_pred))"
      ],
      "metadata": {
        "colab": {
          "base_uri": "https://localhost:8080/"
        },
        "id": "YoFCK1wh4ueo",
        "outputId": "0e9493a3-67a2-4f8f-dbda-ba052865ce1f"
      },
      "execution_count": 460,
      "outputs": [
        {
          "output_type": "stream",
          "name": "stdout",
          "text": [
            "Accuracy on Test dataset:  0.7972916666666666\n"
          ]
        }
      ]
    },
    {
      "cell_type": "markdown",
      "source": [
        "# Considering small dataset where total number of words=15000"
      ],
      "metadata": {
        "id": "EVqAAgvgsdp5"
      }
    },
    {
      "cell_type": "markdown",
      "source": [
        "**Selecting first 15000 most frequent occuring words from vocabulary**"
      ],
      "metadata": {
        "id": "GSWhGbW9GluP"
      }
    },
    {
      "cell_type": "code",
      "source": [
        "word_dict = sorted(word_dict.items(),  key=lambda x : x[1][0] + x[1][1], reverse=True)[:15000]"
      ],
      "metadata": {
        "id": "1DKQQRMAsh5p"
      },
      "execution_count": 461,
      "outputs": []
    },
    {
      "cell_type": "code",
      "source": [
        "word_dict = defaultdict(lambda: [0, 0], word_dict)"
      ],
      "metadata": {
        "id": "w1nL7InetR8h"
      },
      "execution_count": 462,
      "outputs": []
    },
    {
      "cell_type": "markdown",
      "source": [
        "**Dev Accuracy**"
      ],
      "metadata": {
        "id": "VkZROUKgGzb3"
      }
    },
    {
      "cell_type": "code",
      "source": [
        "correct_pred=0\n",
        "incorrect_pred=0\n",
        "freshness=list(dev_set['Freshness'])\n",
        "for i, word in enumerate(list(dev_set['Review'])):\n",
        "  if predict_class(word,15000) == freshness[i]:\n",
        "    correct_pred+=1\n",
        "  else:\n",
        "    incorrect_pred+=1"
      ],
      "metadata": {
        "id": "pKq0-Q4rthup"
      },
      "execution_count": 463,
      "outputs": []
    },
    {
      "cell_type": "code",
      "source": [
        "print(\"Accuracy on Dev dataset: \",correct_pred/(correct_pred+incorrect_pred))"
      ],
      "metadata": {
        "colab": {
          "base_uri": "https://localhost:8080/"
        },
        "id": "zrDU_W69ttb4",
        "outputId": "c75fe3ef-d31a-40ae-91fc-c7a378920cf3"
      },
      "execution_count": 464,
      "outputs": [
        {
          "output_type": "stream",
          "name": "stdout",
          "text": [
            "Accuracy on Dev dataset:  0.7862083333333333\n"
          ]
        }
      ]
    },
    {
      "cell_type": "markdown",
      "source": [
        "**Test ACcuracy**"
      ],
      "metadata": {
        "id": "ROjD9hfnHLS3"
      }
    },
    {
      "cell_type": "code",
      "source": [
        "correct_pred=0\n",
        "incorrect_pred=0\n",
        "freshness=list(test_set['Freshness'])\n",
        "for i, word in enumerate(list(test_set['Review'])):\n",
        "  if predict_class(word,15000) == freshness[i]:\n",
        "    correct_pred+=1\n",
        "  else:\n",
        "    incorrect_pred+=1"
      ],
      "metadata": {
        "id": "AaCBAmgp89M8"
      },
      "execution_count": 468,
      "outputs": []
    },
    {
      "cell_type": "code",
      "source": [
        "print(\"Accuracy on Test dataset: \",correct_pred/(correct_pred+incorrect_pred))"
      ],
      "metadata": {
        "colab": {
          "base_uri": "https://localhost:8080/"
        },
        "id": "tgmEzNQM8_n7",
        "outputId": "488c4046-dac6-4a88-9c78-7ea438a1519a"
      },
      "execution_count": 469,
      "outputs": [
        {
          "output_type": "stream",
          "name": "stdout",
          "text": [
            "Accuracy on Test dataset:  0.7847321428571429\n"
          ]
        }
      ]
    },
    {
      "cell_type": "markdown",
      "source": [
        "# Comparing Dev and Test accuracies across different models"
      ],
      "metadata": {
        "id": "T5oVAjRbHOXG"
      }
    },
    {
      "cell_type": "code",
      "source": [
        "accuracies_dev=[0.6435416666666667,0.7983472222222222,0.7982916666666666,0.7862083333333333]\n",
        "accuracies_test=[0.6428273809523809,0.7973630952380952,0.7972916666666666,0.7847321428571429]\n",
        "types=[\"before smoothing\",\"after smoothing\",\"No rare words\",\"total words=15,000\"]\n",
        "import matplotlib.pyplot as plt\n",
        "plt.title(\"Dev accuracy Vs Test accuracy\")\n",
        "plt.plot(types,accuracies_dev,'g',label=\"Dev accuracy\")\n",
        "plt.plot(types,accuracies_test,'orange',label=\"Test accuracy\")\n",
        "plt.xlabel('Model types')\n",
        "plt.ylabel('Accuracies')\n",
        "plt.legend()\n",
        "plt.show()"
      ],
      "metadata": {
        "colab": {
          "base_uri": "https://localhost:8080/",
          "height": 472
        },
        "id": "OmvIn_aw-8-b",
        "outputId": "bc340d40-c50e-41f2-caee-b664b4b39c5c"
      },
      "execution_count": 483,
      "outputs": [
        {
          "output_type": "display_data",
          "data": {
            "text/plain": [
              "<Figure size 640x480 with 1 Axes>"
            ],
            "image/png": "[encoded data removed]"
          },
          "metadata": {}
        }
      ]
    }
  ]
}